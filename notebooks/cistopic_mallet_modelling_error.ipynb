{
 "cells": [
  {
   "cell_type": "code",
   "execution_count": 17,
   "id": "97cea1d8-80c8-4375-824c-1aca1fd6e3f6",
   "metadata": {},
   "outputs": [
    {
     "data": {
      "text/plain": [
       "'/fast/AG_Bunina/Yusuf/jobs'"
      ]
     },
     "execution_count": 17,
     "metadata": {},
     "output_type": "execute_result"
    }
   ],
   "source": [
    "pwd"
   ]
  },
  {
   "cell_type": "code",
   "execution_count": 2,
   "id": "709d6cd7-5353-442b-878d-3d552df61891",
   "metadata": {},
   "outputs": [],
   "source": [
    "projDir = \"/fast/AG_Bunina/Yusuf/Project_Endothelial_and_Stroke/Datasets/Chromatin_and_Gene_Exp/2023_Zhu_et_al/Zhu_et_al_2023/Python_Project/ScenicPlus/Zhu_et_al\""
   ]
  },
  {
   "cell_type": "code",
   "execution_count": 7,
   "id": "38909e0b-b268-4b8b-a8cc-563be65189ee",
   "metadata": {},
   "outputs": [],
   "source": [
    "outDir = projDir + \"/output/\""
   ]
  },
  {
   "cell_type": "code",
   "execution_count": 8,
   "id": "e18ff5f9-ed2f-4222-ac69-277b55cd11d6",
   "metadata": {},
   "outputs": [],
   "source": [
    "# Load cisTopic object\n",
    "import pickle\n",
    "infile = open(outDir + 'cisTopicObject.pkl', 'rb')\n",
    "cistopic_obj = pickle.load(infile)\n",
    "infile.close()"
   ]
  },
  {
   "cell_type": "code",
   "execution_count": 14,
   "id": "fc419427-fbd2-4ddb-b2e8-c009c5562cfd",
   "metadata": {},
   "outputs": [],
   "source": [
    "# Temp dir\n",
    "tmpDir = '/fast/AG_Bunina/scratch/Yusuf'"
   ]
  },
  {
   "cell_type": "code",
   "execution_count": 11,
   "id": "f7a0516a-c788-436c-9f9f-f5b1b0cf10f4",
   "metadata": {},
   "outputs": [
    {
     "data": {
      "text/plain": [
       "'1.0a0'"
      ]
     },
     "execution_count": 11,
     "metadata": {},
     "output_type": "execute_result"
    }
   ],
   "source": [
    "import warnings\n",
    "warnings.simplefilter(action='ignore')\n",
    "import pycisTopic\n",
    "pycisTopic.__version__"
   ]
  },
  {
   "cell_type": "code",
   "execution_count": 12,
   "id": "16682b61-dd51-43fa-b5d6-f75498105b11",
   "metadata": {},
   "outputs": [],
   "source": [
    "from pycisTopic.cistopic_class import *"
   ]
  },
  {
   "cell_type": "code",
   "execution_count": 15,
   "id": "c4be9142-dbae-4c29-85a5-4eb9db816f17",
   "metadata": {},
   "outputs": [
    {
     "name": "stdout",
     "output_type": "stream",
     "text": [
      "2024-03-10 20:36:48,294 cisTopic     INFO     Formatting input to corpus\n",
      "2024-03-10 20:36:54,351 gensim.corpora.dictionary INFO     adding document #0 to Dictionary<0 unique tokens: []>\n",
      "2024-03-10 20:37:35,226 gensim.corpora.dictionary INFO     adding document #10000 to Dictionary<0 unique tokens: []>\n",
      "2024-03-10 20:38:15,133 gensim.corpora.dictionary INFO     adding document #20000 to Dictionary<0 unique tokens: []>\n",
      "2024-03-10 20:39:05,131 gensim.corpora.dictionary INFO     adding document #30000 to Dictionary<0 unique tokens: []>\n",
      "2024-03-10 20:39:55,636 gensim.corpora.dictionary INFO     adding document #40000 to Dictionary<0 unique tokens: []>\n",
      "2024-03-10 20:40:21,734 gensim.corpora.dictionary INFO     built Dictionary<302955 unique tokens: ['0', '1', '2', '3', '4']...> from 45549 documents (total 237158482 corpus positions)\n",
      "2024-03-10 20:40:21,736 cisTopic     INFO     Running model with 2 topics\n",
      "2024-03-10 20:40:21,747 LDAMalletWrapper INFO     Serializing temporary corpus to /fast/AG_Bunina/scratch/Yusuf/corpus.txt\n",
      "2024-03-10 20:58:45,757 LDAMalletWrapper INFO     Converting temporary corpus to MALLET format with /fast/AG_Bunina/Yusuf/softwares/Mallet-202108/bin/mallet import-file --preserve-case --keep-sequence --remove-stopwords --token-regex \"\\S+\" --input /fast/AG_Bunina/scratch/Yusuf/corpus.txt --output /fast/AG_Bunina/scratch/Yusuf/corpus.mallet\n",
      "2024-03-10 21:00:46,037 LDAMalletWrapper INFO     Training MALLET LDA with /fast/AG_Bunina/Yusuf/softwares/Mallet-202108/bin/mallet train-topics --input /fast/AG_Bunina/scratch/Yusuf/corpus.mallet --num-topics 2  --alpha 50 --beta 0.1 --optimize-interval 0 --num-threads 24 --output-state /fast/AG_Bunina/scratch/Yusuf/786693_state.mallet.gz --output-doc-topics /fast/AG_Bunina/scratch/Yusuf/786693_doctopics.txt --output-topic-keys /fast/AG_Bunina/scratch/Yusuf/786693_topickeys.txt --num-iterations 500 --inferencer-filename /fast/AG_Bunina/scratch/Yusuf/786693_inferencer.mallet --doc-topics-threshold 0.0  --random-seed 555\n"
     ]
    },
    {
     "ename": "RuntimeError",
     "evalue": "command '['/fast/AG_Bunina/Yusuf/softwares/Mallet-202108/bin/mallet', 'train-topics', '--input', '/fast/AG_Bunina/scratch/Yusuf/corpus.mallet', '--num-topics', '2', '--alpha', '50', '--beta', '0.1', '--optimize-interval', '0', '--num-threads', '24', '--output-state', '/fast/AG_Bunina/scratch/Yusuf/786693_state.mallet.gz', '--output-doc-topics', '/fast/AG_Bunina/scratch/Yusuf/786693_doctopics.txt', '--output-topic-keys', '/fast/AG_Bunina/scratch/Yusuf/786693_topickeys.txt', '--num-iterations', '500', '--inferencer-filename', '/fast/AG_Bunina/scratch/Yusuf/786693_inferencer.mallet', '--doc-topics-threshold', '0.0', '--random-seed', '555']' return with error (code 1): b'Mallet LDA: 2 topics, 1 topic bits, 1 topic mask\\nException in thread \"main\" java.lang.OutOfMemoryError: Java heap space\\n\\tat cc.mallet.types.FeatureSequence.readObject(FeatureSequence.java:287)\\n\\tat sun.reflect.GeneratedMethodAccessor2.invoke(Unknown Source)\\n\\tat sun.reflect.DelegatingMethodAccessorImpl.invoke(DelegatingMethodAccessorImpl.java:43)\\n\\tat java.lang.reflect.Method.invoke(Method.java:498)\\n\\tat java.io.ObjectStreamClass.invokeReadObject(ObjectStreamClass.java:1184)\\n\\tat java.io.ObjectInputStream.readSerialData(ObjectInputStream.java:2321)\\n\\tat java.io.ObjectInputStream.readOrdinaryObject(ObjectInputStream.java:2212)\\n\\tat java.io.ObjectInputStream.readObject0(ObjectInputStream.java:1668)\\n\\tat java.io.ObjectInputStream.readObject(ObjectInputStream.java:502)\\n\\tat java.io.ObjectInputStream.readObject(ObjectInputStream.java:460)\\n\\tat cc.mallet.types.Instance.readObject(Instance.java:228)\\n\\tat sun.reflect.GeneratedMethodAccessor1.invoke(Unknown Source)\\n\\tat sun.reflect.DelegatingMethodAccessorImpl.invoke(DelegatingMethodAccessorImpl.java:43)\\n\\tat java.lang.reflect.Method.invoke(Method.java:498)\\n\\tat java.io.ObjectStreamClass.invokeReadObject(ObjectStreamClass.java:1184)\\n\\tat java.io.ObjectInputStream.readSerialData(ObjectInputStream.java:2321)\\n\\tat java.io.ObjectInputStream.readOrdinaryObject(ObjectInputStream.java:2212)\\n\\tat java.io.ObjectInputStream.readObject0(ObjectInputStream.java:1668)\\n\\tat java.io.ObjectInputStream.readObject(ObjectInputStream.java:502)\\n\\tat java.io.ObjectInputStream.readObject(ObjectInputStream.java:460)\\n\\tat java.util.ArrayList.readObject(ArrayList.java:799)\\n\\tat sun.reflect.NativeMethodAccessorImpl.invoke0(Native Method)\\n\\tat sun.reflect.NativeMethodAccessorImpl.invoke(NativeMethodAccessorImpl.java:62)\\n\\tat sun.reflect.DelegatingMethodAccessorImpl.invoke(DelegatingMethodAccessorImpl.java:43)\\n\\tat java.lang.reflect.Method.invoke(Method.java:498)\\n\\tat java.io.ObjectStreamClass.invokeReadObject(ObjectStreamClass.java:1184)\\n\\tat java.io.ObjectInputStream.readSerialData(ObjectInputStream.java:2321)\\n\\tat java.io.ObjectInputStream.readOrdinaryObject(ObjectInputStream.java:2212)\\n\\tat java.io.ObjectInputStream.readObject0(ObjectInputStream.java:1668)\\n\\tat java.io.ObjectInputStream.readObject(ObjectInputStream.java:502)\\n\\tat java.io.ObjectInputStream.readObject(ObjectInputStream.java:460)\\n\\tat cc.mallet.types.InstanceList.load(InstanceList.java:823)\\n'",
     "output_type": "error",
     "traceback": [
      "\u001b[0;31m---------------------------------------------------------------------------\u001b[0m",
      "\u001b[0;31mCalledProcessError\u001b[0m                        Traceback (most recent call last)",
      "File \u001b[0;32m~/miniconda3/envs/scenicplus/lib/python3.8/site-packages/pycisTopic/lda_models.py:562\u001b[0m, in \u001b[0;36mLDAMallet.train\u001b[0;34m(self, corpus, reuse_corpus)\u001b[0m\n\u001b[1;32m    561\u001b[0m \u001b[38;5;28;01mtry\u001b[39;00m:\n\u001b[0;32m--> 562\u001b[0m     \u001b[43msubprocess\u001b[49m\u001b[38;5;241;43m.\u001b[39;49m\u001b[43mcheck_output\u001b[49m\u001b[43m(\u001b[49m\u001b[43margs\u001b[49m\u001b[38;5;241;43m=\u001b[39;49m\u001b[43mcmd\u001b[49m\u001b[43m,\u001b[49m\u001b[43m \u001b[49m\u001b[43mshell\u001b[49m\u001b[38;5;241;43m=\u001b[39;49m\u001b[38;5;28;43;01mFalse\u001b[39;49;00m\u001b[43m,\u001b[49m\u001b[43m \u001b[49m\u001b[43mstderr\u001b[49m\u001b[38;5;241;43m=\u001b[39;49m\u001b[43msubprocess\u001b[49m\u001b[38;5;241;43m.\u001b[39;49m\u001b[43mSTDOUT\u001b[49m\u001b[43m)\u001b[49m\n\u001b[1;32m    563\u001b[0m \u001b[38;5;28;01mexcept\u001b[39;00m subprocess\u001b[38;5;241m.\u001b[39mCalledProcessError \u001b[38;5;28;01mas\u001b[39;00m e:\n",
      "File \u001b[0;32m~/miniconda3/envs/scenicplus/lib/python3.8/subprocess.py:415\u001b[0m, in \u001b[0;36mcheck_output\u001b[0;34m(timeout, *popenargs, **kwargs)\u001b[0m\n\u001b[1;32m    413\u001b[0m     kwargs[\u001b[38;5;124m'\u001b[39m\u001b[38;5;124minput\u001b[39m\u001b[38;5;124m'\u001b[39m] \u001b[38;5;241m=\u001b[39m empty\n\u001b[0;32m--> 415\u001b[0m \u001b[38;5;28;01mreturn\u001b[39;00m \u001b[43mrun\u001b[49m\u001b[43m(\u001b[49m\u001b[38;5;241;43m*\u001b[39;49m\u001b[43mpopenargs\u001b[49m\u001b[43m,\u001b[49m\u001b[43m \u001b[49m\u001b[43mstdout\u001b[49m\u001b[38;5;241;43m=\u001b[39;49m\u001b[43mPIPE\u001b[49m\u001b[43m,\u001b[49m\u001b[43m \u001b[49m\u001b[43mtimeout\u001b[49m\u001b[38;5;241;43m=\u001b[39;49m\u001b[43mtimeout\u001b[49m\u001b[43m,\u001b[49m\u001b[43m \u001b[49m\u001b[43mcheck\u001b[49m\u001b[38;5;241;43m=\u001b[39;49m\u001b[38;5;28;43;01mTrue\u001b[39;49;00m\u001b[43m,\u001b[49m\n\u001b[1;32m    416\u001b[0m \u001b[43m           \u001b[49m\u001b[38;5;241;43m*\u001b[39;49m\u001b[38;5;241;43m*\u001b[39;49m\u001b[43mkwargs\u001b[49m\u001b[43m)\u001b[49m\u001b[38;5;241m.\u001b[39mstdout\n",
      "File \u001b[0;32m~/miniconda3/envs/scenicplus/lib/python3.8/subprocess.py:516\u001b[0m, in \u001b[0;36mrun\u001b[0;34m(input, capture_output, timeout, check, *popenargs, **kwargs)\u001b[0m\n\u001b[1;32m    515\u001b[0m     \u001b[38;5;28;01mif\u001b[39;00m check \u001b[38;5;129;01mand\u001b[39;00m retcode:\n\u001b[0;32m--> 516\u001b[0m         \u001b[38;5;28;01mraise\u001b[39;00m CalledProcessError(retcode, process\u001b[38;5;241m.\u001b[39margs,\n\u001b[1;32m    517\u001b[0m                                  output\u001b[38;5;241m=\u001b[39mstdout, stderr\u001b[38;5;241m=\u001b[39mstderr)\n\u001b[1;32m    518\u001b[0m \u001b[38;5;28;01mreturn\u001b[39;00m CompletedProcess(process\u001b[38;5;241m.\u001b[39margs, retcode, stdout, stderr)\n",
      "\u001b[0;31mCalledProcessError\u001b[0m: Command '['/fast/AG_Bunina/Yusuf/softwares/Mallet-202108/bin/mallet', 'train-topics', '--input', '/fast/AG_Bunina/scratch/Yusuf/corpus.mallet', '--num-topics', '2', '--alpha', '50', '--beta', '0.1', '--optimize-interval', '0', '--num-threads', '24', '--output-state', '/fast/AG_Bunina/scratch/Yusuf/786693_state.mallet.gz', '--output-doc-topics', '/fast/AG_Bunina/scratch/Yusuf/786693_doctopics.txt', '--output-topic-keys', '/fast/AG_Bunina/scratch/Yusuf/786693_topickeys.txt', '--num-iterations', '500', '--inferencer-filename', '/fast/AG_Bunina/scratch/Yusuf/786693_inferencer.mallet', '--doc-topics-threshold', '0.0', '--random-seed', '555']' returned non-zero exit status 1.",
      "\nDuring handling of the above exception, another exception occurred:\n",
      "\u001b[0;31mRuntimeError\u001b[0m                              Traceback (most recent call last)",
      "Cell \u001b[0;32mIn[15], line 4\u001b[0m\n\u001b[1;32m      2\u001b[0m path_to_mallet_binary\u001b[38;5;241m=\u001b[39m\u001b[38;5;124m'\u001b[39m\u001b[38;5;124m/fast/AG_Bunina/Yusuf/softwares/Mallet-202108/bin/mallet\u001b[39m\u001b[38;5;124m'\u001b[39m\n\u001b[1;32m      3\u001b[0m \u001b[38;5;66;03m# Run models\u001b[39;00m\n\u001b[0;32m----> 4\u001b[0m models\u001b[38;5;241m=\u001b[39m\u001b[43mrun_cgs_models_mallet\u001b[49m\u001b[43m(\u001b[49m\u001b[43mpath_to_mallet_binary\u001b[49m\u001b[43m,\u001b[49m\n\u001b[1;32m      5\u001b[0m \u001b[43m                    \u001b[49m\u001b[43mcistopic_obj\u001b[49m\u001b[43m,\u001b[49m\n\u001b[1;32m      6\u001b[0m \u001b[43m                    \u001b[49m\u001b[43mn_topics\u001b[49m\u001b[38;5;241;43m=\u001b[39;49m\u001b[43m[\u001b[49m\u001b[38;5;241;43m2\u001b[39;49m\u001b[43m,\u001b[49m\u001b[38;5;241;43m5\u001b[39;49m\u001b[43m,\u001b[49m\u001b[38;5;241;43m10\u001b[39;49m\u001b[43m,\u001b[49m\u001b[38;5;241;43m15\u001b[39;49m\u001b[43m,\u001b[49m\u001b[38;5;241;43m20\u001b[39;49m\u001b[43m,\u001b[49m\u001b[38;5;241;43m25\u001b[39;49m\u001b[43m,\u001b[49m\u001b[38;5;241;43m30\u001b[39;49m\u001b[43m,\u001b[49m\u001b[38;5;241;43m35\u001b[39;49m\u001b[43m,\u001b[49m\u001b[38;5;241;43m40\u001b[39;49m\u001b[43m,\u001b[49m\u001b[38;5;241;43m45\u001b[39;49m\u001b[43m,\u001b[49m\u001b[38;5;241;43m50\u001b[39;49m\u001b[43m]\u001b[49m\u001b[43m,\u001b[49m\n\u001b[1;32m      7\u001b[0m \u001b[43m                    \u001b[49m\u001b[43mn_cpu\u001b[49m\u001b[38;5;241;43m=\u001b[39;49m\u001b[38;5;241;43m24\u001b[39;49m\u001b[43m,\u001b[49m\n\u001b[1;32m      8\u001b[0m \u001b[43m                    \u001b[49m\u001b[43mn_iter\u001b[49m\u001b[38;5;241;43m=\u001b[39;49m\u001b[38;5;241;43m500\u001b[39;49m\u001b[43m,\u001b[49m\n\u001b[1;32m      9\u001b[0m \u001b[43m                    \u001b[49m\u001b[43mrandom_state\u001b[49m\u001b[38;5;241;43m=\u001b[39;49m\u001b[38;5;241;43m555\u001b[39;49m\u001b[43m,\u001b[49m\n\u001b[1;32m     10\u001b[0m \u001b[43m                    \u001b[49m\u001b[43malpha\u001b[49m\u001b[38;5;241;43m=\u001b[39;49m\u001b[38;5;241;43m50\u001b[39;49m\u001b[43m,\u001b[49m\n\u001b[1;32m     11\u001b[0m \u001b[43m                    \u001b[49m\u001b[43malpha_by_topic\u001b[49m\u001b[38;5;241;43m=\u001b[39;49m\u001b[38;5;28;43;01mTrue\u001b[39;49;00m\u001b[43m,\u001b[49m\n\u001b[1;32m     12\u001b[0m \u001b[43m                    \u001b[49m\u001b[43meta\u001b[49m\u001b[38;5;241;43m=\u001b[39;49m\u001b[38;5;241;43m0.1\u001b[39;49m\u001b[43m,\u001b[49m\n\u001b[1;32m     13\u001b[0m \u001b[43m                    \u001b[49m\u001b[43meta_by_topic\u001b[49m\u001b[38;5;241;43m=\u001b[39;49m\u001b[38;5;28;43;01mFalse\u001b[39;49;00m\u001b[43m,\u001b[49m\n\u001b[1;32m     14\u001b[0m \u001b[43m                    \u001b[49m\u001b[43mtmp_path\u001b[49m\u001b[38;5;241;43m=\u001b[39;49m\u001b[43mtmpDir\u001b[49m\u001b[43m,\u001b[49m\u001b[43m \u001b[49m\u001b[38;5;66;43;03m#Use SCRATCH if many models or big data set\u001b[39;49;00m\n\u001b[1;32m     15\u001b[0m \u001b[43m                    \u001b[49m\u001b[43msave_path\u001b[49m\u001b[38;5;241;43m=\u001b[39;49m\u001b[38;5;28;43;01mNone\u001b[39;49;00m\u001b[43m)\u001b[49m\n",
      "File \u001b[0;32m~/miniconda3/envs/scenicplus/lib/python3.8/site-packages/pycisTopic/lda_models.py:761\u001b[0m, in \u001b[0;36mrun_cgs_models_mallet\u001b[0;34m(path_to_mallet_binary, cistopic_obj, n_topics, n_cpu, n_iter, random_state, alpha, alpha_by_topic, eta, eta_by_topic, top_topics_coh, tmp_path, save_path, reuse_corpus)\u001b[0m\n\u001b[1;32m    758\u001b[0m names_dict \u001b[38;5;241m=\u001b[39m {x: \u001b[38;5;28mstr\u001b[39m(x) \u001b[38;5;28;01mfor\u001b[39;00m x \u001b[38;5;129;01min\u001b[39;00m \u001b[38;5;28mrange\u001b[39m(\u001b[38;5;28mlen\u001b[39m(region_names))}\n\u001b[1;32m    759\u001b[0m id2word \u001b[38;5;241m=\u001b[39m corpora\u001b[38;5;241m.\u001b[39mDictionary\u001b[38;5;241m.\u001b[39mfrom_corpus(corpus, names_dict)\n\u001b[0;32m--> 761\u001b[0m model_list \u001b[38;5;241m=\u001b[39m [\n\u001b[1;32m    762\u001b[0m     run_cgs_model_mallet(\n\u001b[1;32m    763\u001b[0m         path_to_mallet_binary,\n\u001b[1;32m    764\u001b[0m         binary_matrix,\n\u001b[1;32m    765\u001b[0m         corpus,\n\u001b[1;32m    766\u001b[0m         id2word,\n\u001b[1;32m    767\u001b[0m         n_topics\u001b[38;5;241m=\u001b[39mn_topic,\n\u001b[1;32m    768\u001b[0m         cell_names\u001b[38;5;241m=\u001b[39mcell_names,\n\u001b[1;32m    769\u001b[0m         region_names\u001b[38;5;241m=\u001b[39mregion_names,\n\u001b[1;32m    770\u001b[0m         n_cpu\u001b[38;5;241m=\u001b[39mn_cpu,\n\u001b[1;32m    771\u001b[0m         n_iter\u001b[38;5;241m=\u001b[39mn_iter,\n\u001b[1;32m    772\u001b[0m         random_state\u001b[38;5;241m=\u001b[39mrandom_state,\n\u001b[1;32m    773\u001b[0m         alpha\u001b[38;5;241m=\u001b[39malpha,\n\u001b[1;32m    774\u001b[0m         alpha_by_topic\u001b[38;5;241m=\u001b[39malpha_by_topic,\n\u001b[1;32m    775\u001b[0m         eta\u001b[38;5;241m=\u001b[39meta,\n\u001b[1;32m    776\u001b[0m         eta_by_topic\u001b[38;5;241m=\u001b[39meta_by_topic,\n\u001b[1;32m    777\u001b[0m         top_topics_coh\u001b[38;5;241m=\u001b[39mtop_topics_coh,\n\u001b[1;32m    778\u001b[0m         tmp_path\u001b[38;5;241m=\u001b[39mtmp_path,\n\u001b[1;32m    779\u001b[0m         save_path\u001b[38;5;241m=\u001b[39msave_path,\n\u001b[1;32m    780\u001b[0m         reuse_corpus\u001b[38;5;241m=\u001b[39mreuse_corpus,\n\u001b[1;32m    781\u001b[0m     )\n\u001b[1;32m    782\u001b[0m     \u001b[38;5;28;01mfor\u001b[39;00m n_topic \u001b[38;5;129;01min\u001b[39;00m n_topics\n\u001b[1;32m    783\u001b[0m ]\n\u001b[1;32m    784\u001b[0m \u001b[38;5;28;01mreturn\u001b[39;00m model_list\n",
      "File \u001b[0;32m~/miniconda3/envs/scenicplus/lib/python3.8/site-packages/pycisTopic/lda_models.py:762\u001b[0m, in \u001b[0;36m<listcomp>\u001b[0;34m(.0)\u001b[0m\n\u001b[1;32m    758\u001b[0m names_dict \u001b[38;5;241m=\u001b[39m {x: \u001b[38;5;28mstr\u001b[39m(x) \u001b[38;5;28;01mfor\u001b[39;00m x \u001b[38;5;129;01min\u001b[39;00m \u001b[38;5;28mrange\u001b[39m(\u001b[38;5;28mlen\u001b[39m(region_names))}\n\u001b[1;32m    759\u001b[0m id2word \u001b[38;5;241m=\u001b[39m corpora\u001b[38;5;241m.\u001b[39mDictionary\u001b[38;5;241m.\u001b[39mfrom_corpus(corpus, names_dict)\n\u001b[1;32m    761\u001b[0m model_list \u001b[38;5;241m=\u001b[39m [\n\u001b[0;32m--> 762\u001b[0m     \u001b[43mrun_cgs_model_mallet\u001b[49m\u001b[43m(\u001b[49m\n\u001b[1;32m    763\u001b[0m \u001b[43m        \u001b[49m\u001b[43mpath_to_mallet_binary\u001b[49m\u001b[43m,\u001b[49m\n\u001b[1;32m    764\u001b[0m \u001b[43m        \u001b[49m\u001b[43mbinary_matrix\u001b[49m\u001b[43m,\u001b[49m\n\u001b[1;32m    765\u001b[0m \u001b[43m        \u001b[49m\u001b[43mcorpus\u001b[49m\u001b[43m,\u001b[49m\n\u001b[1;32m    766\u001b[0m \u001b[43m        \u001b[49m\u001b[43mid2word\u001b[49m\u001b[43m,\u001b[49m\n\u001b[1;32m    767\u001b[0m \u001b[43m        \u001b[49m\u001b[43mn_topics\u001b[49m\u001b[38;5;241;43m=\u001b[39;49m\u001b[43mn_topic\u001b[49m\u001b[43m,\u001b[49m\n\u001b[1;32m    768\u001b[0m \u001b[43m        \u001b[49m\u001b[43mcell_names\u001b[49m\u001b[38;5;241;43m=\u001b[39;49m\u001b[43mcell_names\u001b[49m\u001b[43m,\u001b[49m\n\u001b[1;32m    769\u001b[0m \u001b[43m        \u001b[49m\u001b[43mregion_names\u001b[49m\u001b[38;5;241;43m=\u001b[39;49m\u001b[43mregion_names\u001b[49m\u001b[43m,\u001b[49m\n\u001b[1;32m    770\u001b[0m \u001b[43m        \u001b[49m\u001b[43mn_cpu\u001b[49m\u001b[38;5;241;43m=\u001b[39;49m\u001b[43mn_cpu\u001b[49m\u001b[43m,\u001b[49m\n\u001b[1;32m    771\u001b[0m \u001b[43m        \u001b[49m\u001b[43mn_iter\u001b[49m\u001b[38;5;241;43m=\u001b[39;49m\u001b[43mn_iter\u001b[49m\u001b[43m,\u001b[49m\n\u001b[1;32m    772\u001b[0m \u001b[43m        \u001b[49m\u001b[43mrandom_state\u001b[49m\u001b[38;5;241;43m=\u001b[39;49m\u001b[43mrandom_state\u001b[49m\u001b[43m,\u001b[49m\n\u001b[1;32m    773\u001b[0m \u001b[43m        \u001b[49m\u001b[43malpha\u001b[49m\u001b[38;5;241;43m=\u001b[39;49m\u001b[43malpha\u001b[49m\u001b[43m,\u001b[49m\n\u001b[1;32m    774\u001b[0m \u001b[43m        \u001b[49m\u001b[43malpha_by_topic\u001b[49m\u001b[38;5;241;43m=\u001b[39;49m\u001b[43malpha_by_topic\u001b[49m\u001b[43m,\u001b[49m\n\u001b[1;32m    775\u001b[0m \u001b[43m        \u001b[49m\u001b[43meta\u001b[49m\u001b[38;5;241;43m=\u001b[39;49m\u001b[43meta\u001b[49m\u001b[43m,\u001b[49m\n\u001b[1;32m    776\u001b[0m \u001b[43m        \u001b[49m\u001b[43meta_by_topic\u001b[49m\u001b[38;5;241;43m=\u001b[39;49m\u001b[43meta_by_topic\u001b[49m\u001b[43m,\u001b[49m\n\u001b[1;32m    777\u001b[0m \u001b[43m        \u001b[49m\u001b[43mtop_topics_coh\u001b[49m\u001b[38;5;241;43m=\u001b[39;49m\u001b[43mtop_topics_coh\u001b[49m\u001b[43m,\u001b[49m\n\u001b[1;32m    778\u001b[0m \u001b[43m        \u001b[49m\u001b[43mtmp_path\u001b[49m\u001b[38;5;241;43m=\u001b[39;49m\u001b[43mtmp_path\u001b[49m\u001b[43m,\u001b[49m\n\u001b[1;32m    779\u001b[0m \u001b[43m        \u001b[49m\u001b[43msave_path\u001b[49m\u001b[38;5;241;43m=\u001b[39;49m\u001b[43msave_path\u001b[49m\u001b[43m,\u001b[49m\n\u001b[1;32m    780\u001b[0m \u001b[43m        \u001b[49m\u001b[43mreuse_corpus\u001b[49m\u001b[38;5;241;43m=\u001b[39;49m\u001b[43mreuse_corpus\u001b[49m\u001b[43m,\u001b[49m\n\u001b[1;32m    781\u001b[0m \u001b[43m    \u001b[49m\u001b[43m)\u001b[49m\n\u001b[1;32m    782\u001b[0m     \u001b[38;5;28;01mfor\u001b[39;00m n_topic \u001b[38;5;129;01min\u001b[39;00m n_topics\n\u001b[1;32m    783\u001b[0m ]\n\u001b[1;32m    784\u001b[0m \u001b[38;5;28;01mreturn\u001b[39;00m model_list\n",
      "File \u001b[0;32m~/miniconda3/envs/scenicplus/lib/python3.8/site-packages/pycisTopic/lda_models.py:869\u001b[0m, in \u001b[0;36mrun_cgs_model_mallet\u001b[0;34m(path_to_mallet_binary, binary_matrix, corpus, id2word, n_topics, cell_names, region_names, n_cpu, n_iter, random_state, alpha, alpha_by_topic, eta, eta_by_topic, top_topics_coh, tmp_path, save_path, reuse_corpus)\u001b[0m\n\u001b[1;32m    867\u001b[0m start \u001b[38;5;241m=\u001b[39m time\u001b[38;5;241m.\u001b[39mtime()\n\u001b[1;32m    868\u001b[0m log\u001b[38;5;241m.\u001b[39minfo(\u001b[38;5;124mf\u001b[39m\u001b[38;5;124m\"\u001b[39m\u001b[38;5;124mRunning model with \u001b[39m\u001b[38;5;132;01m{\u001b[39;00mn_topics\u001b[38;5;132;01m}\u001b[39;00m\u001b[38;5;124m topics\u001b[39m\u001b[38;5;124m\"\u001b[39m)\n\u001b[0;32m--> 869\u001b[0m model \u001b[38;5;241m=\u001b[39m \u001b[43mLDAMallet\u001b[49m\u001b[43m(\u001b[49m\n\u001b[1;32m    870\u001b[0m \u001b[43m    \u001b[49m\u001b[43mpath_to_mallet_binary\u001b[49m\u001b[43m,\u001b[49m\n\u001b[1;32m    871\u001b[0m \u001b[43m    \u001b[49m\u001b[43mcorpus\u001b[49m\u001b[38;5;241;43m=\u001b[39;49m\u001b[43mcorpus\u001b[49m\u001b[43m,\u001b[49m\n\u001b[1;32m    872\u001b[0m \u001b[43m    \u001b[49m\u001b[43mid2word\u001b[49m\u001b[38;5;241;43m=\u001b[39;49m\u001b[43mid2word\u001b[49m\u001b[43m,\u001b[49m\n\u001b[1;32m    873\u001b[0m \u001b[43m    \u001b[49m\u001b[43mnum_topics\u001b[49m\u001b[38;5;241;43m=\u001b[39;49m\u001b[43mn_topics\u001b[49m\u001b[43m,\u001b[49m\n\u001b[1;32m    874\u001b[0m \u001b[43m    \u001b[49m\u001b[43miterations\u001b[49m\u001b[38;5;241;43m=\u001b[39;49m\u001b[43mn_iter\u001b[49m\u001b[43m,\u001b[49m\n\u001b[1;32m    875\u001b[0m \u001b[43m    \u001b[49m\u001b[43malpha\u001b[49m\u001b[38;5;241;43m=\u001b[39;49m\u001b[43malpha\u001b[49m\u001b[43m,\u001b[49m\n\u001b[1;32m    876\u001b[0m \u001b[43m    \u001b[49m\u001b[43meta\u001b[49m\u001b[38;5;241;43m=\u001b[39;49m\u001b[43meta\u001b[49m\u001b[43m,\u001b[49m\n\u001b[1;32m    877\u001b[0m \u001b[43m    \u001b[49m\u001b[43mn_cpu\u001b[49m\u001b[38;5;241;43m=\u001b[39;49m\u001b[43mn_cpu\u001b[49m\u001b[43m,\u001b[49m\n\u001b[1;32m    878\u001b[0m \u001b[43m    \u001b[49m\u001b[43mtmp_dir\u001b[49m\u001b[38;5;241;43m=\u001b[39;49m\u001b[43mtmp_path\u001b[49m\u001b[43m,\u001b[49m\n\u001b[1;32m    879\u001b[0m \u001b[43m    \u001b[49m\u001b[43mrandom_seed\u001b[49m\u001b[38;5;241;43m=\u001b[39;49m\u001b[43mrandom_state\u001b[49m\u001b[43m,\u001b[49m\n\u001b[1;32m    880\u001b[0m \u001b[43m    \u001b[49m\u001b[43mreuse_corpus\u001b[49m\u001b[38;5;241;43m=\u001b[39;49m\u001b[43mreuse_corpus\u001b[49m\u001b[43m,\u001b[49m\n\u001b[1;32m    881\u001b[0m \u001b[43m\u001b[49m\u001b[43m)\u001b[49m\n\u001b[1;32m    882\u001b[0m end_time \u001b[38;5;241m=\u001b[39m time\u001b[38;5;241m.\u001b[39mtime() \u001b[38;5;241m-\u001b[39m start\n\u001b[1;32m    884\u001b[0m \u001b[38;5;66;03m# Get distributions\u001b[39;00m\n",
      "File \u001b[0;32m~/miniconda3/envs/scenicplus/lib/python3.8/site-packages/pycisTopic/lda_models.py:467\u001b[0m, in \u001b[0;36mLDAMallet.__init__\u001b[0;34m(self, mallet_path, num_topics, corpus, alpha, eta, id2word, n_cpu, tmp_dir, optimize_interval, iterations, topic_threshold, random_seed, reuse_corpus)\u001b[0m\n\u001b[1;32m    465\u001b[0m \u001b[38;5;28mself\u001b[39m\u001b[38;5;241m.\u001b[39mrandom_seed \u001b[38;5;241m=\u001b[39m random_seed\n\u001b[1;32m    466\u001b[0m \u001b[38;5;28;01mif\u001b[39;00m corpus \u001b[38;5;129;01mis\u001b[39;00m \u001b[38;5;129;01mnot\u001b[39;00m \u001b[38;5;28;01mNone\u001b[39;00m:\n\u001b[0;32m--> 467\u001b[0m     \u001b[38;5;28;43mself\u001b[39;49m\u001b[38;5;241;43m.\u001b[39;49m\u001b[43mtrain\u001b[49m\u001b[43m(\u001b[49m\u001b[43mcorpus\u001b[49m\u001b[43m,\u001b[49m\u001b[43m \u001b[49m\u001b[43mreuse_corpus\u001b[49m\u001b[43m)\u001b[49m\n",
      "File \u001b[0;32m~/miniconda3/envs/scenicplus/lib/python3.8/site-packages/pycisTopic/lda_models.py:564\u001b[0m, in \u001b[0;36mLDAMallet.train\u001b[0;34m(self, corpus, reuse_corpus)\u001b[0m\n\u001b[1;32m    562\u001b[0m     subprocess\u001b[38;5;241m.\u001b[39mcheck_output(args\u001b[38;5;241m=\u001b[39mcmd, shell\u001b[38;5;241m=\u001b[39m\u001b[38;5;28;01mFalse\u001b[39;00m, stderr\u001b[38;5;241m=\u001b[39msubprocess\u001b[38;5;241m.\u001b[39mSTDOUT)\n\u001b[1;32m    563\u001b[0m \u001b[38;5;28;01mexcept\u001b[39;00m subprocess\u001b[38;5;241m.\u001b[39mCalledProcessError \u001b[38;5;28;01mas\u001b[39;00m e:\n\u001b[0;32m--> 564\u001b[0m     \u001b[38;5;28;01mraise\u001b[39;00m \u001b[38;5;167;01mRuntimeError\u001b[39;00m(\n\u001b[1;32m    565\u001b[0m         \u001b[38;5;124m\"\u001b[39m\u001b[38;5;124mcommand \u001b[39m\u001b[38;5;124m'\u001b[39m\u001b[38;5;132;01m{}\u001b[39;00m\u001b[38;5;124m'\u001b[39m\u001b[38;5;124m return with error (code \u001b[39m\u001b[38;5;132;01m{}\u001b[39;00m\u001b[38;5;124m): \u001b[39m\u001b[38;5;132;01m{}\u001b[39;00m\u001b[38;5;124m\"\u001b[39m\u001b[38;5;241m.\u001b[39mformat(\n\u001b[1;32m    566\u001b[0m             e\u001b[38;5;241m.\u001b[39mcmd, e\u001b[38;5;241m.\u001b[39mreturncode, e\u001b[38;5;241m.\u001b[39moutput\n\u001b[1;32m    567\u001b[0m         )\n\u001b[1;32m    568\u001b[0m     )\n\u001b[1;32m    569\u001b[0m \u001b[38;5;28mself\u001b[39m\u001b[38;5;241m.\u001b[39mword_topics \u001b[38;5;241m=\u001b[39m \u001b[38;5;28mself\u001b[39m\u001b[38;5;241m.\u001b[39mload_word_topics()\n\u001b[1;32m    570\u001b[0m \u001b[38;5;28mself\u001b[39m\u001b[38;5;241m.\u001b[39mwordtopics \u001b[38;5;241m=\u001b[39m \u001b[38;5;28mself\u001b[39m\u001b[38;5;241m.\u001b[39mword_topics\n",
      "\u001b[0;31mRuntimeError\u001b[0m: command '['/fast/AG_Bunina/Yusuf/softwares/Mallet-202108/bin/mallet', 'train-topics', '--input', '/fast/AG_Bunina/scratch/Yusuf/corpus.mallet', '--num-topics', '2', '--alpha', '50', '--beta', '0.1', '--optimize-interval', '0', '--num-threads', '24', '--output-state', '/fast/AG_Bunina/scratch/Yusuf/786693_state.mallet.gz', '--output-doc-topics', '/fast/AG_Bunina/scratch/Yusuf/786693_doctopics.txt', '--output-topic-keys', '/fast/AG_Bunina/scratch/Yusuf/786693_topickeys.txt', '--num-iterations', '500', '--inferencer-filename', '/fast/AG_Bunina/scratch/Yusuf/786693_inferencer.mallet', '--doc-topics-threshold', '0.0', '--random-seed', '555']' return with error (code 1): b'Mallet LDA: 2 topics, 1 topic bits, 1 topic mask\\nException in thread \"main\" java.lang.OutOfMemoryError: Java heap space\\n\\tat cc.mallet.types.FeatureSequence.readObject(FeatureSequence.java:287)\\n\\tat sun.reflect.GeneratedMethodAccessor2.invoke(Unknown Source)\\n\\tat sun.reflect.DelegatingMethodAccessorImpl.invoke(DelegatingMethodAccessorImpl.java:43)\\n\\tat java.lang.reflect.Method.invoke(Method.java:498)\\n\\tat java.io.ObjectStreamClass.invokeReadObject(ObjectStreamClass.java:1184)\\n\\tat java.io.ObjectInputStream.readSerialData(ObjectInputStream.java:2321)\\n\\tat java.io.ObjectInputStream.readOrdinaryObject(ObjectInputStream.java:2212)\\n\\tat java.io.ObjectInputStream.readObject0(ObjectInputStream.java:1668)\\n\\tat java.io.ObjectInputStream.readObject(ObjectInputStream.java:502)\\n\\tat java.io.ObjectInputStream.readObject(ObjectInputStream.java:460)\\n\\tat cc.mallet.types.Instance.readObject(Instance.java:228)\\n\\tat sun.reflect.GeneratedMethodAccessor1.invoke(Unknown Source)\\n\\tat sun.reflect.DelegatingMethodAccessorImpl.invoke(DelegatingMethodAccessorImpl.java:43)\\n\\tat java.lang.reflect.Method.invoke(Method.java:498)\\n\\tat java.io.ObjectStreamClass.invokeReadObject(ObjectStreamClass.java:1184)\\n\\tat java.io.ObjectInputStream.readSerialData(ObjectInputStream.java:2321)\\n\\tat java.io.ObjectInputStream.readOrdinaryObject(ObjectInputStream.java:2212)\\n\\tat java.io.ObjectInputStream.readObject0(ObjectInputStream.java:1668)\\n\\tat java.io.ObjectInputStream.readObject(ObjectInputStream.java:502)\\n\\tat java.io.ObjectInputStream.readObject(ObjectInputStream.java:460)\\n\\tat java.util.ArrayList.readObject(ArrayList.java:799)\\n\\tat sun.reflect.NativeMethodAccessorImpl.invoke0(Native Method)\\n\\tat sun.reflect.NativeMethodAccessorImpl.invoke(NativeMethodAccessorImpl.java:62)\\n\\tat sun.reflect.DelegatingMethodAccessorImpl.invoke(DelegatingMethodAccessorImpl.java:43)\\n\\tat java.lang.reflect.Method.invoke(Method.java:498)\\n\\tat java.io.ObjectStreamClass.invokeReadObject(ObjectStreamClass.java:1184)\\n\\tat java.io.ObjectInputStream.readSerialData(ObjectInputStream.java:2321)\\n\\tat java.io.ObjectInputStream.readOrdinaryObject(ObjectInputStream.java:2212)\\n\\tat java.io.ObjectInputStream.readObject0(ObjectInputStream.java:1668)\\n\\tat java.io.ObjectInputStream.readObject(ObjectInputStream.java:502)\\n\\tat java.io.ObjectInputStream.readObject(ObjectInputStream.java:460)\\n\\tat cc.mallet.types.InstanceList.load(InstanceList.java:823)\\n'"
     ]
    }
   ],
   "source": [
    "import os\n",
    "path_to_mallet_binary='/fast/AG_Bunina/Yusuf/softwares/Mallet-202108/bin/mallet'\n",
    "# Run models\n",
    "models=run_cgs_models_mallet(path_to_mallet_binary,\n",
    "                    cistopic_obj,\n",
    "                    n_topics=[2,5,10,15,20,25,30,35,40,45,50],\n",
    "                    n_cpu=24,\n",
    "                    n_iter=500,\n",
    "                    random_state=555,\n",
    "                    alpha=50,\n",
    "                    alpha_by_topic=True,\n",
    "                    eta=0.1,\n",
    "                    eta_by_topic=False,\n",
    "                    tmp_path=tmpDir, #Use SCRATCH if many models or big data set\n",
    "                    save_path=None)"
   ]
  },
  {
   "cell_type": "code",
   "execution_count": null,
   "id": "137f3669-c099-4924-9973-4d77c30101ee",
   "metadata": {},
   "outputs": [],
   "source": [
    "# Save\n",
    "import pickle\n",
    "with open(outDir+'Mallet_models_500.pkl', 'wb') as f:\n",
    "  pickle.dump(models, f)"
   ]
  },
  {
   "cell_type": "code",
   "execution_count": 16,
   "id": "ad9de4de-9a99-4253-9431-4ea87b86b0fb",
   "metadata": {},
   "outputs": [
    {
     "data": {
      "text/plain": [
       "'/fast/AG_Bunina/Yusuf/Project_Endothelial_and_Stroke/Datasets/Chromatin_and_Gene_Exp/2023_Zhu_et_al/Zhu_et_al_2023/Python_Project/ScenicPlus/Zhu_et_al/output/'"
      ]
     },
     "execution_count": 16,
     "metadata": {},
     "output_type": "execute_result"
    }
   ],
   "source": [
    "outDir"
   ]
  },
  {
   "cell_type": "code",
   "execution_count": 18,
   "id": "8e0e1ff6-ec2e-4710-9410-590736153c63",
   "metadata": {},
   "outputs": [],
   "source": [
    "import session_info"
   ]
  },
  {
   "cell_type": "code",
   "execution_count": 20,
   "id": "bc389914-a38d-4864-a2de-8323a7e6641a",
   "metadata": {},
   "outputs": [
    {
     "data": {
      "text/html": [
       "<details>\n",
       "<summary>Click to view session information</summary>\n",
       "<pre>\n",
       "-----\n",
       "PIL                 10.2.0\n",
       "gensim              4.3.2\n",
       "lda                 2.0.0\n",
       "matplotlib          3.7.5\n",
       "numpy               1.24.4\n",
       "pandas              1.5.0\n",
       "pycisTopic          1.0a0\n",
       "pyranges            0.0.127\n",
       "ray                 2.9.2\n",
       "scipy               1.10.1\n",
       "session_info        1.0.0\n",
       "sklearn             1.3.2\n",
       "tmtoolkit           0.12.0\n",
       "-----\n",
       "</pre>\n",
       "<details>\n",
       "<summary>Click to view modules imported as dependencies</summary>\n",
       "<pre>\n",
       "asttokens                   NA\n",
       "attr                        23.2.0\n",
       "attrs                       23.2.0\n",
       "backcall                    0.2.0\n",
       "bidict                      0.23.1\n",
       "certifi                     2024.02.02\n",
       "cffi                        1.16.0\n",
       "charset_normalizer          3.3.2\n",
       "cloudpickle                 3.0.0\n",
       "colorama                    0.4.6\n",
       "comm                        0.2.1\n",
       "cycler                      0.12.1\n",
       "cython_runtime              NA\n",
       "dateutil                    2.8.2\n",
       "debugpy                     1.8.1\n",
       "decorator                   5.1.1\n",
       "defusedxml                  0.7.1\n",
       "executing                   2.0.1\n",
       "filelock                    3.13.1\n",
       "fontTools                   4.49.0\n",
       "globre                      NA\n",
       "google                      NA\n",
       "idna                        3.6\n",
       "importlib_metadata          NA\n",
       "importlib_resources         NA\n",
       "ipykernel                   6.29.2\n",
       "ipywidgets                  8.1.2\n",
       "jedi                        0.19.1\n",
       "joblib                      1.3.2\n",
       "jsonschema                  4.21.1\n",
       "jsonschema_specifications   NA\n",
       "kiwisolver                  1.4.5\n",
       "lxml                        5.1.0\n",
       "lz4                         4.3.3\n",
       "mpl_toolkits                NA\n",
       "msgpack                     1.0.7\n",
       "natsort                     8.4.0\n",
       "ncls                        0.0.68\n",
       "numexpr                     2.8.6\n",
       "packaging                   23.2\n",
       "parso                       0.8.3\n",
       "pexpect                     4.9.0\n",
       "pickleshare                 0.7.5\n",
       "pkg_resources               NA\n",
       "platformdirs                4.2.0\n",
       "prompt_toolkit              3.0.43\n",
       "psutil                      5.9.8\n",
       "ptyprocess                  0.7.0\n",
       "pure_eval                   0.2.2\n",
       "pyarrow                     15.0.0\n",
       "pydev_ipython               NA\n",
       "pydevconsole                NA\n",
       "pydevd                      2.9.5\n",
       "pydevd_file_utils           NA\n",
       "pydevd_plugins              NA\n",
       "pydevd_tracing              NA\n",
       "pygments                    2.17.2\n",
       "pyparsing                   3.1.1\n",
       "pytz                        2024.1\n",
       "referencing                 NA\n",
       "requests                    2.31.0\n",
       "rpds                        NA\n",
       "setproctitle                1.2.2\n",
       "six                         1.16.0\n",
       "smart_open                  6.4.0\n",
       "sorted_nearest              0.0.39\n",
       "sphinxcontrib               NA\n",
       "stack_data                  0.6.3\n",
       "threadpoolctl               3.3.0\n",
       "tornado                     6.4\n",
       "tqdm                        4.66.2\n",
       "traitlets                   5.14.1\n",
       "typing_extensions           NA\n",
       "urllib3                     2.2.1\n",
       "wcwidth                     0.2.13\n",
       "yaml                        6.0.1\n",
       "zipp                        NA\n",
       "zmq                         25.1.2\n",
       "zope                        NA\n",
       "</pre>\n",
       "</details> <!-- seems like this ends pre, so might as well be explicit -->\n",
       "<pre>\n",
       "-----\n",
       "IPython             8.12.3\n",
       "jupyter_client      8.6.0\n",
       "jupyter_core        5.7.1\n",
       "-----\n",
       "Python 3.8.18 (default, Sep 11 2023, 13:40:15) [GCC 11.2.0]\n",
       "Linux-3.10.0-1160.76.1.el7.x86_64-x86_64-with-glibc2.17\n",
       "-----\n",
       "Session information updated at 2024-03-10 21:58\n",
       "</pre>\n",
       "</details>"
      ],
      "text/plain": [
       "<IPython.core.display.HTML object>"
      ]
     },
     "execution_count": 20,
     "metadata": {},
     "output_type": "execute_result"
    }
   ],
   "source": [
    "session_info.show()"
   ]
  },
  {
   "cell_type": "code",
   "execution_count": null,
   "id": "48799053-c94a-4fab-b042-36c4cfd00881",
   "metadata": {},
   "outputs": [],
   "source": []
  }
 ],
 "metadata": {
  "kernelspec": {
   "display_name": "scenicplus",
   "language": "python",
   "name": "scenicplus"
  },
  "language_info": {
   "codemirror_mode": {
    "name": "ipython",
    "version": 3
   },
   "file_extension": ".py",
   "mimetype": "text/x-python",
   "name": "python",
   "nbconvert_exporter": "python",
   "pygments_lexer": "ipython3",
   "version": "3.8.18"
  }
 },
 "nbformat": 4,
 "nbformat_minor": 5
}
