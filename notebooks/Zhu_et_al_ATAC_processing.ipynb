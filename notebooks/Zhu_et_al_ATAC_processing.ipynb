{
 "cells": [
  {
   "cell_type": "code",
   "execution_count": 2,
   "id": "12724862-12ac-4bee-b600-87637447bf53",
   "metadata": {},
   "outputs": [],
   "source": [
    "import os\n",
    "work_dir = 'Zhu_et_al'\n",
    "import pycisTopic\n",
    "#set some figure parameters for nice display inside jupyternotebooks.\n",
    "%matplotlib inline\n",
    "\n",
    "#make a directory for to store the processed scATAC-seq data.\n",
    "if not os.path.exists(os.path.join(work_dir, 'scATAC')):\n",
    "    os.makedirs(os.path.join(work_dir, 'scATAC'))\n",
    "tmp_dir = '/scratch/leuven/330/vsc33053/'"
   ]
  },
  {
   "cell_type": "code",
   "execution_count": 3,
   "id": "69d3ea99-c98a-484d-a688-8974895838d0",
   "metadata": {},
   "outputs": [],
   "source": [
    "fragments_dict = {'10x_Zhu_et_al_ATAC': os.path.join(work_dir, 'data/GSE204682_peaks.bed.gz')}"
   ]
  },
  {
   "cell_type": "code",
   "execution_count": 4,
   "id": "6592cb2b-839e-4a34-b43c-4968be8fc958",
   "metadata": {},
   "outputs": [],
   "source": [
    "import pybedtools"
   ]
  },
  {
   "cell_type": "code",
   "execution_count": 5,
   "id": "fb729229-458f-4a00-a057-01b1f9b2e69f",
   "metadata": {},
   "outputs": [],
   "source": [
    "import pandas as pd"
   ]
  },
  {
   "cell_type": "code",
   "execution_count": 6,
   "id": "c6c50a7f-8a56-4e02-8bae-5c2f9a77b1c4",
   "metadata": {},
   "outputs": [],
   "source": [
    "bed_file = os.path.join(work_dir, 'data/GSE204682_peaks.bed.gz')"
   ]
  },
  {
   "cell_type": "code",
   "execution_count": 7,
   "id": "62f4d424-5fcc-4259-936e-859ddd2fcd23",
   "metadata": {},
   "outputs": [
    {
     "data": {
      "text/plain": [
       "'Zhu_et_al/data/GSE204682_peaks.bed.gz'"
      ]
     },
     "execution_count": 7,
     "metadata": {},
     "output_type": "execute_result"
    }
   ],
   "source": [
    "bed_file"
   ]
  },
  {
   "cell_type": "code",
   "execution_count": 8,
   "id": "ebd930d1-824f-46d5-8ba6-48e5a6f0ef32",
   "metadata": {},
   "outputs": [],
   "source": [
    "bed_data = pybedtools.BedTool(bed_file)"
   ]
  },
  {
   "cell_type": "code",
   "execution_count": 9,
   "id": "77a62755-cf6c-4f18-adf4-152208b38286",
   "metadata": {},
   "outputs": [],
   "source": [
    "bed_df = bed_data.to_dataframe()"
   ]
  },
  {
   "cell_type": "code",
   "execution_count": 10,
   "id": "79185846-90d4-49d5-a8da-d69733ea0d7b",
   "metadata": {},
   "outputs": [
    {
     "data": {
      "text/html": [
       "<div>\n",
       "<style scoped>\n",
       "    .dataframe tbody tr th:only-of-type {\n",
       "        vertical-align: middle;\n",
       "    }\n",
       "\n",
       "    .dataframe tbody tr th {\n",
       "        vertical-align: top;\n",
       "    }\n",
       "\n",
       "    .dataframe thead th {\n",
       "        text-align: right;\n",
       "    }\n",
       "</style>\n",
       "<table border=\"1\" class=\"dataframe\">\n",
       "  <thead>\n",
       "    <tr style=\"text-align: right;\">\n",
       "      <th></th>\n",
       "      <th>chrom</th>\n",
       "      <th>start</th>\n",
       "      <th>end</th>\n",
       "      <th>name</th>\n",
       "    </tr>\n",
       "  </thead>\n",
       "  <tbody>\n",
       "    <tr>\n",
       "      <th>0</th>\n",
       "      <td>chr1</td>\n",
       "      <td>10063</td>\n",
       "      <td>10327</td>\n",
       "      <td>chr1-10063-10327</td>\n",
       "    </tr>\n",
       "    <tr>\n",
       "      <th>1</th>\n",
       "      <td>chr1</td>\n",
       "      <td>180726</td>\n",
       "      <td>180979</td>\n",
       "      <td>chr1-180726-180979</td>\n",
       "    </tr>\n",
       "    <tr>\n",
       "      <th>2</th>\n",
       "      <td>chr1</td>\n",
       "      <td>181323</td>\n",
       "      <td>181566</td>\n",
       "      <td>chr1-181323-181566</td>\n",
       "    </tr>\n",
       "    <tr>\n",
       "      <th>3</th>\n",
       "      <td>chr1</td>\n",
       "      <td>190727</td>\n",
       "      <td>191632</td>\n",
       "      <td>chr1-190727-191632</td>\n",
       "    </tr>\n",
       "    <tr>\n",
       "      <th>4</th>\n",
       "      <td>chr1</td>\n",
       "      <td>777615</td>\n",
       "      <td>779293</td>\n",
       "      <td>chr1-777615-779293</td>\n",
       "    </tr>\n",
       "  </tbody>\n",
       "</table>\n",
       "</div>"
      ],
      "text/plain": [
       "  chrom   start     end                name\n",
       "0  chr1   10063   10327    chr1-10063-10327\n",
       "1  chr1  180726  180979  chr1-180726-180979\n",
       "2  chr1  181323  181566  chr1-181323-181566\n",
       "3  chr1  190727  191632  chr1-190727-191632\n",
       "4  chr1  777615  779293  chr1-777615-779293"
      ]
     },
     "execution_count": 10,
     "metadata": {},
     "output_type": "execute_result"
    }
   ],
   "source": [
    "bed_df.head()"
   ]
  },
  {
   "cell_type": "code",
   "execution_count": 11,
   "id": "cb24a293-2a2b-4ddc-998d-c1dac12e7f7f",
   "metadata": {},
   "outputs": [
    {
     "data": {
      "text/plain": [
       "(304034, 4)"
      ]
     },
     "execution_count": 11,
     "metadata": {},
     "output_type": "execute_result"
    }
   ],
   "source": [
    "bed_df.shape"
   ]
  },
  {
   "cell_type": "code",
   "execution_count": 12,
   "id": "c851c954-ff04-4835-8d96-8cf1dee82b05",
   "metadata": {},
   "outputs": [
    {
     "data": {
      "text/plain": [
       "'/fast/AG_Bunina/Yusuf/Project_Endothelial_and_Stroke/Datasets/Chromatin_and_Gene_Exp/2023_Zhu_et_al/Zhu_et_al_2023/Python_Project/ScenicPlus/Zhu_et_al'"
      ]
     },
     "execution_count": 12,
     "metadata": {},
     "output_type": "execute_result"
    }
   ],
   "source": [
    "pwd"
   ]
  },
  {
   "cell_type": "code",
   "execution_count": 13,
   "id": "4c60c23e-811c-44ad-804a-27f2ce05574f",
   "metadata": {},
   "outputs": [],
   "source": [
    "import scanpy as sc"
   ]
  },
  {
   "cell_type": "code",
   "execution_count": 14,
   "id": "22292484-cf7d-4c9d-95bc-0335bfa87f98",
   "metadata": {},
   "outputs": [],
   "source": [
    "adata = sc.read_h5ad(os.path.join(work_dir, 'data/10x_scATAC-seq_from_human_cortex.h5ad'))\n"
   ]
  },
  {
   "cell_type": "code",
   "execution_count": 15,
   "id": "e49fbed0-5e95-4f2b-a43a-c6c7f83d188e",
   "metadata": {},
   "outputs": [
    {
     "data": {
      "text/plain": [
       "AnnData object with n_obs × n_vars = 45549 × 19492\n",
       "    obs: 'author_cell_type', 'age_group', 'donor_id', 'nCount_RNA', 'nFeature_RNA', 'nCount_ATAC', 'nFeature_ATAC', 'TSS_percentile', 'nucleosome_signal', 'percent_mt', 'assay_ontology_term_id', 'cell_type_ontology_term_id', 'development_stage_ontology_term_id', 'disease_ontology_term_id', 'self_reported_ethnicity_ontology_term_id', 'organism_ontology_term_id', 'sex_ontology_term_id', 'tissue_ontology_term_id', 'suspension_type', 'is_primary_data', 'batch', 'tissue_type', 'cell_type', 'assay', 'disease', 'organism', 'sex', 'tissue', 'self_reported_ethnicity', 'development_stage', 'observation_joinid'\n",
       "    var: 'feature_is_filtered', 'feature_name', 'feature_reference', 'feature_biotype', 'feature_length'\n",
       "    uns: 'batch_condition', 'citation', 'schema_reference', 'schema_version', 'title'\n",
       "    obsm: 'X_joint_wnn_umap', 'X_umap'"
      ]
     },
     "execution_count": 15,
     "metadata": {},
     "output_type": "execute_result"
    }
   ],
   "source": [
    "adata"
   ]
  },
  {
   "cell_type": "code",
   "execution_count": 16,
   "id": "a4b8b0ad-2694-4b9c-9b1b-71b227313c01",
   "metadata": {},
   "outputs": [
    {
     "data": {
      "text/plain": [
       "Index(['ENSG00000182378', 'ENSG00000178605', 'ENSG00000167393',\n",
       "       'ENSG00000185960', 'ENSG00000205755', 'ENSG00000198223',\n",
       "       'ENSG00000185291', 'ENSG00000169100', 'ENSG00000169093',\n",
       "       'ENSG00000182162',\n",
       "       ...\n",
       "       'ENSG00000160282', 'ENSG00000160284', 'ENSG00000160285',\n",
       "       'ENSG00000160294', 'ENSG00000182362', 'ENSG00000160298',\n",
       "       'ENSG00000160299', 'ENSG00000160305', 'ENSG00000160307',\n",
       "       'ENSG00000160310'],\n",
       "      dtype='object', name='gene_ids', length=19492)"
      ]
     },
     "execution_count": 16,
     "metadata": {},
     "output_type": "execute_result"
    }
   ],
   "source": [
    "adata.var_names"
   ]
  },
  {
   "cell_type": "code",
   "execution_count": 17,
   "id": "4654c0d5-ebb7-47ad-ab0e-99a39bddeff4",
   "metadata": {},
   "outputs": [
    {
     "data": {
      "text/html": [
       "<div>\n",
       "<style scoped>\n",
       "    .dataframe tbody tr th:only-of-type {\n",
       "        vertical-align: middle;\n",
       "    }\n",
       "\n",
       "    .dataframe tbody tr th {\n",
       "        vertical-align: top;\n",
       "    }\n",
       "\n",
       "    .dataframe thead th {\n",
       "        text-align: right;\n",
       "    }\n",
       "</style>\n",
       "<table border=\"1\" class=\"dataframe\">\n",
       "  <thead>\n",
       "    <tr style=\"text-align: right;\">\n",
       "      <th></th>\n",
       "      <th>feature_is_filtered</th>\n",
       "      <th>feature_name</th>\n",
       "      <th>feature_reference</th>\n",
       "      <th>feature_biotype</th>\n",
       "      <th>feature_length</th>\n",
       "    </tr>\n",
       "    <tr>\n",
       "      <th>gene_ids</th>\n",
       "      <th></th>\n",
       "      <th></th>\n",
       "      <th></th>\n",
       "      <th></th>\n",
       "      <th></th>\n",
       "    </tr>\n",
       "  </thead>\n",
       "  <tbody>\n",
       "    <tr>\n",
       "      <th>ENSG00000182378</th>\n",
       "      <td>False</td>\n",
       "      <td>PLCXD1</td>\n",
       "      <td>NCBITaxon:9606</td>\n",
       "      <td>gene</td>\n",
       "      <td>6065</td>\n",
       "    </tr>\n",
       "    <tr>\n",
       "      <th>ENSG00000178605</th>\n",
       "      <td>False</td>\n",
       "      <td>GTPBP6</td>\n",
       "      <td>NCBITaxon:9606</td>\n",
       "      <td>gene</td>\n",
       "      <td>2964</td>\n",
       "    </tr>\n",
       "    <tr>\n",
       "      <th>ENSG00000167393</th>\n",
       "      <td>False</td>\n",
       "      <td>PPP2R3B</td>\n",
       "      <td>NCBITaxon:9606</td>\n",
       "      <td>gene</td>\n",
       "      <td>9045</td>\n",
       "    </tr>\n",
       "    <tr>\n",
       "      <th>ENSG00000185960</th>\n",
       "      <td>False</td>\n",
       "      <td>SHOX</td>\n",
       "      <td>NCBITaxon:9606</td>\n",
       "      <td>gene</td>\n",
       "      <td>4384</td>\n",
       "    </tr>\n",
       "    <tr>\n",
       "      <th>ENSG00000205755</th>\n",
       "      <td>False</td>\n",
       "      <td>CRLF2</td>\n",
       "      <td>NCBITaxon:9606</td>\n",
       "      <td>gene</td>\n",
       "      <td>1983</td>\n",
       "    </tr>\n",
       "    <tr>\n",
       "      <th>...</th>\n",
       "      <td>...</td>\n",
       "      <td>...</td>\n",
       "      <td>...</td>\n",
       "      <td>...</td>\n",
       "      <td>...</td>\n",
       "    </tr>\n",
       "    <tr>\n",
       "      <th>ENSG00000160298</th>\n",
       "      <td>False</td>\n",
       "      <td>C21orf58</td>\n",
       "      <td>NCBITaxon:9606</td>\n",
       "      <td>gene</td>\n",
       "      <td>5315</td>\n",
       "    </tr>\n",
       "    <tr>\n",
       "      <th>ENSG00000160299</th>\n",
       "      <td>False</td>\n",
       "      <td>PCNT</td>\n",
       "      <td>NCBITaxon:9606</td>\n",
       "      <td>gene</td>\n",
       "      <td>11641</td>\n",
       "    </tr>\n",
       "    <tr>\n",
       "      <th>ENSG00000160305</th>\n",
       "      <td>False</td>\n",
       "      <td>DIP2A</td>\n",
       "      <td>NCBITaxon:9606</td>\n",
       "      <td>gene</td>\n",
       "      <td>13758</td>\n",
       "    </tr>\n",
       "    <tr>\n",
       "      <th>ENSG00000160307</th>\n",
       "      <td>False</td>\n",
       "      <td>S100B</td>\n",
       "      <td>NCBITaxon:9606</td>\n",
       "      <td>gene</td>\n",
       "      <td>1806</td>\n",
       "    </tr>\n",
       "    <tr>\n",
       "      <th>ENSG00000160310</th>\n",
       "      <td>False</td>\n",
       "      <td>PRMT2</td>\n",
       "      <td>NCBITaxon:9606</td>\n",
       "      <td>gene</td>\n",
       "      <td>7603</td>\n",
       "    </tr>\n",
       "  </tbody>\n",
       "</table>\n",
       "<p>19492 rows × 5 columns</p>\n",
       "</div>"
      ],
      "text/plain": [
       "                 feature_is_filtered feature_name feature_reference  \\\n",
       "gene_ids                                                              \n",
       "ENSG00000182378                False       PLCXD1    NCBITaxon:9606   \n",
       "ENSG00000178605                False       GTPBP6    NCBITaxon:9606   \n",
       "ENSG00000167393                False      PPP2R3B    NCBITaxon:9606   \n",
       "ENSG00000185960                False         SHOX    NCBITaxon:9606   \n",
       "ENSG00000205755                False        CRLF2    NCBITaxon:9606   \n",
       "...                              ...          ...               ...   \n",
       "ENSG00000160298                False     C21orf58    NCBITaxon:9606   \n",
       "ENSG00000160299                False         PCNT    NCBITaxon:9606   \n",
       "ENSG00000160305                False        DIP2A    NCBITaxon:9606   \n",
       "ENSG00000160307                False        S100B    NCBITaxon:9606   \n",
       "ENSG00000160310                False        PRMT2    NCBITaxon:9606   \n",
       "\n",
       "                feature_biotype feature_length  \n",
       "gene_ids                                        \n",
       "ENSG00000182378            gene           6065  \n",
       "ENSG00000178605            gene           2964  \n",
       "ENSG00000167393            gene           9045  \n",
       "ENSG00000185960            gene           4384  \n",
       "ENSG00000205755            gene           1983  \n",
       "...                         ...            ...  \n",
       "ENSG00000160298            gene           5315  \n",
       "ENSG00000160299            gene          11641  \n",
       "ENSG00000160305            gene          13758  \n",
       "ENSG00000160307            gene           1806  \n",
       "ENSG00000160310            gene           7603  \n",
       "\n",
       "[19492 rows x 5 columns]"
      ]
     },
     "execution_count": 17,
     "metadata": {},
     "output_type": "execute_result"
    }
   ],
   "source": [
    "adata.var"
   ]
  },
  {
   "cell_type": "code",
   "execution_count": 18,
   "id": "02c38397-c084-4c57-b1f4-ea1fb371fd3c",
   "metadata": {},
   "outputs": [],
   "source": [
    "# This anndata object does not contain the count matrix."
   ]
  },
  {
   "cell_type": "code",
   "execution_count": 19,
   "id": "ed550e2f-948f-457f-9e61-d0fc2b3067ed",
   "metadata": {},
   "outputs": [],
   "source": [
    "from scipy.io import mmread"
   ]
  },
  {
   "cell_type": "code",
   "execution_count": 20,
   "id": "941fa387-cb37-4a39-bb85-a8bf2ff73ca7",
   "metadata": {},
   "outputs": [
    {
     "name": "stdout",
     "output_type": "stream",
     "text": [
      "\u001b[0m\u001b[38;5;27mZhu_et_al\u001b[0m/                                            \u001b[38;5;34mmy_col_names.txt\u001b[0m*\n",
      "Zhu_et_al_ATAC_processing.ipynb                       \u001b[38;5;34mmy_row_names.txt\u001b[0m*\n",
      "Zhu_et_al_RNA_preprocess.ipynb                        test-jupyter.e7016482\n",
      "Zhu_et_al_peak_count_matrix_preparation_for_python.R  test-jupyter.e7016874\n",
      "core.25918                                            test-jupyter.o7016482\n",
      "core.30746                                            test-jupyter.o7016874\n"
     ]
    }
   ],
   "source": [
    "ls"
   ]
  },
  {
   "cell_type": "code",
   "execution_count": 21,
   "id": "ba9172a0-d987-45ee-ad8a-8df42841fa3f",
   "metadata": {},
   "outputs": [],
   "source": [
    "peak_mat = mmread(os.path.join(work_dir, \"data/GSE204682_ATAC_Peak_count_matrix.MM\"))"
   ]
  },
  {
   "cell_type": "code",
   "execution_count": 22,
   "id": "532a3508-8b92-40fa-96f4-549c1354f613",
   "metadata": {},
   "outputs": [
    {
     "data": {
      "text/plain": [
       "array([ 54,  55,  88,  99, 118], dtype=int32)"
      ]
     },
     "execution_count": 22,
     "metadata": {},
     "output_type": "execute_result"
    }
   ],
   "source": [
    "peak_mat.row[0:5]"
   ]
  },
  {
   "cell_type": "code",
   "execution_count": 23,
   "id": "8718d783-4e0e-4add-8fb2-24a84c9bd6ec",
   "metadata": {},
   "outputs": [
    {
     "data": {
      "text/plain": [
       "array([0, 0, 0, 0, 0], dtype=int32)"
      ]
     },
     "execution_count": 23,
     "metadata": {},
     "output_type": "execute_result"
    }
   ],
   "source": [
    "peak_mat.col[0:5]"
   ]
  },
  {
   "cell_type": "code",
   "execution_count": 24,
   "id": "f8531c76-3360-4eeb-ad04-668f3750d26e",
   "metadata": {},
   "outputs": [
    {
     "data": {
      "text/plain": [
       "array([1, 1, 1, 1, 1])"
      ]
     },
     "execution_count": 24,
     "metadata": {},
     "output_type": "execute_result"
    }
   ],
   "source": [
    "peak_mat.data[0:5]"
   ]
  },
  {
   "cell_type": "code",
   "execution_count": 25,
   "id": "47927d07-6590-485f-b608-2800364782e5",
   "metadata": {},
   "outputs": [],
   "source": [
    "col_indices = peak_mat.col"
   ]
  },
  {
   "cell_type": "code",
   "execution_count": 26,
   "id": "96ef682c-db27-40cb-a73b-87f91f850575",
   "metadata": {},
   "outputs": [
    {
     "data": {
      "text/plain": [
       "array([    0,     0,     0, ..., 45548, 45548, 45548], dtype=int32)"
      ]
     },
     "execution_count": 26,
     "metadata": {},
     "output_type": "execute_result"
    }
   ],
   "source": [
    "col_indices"
   ]
  },
  {
   "cell_type": "code",
   "execution_count": 27,
   "id": "7377d6ad-2afb-4d7b-a2fd-53d8cce65eb2",
   "metadata": {},
   "outputs": [],
   "source": [
    "# Read row and col names form respective files and then add them to the MM matrix."
   ]
  },
  {
   "cell_type": "code",
   "execution_count": 28,
   "id": "a59ff899-1d91-4e9e-89d9-27903909e469",
   "metadata": {},
   "outputs": [],
   "source": [
    "# Open the file for reading\n",
    "with open('my_row_names.txt', 'r') as file:\n",
    "    # Read the contents of the file\n",
    "    vector_contents = file.read()\n",
    "\n",
    "# Convert the contents to a list of strings\n",
    "row_names = vector_contents.split()\n",
    "\n",
    "# Open the file for reading\n",
    "with open('my_col_names.txt', 'r') as file:\n",
    "    # Read the contents of the file\n",
    "    vector_contents = file.read()\n",
    "\n",
    "# Convert the contents to a list of strings\n",
    "col_names = vector_contents.split()"
   ]
  },
  {
   "cell_type": "code",
   "execution_count": 29,
   "id": "f005132d-9ff7-49f4-b87e-7bfa9e4f904d",
   "metadata": {},
   "outputs": [
    {
     "data": {
      "text/plain": [
       "['chr1-10063-10327',\n",
       " 'chr1-180726-180979',\n",
       " 'chr1-181323-181566',\n",
       " 'chr1-190727-191632',\n",
       " 'chr1-777615-779293']"
      ]
     },
     "execution_count": 29,
     "metadata": {},
     "output_type": "execute_result"
    }
   ],
   "source": [
    "row_names[:5]"
   ]
  },
  {
   "cell_type": "code",
   "execution_count": 30,
   "id": "b055805b-d493-4ba4-9638-0f18946aaa11",
   "metadata": {},
   "outputs": [
    {
     "data": {
      "text/plain": [
       "['4_AAACAGCCAACACTTG-1',\n",
       " '4_AAACAGCCACCAAAGG-1',\n",
       " '4_AAACAGCCATAAGTTC-1',\n",
       " '4_AAACATGCATAGTCAT-1',\n",
       " '4_AAACATGCATTGTCAG-1']"
      ]
     },
     "execution_count": 30,
     "metadata": {},
     "output_type": "execute_result"
    }
   ],
   "source": [
    "col_names[:5]"
   ]
  },
  {
   "cell_type": "code",
   "execution_count": 31,
   "id": "f2258745-9465-4320-a0d1-31f6b0cd6b9c",
   "metadata": {},
   "outputs": [],
   "source": [
    "import numpy as np"
   ]
  },
  {
   "cell_type": "code",
   "execution_count": 32,
   "id": "87c75cc5-b656-44ef-af51-87ead4844f61",
   "metadata": {},
   "outputs": [],
   "source": [
    "row_names_temp = np.array(row_names) "
   ]
  },
  {
   "cell_type": "code",
   "execution_count": 33,
   "id": "104e3a90-a973-450f-96f4-cb010e44ae03",
   "metadata": {},
   "outputs": [
    {
     "data": {
      "text/plain": [
       "array(['chr1-10063-10327', 'chr1-180726-180979', 'chr1-181323-181566',\n",
       "       ..., 'chrY-26352947-26353241', 'chrY-26354174-26354520',\n",
       "       'chrY-26670358-26671639'], dtype='<U25')"
      ]
     },
     "execution_count": 33,
     "metadata": {},
     "output_type": "execute_result"
    }
   ],
   "source": [
    "row_names_temp"
   ]
  },
  {
   "cell_type": "code",
   "execution_count": 34,
   "id": "059838d2-6b55-4034-839c-0f5c10afee55",
   "metadata": {},
   "outputs": [],
   "source": [
    "col_names_temp = np.array(col_names)  # Replace with your actual column names\n"
   ]
  },
  {
   "cell_type": "code",
   "execution_count": 35,
   "id": "8335cca3-64ee-4491-b1bd-387cccdf27d2",
   "metadata": {},
   "outputs": [
    {
     "data": {
      "text/plain": [
       "array(['4_AAACAGCCAACACTTG-1', '4_AAACAGCCACCAAAGG-1',\n",
       "       '4_AAACAGCCATAAGTTC-1', ..., '150666_TTTGTGAAGTAAGAAC-1',\n",
       "       '150666_TTTGTGAAGTCTTGAA-1', '150666_TTTGTTGGTGATCAGC-1'],\n",
       "      dtype='<U25')"
      ]
     },
     "execution_count": 35,
     "metadata": {},
     "output_type": "execute_result"
    }
   ],
   "source": [
    "col_names_temp"
   ]
  },
  {
   "cell_type": "code",
   "execution_count": 36,
   "id": "f1be7c91-f4be-4147-8385-ad0a78926f1a",
   "metadata": {},
   "outputs": [],
   "source": [
    "# Check if the length of row_names and col_names matches the dimensions of the matrix\n",
    "assert len(row_names_temp) == peak_mat.shape[0], \"Number of row names must match the number of rows in the matrix\"\n",
    "assert len(col_names_temp) == peak_mat.shape[1], \"Number of column names must match the number of columns in the matrix\""
   ]
  },
  {
   "cell_type": "code",
   "execution_count": 37,
   "id": "f3273f7b-a19e-45cb-a82f-8e84489d556c",
   "metadata": {},
   "outputs": [],
   "source": [
    "# Assign row and column names\n",
    "peak_mat.row_names = row_names\n",
    "peak_mat.col_names = col_names"
   ]
  },
  {
   "cell_type": "code",
   "execution_count": 38,
   "id": "a17433ec-6fb7-41f7-b84d-783c7a6ca576",
   "metadata": {},
   "outputs": [
    {
     "data": {
      "text/plain": [
       "<304034x45549 sparse matrix of type '<class 'numpy.int64'>'\n",
       "\twith 238304892 stored elements in COOrdinate format>"
      ]
     },
     "execution_count": 38,
     "metadata": {},
     "output_type": "execute_result"
    }
   ],
   "source": [
    "peak_mat"
   ]
  },
  {
   "cell_type": "code",
   "execution_count": 39,
   "id": "bb07b11f-0996-4f75-80d8-f95f45fd7b8f",
   "metadata": {},
   "outputs": [],
   "source": [
    "matrix = peak_mat"
   ]
  },
  {
   "cell_type": "code",
   "execution_count": 40,
   "id": "bdd148bb-b814-4eb0-8d81-bb3fec57aece",
   "metadata": {},
   "outputs": [
    {
     "data": {
      "text/plain": [
       "array([    54,     55,     88, ..., 303817, 303848, 303859], dtype=int32)"
      ]
     },
     "execution_count": 40,
     "metadata": {},
     "output_type": "execute_result"
    }
   ],
   "source": [
    "peak_mat.row"
   ]
  },
  {
   "cell_type": "code",
   "execution_count": 41,
   "id": "35ffb4b4-5792-4eec-b9c9-4070c0f29589",
   "metadata": {},
   "outputs": [
    {
     "data": {
      "text/plain": [
       "<45549x19492 sparse matrix of type '<class 'numpy.float32'>'\n",
       "\twith 221608812 stored elements in Compressed Sparse Row format>"
      ]
     },
     "execution_count": 41,
     "metadata": {},
     "output_type": "execute_result"
    }
   ],
   "source": [
    "adata.X"
   ]
  },
  {
   "cell_type": "code",
   "execution_count": 42,
   "id": "1639ed8a-e4a7-452b-9892-c86f68aa2176",
   "metadata": {},
   "outputs": [
    {
     "data": {
      "text/plain": [
       "AnnData object with n_obs × n_vars = 45549 × 19492\n",
       "    obs: 'author_cell_type', 'age_group', 'donor_id', 'nCount_RNA', 'nFeature_RNA', 'nCount_ATAC', 'nFeature_ATAC', 'TSS_percentile', 'nucleosome_signal', 'percent_mt', 'assay_ontology_term_id', 'cell_type_ontology_term_id', 'development_stage_ontology_term_id', 'disease_ontology_term_id', 'self_reported_ethnicity_ontology_term_id', 'organism_ontology_term_id', 'sex_ontology_term_id', 'tissue_ontology_term_id', 'suspension_type', 'is_primary_data', 'batch', 'tissue_type', 'cell_type', 'assay', 'disease', 'organism', 'sex', 'tissue', 'self_reported_ethnicity', 'development_stage', 'observation_joinid'\n",
       "    var: 'feature_is_filtered', 'feature_name', 'feature_reference', 'feature_biotype', 'feature_length'\n",
       "    uns: 'batch_condition', 'citation', 'schema_reference', 'schema_version', 'title'\n",
       "    obsm: 'X_joint_wnn_umap', 'X_umap'"
      ]
     },
     "execution_count": 42,
     "metadata": {},
     "output_type": "execute_result"
    }
   ],
   "source": [
    "adata"
   ]
  },
  {
   "cell_type": "code",
   "execution_count": 43,
   "id": "af0de5b4-dd69-463e-bb8e-06f12a237c20",
   "metadata": {},
   "outputs": [
    {
     "data": {
      "text/html": [
       "<div>\n",
       "<style scoped>\n",
       "    .dataframe tbody tr th:only-of-type {\n",
       "        vertical-align: middle;\n",
       "    }\n",
       "\n",
       "    .dataframe tbody tr th {\n",
       "        vertical-align: top;\n",
       "    }\n",
       "\n",
       "    .dataframe thead th {\n",
       "        text-align: right;\n",
       "    }\n",
       "</style>\n",
       "<table border=\"1\" class=\"dataframe\">\n",
       "  <thead>\n",
       "    <tr style=\"text-align: right;\">\n",
       "      <th></th>\n",
       "      <th>feature_is_filtered</th>\n",
       "      <th>feature_name</th>\n",
       "      <th>feature_reference</th>\n",
       "      <th>feature_biotype</th>\n",
       "      <th>feature_length</th>\n",
       "    </tr>\n",
       "    <tr>\n",
       "      <th>gene_ids</th>\n",
       "      <th></th>\n",
       "      <th></th>\n",
       "      <th></th>\n",
       "      <th></th>\n",
       "      <th></th>\n",
       "    </tr>\n",
       "  </thead>\n",
       "  <tbody>\n",
       "    <tr>\n",
       "      <th>ENSG00000182378</th>\n",
       "      <td>False</td>\n",
       "      <td>PLCXD1</td>\n",
       "      <td>NCBITaxon:9606</td>\n",
       "      <td>gene</td>\n",
       "      <td>6065</td>\n",
       "    </tr>\n",
       "    <tr>\n",
       "      <th>ENSG00000178605</th>\n",
       "      <td>False</td>\n",
       "      <td>GTPBP6</td>\n",
       "      <td>NCBITaxon:9606</td>\n",
       "      <td>gene</td>\n",
       "      <td>2964</td>\n",
       "    </tr>\n",
       "    <tr>\n",
       "      <th>ENSG00000167393</th>\n",
       "      <td>False</td>\n",
       "      <td>PPP2R3B</td>\n",
       "      <td>NCBITaxon:9606</td>\n",
       "      <td>gene</td>\n",
       "      <td>9045</td>\n",
       "    </tr>\n",
       "    <tr>\n",
       "      <th>ENSG00000185960</th>\n",
       "      <td>False</td>\n",
       "      <td>SHOX</td>\n",
       "      <td>NCBITaxon:9606</td>\n",
       "      <td>gene</td>\n",
       "      <td>4384</td>\n",
       "    </tr>\n",
       "    <tr>\n",
       "      <th>ENSG00000205755</th>\n",
       "      <td>False</td>\n",
       "      <td>CRLF2</td>\n",
       "      <td>NCBITaxon:9606</td>\n",
       "      <td>gene</td>\n",
       "      <td>1983</td>\n",
       "    </tr>\n",
       "    <tr>\n",
       "      <th>...</th>\n",
       "      <td>...</td>\n",
       "      <td>...</td>\n",
       "      <td>...</td>\n",
       "      <td>...</td>\n",
       "      <td>...</td>\n",
       "    </tr>\n",
       "    <tr>\n",
       "      <th>ENSG00000160298</th>\n",
       "      <td>False</td>\n",
       "      <td>C21orf58</td>\n",
       "      <td>NCBITaxon:9606</td>\n",
       "      <td>gene</td>\n",
       "      <td>5315</td>\n",
       "    </tr>\n",
       "    <tr>\n",
       "      <th>ENSG00000160299</th>\n",
       "      <td>False</td>\n",
       "      <td>PCNT</td>\n",
       "      <td>NCBITaxon:9606</td>\n",
       "      <td>gene</td>\n",
       "      <td>11641</td>\n",
       "    </tr>\n",
       "    <tr>\n",
       "      <th>ENSG00000160305</th>\n",
       "      <td>False</td>\n",
       "      <td>DIP2A</td>\n",
       "      <td>NCBITaxon:9606</td>\n",
       "      <td>gene</td>\n",
       "      <td>13758</td>\n",
       "    </tr>\n",
       "    <tr>\n",
       "      <th>ENSG00000160307</th>\n",
       "      <td>False</td>\n",
       "      <td>S100B</td>\n",
       "      <td>NCBITaxon:9606</td>\n",
       "      <td>gene</td>\n",
       "      <td>1806</td>\n",
       "    </tr>\n",
       "    <tr>\n",
       "      <th>ENSG00000160310</th>\n",
       "      <td>False</td>\n",
       "      <td>PRMT2</td>\n",
       "      <td>NCBITaxon:9606</td>\n",
       "      <td>gene</td>\n",
       "      <td>7603</td>\n",
       "    </tr>\n",
       "  </tbody>\n",
       "</table>\n",
       "<p>19492 rows × 5 columns</p>\n",
       "</div>"
      ],
      "text/plain": [
       "                 feature_is_filtered feature_name feature_reference  \\\n",
       "gene_ids                                                              \n",
       "ENSG00000182378                False       PLCXD1    NCBITaxon:9606   \n",
       "ENSG00000178605                False       GTPBP6    NCBITaxon:9606   \n",
       "ENSG00000167393                False      PPP2R3B    NCBITaxon:9606   \n",
       "ENSG00000185960                False         SHOX    NCBITaxon:9606   \n",
       "ENSG00000205755                False        CRLF2    NCBITaxon:9606   \n",
       "...                              ...          ...               ...   \n",
       "ENSG00000160298                False     C21orf58    NCBITaxon:9606   \n",
       "ENSG00000160299                False         PCNT    NCBITaxon:9606   \n",
       "ENSG00000160305                False        DIP2A    NCBITaxon:9606   \n",
       "ENSG00000160307                False        S100B    NCBITaxon:9606   \n",
       "ENSG00000160310                False        PRMT2    NCBITaxon:9606   \n",
       "\n",
       "                feature_biotype feature_length  \n",
       "gene_ids                                        \n",
       "ENSG00000182378            gene           6065  \n",
       "ENSG00000178605            gene           2964  \n",
       "ENSG00000167393            gene           9045  \n",
       "ENSG00000185960            gene           4384  \n",
       "ENSG00000205755            gene           1983  \n",
       "...                         ...            ...  \n",
       "ENSG00000160298            gene           5315  \n",
       "ENSG00000160299            gene          11641  \n",
       "ENSG00000160305            gene          13758  \n",
       "ENSG00000160307            gene           1806  \n",
       "ENSG00000160310            gene           7603  \n",
       "\n",
       "[19492 rows x 5 columns]"
      ]
     },
     "execution_count": 43,
     "metadata": {},
     "output_type": "execute_result"
    }
   ],
   "source": [
    "adata.var"
   ]
  },
  {
   "cell_type": "code",
   "execution_count": 44,
   "id": "d864d017-2d2c-4b29-bbb2-c8a1ad415332",
   "metadata": {},
   "outputs": [
    {
     "data": {
      "text/html": [
       "<div>\n",
       "<style scoped>\n",
       "    .dataframe tbody tr th:only-of-type {\n",
       "        vertical-align: middle;\n",
       "    }\n",
       "\n",
       "    .dataframe tbody tr th {\n",
       "        vertical-align: top;\n",
       "    }\n",
       "\n",
       "    .dataframe thead th {\n",
       "        text-align: right;\n",
       "    }\n",
       "</style>\n",
       "<table border=\"1\" class=\"dataframe\">\n",
       "  <thead>\n",
       "    <tr style=\"text-align: right;\">\n",
       "      <th></th>\n",
       "      <th>author_cell_type</th>\n",
       "      <th>age_group</th>\n",
       "      <th>donor_id</th>\n",
       "      <th>nCount_RNA</th>\n",
       "      <th>nFeature_RNA</th>\n",
       "      <th>nCount_ATAC</th>\n",
       "      <th>nFeature_ATAC</th>\n",
       "      <th>TSS_percentile</th>\n",
       "      <th>nucleosome_signal</th>\n",
       "      <th>percent_mt</th>\n",
       "      <th>...</th>\n",
       "      <th>tissue_type</th>\n",
       "      <th>cell_type</th>\n",
       "      <th>assay</th>\n",
       "      <th>disease</th>\n",
       "      <th>organism</th>\n",
       "      <th>sex</th>\n",
       "      <th>tissue</th>\n",
       "      <th>self_reported_ethnicity</th>\n",
       "      <th>development_stage</th>\n",
       "      <th>observation_joinid</th>\n",
       "    </tr>\n",
       "    <tr>\n",
       "      <th>index</th>\n",
       "      <th></th>\n",
       "      <th></th>\n",
       "      <th></th>\n",
       "      <th></th>\n",
       "      <th></th>\n",
       "      <th></th>\n",
       "      <th></th>\n",
       "      <th></th>\n",
       "      <th></th>\n",
       "      <th></th>\n",
       "      <th></th>\n",
       "      <th></th>\n",
       "      <th></th>\n",
       "      <th></th>\n",
       "      <th></th>\n",
       "      <th></th>\n",
       "      <th></th>\n",
       "      <th></th>\n",
       "      <th></th>\n",
       "      <th></th>\n",
       "      <th></th>\n",
       "    </tr>\n",
       "  </thead>\n",
       "  <tbody>\n",
       "    <tr>\n",
       "      <th>4_AAACAGCCAACACTTG-1</th>\n",
       "      <td>EN-fetal-late</td>\n",
       "      <td>late fetal</td>\n",
       "      <td>LaFet1</td>\n",
       "      <td>3483</td>\n",
       "      <td>1685.0</td>\n",
       "      <td>4518.0</td>\n",
       "      <td>4024.0</td>\n",
       "      <td>0.31</td>\n",
       "      <td>1.103503</td>\n",
       "      <td>0.000000</td>\n",
       "      <td>...</td>\n",
       "      <td>tissue</td>\n",
       "      <td>glutamatergic neuron</td>\n",
       "      <td>10x multiome</td>\n",
       "      <td>normal</td>\n",
       "      <td>Homo sapiens</td>\n",
       "      <td>male</td>\n",
       "      <td>cortical plate</td>\n",
       "      <td>unknown</td>\n",
       "      <td>23rd week post-fertilization human stage</td>\n",
       "      <td>t&lt;2(H&gt;sg#K</td>\n",
       "    </tr>\n",
       "    <tr>\n",
       "      <th>4_AAACAGCCACCAAAGG-1</th>\n",
       "      <td>EN-fetal-late</td>\n",
       "      <td>late fetal</td>\n",
       "      <td>LaFet1</td>\n",
       "      <td>4863</td>\n",
       "      <td>2149.0</td>\n",
       "      <td>4641.0</td>\n",
       "      <td>4128.0</td>\n",
       "      <td>0.72</td>\n",
       "      <td>1.002789</td>\n",
       "      <td>0.000000</td>\n",
       "      <td>...</td>\n",
       "      <td>tissue</td>\n",
       "      <td>glutamatergic neuron</td>\n",
       "      <td>10x multiome</td>\n",
       "      <td>normal</td>\n",
       "      <td>Homo sapiens</td>\n",
       "      <td>male</td>\n",
       "      <td>cortical plate</td>\n",
       "      <td>unknown</td>\n",
       "      <td>23rd week post-fertilization human stage</td>\n",
       "      <td>HPU?^1i&amp;Yf</td>\n",
       "    </tr>\n",
       "    <tr>\n",
       "      <th>4_AAACAGCCATAAGTTC-1</th>\n",
       "      <td>EN-fetal-late</td>\n",
       "      <td>late fetal</td>\n",
       "      <td>LaFet1</td>\n",
       "      <td>11069</td>\n",
       "      <td>3707.0</td>\n",
       "      <td>12512.0</td>\n",
       "      <td>10169.0</td>\n",
       "      <td>0.51</td>\n",
       "      <td>1.054060</td>\n",
       "      <td>0.000000</td>\n",
       "      <td>...</td>\n",
       "      <td>tissue</td>\n",
       "      <td>glutamatergic neuron</td>\n",
       "      <td>10x multiome</td>\n",
       "      <td>normal</td>\n",
       "      <td>Homo sapiens</td>\n",
       "      <td>male</td>\n",
       "      <td>cortical plate</td>\n",
       "      <td>unknown</td>\n",
       "      <td>23rd week post-fertilization human stage</td>\n",
       "      <td>vKJ1WULiG^</td>\n",
       "    </tr>\n",
       "    <tr>\n",
       "      <th>4_AAACATGCATAGTCAT-1</th>\n",
       "      <td>EN-fetal-late</td>\n",
       "      <td>late fetal</td>\n",
       "      <td>LaFet1</td>\n",
       "      <td>7990</td>\n",
       "      <td>2919.0</td>\n",
       "      <td>5437.0</td>\n",
       "      <td>4844.0</td>\n",
       "      <td>0.47</td>\n",
       "      <td>1.141570</td>\n",
       "      <td>0.000000</td>\n",
       "      <td>...</td>\n",
       "      <td>tissue</td>\n",
       "      <td>glutamatergic neuron</td>\n",
       "      <td>10x multiome</td>\n",
       "      <td>normal</td>\n",
       "      <td>Homo sapiens</td>\n",
       "      <td>male</td>\n",
       "      <td>cortical plate</td>\n",
       "      <td>unknown</td>\n",
       "      <td>23rd week post-fertilization human stage</td>\n",
       "      <td>FE0&gt;j_!1Tq</td>\n",
       "    </tr>\n",
       "    <tr>\n",
       "      <th>4_AAACATGCATTGTCAG-1</th>\n",
       "      <td>EN-fetal-late</td>\n",
       "      <td>late fetal</td>\n",
       "      <td>LaFet1</td>\n",
       "      <td>6873</td>\n",
       "      <td>2652.0</td>\n",
       "      <td>5268.0</td>\n",
       "      <td>4626.0</td>\n",
       "      <td>0.48</td>\n",
       "      <td>1.137788</td>\n",
       "      <td>0.021418</td>\n",
       "      <td>...</td>\n",
       "      <td>tissue</td>\n",
       "      <td>glutamatergic neuron</td>\n",
       "      <td>10x multiome</td>\n",
       "      <td>normal</td>\n",
       "      <td>Homo sapiens</td>\n",
       "      <td>male</td>\n",
       "      <td>cortical plate</td>\n",
       "      <td>unknown</td>\n",
       "      <td>23rd week post-fertilization human stage</td>\n",
       "      <td>3sotId$RTP</td>\n",
       "    </tr>\n",
       "    <tr>\n",
       "      <th>...</th>\n",
       "      <td>...</td>\n",
       "      <td>...</td>\n",
       "      <td>...</td>\n",
       "      <td>...</td>\n",
       "      <td>...</td>\n",
       "      <td>...</td>\n",
       "      <td>...</td>\n",
       "      <td>...</td>\n",
       "      <td>...</td>\n",
       "      <td>...</td>\n",
       "      <td>...</td>\n",
       "      <td>...</td>\n",
       "      <td>...</td>\n",
       "      <td>...</td>\n",
       "      <td>...</td>\n",
       "      <td>...</td>\n",
       "      <td>...</td>\n",
       "      <td>...</td>\n",
       "      <td>...</td>\n",
       "      <td>...</td>\n",
       "      <td>...</td>\n",
       "    </tr>\n",
       "    <tr>\n",
       "      <th>150666_TTTGTGAAGACAACAG-1</th>\n",
       "      <td>Oligodendrocytes</td>\n",
       "      <td>adulthood</td>\n",
       "      <td>Adult1</td>\n",
       "      <td>926</td>\n",
       "      <td>545.0</td>\n",
       "      <td>6654.0</td>\n",
       "      <td>5913.0</td>\n",
       "      <td>0.34</td>\n",
       "      <td>1.029844</td>\n",
       "      <td>1.500938</td>\n",
       "      <td>...</td>\n",
       "      <td>tissue</td>\n",
       "      <td>oligodendrocyte</td>\n",
       "      <td>10x multiome</td>\n",
       "      <td>normal</td>\n",
       "      <td>Homo sapiens</td>\n",
       "      <td>female</td>\n",
       "      <td>dorsolateral prefrontal cortex</td>\n",
       "      <td>unknown</td>\n",
       "      <td>20-year-old human stage</td>\n",
       "      <td>=x`E$@Xdkm</td>\n",
       "    </tr>\n",
       "    <tr>\n",
       "      <th>150666_TTTGTGAAGGCTGTGC-1</th>\n",
       "      <td>OPC</td>\n",
       "      <td>adulthood</td>\n",
       "      <td>Adult1</td>\n",
       "      <td>1578</td>\n",
       "      <td>1023.0</td>\n",
       "      <td>5996.0</td>\n",
       "      <td>5311.0</td>\n",
       "      <td>0.03</td>\n",
       "      <td>0.712973</td>\n",
       "      <td>0.121433</td>\n",
       "      <td>...</td>\n",
       "      <td>tissue</td>\n",
       "      <td>oligodendrocyte precursor cell</td>\n",
       "      <td>10x multiome</td>\n",
       "      <td>normal</td>\n",
       "      <td>Homo sapiens</td>\n",
       "      <td>female</td>\n",
       "      <td>dorsolateral prefrontal cortex</td>\n",
       "      <td>unknown</td>\n",
       "      <td>20-year-old human stage</td>\n",
       "      <td>#bnI9b&gt;C&gt;}</td>\n",
       "    </tr>\n",
       "    <tr>\n",
       "      <th>150666_TTTGTGAAGTAAGAAC-1</th>\n",
       "      <td>Oligodendrocytes</td>\n",
       "      <td>adulthood</td>\n",
       "      <td>Adult1</td>\n",
       "      <td>352</td>\n",
       "      <td>303.0</td>\n",
       "      <td>4787.0</td>\n",
       "      <td>4226.0</td>\n",
       "      <td>0.44</td>\n",
       "      <td>1.304045</td>\n",
       "      <td>0.939702</td>\n",
       "      <td>...</td>\n",
       "      <td>tissue</td>\n",
       "      <td>oligodendrocyte</td>\n",
       "      <td>10x multiome</td>\n",
       "      <td>normal</td>\n",
       "      <td>Homo sapiens</td>\n",
       "      <td>female</td>\n",
       "      <td>dorsolateral prefrontal cortex</td>\n",
       "      <td>unknown</td>\n",
       "      <td>20-year-old human stage</td>\n",
       "      <td>mN;XZnza^;</td>\n",
       "    </tr>\n",
       "    <tr>\n",
       "      <th>150666_TTTGTGAAGTCTTGAA-1</th>\n",
       "      <td>Oligodendrocytes</td>\n",
       "      <td>adulthood</td>\n",
       "      <td>Adult1</td>\n",
       "      <td>1676</td>\n",
       "      <td>1028.0</td>\n",
       "      <td>3336.0</td>\n",
       "      <td>2957.0</td>\n",
       "      <td>0.25</td>\n",
       "      <td>0.715888</td>\n",
       "      <td>0.119617</td>\n",
       "      <td>...</td>\n",
       "      <td>tissue</td>\n",
       "      <td>oligodendrocyte</td>\n",
       "      <td>10x multiome</td>\n",
       "      <td>normal</td>\n",
       "      <td>Homo sapiens</td>\n",
       "      <td>female</td>\n",
       "      <td>dorsolateral prefrontal cortex</td>\n",
       "      <td>unknown</td>\n",
       "      <td>20-year-old human stage</td>\n",
       "      <td>k#NQ|;U)%U</td>\n",
       "    </tr>\n",
       "    <tr>\n",
       "      <th>150666_TTTGTTGGTGATCAGC-1</th>\n",
       "      <td>Oligodendrocytes</td>\n",
       "      <td>adulthood</td>\n",
       "      <td>Adult1</td>\n",
       "      <td>2619</td>\n",
       "      <td>1452.0</td>\n",
       "      <td>7260.0</td>\n",
       "      <td>6286.0</td>\n",
       "      <td>0.50</td>\n",
       "      <td>0.932277</td>\n",
       "      <td>0.644405</td>\n",
       "      <td>...</td>\n",
       "      <td>tissue</td>\n",
       "      <td>oligodendrocyte</td>\n",
       "      <td>10x multiome</td>\n",
       "      <td>normal</td>\n",
       "      <td>Homo sapiens</td>\n",
       "      <td>female</td>\n",
       "      <td>dorsolateral prefrontal cortex</td>\n",
       "      <td>unknown</td>\n",
       "      <td>20-year-old human stage</td>\n",
       "      <td>PNiP^&gt;UM6e</td>\n",
       "    </tr>\n",
       "  </tbody>\n",
       "</table>\n",
       "<p>45549 rows × 31 columns</p>\n",
       "</div>"
      ],
      "text/plain": [
       "                           author_cell_type   age_group donor_id  nCount_RNA  \\\n",
       "index                                                                          \n",
       "4_AAACAGCCAACACTTG-1          EN-fetal-late  late fetal   LaFet1        3483   \n",
       "4_AAACAGCCACCAAAGG-1          EN-fetal-late  late fetal   LaFet1        4863   \n",
       "4_AAACAGCCATAAGTTC-1          EN-fetal-late  late fetal   LaFet1       11069   \n",
       "4_AAACATGCATAGTCAT-1          EN-fetal-late  late fetal   LaFet1        7990   \n",
       "4_AAACATGCATTGTCAG-1          EN-fetal-late  late fetal   LaFet1        6873   \n",
       "...                                     ...         ...      ...         ...   \n",
       "150666_TTTGTGAAGACAACAG-1  Oligodendrocytes   adulthood   Adult1         926   \n",
       "150666_TTTGTGAAGGCTGTGC-1               OPC   adulthood   Adult1        1578   \n",
       "150666_TTTGTGAAGTAAGAAC-1  Oligodendrocytes   adulthood   Adult1         352   \n",
       "150666_TTTGTGAAGTCTTGAA-1  Oligodendrocytes   adulthood   Adult1        1676   \n",
       "150666_TTTGTTGGTGATCAGC-1  Oligodendrocytes   adulthood   Adult1        2619   \n",
       "\n",
       "                           nFeature_RNA  nCount_ATAC  nFeature_ATAC  \\\n",
       "index                                                                 \n",
       "4_AAACAGCCAACACTTG-1             1685.0       4518.0         4024.0   \n",
       "4_AAACAGCCACCAAAGG-1             2149.0       4641.0         4128.0   \n",
       "4_AAACAGCCATAAGTTC-1             3707.0      12512.0        10169.0   \n",
       "4_AAACATGCATAGTCAT-1             2919.0       5437.0         4844.0   \n",
       "4_AAACATGCATTGTCAG-1             2652.0       5268.0         4626.0   \n",
       "...                                 ...          ...            ...   \n",
       "150666_TTTGTGAAGACAACAG-1         545.0       6654.0         5913.0   \n",
       "150666_TTTGTGAAGGCTGTGC-1        1023.0       5996.0         5311.0   \n",
       "150666_TTTGTGAAGTAAGAAC-1         303.0       4787.0         4226.0   \n",
       "150666_TTTGTGAAGTCTTGAA-1        1028.0       3336.0         2957.0   \n",
       "150666_TTTGTTGGTGATCAGC-1        1452.0       7260.0         6286.0   \n",
       "\n",
       "                           TSS_percentile  nucleosome_signal  percent_mt  ...  \\\n",
       "index                                                                     ...   \n",
       "4_AAACAGCCAACACTTG-1                 0.31           1.103503    0.000000  ...   \n",
       "4_AAACAGCCACCAAAGG-1                 0.72           1.002789    0.000000  ...   \n",
       "4_AAACAGCCATAAGTTC-1                 0.51           1.054060    0.000000  ...   \n",
       "4_AAACATGCATAGTCAT-1                 0.47           1.141570    0.000000  ...   \n",
       "4_AAACATGCATTGTCAG-1                 0.48           1.137788    0.021418  ...   \n",
       "...                                   ...                ...         ...  ...   \n",
       "150666_TTTGTGAAGACAACAG-1            0.34           1.029844    1.500938  ...   \n",
       "150666_TTTGTGAAGGCTGTGC-1            0.03           0.712973    0.121433  ...   \n",
       "150666_TTTGTGAAGTAAGAAC-1            0.44           1.304045    0.939702  ...   \n",
       "150666_TTTGTGAAGTCTTGAA-1            0.25           0.715888    0.119617  ...   \n",
       "150666_TTTGTTGGTGATCAGC-1            0.50           0.932277    0.644405  ...   \n",
       "\n",
       "                          tissue_type                       cell_type  \\\n",
       "index                                                                   \n",
       "4_AAACAGCCAACACTTG-1           tissue            glutamatergic neuron   \n",
       "4_AAACAGCCACCAAAGG-1           tissue            glutamatergic neuron   \n",
       "4_AAACAGCCATAAGTTC-1           tissue            glutamatergic neuron   \n",
       "4_AAACATGCATAGTCAT-1           tissue            glutamatergic neuron   \n",
       "4_AAACATGCATTGTCAG-1           tissue            glutamatergic neuron   \n",
       "...                               ...                             ...   \n",
       "150666_TTTGTGAAGACAACAG-1      tissue                 oligodendrocyte   \n",
       "150666_TTTGTGAAGGCTGTGC-1      tissue  oligodendrocyte precursor cell   \n",
       "150666_TTTGTGAAGTAAGAAC-1      tissue                 oligodendrocyte   \n",
       "150666_TTTGTGAAGTCTTGAA-1      tissue                 oligodendrocyte   \n",
       "150666_TTTGTTGGTGATCAGC-1      tissue                 oligodendrocyte   \n",
       "\n",
       "                                  assay disease      organism     sex  \\\n",
       "index                                                                   \n",
       "4_AAACAGCCAACACTTG-1       10x multiome  normal  Homo sapiens    male   \n",
       "4_AAACAGCCACCAAAGG-1       10x multiome  normal  Homo sapiens    male   \n",
       "4_AAACAGCCATAAGTTC-1       10x multiome  normal  Homo sapiens    male   \n",
       "4_AAACATGCATAGTCAT-1       10x multiome  normal  Homo sapiens    male   \n",
       "4_AAACATGCATTGTCAG-1       10x multiome  normal  Homo sapiens    male   \n",
       "...                                 ...     ...           ...     ...   \n",
       "150666_TTTGTGAAGACAACAG-1  10x multiome  normal  Homo sapiens  female   \n",
       "150666_TTTGTGAAGGCTGTGC-1  10x multiome  normal  Homo sapiens  female   \n",
       "150666_TTTGTGAAGTAAGAAC-1  10x multiome  normal  Homo sapiens  female   \n",
       "150666_TTTGTGAAGTCTTGAA-1  10x multiome  normal  Homo sapiens  female   \n",
       "150666_TTTGTTGGTGATCAGC-1  10x multiome  normal  Homo sapiens  female   \n",
       "\n",
       "                                                   tissue  \\\n",
       "index                                                       \n",
       "4_AAACAGCCAACACTTG-1                       cortical plate   \n",
       "4_AAACAGCCACCAAAGG-1                       cortical plate   \n",
       "4_AAACAGCCATAAGTTC-1                       cortical plate   \n",
       "4_AAACATGCATAGTCAT-1                       cortical plate   \n",
       "4_AAACATGCATTGTCAG-1                       cortical plate   \n",
       "...                                                   ...   \n",
       "150666_TTTGTGAAGACAACAG-1  dorsolateral prefrontal cortex   \n",
       "150666_TTTGTGAAGGCTGTGC-1  dorsolateral prefrontal cortex   \n",
       "150666_TTTGTGAAGTAAGAAC-1  dorsolateral prefrontal cortex   \n",
       "150666_TTTGTGAAGTCTTGAA-1  dorsolateral prefrontal cortex   \n",
       "150666_TTTGTTGGTGATCAGC-1  dorsolateral prefrontal cortex   \n",
       "\n",
       "                          self_reported_ethnicity  \\\n",
       "index                                               \n",
       "4_AAACAGCCAACACTTG-1                      unknown   \n",
       "4_AAACAGCCACCAAAGG-1                      unknown   \n",
       "4_AAACAGCCATAAGTTC-1                      unknown   \n",
       "4_AAACATGCATAGTCAT-1                      unknown   \n",
       "4_AAACATGCATTGTCAG-1                      unknown   \n",
       "...                                           ...   \n",
       "150666_TTTGTGAAGACAACAG-1                 unknown   \n",
       "150666_TTTGTGAAGGCTGTGC-1                 unknown   \n",
       "150666_TTTGTGAAGTAAGAAC-1                 unknown   \n",
       "150666_TTTGTGAAGTCTTGAA-1                 unknown   \n",
       "150666_TTTGTTGGTGATCAGC-1                 unknown   \n",
       "\n",
       "                                                  development_stage  \\\n",
       "index                                                                 \n",
       "4_AAACAGCCAACACTTG-1       23rd week post-fertilization human stage   \n",
       "4_AAACAGCCACCAAAGG-1       23rd week post-fertilization human stage   \n",
       "4_AAACAGCCATAAGTTC-1       23rd week post-fertilization human stage   \n",
       "4_AAACATGCATAGTCAT-1       23rd week post-fertilization human stage   \n",
       "4_AAACATGCATTGTCAG-1       23rd week post-fertilization human stage   \n",
       "...                                                             ...   \n",
       "150666_TTTGTGAAGACAACAG-1                   20-year-old human stage   \n",
       "150666_TTTGTGAAGGCTGTGC-1                   20-year-old human stage   \n",
       "150666_TTTGTGAAGTAAGAAC-1                   20-year-old human stage   \n",
       "150666_TTTGTGAAGTCTTGAA-1                   20-year-old human stage   \n",
       "150666_TTTGTTGGTGATCAGC-1                   20-year-old human stage   \n",
       "\n",
       "                           observation_joinid  \n",
       "index                                          \n",
       "4_AAACAGCCAACACTTG-1               t<2(H>sg#K  \n",
       "4_AAACAGCCACCAAAGG-1               HPU?^1i&Yf  \n",
       "4_AAACAGCCATAAGTTC-1               vKJ1WULiG^  \n",
       "4_AAACATGCATAGTCAT-1               FE0>j_!1Tq  \n",
       "4_AAACATGCATTGTCAG-1               3sotId$RTP  \n",
       "...                                       ...  \n",
       "150666_TTTGTGAAGACAACAG-1          =x`E$@Xdkm  \n",
       "150666_TTTGTGAAGGCTGTGC-1          #bnI9b>C>}  \n",
       "150666_TTTGTGAAGTAAGAAC-1          mN;XZnza^;  \n",
       "150666_TTTGTGAAGTCTTGAA-1          k#NQ|;U)%U  \n",
       "150666_TTTGTTGGTGATCAGC-1          PNiP^>UM6e  \n",
       "\n",
       "[45549 rows x 31 columns]"
      ]
     },
     "execution_count": 44,
     "metadata": {},
     "output_type": "execute_result"
    }
   ],
   "source": [
    "adata.obs"
   ]
  },
  {
   "cell_type": "code",
   "execution_count": 45,
   "id": "4770174f-853f-41a0-b217-01de91296e8f",
   "metadata": {},
   "outputs": [
    {
     "data": {
      "text/plain": [
       "Index(['4_AAACAGCCAACACTTG-1', '4_AAACAGCCACCAAAGG-1', '4_AAACAGCCATAAGTTC-1',\n",
       "       '4_AAACATGCATAGTCAT-1', '4_AAACATGCATTGTCAG-1', '4_AAACATGCATTGTGAT-1',\n",
       "       '4_AAACCGCGTCACCTAT-1', '4_AAACCGCGTCAGGAAG-1', '4_AAACCGGCAAGCCACT-1',\n",
       "       '4_AAACCGGCACATTGCA-1',\n",
       "       ...\n",
       "       '150666_TTTGCATTCATGCTCC-1', '150666_TTTGCGACATTTAAGC-1',\n",
       "       '150666_TTTGGCTGTAATGGAA-1', '150666_TTTGGCTGTGACCTGG-1',\n",
       "       '150666_TTTGTCTAGGATGATG-1', '150666_TTTGTGAAGACAACAG-1',\n",
       "       '150666_TTTGTGAAGGCTGTGC-1', '150666_TTTGTGAAGTAAGAAC-1',\n",
       "       '150666_TTTGTGAAGTCTTGAA-1', '150666_TTTGTTGGTGATCAGC-1'],\n",
       "      dtype='object', name='index', length=45549)"
      ]
     },
     "execution_count": 45,
     "metadata": {},
     "output_type": "execute_result"
    }
   ],
   "source": [
    "adata.obs.index"
   ]
  },
  {
   "cell_type": "code",
   "execution_count": 46,
   "id": "c4cd8783-1d1f-4858-916e-6d14bc4179c5",
   "metadata": {},
   "outputs": [
    {
     "data": {
      "text/plain": [
       "<45549x19492 sparse matrix of type '<class 'numpy.float32'>'\n",
       "\twith 221608812 stored elements in Compressed Sparse Row format>"
      ]
     },
     "execution_count": 46,
     "metadata": {},
     "output_type": "execute_result"
    }
   ],
   "source": [
    "adata.X"
   ]
  },
  {
   "cell_type": "code",
   "execution_count": 47,
   "id": "75bc7a71-75d7-4894-af8f-f2c7d7a7eb00",
   "metadata": {},
   "outputs": [
    {
     "name": "stdout",
     "output_type": "stream",
     "text": [
      "adata.X is already occupied.\n",
      "Type of adata.X: <class 'scipy.sparse._csr.csr_matrix'>\n"
     ]
    }
   ],
   "source": [
    "if hasattr(adata, 'X') and adata.X is not None:\n",
    "    print(\"adata.X is already occupied.\")\n",
    "    print(\"Type of adata.X:\", type(adata.X))\n",
    "else:\n",
    "    print(\"adata.X is not occupied.\")\n"
   ]
  },
  {
   "cell_type": "code",
   "execution_count": 48,
   "id": "3572527f-f5b2-4895-9657-9683c27ba65d",
   "metadata": {},
   "outputs": [],
   "source": [
    "if peak_mat.shape[0] == adata.shape[0]:\n",
    "    print(\"TRUE\")"
   ]
  },
  {
   "cell_type": "code",
   "execution_count": 49,
   "id": "67100d61-70ca-44f9-87b9-271d3f842860",
   "metadata": {},
   "outputs": [
    {
     "data": {
      "text/plain": [
       "45549"
      ]
     },
     "execution_count": 49,
     "metadata": {},
     "output_type": "execute_result"
    }
   ],
   "source": [
    "adata.shape[0]"
   ]
  },
  {
   "cell_type": "code",
   "execution_count": 50,
   "id": "bb33726f-9c50-4a94-823b-6d5806f92739",
   "metadata": {},
   "outputs": [
    {
     "data": {
      "text/plain": [
       "19492"
      ]
     },
     "execution_count": 50,
     "metadata": {},
     "output_type": "execute_result"
    }
   ],
   "source": [
    "adata.shape[1]"
   ]
  },
  {
   "cell_type": "code",
   "execution_count": 51,
   "id": "00e925a5-97cb-4104-b276-7586f6367895",
   "metadata": {},
   "outputs": [
    {
     "data": {
      "text/plain": [
       "304034"
      ]
     },
     "execution_count": 51,
     "metadata": {},
     "output_type": "execute_result"
    }
   ],
   "source": [
    "peak_mat.shape[0]"
   ]
  },
  {
   "cell_type": "code",
   "execution_count": 52,
   "id": "b9d2e6c1-a40b-435b-9cdb-767a8d131f47",
   "metadata": {},
   "outputs": [
    {
     "data": {
      "text/plain": [
       "45549"
      ]
     },
     "execution_count": 52,
     "metadata": {},
     "output_type": "execute_result"
    }
   ],
   "source": [
    "peak_mat.shape[1]"
   ]
  },
  {
   "cell_type": "code",
   "execution_count": 53,
   "id": "391289c6-def5-45cb-9535-d0eb029807fa",
   "metadata": {},
   "outputs": [
    {
     "name": "stdout",
     "output_type": "stream",
     "text": [
      "TRUE\n"
     ]
    }
   ],
   "source": [
    "if all(adata.obs.index == peak_mat.col_names):\n",
    "    print(\"TRUE\")\n",
    "else:\n",
    "    print(\"FALSE\")"
   ]
  },
  {
   "cell_type": "code",
   "execution_count": 54,
   "id": "c5124b4d-8679-4ef2-818b-78b88751695f",
   "metadata": {},
   "outputs": [
    {
     "data": {
      "text/plain": [
       "True"
      ]
     },
     "execution_count": 54,
     "metadata": {},
     "output_type": "execute_result"
    }
   ],
   "source": [
    "all(adata.obs.index == peak_mat.col_names)"
   ]
  },
  {
   "cell_type": "code",
   "execution_count": 55,
   "id": "3d59653f-2faa-4362-a392-0b9fe25e58f1",
   "metadata": {},
   "outputs": [
    {
     "data": {
      "text/plain": [
       "AnnData object with n_obs × n_vars = 45549 × 19492\n",
       "    obs: 'author_cell_type', 'age_group', 'donor_id', 'nCount_RNA', 'nFeature_RNA', 'nCount_ATAC', 'nFeature_ATAC', 'TSS_percentile', 'nucleosome_signal', 'percent_mt', 'assay_ontology_term_id', 'cell_type_ontology_term_id', 'development_stage_ontology_term_id', 'disease_ontology_term_id', 'self_reported_ethnicity_ontology_term_id', 'organism_ontology_term_id', 'sex_ontology_term_id', 'tissue_ontology_term_id', 'suspension_type', 'is_primary_data', 'batch', 'tissue_type', 'cell_type', 'assay', 'disease', 'organism', 'sex', 'tissue', 'self_reported_ethnicity', 'development_stage', 'observation_joinid'\n",
       "    var: 'feature_is_filtered', 'feature_name', 'feature_reference', 'feature_biotype', 'feature_length'\n",
       "    uns: 'batch_condition', 'citation', 'schema_reference', 'schema_version', 'title'\n",
       "    obsm: 'X_joint_wnn_umap', 'X_umap'"
      ]
     },
     "execution_count": 55,
     "metadata": {},
     "output_type": "execute_result"
    }
   ],
   "source": [
    "adata"
   ]
  },
  {
   "cell_type": "code",
   "execution_count": 56,
   "id": "29fdb197-5fdf-436f-8a0d-d73d7a4fe102",
   "metadata": {},
   "outputs": [
    {
     "data": {
      "text/html": [
       "<div>\n",
       "<style scoped>\n",
       "    .dataframe tbody tr th:only-of-type {\n",
       "        vertical-align: middle;\n",
       "    }\n",
       "\n",
       "    .dataframe tbody tr th {\n",
       "        vertical-align: top;\n",
       "    }\n",
       "\n",
       "    .dataframe thead th {\n",
       "        text-align: right;\n",
       "    }\n",
       "</style>\n",
       "<table border=\"1\" class=\"dataframe\">\n",
       "  <thead>\n",
       "    <tr style=\"text-align: right;\">\n",
       "      <th></th>\n",
       "      <th>feature_is_filtered</th>\n",
       "      <th>feature_name</th>\n",
       "      <th>feature_reference</th>\n",
       "      <th>feature_biotype</th>\n",
       "      <th>feature_length</th>\n",
       "    </tr>\n",
       "    <tr>\n",
       "      <th>gene_ids</th>\n",
       "      <th></th>\n",
       "      <th></th>\n",
       "      <th></th>\n",
       "      <th></th>\n",
       "      <th></th>\n",
       "    </tr>\n",
       "  </thead>\n",
       "  <tbody>\n",
       "    <tr>\n",
       "      <th>ENSG00000182378</th>\n",
       "      <td>False</td>\n",
       "      <td>PLCXD1</td>\n",
       "      <td>NCBITaxon:9606</td>\n",
       "      <td>gene</td>\n",
       "      <td>6065</td>\n",
       "    </tr>\n",
       "    <tr>\n",
       "      <th>ENSG00000178605</th>\n",
       "      <td>False</td>\n",
       "      <td>GTPBP6</td>\n",
       "      <td>NCBITaxon:9606</td>\n",
       "      <td>gene</td>\n",
       "      <td>2964</td>\n",
       "    </tr>\n",
       "    <tr>\n",
       "      <th>ENSG00000167393</th>\n",
       "      <td>False</td>\n",
       "      <td>PPP2R3B</td>\n",
       "      <td>NCBITaxon:9606</td>\n",
       "      <td>gene</td>\n",
       "      <td>9045</td>\n",
       "    </tr>\n",
       "    <tr>\n",
       "      <th>ENSG00000185960</th>\n",
       "      <td>False</td>\n",
       "      <td>SHOX</td>\n",
       "      <td>NCBITaxon:9606</td>\n",
       "      <td>gene</td>\n",
       "      <td>4384</td>\n",
       "    </tr>\n",
       "    <tr>\n",
       "      <th>ENSG00000205755</th>\n",
       "      <td>False</td>\n",
       "      <td>CRLF2</td>\n",
       "      <td>NCBITaxon:9606</td>\n",
       "      <td>gene</td>\n",
       "      <td>1983</td>\n",
       "    </tr>\n",
       "    <tr>\n",
       "      <th>...</th>\n",
       "      <td>...</td>\n",
       "      <td>...</td>\n",
       "      <td>...</td>\n",
       "      <td>...</td>\n",
       "      <td>...</td>\n",
       "    </tr>\n",
       "    <tr>\n",
       "      <th>ENSG00000160298</th>\n",
       "      <td>False</td>\n",
       "      <td>C21orf58</td>\n",
       "      <td>NCBITaxon:9606</td>\n",
       "      <td>gene</td>\n",
       "      <td>5315</td>\n",
       "    </tr>\n",
       "    <tr>\n",
       "      <th>ENSG00000160299</th>\n",
       "      <td>False</td>\n",
       "      <td>PCNT</td>\n",
       "      <td>NCBITaxon:9606</td>\n",
       "      <td>gene</td>\n",
       "      <td>11641</td>\n",
       "    </tr>\n",
       "    <tr>\n",
       "      <th>ENSG00000160305</th>\n",
       "      <td>False</td>\n",
       "      <td>DIP2A</td>\n",
       "      <td>NCBITaxon:9606</td>\n",
       "      <td>gene</td>\n",
       "      <td>13758</td>\n",
       "    </tr>\n",
       "    <tr>\n",
       "      <th>ENSG00000160307</th>\n",
       "      <td>False</td>\n",
       "      <td>S100B</td>\n",
       "      <td>NCBITaxon:9606</td>\n",
       "      <td>gene</td>\n",
       "      <td>1806</td>\n",
       "    </tr>\n",
       "    <tr>\n",
       "      <th>ENSG00000160310</th>\n",
       "      <td>False</td>\n",
       "      <td>PRMT2</td>\n",
       "      <td>NCBITaxon:9606</td>\n",
       "      <td>gene</td>\n",
       "      <td>7603</td>\n",
       "    </tr>\n",
       "  </tbody>\n",
       "</table>\n",
       "<p>19492 rows × 5 columns</p>\n",
       "</div>"
      ],
      "text/plain": [
       "                 feature_is_filtered feature_name feature_reference  \\\n",
       "gene_ids                                                              \n",
       "ENSG00000182378                False       PLCXD1    NCBITaxon:9606   \n",
       "ENSG00000178605                False       GTPBP6    NCBITaxon:9606   \n",
       "ENSG00000167393                False      PPP2R3B    NCBITaxon:9606   \n",
       "ENSG00000185960                False         SHOX    NCBITaxon:9606   \n",
       "ENSG00000205755                False        CRLF2    NCBITaxon:9606   \n",
       "...                              ...          ...               ...   \n",
       "ENSG00000160298                False     C21orf58    NCBITaxon:9606   \n",
       "ENSG00000160299                False         PCNT    NCBITaxon:9606   \n",
       "ENSG00000160305                False        DIP2A    NCBITaxon:9606   \n",
       "ENSG00000160307                False        S100B    NCBITaxon:9606   \n",
       "ENSG00000160310                False        PRMT2    NCBITaxon:9606   \n",
       "\n",
       "                feature_biotype feature_length  \n",
       "gene_ids                                        \n",
       "ENSG00000182378            gene           6065  \n",
       "ENSG00000178605            gene           2964  \n",
       "ENSG00000167393            gene           9045  \n",
       "ENSG00000185960            gene           4384  \n",
       "ENSG00000205755            gene           1983  \n",
       "...                         ...            ...  \n",
       "ENSG00000160298            gene           5315  \n",
       "ENSG00000160299            gene          11641  \n",
       "ENSG00000160305            gene          13758  \n",
       "ENSG00000160307            gene           1806  \n",
       "ENSG00000160310            gene           7603  \n",
       "\n",
       "[19492 rows x 5 columns]"
      ]
     },
     "execution_count": 56,
     "metadata": {},
     "output_type": "execute_result"
    }
   ],
   "source": [
    "adata.var"
   ]
  },
  {
   "cell_type": "code",
   "execution_count": 57,
   "id": "45faed85-ad90-482c-922a-1400138cfe79",
   "metadata": {},
   "outputs": [
    {
     "data": {
      "text/plain": [
       "AxisArrays with keys: X_joint_wnn_umap, X_umap"
      ]
     },
     "execution_count": 57,
     "metadata": {},
     "output_type": "execute_result"
    }
   ],
   "source": [
    "adata.obsm"
   ]
  },
  {
   "cell_type": "code",
   "execution_count": 58,
   "id": "50f9867e-55d5-471b-ad55-cfefa320feec",
   "metadata": {},
   "outputs": [],
   "source": [
    "import anndata as ad"
   ]
  },
  {
   "cell_type": "code",
   "execution_count": 59,
   "id": "284e8a33-bee2-4ddb-ad3a-c14ae8db5675",
   "metadata": {},
   "outputs": [],
   "source": [
    "adata_peaks = ad.AnnData(peak_mat)"
   ]
  },
  {
   "cell_type": "code",
   "execution_count": 60,
   "id": "5e3712f1-ca9d-4949-988e-e3447950e5d3",
   "metadata": {},
   "outputs": [
    {
     "data": {
      "text/plain": [
       "AnnData object with n_obs × n_vars = 304034 × 45549"
      ]
     },
     "execution_count": 60,
     "metadata": {},
     "output_type": "execute_result"
    }
   ],
   "source": [
    "adata_peaks"
   ]
  },
  {
   "cell_type": "code",
   "execution_count": 61,
   "id": "e1bfec24-4063-4da5-a0b3-958e0ac16c6d",
   "metadata": {},
   "outputs": [
    {
     "data": {
      "text/plain": [
       "AnnData object with n_obs × n_vars = 45549 × 19492\n",
       "    obs: 'author_cell_type', 'age_group', 'donor_id', 'nCount_RNA', 'nFeature_RNA', 'nCount_ATAC', 'nFeature_ATAC', 'TSS_percentile', 'nucleosome_signal', 'percent_mt', 'assay_ontology_term_id', 'cell_type_ontology_term_id', 'development_stage_ontology_term_id', 'disease_ontology_term_id', 'self_reported_ethnicity_ontology_term_id', 'organism_ontology_term_id', 'sex_ontology_term_id', 'tissue_ontology_term_id', 'suspension_type', 'is_primary_data', 'batch', 'tissue_type', 'cell_type', 'assay', 'disease', 'organism', 'sex', 'tissue', 'self_reported_ethnicity', 'development_stage', 'observation_joinid'\n",
       "    var: 'feature_is_filtered', 'feature_name', 'feature_reference', 'feature_biotype', 'feature_length'\n",
       "    uns: 'batch_condition', 'citation', 'schema_reference', 'schema_version', 'title'\n",
       "    obsm: 'X_joint_wnn_umap', 'X_umap'"
      ]
     },
     "execution_count": 61,
     "metadata": {},
     "output_type": "execute_result"
    }
   ],
   "source": [
    "adata"
   ]
  },
  {
   "cell_type": "code",
   "execution_count": 62,
   "id": "13ef4add-bccc-4e98-98d4-a12fcbcedbe5",
   "metadata": {},
   "outputs": [],
   "source": [
    "transposed_peak_mat = peak_mat.transpose()"
   ]
  },
  {
   "cell_type": "code",
   "execution_count": 63,
   "id": "48baed77-6468-4eaa-a3af-be385e93dbd8",
   "metadata": {},
   "outputs": [
    {
     "data": {
      "text/plain": [
       "<45549x304034 sparse matrix of type '<class 'numpy.int64'>'\n",
       "\twith 238304892 stored elements in COOrdinate format>"
      ]
     },
     "execution_count": 63,
     "metadata": {},
     "output_type": "execute_result"
    }
   ],
   "source": [
    "transposed_peak_mat"
   ]
  },
  {
   "cell_type": "code",
   "execution_count": 64,
   "id": "99f5e361-c35e-42c1-a226-8162a716576b",
   "metadata": {},
   "outputs": [],
   "source": [
    "adata_peaks = ad.AnnData(transposed_peak_mat)"
   ]
  },
  {
   "cell_type": "code",
   "execution_count": 65,
   "id": "6b9528e8-5738-486f-834f-f3871fe9c2e6",
   "metadata": {},
   "outputs": [
    {
     "data": {
      "text/plain": [
       "AnnData object with n_obs × n_vars = 45549 × 304034"
      ]
     },
     "execution_count": 65,
     "metadata": {},
     "output_type": "execute_result"
    }
   ],
   "source": [
    "adata_peaks"
   ]
  },
  {
   "cell_type": "code",
   "execution_count": 66,
   "id": "d24bedea-c542-462a-bfff-0cfe33edc3f6",
   "metadata": {},
   "outputs": [
    {
     "data": {
      "text/plain": [
       "<45549x304034 sparse matrix of type '<class 'numpy.int64'>'\n",
       "\twith 238304892 stored elements in COOrdinate format>"
      ]
     },
     "execution_count": 66,
     "metadata": {},
     "output_type": "execute_result"
    }
   ],
   "source": [
    "adata_peaks.X"
   ]
  },
  {
   "cell_type": "code",
   "execution_count": 67,
   "id": "f529722a-1845-40c9-a093-1e70d4e023b8",
   "metadata": {},
   "outputs": [
    {
     "name": "stdout",
     "output_type": "stream",
     "text": [
      "Index(['4_AAACAGCCAACACTTG-1', '4_AAACAGCCACCAAAGG-1', '4_AAACAGCCATAAGTTC-1',\n",
      "       '4_AAACATGCATAGTCAT-1', '4_AAACATGCATTGTCAG-1', '4_AAACATGCATTGTGAT-1',\n",
      "       '4_AAACCGCGTCACCTAT-1', '4_AAACCGCGTCAGGAAG-1', '4_AAACCGGCAAGCCACT-1',\n",
      "       '4_AAACCGGCACATTGCA-1'],\n",
      "      dtype='object', name='index')\n"
     ]
    }
   ],
   "source": [
    "adata_peaks.obs_names = col_names\n",
    "adata_peaks.var_names = row_names\n",
    "print(adata.obs_names[:10])"
   ]
  },
  {
   "cell_type": "code",
   "execution_count": 68,
   "id": "739e9af5-ef88-43d4-bc23-5be6b8abd1c1",
   "metadata": {},
   "outputs": [
    {
     "data": {
      "text/plain": [
       "<45549x304034 sparse matrix of type '<class 'numpy.int64'>'\n",
       "\twith 238304892 stored elements in COOrdinate format>"
      ]
     },
     "execution_count": 68,
     "metadata": {},
     "output_type": "execute_result"
    }
   ],
   "source": [
    "adata_peaks.X"
   ]
  },
  {
   "cell_type": "code",
   "execution_count": 69,
   "id": "2e022511-634c-4566-b6df-d498940f32ed",
   "metadata": {},
   "outputs": [
    {
     "data": {
      "text/plain": [
       "Index(['chr1-10063-10327', 'chr1-180726-180979', 'chr1-181323-181566',\n",
       "       'chr1-190727-191632', 'chr1-777615-779293', 'chr1-779602-779948',\n",
       "       'chr1-816964-817422', 'chr1-817809-818264', 'chr1-818686-818982',\n",
       "       'chr1-826700-827679',\n",
       "       ...\n",
       "       'chrY-21421948-21422517', 'chrY-21439912-21440212',\n",
       "       'chrY-21440417-21440769', 'chrY-21481556-21481928',\n",
       "       'chrY-21602310-21602954', 'chrY-21821571-21822130',\n",
       "       'chrY-21829019-21829544', 'chrY-26352947-26353241',\n",
       "       'chrY-26354174-26354520', 'chrY-26670358-26671639'],\n",
       "      dtype='object', length=304034)"
      ]
     },
     "execution_count": 69,
     "metadata": {},
     "output_type": "execute_result"
    }
   ],
   "source": [
    "adata_peaks.var_names"
   ]
  },
  {
   "cell_type": "code",
   "execution_count": 70,
   "id": "6c0009f3-431a-4cfa-9148-ab9456f262a0",
   "metadata": {},
   "outputs": [
    {
     "data": {
      "text/plain": [
       "Index(['4_AAACAGCCAACACTTG-1', '4_AAACAGCCACCAAAGG-1', '4_AAACAGCCATAAGTTC-1',\n",
       "       '4_AAACATGCATAGTCAT-1', '4_AAACATGCATTGTCAG-1', '4_AAACATGCATTGTGAT-1',\n",
       "       '4_AAACCGCGTCACCTAT-1', '4_AAACCGCGTCAGGAAG-1', '4_AAACCGGCAAGCCACT-1',\n",
       "       '4_AAACCGGCACATTGCA-1',\n",
       "       ...\n",
       "       '150666_TTTGCATTCATGCTCC-1', '150666_TTTGCGACATTTAAGC-1',\n",
       "       '150666_TTTGGCTGTAATGGAA-1', '150666_TTTGGCTGTGACCTGG-1',\n",
       "       '150666_TTTGTCTAGGATGATG-1', '150666_TTTGTGAAGACAACAG-1',\n",
       "       '150666_TTTGTGAAGGCTGTGC-1', '150666_TTTGTGAAGTAAGAAC-1',\n",
       "       '150666_TTTGTGAAGTCTTGAA-1', '150666_TTTGTTGGTGATCAGC-1'],\n",
       "      dtype='object', length=45549)"
      ]
     },
     "execution_count": 70,
     "metadata": {},
     "output_type": "execute_result"
    }
   ],
   "source": [
    "adata_peaks.obs_names"
   ]
  },
  {
   "cell_type": "code",
   "execution_count": 71,
   "id": "deac2055-1313-4f22-9380-bf6e0af5b86e",
   "metadata": {},
   "outputs": [
    {
     "data": {
      "text/html": [
       "<div>\n",
       "<style scoped>\n",
       "    .dataframe tbody tr th:only-of-type {\n",
       "        vertical-align: middle;\n",
       "    }\n",
       "\n",
       "    .dataframe tbody tr th {\n",
       "        vertical-align: top;\n",
       "    }\n",
       "\n",
       "    .dataframe thead th {\n",
       "        text-align: right;\n",
       "    }\n",
       "</style>\n",
       "<table border=\"1\" class=\"dataframe\">\n",
       "  <thead>\n",
       "    <tr style=\"text-align: right;\">\n",
       "      <th></th>\n",
       "    </tr>\n",
       "  </thead>\n",
       "  <tbody>\n",
       "    <tr>\n",
       "      <th>4_AAACAGCCAACACTTG-1</th>\n",
       "    </tr>\n",
       "    <tr>\n",
       "      <th>4_AAACAGCCACCAAAGG-1</th>\n",
       "    </tr>\n",
       "    <tr>\n",
       "      <th>4_AAACAGCCATAAGTTC-1</th>\n",
       "    </tr>\n",
       "    <tr>\n",
       "      <th>4_AAACATGCATAGTCAT-1</th>\n",
       "    </tr>\n",
       "    <tr>\n",
       "      <th>4_AAACATGCATTGTCAG-1</th>\n",
       "    </tr>\n",
       "    <tr>\n",
       "      <th>...</th>\n",
       "    </tr>\n",
       "    <tr>\n",
       "      <th>150666_TTTGTGAAGACAACAG-1</th>\n",
       "    </tr>\n",
       "    <tr>\n",
       "      <th>150666_TTTGTGAAGGCTGTGC-1</th>\n",
       "    </tr>\n",
       "    <tr>\n",
       "      <th>150666_TTTGTGAAGTAAGAAC-1</th>\n",
       "    </tr>\n",
       "    <tr>\n",
       "      <th>150666_TTTGTGAAGTCTTGAA-1</th>\n",
       "    </tr>\n",
       "    <tr>\n",
       "      <th>150666_TTTGTTGGTGATCAGC-1</th>\n",
       "    </tr>\n",
       "  </tbody>\n",
       "</table>\n",
       "<p>45549 rows × 0 columns</p>\n",
       "</div>"
      ],
      "text/plain": [
       "Empty DataFrame\n",
       "Columns: []\n",
       "Index: [4_AAACAGCCAACACTTG-1, 4_AAACAGCCACCAAAGG-1, 4_AAACAGCCATAAGTTC-1, 4_AAACATGCATAGTCAT-1, 4_AAACATGCATTGTCAG-1, 4_AAACATGCATTGTGAT-1, 4_AAACCGCGTCACCTAT-1, 4_AAACCGCGTCAGGAAG-1, 4_AAACCGGCAAGCCACT-1, 4_AAACCGGCACATTGCA-1, 4_AAACGCGCAAATATCC-1, 4_AAACGCGCAACTAGAA-1, 4_AAACGCGCAGGCTAGA-1, 4_AAACGTACAAACTAAG-1, 4_AAACGTACAGTTTGTG-1, 4_AAACGTACATAATCGT-1, 4_AAAGCAAGTACTTCAC-1, 4_AAAGCAAGTCTAACCT-1, 4_AAAGCAAGTTCCTCCT-1, 4_AAAGCAAGTTTCCGGC-1, 4_AAAGCAAGTTTGCGAA-1, 4_AAAGCACCAATCCCTT-1, 4_AAAGCCCGTAACCACA-1, 4_AAAGCCCGTAGTAAGA-1, 4_AAAGCCCGTTTCGCGC-1, 4_AAAGCCGCAGTCTATG-1, 4_AAAGCGGGTGGCTTCC-1, 4_AAAGCGGGTGTTAGCA-1, 4_AAAGCTTGTTGCGTAA-1, 4_AAAGGACGTATTGTCC-1, 4_AAAGGACGTCATCAAG-1, 4_AAAGGACGTGATGGCT-1, 4_AAAGGCTCAAGGTATA-1, 4_AAAGGCTCAATAATGG-1, 4_AAAGGCTCACCAACCG-1, 4_AAAGGCTCACTATGGC-1, 4_AAAGGTTAGCCACAAT-1, 4_AAATCCGGTATTGGTG-1, 4_AAATCCGGTCAAAGAA-1, 4_AAATCCGGTTAACAGT-1, 4_AAATCCGGTTTGTGGA-1, 4_AACAAAGGTATTACCC-1, 4_AACAAGCCACAAAGAC-1, 4_AACAAGCCAGGTATTT-1, 4_AACAGATAGGACTAAG-1, 4_AACAGATAGGAGGGTT-1, 4_AACAGGATCATTGCGG-1, 4_AACAGGATCGGGACTC-1, 4_AACATAGCAAGGATTA-1, 4_AACATAGCATTAAGCT-1, 4_AACATCATCATTTGTC-1, 4_AACATCATCCTGATGG-1, 4_AACATTGTCAATCTCT-1, 4_AACATTGTCATCCTCA-1, 4_AACATTGTCATGCGTG-1, 4_AACATTGTCCCGCATT-1, 4_AACCCGCAGCGGGCAA-1, 4_AACCGCTCATAATTGC-1, 4_AACCGGCTCGATTTAG-1, 4_AACCGGCTCGCCTGTT-1, 4_AACCTAATCCGGTTGA-1, 4_AACCTCACACTTCATC-1, 4_AACCTCACATTGTTGG-1, 4_AACCTCCTCCTGGTGA-1, 4_AACCTTAAGAGCAAGC-1, 4_AACCTTGCACACCAAC-1, 4_AACCTTGCACGAACAG-1, 4_AACCTTGCACTGACCG-1, 4_AACCTTGCATTCCTGT-1, 4_AACGACAAGCACGTTG-1, 4_AACGACAAGCTATTGA-1, 4_AACGACAAGCTCCTTA-1, 4_AACGCCCAGCCTGATG-1, 4_AACGCCCAGTGCACGC-1, 4_AACGCTAGTGATCAGC-1, 4_AACGCTAGTGGTTAGC-1, 4_AACGGTAAGAAGGTGC-1, 4_AACGGTAAGAGAAGGG-1, 4_AACGGTAAGAGGAGTC-1, 4_AACGGTAAGCCACATG-1, 4_AACTAGTGTGACCTGG-1, 4_AACTCACAGCGAAGTA-1, 4_AACTCACAGTTGGCCA-1, 4_AACTGTTCATCACTTC-1, 4_AACTTAGTCGCTCACT-1, 4_AAGAATCAGACTAAGG-1, 4_AAGAATCAGCATCCAG-1, 4_AAGAATCAGGCTTAAC-1, 4_AAGAATCAGTGACCTG-1, 4_AAGACATAGCGCTCAA-1, 4_AAGACCAAGCTGTACG-1, 4_AAGCAAGTCCTGGTGA-1, 4_AAGCATGAGCTCGCTT-1, 4_AAGCCACGTGCTTAGA-1, 4_AAGCCACGTGGAGCAA-1, 4_AAGCCTCCAAACTCAT-1, 4_AAGCCTCCAGCATTAT-1, 4_AAGCCTCCAGGAACAT-1, 4_AAGCCTCCATAGCGAG-1, 4_AAGCCTGTCACCTGTC-1, ...]\n",
       "\n",
       "[45549 rows x 0 columns]"
      ]
     },
     "execution_count": 71,
     "metadata": {},
     "output_type": "execute_result"
    }
   ],
   "source": [
    "adata_peaks.obs"
   ]
  },
  {
   "cell_type": "code",
   "execution_count": 72,
   "id": "2cf5866d-8ca5-4119-8ec4-5b6bfa587ef6",
   "metadata": {},
   "outputs": [
    {
     "data": {
      "text/html": [
       "<div>\n",
       "<style scoped>\n",
       "    .dataframe tbody tr th:only-of-type {\n",
       "        vertical-align: middle;\n",
       "    }\n",
       "\n",
       "    .dataframe tbody tr th {\n",
       "        vertical-align: top;\n",
       "    }\n",
       "\n",
       "    .dataframe thead th {\n",
       "        text-align: right;\n",
       "    }\n",
       "</style>\n",
       "<table border=\"1\" class=\"dataframe\">\n",
       "  <thead>\n",
       "    <tr style=\"text-align: right;\">\n",
       "      <th></th>\n",
       "    </tr>\n",
       "  </thead>\n",
       "  <tbody>\n",
       "    <tr>\n",
       "      <th>chr1-10063-10327</th>\n",
       "    </tr>\n",
       "    <tr>\n",
       "      <th>chr1-180726-180979</th>\n",
       "    </tr>\n",
       "    <tr>\n",
       "      <th>chr1-181323-181566</th>\n",
       "    </tr>\n",
       "    <tr>\n",
       "      <th>chr1-190727-191632</th>\n",
       "    </tr>\n",
       "    <tr>\n",
       "      <th>chr1-777615-779293</th>\n",
       "    </tr>\n",
       "    <tr>\n",
       "      <th>...</th>\n",
       "    </tr>\n",
       "    <tr>\n",
       "      <th>chrY-21821571-21822130</th>\n",
       "    </tr>\n",
       "    <tr>\n",
       "      <th>chrY-21829019-21829544</th>\n",
       "    </tr>\n",
       "    <tr>\n",
       "      <th>chrY-26352947-26353241</th>\n",
       "    </tr>\n",
       "    <tr>\n",
       "      <th>chrY-26354174-26354520</th>\n",
       "    </tr>\n",
       "    <tr>\n",
       "      <th>chrY-26670358-26671639</th>\n",
       "    </tr>\n",
       "  </tbody>\n",
       "</table>\n",
       "<p>304034 rows × 0 columns</p>\n",
       "</div>"
      ],
      "text/plain": [
       "Empty DataFrame\n",
       "Columns: []\n",
       "Index: [chr1-10063-10327, chr1-180726-180979, chr1-181323-181566, chr1-190727-191632, chr1-777615-779293, chr1-779602-779948, chr1-816964-817422, chr1-817809-818264, chr1-818686-818982, chr1-826700-827679, chr1-844454-844654, chr1-849940-850149, chr1-850401-850628, chr1-858704-858939, chr1-869555-870357, chr1-897296-897496, chr1-903620-905783, chr1-909920-910800, chr1-920567-921363, chr1-923489-925747, chr1-939872-941062, chr1-941446-941985, chr1-942568-942831, chr1-944259-944608, chr1-958798-961357, chr1-966105-967158, chr1-975889-976570, chr1-980209-980971, chr1-983983-984768, chr1-998570-999363, chr1-999507-1001023, chr1-1001164-1002075, chr1-1005161-1005585, chr1-1012819-1014192, chr1-1019094-1020580, chr1-1021113-1021338, chr1-1024690-1025496, chr1-1026854-1027242, chr1-1031272-1034369, chr1-1034631-1034831, chr1-1038747-1039040, chr1-1040048-1041365, chr1-1058841-1059905, chr1-1063737-1064120, chr1-1068542-1069720, chr1-1071984-1072390, chr1-1074784-1075145, chr1-1079394-1080539, chr1-1081038-1081319, chr1-1087399-1087699, chr1-1099158-1099997, chr1-1102616-1102816, chr1-1107493-1107733, chr1-1110504-1111070, chr1-1115675-1116891, chr1-1121604-1122560, chr1-1135212-1136299, chr1-1136952-1137548, chr1-1137588-1137812, chr1-1144069-1144316, chr1-1144704-1144904, chr1-1145358-1145597, chr1-1156820-1157034, chr1-1157066-1158973, chr1-1173965-1174195, chr1-1183017-1183439, chr1-1184961-1185829, chr1-1200743-1201698, chr1-1208005-1208726, chr1-1212667-1213270, chr1-1217394-1218525, chr1-1231171-1232686, chr1-1250213-1250695, chr1-1259716-1260576, chr1-1265164-1265561, chr1-1273191-1275048, chr1-1281556-1281965, chr1-1290253-1290484, chr1-1290745-1293063, chr1-1293765-1294061, chr1-1298518-1299541, chr1-1304428-1305101, chr1-1307422-1309110, chr1-1318189-1318714, chr1-1324184-1325316, chr1-1333500-1333784, chr1-1346052-1346422, chr1-1348073-1348330, chr1-1348558-1349918, chr1-1352182-1352542, chr1-1355210-1355737, chr1-1357969-1358804, chr1-1359967-1360244, chr1-1360421-1360719, chr1-1362748-1363115, chr1-1371963-1372352, chr1-1374622-1376005, chr1-1384066-1384302, chr1-1398737-1400264, chr1-1406599-1408012, ...]\n",
       "\n",
       "[304034 rows x 0 columns]"
      ]
     },
     "execution_count": 72,
     "metadata": {},
     "output_type": "execute_result"
    }
   ],
   "source": [
    "adata_peaks.var"
   ]
  },
  {
   "cell_type": "code",
   "execution_count": 73,
   "id": "0e08a9f3-2167-4a9a-8f44-223f737d91da",
   "metadata": {},
   "outputs": [],
   "source": [
    "adata_peaks.obs = adata.obs"
   ]
  },
  {
   "cell_type": "code",
   "execution_count": 74,
   "id": "ff41d681-cb17-41ed-90ad-a8a4a436d4f4",
   "metadata": {},
   "outputs": [
    {
     "data": {
      "text/html": [
       "<div>\n",
       "<style scoped>\n",
       "    .dataframe tbody tr th:only-of-type {\n",
       "        vertical-align: middle;\n",
       "    }\n",
       "\n",
       "    .dataframe tbody tr th {\n",
       "        vertical-align: top;\n",
       "    }\n",
       "\n",
       "    .dataframe thead th {\n",
       "        text-align: right;\n",
       "    }\n",
       "</style>\n",
       "<table border=\"1\" class=\"dataframe\">\n",
       "  <thead>\n",
       "    <tr style=\"text-align: right;\">\n",
       "      <th></th>\n",
       "      <th>author_cell_type</th>\n",
       "      <th>age_group</th>\n",
       "      <th>donor_id</th>\n",
       "      <th>nCount_RNA</th>\n",
       "      <th>nFeature_RNA</th>\n",
       "      <th>nCount_ATAC</th>\n",
       "      <th>nFeature_ATAC</th>\n",
       "      <th>TSS_percentile</th>\n",
       "      <th>nucleosome_signal</th>\n",
       "      <th>percent_mt</th>\n",
       "      <th>...</th>\n",
       "      <th>tissue_type</th>\n",
       "      <th>cell_type</th>\n",
       "      <th>assay</th>\n",
       "      <th>disease</th>\n",
       "      <th>organism</th>\n",
       "      <th>sex</th>\n",
       "      <th>tissue</th>\n",
       "      <th>self_reported_ethnicity</th>\n",
       "      <th>development_stage</th>\n",
       "      <th>observation_joinid</th>\n",
       "    </tr>\n",
       "    <tr>\n",
       "      <th>index</th>\n",
       "      <th></th>\n",
       "      <th></th>\n",
       "      <th></th>\n",
       "      <th></th>\n",
       "      <th></th>\n",
       "      <th></th>\n",
       "      <th></th>\n",
       "      <th></th>\n",
       "      <th></th>\n",
       "      <th></th>\n",
       "      <th></th>\n",
       "      <th></th>\n",
       "      <th></th>\n",
       "      <th></th>\n",
       "      <th></th>\n",
       "      <th></th>\n",
       "      <th></th>\n",
       "      <th></th>\n",
       "      <th></th>\n",
       "      <th></th>\n",
       "      <th></th>\n",
       "    </tr>\n",
       "  </thead>\n",
       "  <tbody>\n",
       "    <tr>\n",
       "      <th>4_AAACAGCCAACACTTG-1</th>\n",
       "      <td>EN-fetal-late</td>\n",
       "      <td>late fetal</td>\n",
       "      <td>LaFet1</td>\n",
       "      <td>3483</td>\n",
       "      <td>1685.0</td>\n",
       "      <td>4518.0</td>\n",
       "      <td>4024.0</td>\n",
       "      <td>0.31</td>\n",
       "      <td>1.103503</td>\n",
       "      <td>0.000000</td>\n",
       "      <td>...</td>\n",
       "      <td>tissue</td>\n",
       "      <td>glutamatergic neuron</td>\n",
       "      <td>10x multiome</td>\n",
       "      <td>normal</td>\n",
       "      <td>Homo sapiens</td>\n",
       "      <td>male</td>\n",
       "      <td>cortical plate</td>\n",
       "      <td>unknown</td>\n",
       "      <td>23rd week post-fertilization human stage</td>\n",
       "      <td>t&lt;2(H&gt;sg#K</td>\n",
       "    </tr>\n",
       "    <tr>\n",
       "      <th>4_AAACAGCCACCAAAGG-1</th>\n",
       "      <td>EN-fetal-late</td>\n",
       "      <td>late fetal</td>\n",
       "      <td>LaFet1</td>\n",
       "      <td>4863</td>\n",
       "      <td>2149.0</td>\n",
       "      <td>4641.0</td>\n",
       "      <td>4128.0</td>\n",
       "      <td>0.72</td>\n",
       "      <td>1.002789</td>\n",
       "      <td>0.000000</td>\n",
       "      <td>...</td>\n",
       "      <td>tissue</td>\n",
       "      <td>glutamatergic neuron</td>\n",
       "      <td>10x multiome</td>\n",
       "      <td>normal</td>\n",
       "      <td>Homo sapiens</td>\n",
       "      <td>male</td>\n",
       "      <td>cortical plate</td>\n",
       "      <td>unknown</td>\n",
       "      <td>23rd week post-fertilization human stage</td>\n",
       "      <td>HPU?^1i&amp;Yf</td>\n",
       "    </tr>\n",
       "    <tr>\n",
       "      <th>4_AAACAGCCATAAGTTC-1</th>\n",
       "      <td>EN-fetal-late</td>\n",
       "      <td>late fetal</td>\n",
       "      <td>LaFet1</td>\n",
       "      <td>11069</td>\n",
       "      <td>3707.0</td>\n",
       "      <td>12512.0</td>\n",
       "      <td>10169.0</td>\n",
       "      <td>0.51</td>\n",
       "      <td>1.054060</td>\n",
       "      <td>0.000000</td>\n",
       "      <td>...</td>\n",
       "      <td>tissue</td>\n",
       "      <td>glutamatergic neuron</td>\n",
       "      <td>10x multiome</td>\n",
       "      <td>normal</td>\n",
       "      <td>Homo sapiens</td>\n",
       "      <td>male</td>\n",
       "      <td>cortical plate</td>\n",
       "      <td>unknown</td>\n",
       "      <td>23rd week post-fertilization human stage</td>\n",
       "      <td>vKJ1WULiG^</td>\n",
       "    </tr>\n",
       "    <tr>\n",
       "      <th>4_AAACATGCATAGTCAT-1</th>\n",
       "      <td>EN-fetal-late</td>\n",
       "      <td>late fetal</td>\n",
       "      <td>LaFet1</td>\n",
       "      <td>7990</td>\n",
       "      <td>2919.0</td>\n",
       "      <td>5437.0</td>\n",
       "      <td>4844.0</td>\n",
       "      <td>0.47</td>\n",
       "      <td>1.141570</td>\n",
       "      <td>0.000000</td>\n",
       "      <td>...</td>\n",
       "      <td>tissue</td>\n",
       "      <td>glutamatergic neuron</td>\n",
       "      <td>10x multiome</td>\n",
       "      <td>normal</td>\n",
       "      <td>Homo sapiens</td>\n",
       "      <td>male</td>\n",
       "      <td>cortical plate</td>\n",
       "      <td>unknown</td>\n",
       "      <td>23rd week post-fertilization human stage</td>\n",
       "      <td>FE0&gt;j_!1Tq</td>\n",
       "    </tr>\n",
       "    <tr>\n",
       "      <th>4_AAACATGCATTGTCAG-1</th>\n",
       "      <td>EN-fetal-late</td>\n",
       "      <td>late fetal</td>\n",
       "      <td>LaFet1</td>\n",
       "      <td>6873</td>\n",
       "      <td>2652.0</td>\n",
       "      <td>5268.0</td>\n",
       "      <td>4626.0</td>\n",
       "      <td>0.48</td>\n",
       "      <td>1.137788</td>\n",
       "      <td>0.021418</td>\n",
       "      <td>...</td>\n",
       "      <td>tissue</td>\n",
       "      <td>glutamatergic neuron</td>\n",
       "      <td>10x multiome</td>\n",
       "      <td>normal</td>\n",
       "      <td>Homo sapiens</td>\n",
       "      <td>male</td>\n",
       "      <td>cortical plate</td>\n",
       "      <td>unknown</td>\n",
       "      <td>23rd week post-fertilization human stage</td>\n",
       "      <td>3sotId$RTP</td>\n",
       "    </tr>\n",
       "    <tr>\n",
       "      <th>...</th>\n",
       "      <td>...</td>\n",
       "      <td>...</td>\n",
       "      <td>...</td>\n",
       "      <td>...</td>\n",
       "      <td>...</td>\n",
       "      <td>...</td>\n",
       "      <td>...</td>\n",
       "      <td>...</td>\n",
       "      <td>...</td>\n",
       "      <td>...</td>\n",
       "      <td>...</td>\n",
       "      <td>...</td>\n",
       "      <td>...</td>\n",
       "      <td>...</td>\n",
       "      <td>...</td>\n",
       "      <td>...</td>\n",
       "      <td>...</td>\n",
       "      <td>...</td>\n",
       "      <td>...</td>\n",
       "      <td>...</td>\n",
       "      <td>...</td>\n",
       "    </tr>\n",
       "    <tr>\n",
       "      <th>150666_TTTGTGAAGACAACAG-1</th>\n",
       "      <td>Oligodendrocytes</td>\n",
       "      <td>adulthood</td>\n",
       "      <td>Adult1</td>\n",
       "      <td>926</td>\n",
       "      <td>545.0</td>\n",
       "      <td>6654.0</td>\n",
       "      <td>5913.0</td>\n",
       "      <td>0.34</td>\n",
       "      <td>1.029844</td>\n",
       "      <td>1.500938</td>\n",
       "      <td>...</td>\n",
       "      <td>tissue</td>\n",
       "      <td>oligodendrocyte</td>\n",
       "      <td>10x multiome</td>\n",
       "      <td>normal</td>\n",
       "      <td>Homo sapiens</td>\n",
       "      <td>female</td>\n",
       "      <td>dorsolateral prefrontal cortex</td>\n",
       "      <td>unknown</td>\n",
       "      <td>20-year-old human stage</td>\n",
       "      <td>=x`E$@Xdkm</td>\n",
       "    </tr>\n",
       "    <tr>\n",
       "      <th>150666_TTTGTGAAGGCTGTGC-1</th>\n",
       "      <td>OPC</td>\n",
       "      <td>adulthood</td>\n",
       "      <td>Adult1</td>\n",
       "      <td>1578</td>\n",
       "      <td>1023.0</td>\n",
       "      <td>5996.0</td>\n",
       "      <td>5311.0</td>\n",
       "      <td>0.03</td>\n",
       "      <td>0.712973</td>\n",
       "      <td>0.121433</td>\n",
       "      <td>...</td>\n",
       "      <td>tissue</td>\n",
       "      <td>oligodendrocyte precursor cell</td>\n",
       "      <td>10x multiome</td>\n",
       "      <td>normal</td>\n",
       "      <td>Homo sapiens</td>\n",
       "      <td>female</td>\n",
       "      <td>dorsolateral prefrontal cortex</td>\n",
       "      <td>unknown</td>\n",
       "      <td>20-year-old human stage</td>\n",
       "      <td>#bnI9b&gt;C&gt;}</td>\n",
       "    </tr>\n",
       "    <tr>\n",
       "      <th>150666_TTTGTGAAGTAAGAAC-1</th>\n",
       "      <td>Oligodendrocytes</td>\n",
       "      <td>adulthood</td>\n",
       "      <td>Adult1</td>\n",
       "      <td>352</td>\n",
       "      <td>303.0</td>\n",
       "      <td>4787.0</td>\n",
       "      <td>4226.0</td>\n",
       "      <td>0.44</td>\n",
       "      <td>1.304045</td>\n",
       "      <td>0.939702</td>\n",
       "      <td>...</td>\n",
       "      <td>tissue</td>\n",
       "      <td>oligodendrocyte</td>\n",
       "      <td>10x multiome</td>\n",
       "      <td>normal</td>\n",
       "      <td>Homo sapiens</td>\n",
       "      <td>female</td>\n",
       "      <td>dorsolateral prefrontal cortex</td>\n",
       "      <td>unknown</td>\n",
       "      <td>20-year-old human stage</td>\n",
       "      <td>mN;XZnza^;</td>\n",
       "    </tr>\n",
       "    <tr>\n",
       "      <th>150666_TTTGTGAAGTCTTGAA-1</th>\n",
       "      <td>Oligodendrocytes</td>\n",
       "      <td>adulthood</td>\n",
       "      <td>Adult1</td>\n",
       "      <td>1676</td>\n",
       "      <td>1028.0</td>\n",
       "      <td>3336.0</td>\n",
       "      <td>2957.0</td>\n",
       "      <td>0.25</td>\n",
       "      <td>0.715888</td>\n",
       "      <td>0.119617</td>\n",
       "      <td>...</td>\n",
       "      <td>tissue</td>\n",
       "      <td>oligodendrocyte</td>\n",
       "      <td>10x multiome</td>\n",
       "      <td>normal</td>\n",
       "      <td>Homo sapiens</td>\n",
       "      <td>female</td>\n",
       "      <td>dorsolateral prefrontal cortex</td>\n",
       "      <td>unknown</td>\n",
       "      <td>20-year-old human stage</td>\n",
       "      <td>k#NQ|;U)%U</td>\n",
       "    </tr>\n",
       "    <tr>\n",
       "      <th>150666_TTTGTTGGTGATCAGC-1</th>\n",
       "      <td>Oligodendrocytes</td>\n",
       "      <td>adulthood</td>\n",
       "      <td>Adult1</td>\n",
       "      <td>2619</td>\n",
       "      <td>1452.0</td>\n",
       "      <td>7260.0</td>\n",
       "      <td>6286.0</td>\n",
       "      <td>0.50</td>\n",
       "      <td>0.932277</td>\n",
       "      <td>0.644405</td>\n",
       "      <td>...</td>\n",
       "      <td>tissue</td>\n",
       "      <td>oligodendrocyte</td>\n",
       "      <td>10x multiome</td>\n",
       "      <td>normal</td>\n",
       "      <td>Homo sapiens</td>\n",
       "      <td>female</td>\n",
       "      <td>dorsolateral prefrontal cortex</td>\n",
       "      <td>unknown</td>\n",
       "      <td>20-year-old human stage</td>\n",
       "      <td>PNiP^&gt;UM6e</td>\n",
       "    </tr>\n",
       "  </tbody>\n",
       "</table>\n",
       "<p>45549 rows × 31 columns</p>\n",
       "</div>"
      ],
      "text/plain": [
       "                           author_cell_type   age_group donor_id  nCount_RNA  \\\n",
       "index                                                                          \n",
       "4_AAACAGCCAACACTTG-1          EN-fetal-late  late fetal   LaFet1        3483   \n",
       "4_AAACAGCCACCAAAGG-1          EN-fetal-late  late fetal   LaFet1        4863   \n",
       "4_AAACAGCCATAAGTTC-1          EN-fetal-late  late fetal   LaFet1       11069   \n",
       "4_AAACATGCATAGTCAT-1          EN-fetal-late  late fetal   LaFet1        7990   \n",
       "4_AAACATGCATTGTCAG-1          EN-fetal-late  late fetal   LaFet1        6873   \n",
       "...                                     ...         ...      ...         ...   \n",
       "150666_TTTGTGAAGACAACAG-1  Oligodendrocytes   adulthood   Adult1         926   \n",
       "150666_TTTGTGAAGGCTGTGC-1               OPC   adulthood   Adult1        1578   \n",
       "150666_TTTGTGAAGTAAGAAC-1  Oligodendrocytes   adulthood   Adult1         352   \n",
       "150666_TTTGTGAAGTCTTGAA-1  Oligodendrocytes   adulthood   Adult1        1676   \n",
       "150666_TTTGTTGGTGATCAGC-1  Oligodendrocytes   adulthood   Adult1        2619   \n",
       "\n",
       "                           nFeature_RNA  nCount_ATAC  nFeature_ATAC  \\\n",
       "index                                                                 \n",
       "4_AAACAGCCAACACTTG-1             1685.0       4518.0         4024.0   \n",
       "4_AAACAGCCACCAAAGG-1             2149.0       4641.0         4128.0   \n",
       "4_AAACAGCCATAAGTTC-1             3707.0      12512.0        10169.0   \n",
       "4_AAACATGCATAGTCAT-1             2919.0       5437.0         4844.0   \n",
       "4_AAACATGCATTGTCAG-1             2652.0       5268.0         4626.0   \n",
       "...                                 ...          ...            ...   \n",
       "150666_TTTGTGAAGACAACAG-1         545.0       6654.0         5913.0   \n",
       "150666_TTTGTGAAGGCTGTGC-1        1023.0       5996.0         5311.0   \n",
       "150666_TTTGTGAAGTAAGAAC-1         303.0       4787.0         4226.0   \n",
       "150666_TTTGTGAAGTCTTGAA-1        1028.0       3336.0         2957.0   \n",
       "150666_TTTGTTGGTGATCAGC-1        1452.0       7260.0         6286.0   \n",
       "\n",
       "                           TSS_percentile  nucleosome_signal  percent_mt  ...  \\\n",
       "index                                                                     ...   \n",
       "4_AAACAGCCAACACTTG-1                 0.31           1.103503    0.000000  ...   \n",
       "4_AAACAGCCACCAAAGG-1                 0.72           1.002789    0.000000  ...   \n",
       "4_AAACAGCCATAAGTTC-1                 0.51           1.054060    0.000000  ...   \n",
       "4_AAACATGCATAGTCAT-1                 0.47           1.141570    0.000000  ...   \n",
       "4_AAACATGCATTGTCAG-1                 0.48           1.137788    0.021418  ...   \n",
       "...                                   ...                ...         ...  ...   \n",
       "150666_TTTGTGAAGACAACAG-1            0.34           1.029844    1.500938  ...   \n",
       "150666_TTTGTGAAGGCTGTGC-1            0.03           0.712973    0.121433  ...   \n",
       "150666_TTTGTGAAGTAAGAAC-1            0.44           1.304045    0.939702  ...   \n",
       "150666_TTTGTGAAGTCTTGAA-1            0.25           0.715888    0.119617  ...   \n",
       "150666_TTTGTTGGTGATCAGC-1            0.50           0.932277    0.644405  ...   \n",
       "\n",
       "                          tissue_type                       cell_type  \\\n",
       "index                                                                   \n",
       "4_AAACAGCCAACACTTG-1           tissue            glutamatergic neuron   \n",
       "4_AAACAGCCACCAAAGG-1           tissue            glutamatergic neuron   \n",
       "4_AAACAGCCATAAGTTC-1           tissue            glutamatergic neuron   \n",
       "4_AAACATGCATAGTCAT-1           tissue            glutamatergic neuron   \n",
       "4_AAACATGCATTGTCAG-1           tissue            glutamatergic neuron   \n",
       "...                               ...                             ...   \n",
       "150666_TTTGTGAAGACAACAG-1      tissue                 oligodendrocyte   \n",
       "150666_TTTGTGAAGGCTGTGC-1      tissue  oligodendrocyte precursor cell   \n",
       "150666_TTTGTGAAGTAAGAAC-1      tissue                 oligodendrocyte   \n",
       "150666_TTTGTGAAGTCTTGAA-1      tissue                 oligodendrocyte   \n",
       "150666_TTTGTTGGTGATCAGC-1      tissue                 oligodendrocyte   \n",
       "\n",
       "                                  assay disease      organism     sex  \\\n",
       "index                                                                   \n",
       "4_AAACAGCCAACACTTG-1       10x multiome  normal  Homo sapiens    male   \n",
       "4_AAACAGCCACCAAAGG-1       10x multiome  normal  Homo sapiens    male   \n",
       "4_AAACAGCCATAAGTTC-1       10x multiome  normal  Homo sapiens    male   \n",
       "4_AAACATGCATAGTCAT-1       10x multiome  normal  Homo sapiens    male   \n",
       "4_AAACATGCATTGTCAG-1       10x multiome  normal  Homo sapiens    male   \n",
       "...                                 ...     ...           ...     ...   \n",
       "150666_TTTGTGAAGACAACAG-1  10x multiome  normal  Homo sapiens  female   \n",
       "150666_TTTGTGAAGGCTGTGC-1  10x multiome  normal  Homo sapiens  female   \n",
       "150666_TTTGTGAAGTAAGAAC-1  10x multiome  normal  Homo sapiens  female   \n",
       "150666_TTTGTGAAGTCTTGAA-1  10x multiome  normal  Homo sapiens  female   \n",
       "150666_TTTGTTGGTGATCAGC-1  10x multiome  normal  Homo sapiens  female   \n",
       "\n",
       "                                                   tissue  \\\n",
       "index                                                       \n",
       "4_AAACAGCCAACACTTG-1                       cortical plate   \n",
       "4_AAACAGCCACCAAAGG-1                       cortical plate   \n",
       "4_AAACAGCCATAAGTTC-1                       cortical plate   \n",
       "4_AAACATGCATAGTCAT-1                       cortical plate   \n",
       "4_AAACATGCATTGTCAG-1                       cortical plate   \n",
       "...                                                   ...   \n",
       "150666_TTTGTGAAGACAACAG-1  dorsolateral prefrontal cortex   \n",
       "150666_TTTGTGAAGGCTGTGC-1  dorsolateral prefrontal cortex   \n",
       "150666_TTTGTGAAGTAAGAAC-1  dorsolateral prefrontal cortex   \n",
       "150666_TTTGTGAAGTCTTGAA-1  dorsolateral prefrontal cortex   \n",
       "150666_TTTGTTGGTGATCAGC-1  dorsolateral prefrontal cortex   \n",
       "\n",
       "                          self_reported_ethnicity  \\\n",
       "index                                               \n",
       "4_AAACAGCCAACACTTG-1                      unknown   \n",
       "4_AAACAGCCACCAAAGG-1                      unknown   \n",
       "4_AAACAGCCATAAGTTC-1                      unknown   \n",
       "4_AAACATGCATAGTCAT-1                      unknown   \n",
       "4_AAACATGCATTGTCAG-1                      unknown   \n",
       "...                                           ...   \n",
       "150666_TTTGTGAAGACAACAG-1                 unknown   \n",
       "150666_TTTGTGAAGGCTGTGC-1                 unknown   \n",
       "150666_TTTGTGAAGTAAGAAC-1                 unknown   \n",
       "150666_TTTGTGAAGTCTTGAA-1                 unknown   \n",
       "150666_TTTGTTGGTGATCAGC-1                 unknown   \n",
       "\n",
       "                                                  development_stage  \\\n",
       "index                                                                 \n",
       "4_AAACAGCCAACACTTG-1       23rd week post-fertilization human stage   \n",
       "4_AAACAGCCACCAAAGG-1       23rd week post-fertilization human stage   \n",
       "4_AAACAGCCATAAGTTC-1       23rd week post-fertilization human stage   \n",
       "4_AAACATGCATAGTCAT-1       23rd week post-fertilization human stage   \n",
       "4_AAACATGCATTGTCAG-1       23rd week post-fertilization human stage   \n",
       "...                                                             ...   \n",
       "150666_TTTGTGAAGACAACAG-1                   20-year-old human stage   \n",
       "150666_TTTGTGAAGGCTGTGC-1                   20-year-old human stage   \n",
       "150666_TTTGTGAAGTAAGAAC-1                   20-year-old human stage   \n",
       "150666_TTTGTGAAGTCTTGAA-1                   20-year-old human stage   \n",
       "150666_TTTGTTGGTGATCAGC-1                   20-year-old human stage   \n",
       "\n",
       "                           observation_joinid  \n",
       "index                                          \n",
       "4_AAACAGCCAACACTTG-1               t<2(H>sg#K  \n",
       "4_AAACAGCCACCAAAGG-1               HPU?^1i&Yf  \n",
       "4_AAACAGCCATAAGTTC-1               vKJ1WULiG^  \n",
       "4_AAACATGCATAGTCAT-1               FE0>j_!1Tq  \n",
       "4_AAACATGCATTGTCAG-1               3sotId$RTP  \n",
       "...                                       ...  \n",
       "150666_TTTGTGAAGACAACAG-1          =x`E$@Xdkm  \n",
       "150666_TTTGTGAAGGCTGTGC-1          #bnI9b>C>}  \n",
       "150666_TTTGTGAAGTAAGAAC-1          mN;XZnza^;  \n",
       "150666_TTTGTGAAGTCTTGAA-1          k#NQ|;U)%U  \n",
       "150666_TTTGTTGGTGATCAGC-1          PNiP^>UM6e  \n",
       "\n",
       "[45549 rows x 31 columns]"
      ]
     },
     "execution_count": 74,
     "metadata": {},
     "output_type": "execute_result"
    }
   ],
   "source": [
    "adata_peaks.obs"
   ]
  },
  {
   "cell_type": "code",
   "execution_count": 75,
   "id": "63cd3c9e-0261-4cd5-bc3d-2545bcb6642b",
   "metadata": {},
   "outputs": [],
   "source": [
    "adata_peaks.uns = adata.uns"
   ]
  },
  {
   "cell_type": "code",
   "execution_count": 76,
   "id": "267e1f01-522e-4d05-b62d-2942e735d463",
   "metadata": {},
   "outputs": [],
   "source": [
    "adata_peaks.obsm = adata.obsm"
   ]
  },
  {
   "cell_type": "code",
   "execution_count": 77,
   "id": "b8fb1f26-f02b-4754-b6f6-911b03e1afd6",
   "metadata": {},
   "outputs": [
    {
     "data": {
      "text/plain": [
       "AnnData object with n_obs × n_vars = 45549 × 304034\n",
       "    obs: 'author_cell_type', 'age_group', 'donor_id', 'nCount_RNA', 'nFeature_RNA', 'nCount_ATAC', 'nFeature_ATAC', 'TSS_percentile', 'nucleosome_signal', 'percent_mt', 'assay_ontology_term_id', 'cell_type_ontology_term_id', 'development_stage_ontology_term_id', 'disease_ontology_term_id', 'self_reported_ethnicity_ontology_term_id', 'organism_ontology_term_id', 'sex_ontology_term_id', 'tissue_ontology_term_id', 'suspension_type', 'is_primary_data', 'batch', 'tissue_type', 'cell_type', 'assay', 'disease', 'organism', 'sex', 'tissue', 'self_reported_ethnicity', 'development_stage', 'observation_joinid'\n",
       "    uns: 'batch_condition', 'citation', 'schema_reference', 'schema_version', 'title'\n",
       "    obsm: 'X_joint_wnn_umap', 'X_umap'"
      ]
     },
     "execution_count": 77,
     "metadata": {},
     "output_type": "execute_result"
    }
   ],
   "source": [
    "adata_peaks"
   ]
  },
  {
   "cell_type": "code",
   "execution_count": 78,
   "id": "469fa4ef-3c7b-4f1f-a4c0-963dde17caf7",
   "metadata": {},
   "outputs": [
    {
     "data": {
      "text/plain": [
       "AxisArrays with keys: "
      ]
     },
     "execution_count": 78,
     "metadata": {},
     "output_type": "execute_result"
    }
   ],
   "source": [
    "adata.varm"
   ]
  },
  {
   "cell_type": "code",
   "execution_count": 79,
   "id": "4e222f7b-5e43-44a1-8dc7-2a1f8731c9d4",
   "metadata": {},
   "outputs": [
    {
     "data": {
      "text/plain": [
       "AnnData object with n_obs × n_vars = 45549 × 19492\n",
       "    obs: 'author_cell_type', 'age_group', 'donor_id', 'nCount_RNA', 'nFeature_RNA', 'nCount_ATAC', 'nFeature_ATAC', 'TSS_percentile', 'nucleosome_signal', 'percent_mt', 'assay_ontology_term_id', 'cell_type_ontology_term_id', 'development_stage_ontology_term_id', 'disease_ontology_term_id', 'self_reported_ethnicity_ontology_term_id', 'organism_ontology_term_id', 'sex_ontology_term_id', 'tissue_ontology_term_id', 'suspension_type', 'is_primary_data', 'batch', 'tissue_type', 'cell_type', 'assay', 'disease', 'organism', 'sex', 'tissue', 'self_reported_ethnicity', 'development_stage', 'observation_joinid'\n",
       "    var: 'feature_is_filtered', 'feature_name', 'feature_reference', 'feature_biotype', 'feature_length'\n",
       "    uns: 'batch_condition', 'citation', 'schema_reference', 'schema_version', 'title'\n",
       "    obsm: 'X_joint_wnn_umap', 'X_umap'"
      ]
     },
     "execution_count": 79,
     "metadata": {},
     "output_type": "execute_result"
    }
   ],
   "source": [
    "adata"
   ]
  },
  {
   "cell_type": "code",
   "execution_count": 80,
   "id": "5cff417c-d75b-4151-ba10-71d8ee775b79",
   "metadata": {},
   "outputs": [
    {
     "data": {
      "text/plain": [
       "AnnData object with n_obs × n_vars = 45549 × 304034\n",
       "    obs: 'author_cell_type', 'age_group', 'donor_id', 'nCount_RNA', 'nFeature_RNA', 'nCount_ATAC', 'nFeature_ATAC', 'TSS_percentile', 'nucleosome_signal', 'percent_mt', 'assay_ontology_term_id', 'cell_type_ontology_term_id', 'development_stage_ontology_term_id', 'disease_ontology_term_id', 'self_reported_ethnicity_ontology_term_id', 'organism_ontology_term_id', 'sex_ontology_term_id', 'tissue_ontology_term_id', 'suspension_type', 'is_primary_data', 'batch', 'tissue_type', 'cell_type', 'assay', 'disease', 'organism', 'sex', 'tissue', 'self_reported_ethnicity', 'development_stage', 'observation_joinid'\n",
       "    uns: 'batch_condition', 'citation', 'schema_reference', 'schema_version', 'title'\n",
       "    obsm: 'X_joint_wnn_umap', 'X_umap'"
      ]
     },
     "execution_count": 80,
     "metadata": {},
     "output_type": "execute_result"
    }
   ],
   "source": [
    "adata_peaks"
   ]
  },
  {
   "cell_type": "code",
   "execution_count": 81,
   "id": "5901916f-94bf-49ee-9f3b-aa053d99d759",
   "metadata": {},
   "outputs": [
    {
     "data": {
      "text/plain": [
       "Index(['4_AAACAGCCAACACTTG-1', '4_AAACAGCCACCAAAGG-1', '4_AAACAGCCATAAGTTC-1',\n",
       "       '4_AAACATGCATAGTCAT-1', '4_AAACATGCATTGTCAG-1', '4_AAACATGCATTGTGAT-1',\n",
       "       '4_AAACCGCGTCACCTAT-1', '4_AAACCGCGTCAGGAAG-1', '4_AAACCGGCAAGCCACT-1',\n",
       "       '4_AAACCGGCACATTGCA-1',\n",
       "       ...\n",
       "       '150666_TTTGCATTCATGCTCC-1', '150666_TTTGCGACATTTAAGC-1',\n",
       "       '150666_TTTGGCTGTAATGGAA-1', '150666_TTTGGCTGTGACCTGG-1',\n",
       "       '150666_TTTGTCTAGGATGATG-1', '150666_TTTGTGAAGACAACAG-1',\n",
       "       '150666_TTTGTGAAGGCTGTGC-1', '150666_TTTGTGAAGTAAGAAC-1',\n",
       "       '150666_TTTGTGAAGTCTTGAA-1', '150666_TTTGTTGGTGATCAGC-1'],\n",
       "      dtype='object', name='index', length=45549)"
      ]
     },
     "execution_count": 81,
     "metadata": {},
     "output_type": "execute_result"
    }
   ],
   "source": [
    "adata.obs.index"
   ]
  },
  {
   "cell_type": "code",
   "execution_count": 82,
   "id": "3db22e29-d8cb-4799-9620-a96b2b264a4a",
   "metadata": {},
   "outputs": [
    {
     "data": {
      "text/plain": [
       "Index(['4_AAACAGCCAACACTTG-1', '4_AAACAGCCACCAAAGG-1', '4_AAACAGCCATAAGTTC-1',\n",
       "       '4_AAACATGCATAGTCAT-1', '4_AAACATGCATTGTCAG-1', '4_AAACATGCATTGTGAT-1',\n",
       "       '4_AAACCGCGTCACCTAT-1', '4_AAACCGCGTCAGGAAG-1', '4_AAACCGGCAAGCCACT-1',\n",
       "       '4_AAACCGGCACATTGCA-1',\n",
       "       ...\n",
       "       '150666_TTTGCATTCATGCTCC-1', '150666_TTTGCGACATTTAAGC-1',\n",
       "       '150666_TTTGGCTGTAATGGAA-1', '150666_TTTGGCTGTGACCTGG-1',\n",
       "       '150666_TTTGTCTAGGATGATG-1', '150666_TTTGTGAAGACAACAG-1',\n",
       "       '150666_TTTGTGAAGGCTGTGC-1', '150666_TTTGTGAAGTAAGAAC-1',\n",
       "       '150666_TTTGTGAAGTCTTGAA-1', '150666_TTTGTTGGTGATCAGC-1'],\n",
       "      dtype='object', name='index', length=45549)"
      ]
     },
     "execution_count": 82,
     "metadata": {},
     "output_type": "execute_result"
    }
   ],
   "source": [
    "adata_peaks.obs.index"
   ]
  },
  {
   "cell_type": "code",
   "execution_count": 83,
   "id": "5616e12d-5b7b-4a33-9ca1-b9c808e6469d",
   "metadata": {},
   "outputs": [
    {
     "data": {
      "text/plain": [
       "True"
      ]
     },
     "execution_count": 83,
     "metadata": {},
     "output_type": "execute_result"
    }
   ],
   "source": [
    "all(adata.obs.index == adata_peaks.obs.index)"
   ]
  },
  {
   "cell_type": "code",
   "execution_count": 84,
   "id": "eff88548-8aa7-4c16-8a16-2229973dc04d",
   "metadata": {},
   "outputs": [],
   "source": [
    "adata = adata_peaks"
   ]
  },
  {
   "cell_type": "code",
   "execution_count": 85,
   "id": "9a6c2ea4-e5d5-453e-938e-b4b1aa828604",
   "metadata": {},
   "outputs": [
    {
     "data": {
      "text/plain": [
       "AnnData object with n_obs × n_vars = 45549 × 304034\n",
       "    obs: 'author_cell_type', 'age_group', 'donor_id', 'nCount_RNA', 'nFeature_RNA', 'nCount_ATAC', 'nFeature_ATAC', 'TSS_percentile', 'nucleosome_signal', 'percent_mt', 'assay_ontology_term_id', 'cell_type_ontology_term_id', 'development_stage_ontology_term_id', 'disease_ontology_term_id', 'self_reported_ethnicity_ontology_term_id', 'organism_ontology_term_id', 'sex_ontology_term_id', 'tissue_ontology_term_id', 'suspension_type', 'is_primary_data', 'batch', 'tissue_type', 'cell_type', 'assay', 'disease', 'organism', 'sex', 'tissue', 'self_reported_ethnicity', 'development_stage', 'observation_joinid'\n",
       "    uns: 'batch_condition', 'citation', 'schema_reference', 'schema_version', 'title'\n",
       "    obsm: 'X_joint_wnn_umap', 'X_umap'"
      ]
     },
     "execution_count": 85,
     "metadata": {},
     "output_type": "execute_result"
    }
   ],
   "source": [
    "adata"
   ]
  },
  {
   "cell_type": "code",
   "execution_count": 86,
   "id": "1e339bfc-8fed-4365-80bf-911fb80d41ce",
   "metadata": {},
   "outputs": [
    {
     "data": {
      "text/plain": [
       "View of AnnData object with n_obs × n_vars = 5 × 5\n",
       "    obs: 'author_cell_type', 'age_group', 'donor_id', 'nCount_RNA', 'nFeature_RNA', 'nCount_ATAC', 'nFeature_ATAC', 'TSS_percentile', 'nucleosome_signal', 'percent_mt', 'assay_ontology_term_id', 'cell_type_ontology_term_id', 'development_stage_ontology_term_id', 'disease_ontology_term_id', 'self_reported_ethnicity_ontology_term_id', 'organism_ontology_term_id', 'sex_ontology_term_id', 'tissue_ontology_term_id', 'suspension_type', 'is_primary_data', 'batch', 'tissue_type', 'cell_type', 'assay', 'disease', 'organism', 'sex', 'tissue', 'self_reported_ethnicity', 'development_stage', 'observation_joinid'\n",
       "    uns: 'batch_condition', 'citation', 'schema_reference', 'schema_version', 'title'\n",
       "    obsm: 'X_joint_wnn_umap', 'X_umap'"
      ]
     },
     "execution_count": 86,
     "metadata": {},
     "output_type": "execute_result"
    }
   ],
   "source": [
    "adata[0:5, 0:5]"
   ]
  },
  {
   "cell_type": "code",
   "execution_count": 87,
   "id": "4fd69fdd-f2c6-486a-a5e1-cdf4b3d2e062",
   "metadata": {},
   "outputs": [],
   "source": [
    "csr_matrix = adata.X.tocoo().tocsr()"
   ]
  },
  {
   "cell_type": "code",
   "execution_count": 88,
   "id": "6f7500b8-a02c-4e6d-b17d-dfc16ed4f2cc",
   "metadata": {},
   "outputs": [
    {
     "data": {
      "text/plain": [
       "<45549x304034 sparse matrix of type '<class 'numpy.int64'>'\n",
       "\twith 238304892 stored elements in Compressed Sparse Row format>"
      ]
     },
     "execution_count": 88,
     "metadata": {},
     "output_type": "execute_result"
    }
   ],
   "source": [
    "csr_matrix"
   ]
  },
  {
   "cell_type": "code",
   "execution_count": 89,
   "id": "3f695eed-c836-4ca5-94e5-0730d2b125eb",
   "metadata": {},
   "outputs": [],
   "source": [
    "adata.X = csr_matrix"
   ]
  },
  {
   "cell_type": "code",
   "execution_count": 90,
   "id": "f816d09c-f5d1-4942-beff-391bfa3013cc",
   "metadata": {},
   "outputs": [
    {
     "data": {
      "text/plain": [
       "<45549x304034 sparse matrix of type '<class 'numpy.int64'>'\n",
       "\twith 238304892 stored elements in Compressed Sparse Row format>"
      ]
     },
     "execution_count": 90,
     "metadata": {},
     "output_type": "execute_result"
    }
   ],
   "source": [
    "adata.X"
   ]
  },
  {
   "cell_type": "code",
   "execution_count": 91,
   "id": "10c933d4-7c50-4a3f-93ab-da70a711bfb2",
   "metadata": {},
   "outputs": [
    {
     "data": {
      "text/plain": [
       "AnnData object with n_obs × n_vars = 45549 × 304034\n",
       "    obs: 'author_cell_type', 'age_group', 'donor_id', 'nCount_RNA', 'nFeature_RNA', 'nCount_ATAC', 'nFeature_ATAC', 'TSS_percentile', 'nucleosome_signal', 'percent_mt', 'assay_ontology_term_id', 'cell_type_ontology_term_id', 'development_stage_ontology_term_id', 'disease_ontology_term_id', 'self_reported_ethnicity_ontology_term_id', 'organism_ontology_term_id', 'sex_ontology_term_id', 'tissue_ontology_term_id', 'suspension_type', 'is_primary_data', 'batch', 'tissue_type', 'cell_type', 'assay', 'disease', 'organism', 'sex', 'tissue', 'self_reported_ethnicity', 'development_stage', 'observation_joinid'\n",
       "    uns: 'batch_condition', 'citation', 'schema_reference', 'schema_version', 'title'\n",
       "    obsm: 'X_joint_wnn_umap', 'X_umap'"
      ]
     },
     "execution_count": 91,
     "metadata": {},
     "output_type": "execute_result"
    }
   ],
   "source": [
    "adata"
   ]
  },
  {
   "cell_type": "code",
   "execution_count": 92,
   "id": "c284244c-523b-44b5-bdfd-bb369a522749",
   "metadata": {},
   "outputs": [
    {
     "data": {
      "text/plain": [
       "View of AnnData object with n_obs × n_vars = 5 × 5\n",
       "    obs: 'author_cell_type', 'age_group', 'donor_id', 'nCount_RNA', 'nFeature_RNA', 'nCount_ATAC', 'nFeature_ATAC', 'TSS_percentile', 'nucleosome_signal', 'percent_mt', 'assay_ontology_term_id', 'cell_type_ontology_term_id', 'development_stage_ontology_term_id', 'disease_ontology_term_id', 'self_reported_ethnicity_ontology_term_id', 'organism_ontology_term_id', 'sex_ontology_term_id', 'tissue_ontology_term_id', 'suspension_type', 'is_primary_data', 'batch', 'tissue_type', 'cell_type', 'assay', 'disease', 'organism', 'sex', 'tissue', 'self_reported_ethnicity', 'development_stage', 'observation_joinid'\n",
       "    uns: 'batch_condition', 'citation', 'schema_reference', 'schema_version', 'title'\n",
       "    obsm: 'X_joint_wnn_umap', 'X_umap'"
      ]
     },
     "execution_count": 92,
     "metadata": {},
     "output_type": "execute_result"
    }
   ],
   "source": [
    "adata[0:5, 0:5]"
   ]
  },
  {
   "cell_type": "code",
   "execution_count": 93,
   "id": "32201218-b61a-4df4-997c-1ef2955d886f",
   "metadata": {},
   "outputs": [
    {
     "name": "stdout",
     "output_type": "stream",
     "text": [
      "  (2, 2)\t1\n",
      "  (4, 4)\t1\n"
     ]
    }
   ],
   "source": [
    "print(adata.X[0:5, 0:5])"
   ]
  },
  {
   "cell_type": "code",
   "execution_count": 94,
   "id": "39454873-ab35-4545-80b6-0c3c451f78f7",
   "metadata": {},
   "outputs": [
    {
     "name": "stdout",
     "output_type": "stream",
     "text": [
      "[[0 0 0 0 0]\n",
      " [0 0 0 0 0]\n",
      " [0 0 1 0 0]\n",
      " [0 0 0 0 0]\n",
      " [0 0 0 0 1]]\n"
     ]
    }
   ],
   "source": [
    "print(adata.X[0:5, 0:5].toarray())"
   ]
  },
  {
   "cell_type": "code",
   "execution_count": 95,
   "id": "8cd03bd6-8630-4ddd-8c25-bca66f33e5fa",
   "metadata": {},
   "outputs": [
    {
     "name": "stdout",
     "output_type": "stream",
     "text": [
      "      chr1-10063-10327  chr1-180726-180979  chr1-181323-181566  chr1-190727-191632  chr1-777615-779293\n",
      "4_AAACAGCCAACACTTG-1  0  0  0  0  0\n",
      "4_AAACAGCCACCAAAGG-1  0  0  0  0  0\n",
      "4_AAACAGCCATAAGTTC-1  0  0  1  0  0\n",
      "4_AAACATGCATAGTCAT-1  0  0  0  0  0\n",
      "4_AAACATGCATTGTCAG-1  0  0  0  0  1\n"
     ]
    }
   ],
   "source": [
    "# Get the subset of the expression matrix\n",
    "subset_counts_matrix = adata.X[0:5, 0:5].toarray()\n",
    "\n",
    "# Retrieve row and column names\n",
    "row_names = adata.obs_names[0:5]\n",
    "col_names = adata.var_names[0:5]\n",
    "\n",
    "# Print the matrix with row and column names\n",
    "print(\"      \" + \"  \".join(col_names))\n",
    "for i, row in enumerate(subset_counts_matrix):\n",
    "    print(row_names[i] + \"  \" + \"  \".join(str(val) for val in row))\n"
   ]
  },
  {
   "cell_type": "code",
   "execution_count": 96,
   "id": "d14bbb07-059c-4192-8cf9-c8a0ea355b9d",
   "metadata": {},
   "outputs": [
    {
     "data": {
      "text/plain": [
       "'/fast/AG_Bunina/Yusuf/Project_Endothelial_and_Stroke/Datasets/Chromatin_and_Gene_Exp/2023_Zhu_et_al/Zhu_et_al_2023/Python_Project/ScenicPlus/Zhu_et_al'"
      ]
     },
     "execution_count": 96,
     "metadata": {},
     "output_type": "execute_result"
    }
   ],
   "source": [
    "pwd"
   ]
  },
  {
   "cell_type": "code",
   "execution_count": 97,
   "id": "3886f5d9-e200-49e7-aaf8-53678400e291",
   "metadata": {},
   "outputs": [],
   "source": [
    "adata.write('adata_ATAC_prepared.h5ad', compression=\"gzip\")"
   ]
  },
  {
   "cell_type": "code",
   "execution_count": 98,
   "id": "bca7e330-b6ba-40ea-83f7-705f8d6aa26f",
   "metadata": {},
   "outputs": [],
   "source": [
    "# I prepared the adata object for ATAC analysis and saved it."
   ]
  },
  {
   "cell_type": "code",
   "execution_count": 99,
   "id": "2a53977f-6bef-4bf7-b3b5-9a30915bffe2",
   "metadata": {},
   "outputs": [],
   "source": [
    "# I will follow pycistopic analysis pipeline using my peak counts raw data."
   ]
  },
  {
   "cell_type": "code",
   "execution_count": 100,
   "id": "b5275e4b-0277-453c-afd0-80983d2d99ec",
   "metadata": {},
   "outputs": [],
   "source": [
    "projDir = \"/fast/AG_Bunina/Yusuf/Project_Endothelial_and_Stroke/Datasets/Chromatin_and_Gene_Exp/2023_Zhu_et_al/Zhu_et_al_2023/Python_Project/ScenicPlus/Zhu_et_al/Zhu_et_al/data/\""
   ]
  },
  {
   "cell_type": "code",
   "execution_count": 101,
   "id": "d834133d-f741-489a-8523-7a0fce8a93ee",
   "metadata": {},
   "outputs": [],
   "source": [
    "# Output directory\n",
    "outDir = projDir + 'output/'\n",
    "import os\n",
    "if not os.path.exists(outDir):\n",
    "    os.makedirs(outDir)"
   ]
  },
  {
   "cell_type": "code",
   "execution_count": 102,
   "id": "b7b181cd-0af3-45d8-a0cf-8174a531005a",
   "metadata": {},
   "outputs": [],
   "source": [
    "# Temp dir\n",
    "tmpDir = '/fast/AG_Bunina/scratch'"
   ]
  },
  {
   "cell_type": "code",
   "execution_count": 103,
   "id": "833970b0-406d-4ee2-83a0-3cb122128e2f",
   "metadata": {},
   "outputs": [
    {
     "data": {
      "text/plain": [
       "AnnData object with n_obs × n_vars = 45549 × 304034\n",
       "    obs: 'author_cell_type', 'age_group', 'donor_id', 'nCount_RNA', 'nFeature_RNA', 'nCount_ATAC', 'nFeature_ATAC', 'TSS_percentile', 'nucleosome_signal', 'percent_mt', 'assay_ontology_term_id', 'cell_type_ontology_term_id', 'development_stage_ontology_term_id', 'disease_ontology_term_id', 'self_reported_ethnicity_ontology_term_id', 'organism_ontology_term_id', 'sex_ontology_term_id', 'tissue_ontology_term_id', 'suspension_type', 'is_primary_data', 'batch', 'tissue_type', 'cell_type', 'assay', 'disease', 'organism', 'sex', 'tissue', 'self_reported_ethnicity', 'development_stage', 'observation_joinid'\n",
       "    uns: 'batch_condition', 'citation', 'schema_reference', 'schema_version', 'title'\n",
       "    obsm: 'X_joint_wnn_umap', 'X_umap'"
      ]
     },
     "execution_count": 103,
     "metadata": {},
     "output_type": "execute_result"
    }
   ],
   "source": [
    "adata"
   ]
  },
  {
   "cell_type": "code",
   "execution_count": 104,
   "id": "78767e50-615a-4d45-b05d-eee0cd1b67f8",
   "metadata": {},
   "outputs": [],
   "source": [
    "cell_types = adata.obs[\"author_cell_type\"]"
   ]
  },
  {
   "cell_type": "code",
   "execution_count": 105,
   "id": "2bc47110-a92a-47f5-9b09-ffc1ef6d5147",
   "metadata": {},
   "outputs": [
    {
     "data": {
      "text/plain": [
       "index\n",
       "4_AAACAGCCAACACTTG-1            EN-fetal-late\n",
       "4_AAACAGCCACCAAAGG-1            EN-fetal-late\n",
       "4_AAACAGCCATAAGTTC-1            EN-fetal-late\n",
       "4_AAACATGCATAGTCAT-1            EN-fetal-late\n",
       "4_AAACATGCATTGTCAG-1            EN-fetal-late\n",
       "                                   ...       \n",
       "150666_TTTGTGAAGACAACAG-1    Oligodendrocytes\n",
       "150666_TTTGTGAAGGCTGTGC-1                 OPC\n",
       "150666_TTTGTGAAGTAAGAAC-1    Oligodendrocytes\n",
       "150666_TTTGTGAAGTCTTGAA-1    Oligodendrocytes\n",
       "150666_TTTGTTGGTGATCAGC-1    Oligodendrocytes\n",
       "Name: author_cell_type, Length: 45549, dtype: category\n",
       "Categories (15, object): ['Astrocytes', 'EN', 'EN-fetal-early', 'EN-fetal-late', ..., 'Oligodendrocytes', 'Pericytes', 'RG', 'VSMC']"
      ]
     },
     "execution_count": 105,
     "metadata": {},
     "output_type": "execute_result"
    }
   ],
   "source": [
    "cell_types"
   ]
  },
  {
   "cell_type": "code",
   "execution_count": 106,
   "id": "885fb72e-8920-46c4-9912-5691b105c9e4",
   "metadata": {},
   "outputs": [
    {
     "data": {
      "text/html": [
       "<div>\n",
       "<style scoped>\n",
       "    .dataframe tbody tr th:only-of-type {\n",
       "        vertical-align: middle;\n",
       "    }\n",
       "\n",
       "    .dataframe tbody tr th {\n",
       "        vertical-align: top;\n",
       "    }\n",
       "\n",
       "    .dataframe thead th {\n",
       "        text-align: right;\n",
       "    }\n",
       "</style>\n",
       "<table border=\"1\" class=\"dataframe\">\n",
       "  <thead>\n",
       "    <tr style=\"text-align: right;\">\n",
       "      <th></th>\n",
       "      <th>author_cell_type</th>\n",
       "      <th>age_group</th>\n",
       "      <th>donor_id</th>\n",
       "      <th>nCount_RNA</th>\n",
       "      <th>nFeature_RNA</th>\n",
       "      <th>nCount_ATAC</th>\n",
       "      <th>nFeature_ATAC</th>\n",
       "      <th>TSS_percentile</th>\n",
       "      <th>nucleosome_signal</th>\n",
       "      <th>percent_mt</th>\n",
       "      <th>...</th>\n",
       "      <th>tissue_type</th>\n",
       "      <th>cell_type</th>\n",
       "      <th>assay</th>\n",
       "      <th>disease</th>\n",
       "      <th>organism</th>\n",
       "      <th>sex</th>\n",
       "      <th>tissue</th>\n",
       "      <th>self_reported_ethnicity</th>\n",
       "      <th>development_stage</th>\n",
       "      <th>observation_joinid</th>\n",
       "    </tr>\n",
       "    <tr>\n",
       "      <th>index</th>\n",
       "      <th></th>\n",
       "      <th></th>\n",
       "      <th></th>\n",
       "      <th></th>\n",
       "      <th></th>\n",
       "      <th></th>\n",
       "      <th></th>\n",
       "      <th></th>\n",
       "      <th></th>\n",
       "      <th></th>\n",
       "      <th></th>\n",
       "      <th></th>\n",
       "      <th></th>\n",
       "      <th></th>\n",
       "      <th></th>\n",
       "      <th></th>\n",
       "      <th></th>\n",
       "      <th></th>\n",
       "      <th></th>\n",
       "      <th></th>\n",
       "      <th></th>\n",
       "    </tr>\n",
       "  </thead>\n",
       "  <tbody>\n",
       "    <tr>\n",
       "      <th>4_AAACAGCCAACACTTG-1</th>\n",
       "      <td>EN-fetal-late</td>\n",
       "      <td>late fetal</td>\n",
       "      <td>LaFet1</td>\n",
       "      <td>3483</td>\n",
       "      <td>1685.0</td>\n",
       "      <td>4518.0</td>\n",
       "      <td>4024.0</td>\n",
       "      <td>0.31</td>\n",
       "      <td>1.103503</td>\n",
       "      <td>0.000000</td>\n",
       "      <td>...</td>\n",
       "      <td>tissue</td>\n",
       "      <td>glutamatergic neuron</td>\n",
       "      <td>10x multiome</td>\n",
       "      <td>normal</td>\n",
       "      <td>Homo sapiens</td>\n",
       "      <td>male</td>\n",
       "      <td>cortical plate</td>\n",
       "      <td>unknown</td>\n",
       "      <td>23rd week post-fertilization human stage</td>\n",
       "      <td>t&lt;2(H&gt;sg#K</td>\n",
       "    </tr>\n",
       "    <tr>\n",
       "      <th>4_AAACAGCCACCAAAGG-1</th>\n",
       "      <td>EN-fetal-late</td>\n",
       "      <td>late fetal</td>\n",
       "      <td>LaFet1</td>\n",
       "      <td>4863</td>\n",
       "      <td>2149.0</td>\n",
       "      <td>4641.0</td>\n",
       "      <td>4128.0</td>\n",
       "      <td>0.72</td>\n",
       "      <td>1.002789</td>\n",
       "      <td>0.000000</td>\n",
       "      <td>...</td>\n",
       "      <td>tissue</td>\n",
       "      <td>glutamatergic neuron</td>\n",
       "      <td>10x multiome</td>\n",
       "      <td>normal</td>\n",
       "      <td>Homo sapiens</td>\n",
       "      <td>male</td>\n",
       "      <td>cortical plate</td>\n",
       "      <td>unknown</td>\n",
       "      <td>23rd week post-fertilization human stage</td>\n",
       "      <td>HPU?^1i&amp;Yf</td>\n",
       "    </tr>\n",
       "    <tr>\n",
       "      <th>4_AAACAGCCATAAGTTC-1</th>\n",
       "      <td>EN-fetal-late</td>\n",
       "      <td>late fetal</td>\n",
       "      <td>LaFet1</td>\n",
       "      <td>11069</td>\n",
       "      <td>3707.0</td>\n",
       "      <td>12512.0</td>\n",
       "      <td>10169.0</td>\n",
       "      <td>0.51</td>\n",
       "      <td>1.054060</td>\n",
       "      <td>0.000000</td>\n",
       "      <td>...</td>\n",
       "      <td>tissue</td>\n",
       "      <td>glutamatergic neuron</td>\n",
       "      <td>10x multiome</td>\n",
       "      <td>normal</td>\n",
       "      <td>Homo sapiens</td>\n",
       "      <td>male</td>\n",
       "      <td>cortical plate</td>\n",
       "      <td>unknown</td>\n",
       "      <td>23rd week post-fertilization human stage</td>\n",
       "      <td>vKJ1WULiG^</td>\n",
       "    </tr>\n",
       "    <tr>\n",
       "      <th>4_AAACATGCATAGTCAT-1</th>\n",
       "      <td>EN-fetal-late</td>\n",
       "      <td>late fetal</td>\n",
       "      <td>LaFet1</td>\n",
       "      <td>7990</td>\n",
       "      <td>2919.0</td>\n",
       "      <td>5437.0</td>\n",
       "      <td>4844.0</td>\n",
       "      <td>0.47</td>\n",
       "      <td>1.141570</td>\n",
       "      <td>0.000000</td>\n",
       "      <td>...</td>\n",
       "      <td>tissue</td>\n",
       "      <td>glutamatergic neuron</td>\n",
       "      <td>10x multiome</td>\n",
       "      <td>normal</td>\n",
       "      <td>Homo sapiens</td>\n",
       "      <td>male</td>\n",
       "      <td>cortical plate</td>\n",
       "      <td>unknown</td>\n",
       "      <td>23rd week post-fertilization human stage</td>\n",
       "      <td>FE0&gt;j_!1Tq</td>\n",
       "    </tr>\n",
       "    <tr>\n",
       "      <th>4_AAACATGCATTGTCAG-1</th>\n",
       "      <td>EN-fetal-late</td>\n",
       "      <td>late fetal</td>\n",
       "      <td>LaFet1</td>\n",
       "      <td>6873</td>\n",
       "      <td>2652.0</td>\n",
       "      <td>5268.0</td>\n",
       "      <td>4626.0</td>\n",
       "      <td>0.48</td>\n",
       "      <td>1.137788</td>\n",
       "      <td>0.021418</td>\n",
       "      <td>...</td>\n",
       "      <td>tissue</td>\n",
       "      <td>glutamatergic neuron</td>\n",
       "      <td>10x multiome</td>\n",
       "      <td>normal</td>\n",
       "      <td>Homo sapiens</td>\n",
       "      <td>male</td>\n",
       "      <td>cortical plate</td>\n",
       "      <td>unknown</td>\n",
       "      <td>23rd week post-fertilization human stage</td>\n",
       "      <td>3sotId$RTP</td>\n",
       "    </tr>\n",
       "    <tr>\n",
       "      <th>...</th>\n",
       "      <td>...</td>\n",
       "      <td>...</td>\n",
       "      <td>...</td>\n",
       "      <td>...</td>\n",
       "      <td>...</td>\n",
       "      <td>...</td>\n",
       "      <td>...</td>\n",
       "      <td>...</td>\n",
       "      <td>...</td>\n",
       "      <td>...</td>\n",
       "      <td>...</td>\n",
       "      <td>...</td>\n",
       "      <td>...</td>\n",
       "      <td>...</td>\n",
       "      <td>...</td>\n",
       "      <td>...</td>\n",
       "      <td>...</td>\n",
       "      <td>...</td>\n",
       "      <td>...</td>\n",
       "      <td>...</td>\n",
       "      <td>...</td>\n",
       "    </tr>\n",
       "    <tr>\n",
       "      <th>150666_TTTGTGAAGACAACAG-1</th>\n",
       "      <td>Oligodendrocytes</td>\n",
       "      <td>adulthood</td>\n",
       "      <td>Adult1</td>\n",
       "      <td>926</td>\n",
       "      <td>545.0</td>\n",
       "      <td>6654.0</td>\n",
       "      <td>5913.0</td>\n",
       "      <td>0.34</td>\n",
       "      <td>1.029844</td>\n",
       "      <td>1.500938</td>\n",
       "      <td>...</td>\n",
       "      <td>tissue</td>\n",
       "      <td>oligodendrocyte</td>\n",
       "      <td>10x multiome</td>\n",
       "      <td>normal</td>\n",
       "      <td>Homo sapiens</td>\n",
       "      <td>female</td>\n",
       "      <td>dorsolateral prefrontal cortex</td>\n",
       "      <td>unknown</td>\n",
       "      <td>20-year-old human stage</td>\n",
       "      <td>=x`E$@Xdkm</td>\n",
       "    </tr>\n",
       "    <tr>\n",
       "      <th>150666_TTTGTGAAGGCTGTGC-1</th>\n",
       "      <td>OPC</td>\n",
       "      <td>adulthood</td>\n",
       "      <td>Adult1</td>\n",
       "      <td>1578</td>\n",
       "      <td>1023.0</td>\n",
       "      <td>5996.0</td>\n",
       "      <td>5311.0</td>\n",
       "      <td>0.03</td>\n",
       "      <td>0.712973</td>\n",
       "      <td>0.121433</td>\n",
       "      <td>...</td>\n",
       "      <td>tissue</td>\n",
       "      <td>oligodendrocyte precursor cell</td>\n",
       "      <td>10x multiome</td>\n",
       "      <td>normal</td>\n",
       "      <td>Homo sapiens</td>\n",
       "      <td>female</td>\n",
       "      <td>dorsolateral prefrontal cortex</td>\n",
       "      <td>unknown</td>\n",
       "      <td>20-year-old human stage</td>\n",
       "      <td>#bnI9b&gt;C&gt;}</td>\n",
       "    </tr>\n",
       "    <tr>\n",
       "      <th>150666_TTTGTGAAGTAAGAAC-1</th>\n",
       "      <td>Oligodendrocytes</td>\n",
       "      <td>adulthood</td>\n",
       "      <td>Adult1</td>\n",
       "      <td>352</td>\n",
       "      <td>303.0</td>\n",
       "      <td>4787.0</td>\n",
       "      <td>4226.0</td>\n",
       "      <td>0.44</td>\n",
       "      <td>1.304045</td>\n",
       "      <td>0.939702</td>\n",
       "      <td>...</td>\n",
       "      <td>tissue</td>\n",
       "      <td>oligodendrocyte</td>\n",
       "      <td>10x multiome</td>\n",
       "      <td>normal</td>\n",
       "      <td>Homo sapiens</td>\n",
       "      <td>female</td>\n",
       "      <td>dorsolateral prefrontal cortex</td>\n",
       "      <td>unknown</td>\n",
       "      <td>20-year-old human stage</td>\n",
       "      <td>mN;XZnza^;</td>\n",
       "    </tr>\n",
       "    <tr>\n",
       "      <th>150666_TTTGTGAAGTCTTGAA-1</th>\n",
       "      <td>Oligodendrocytes</td>\n",
       "      <td>adulthood</td>\n",
       "      <td>Adult1</td>\n",
       "      <td>1676</td>\n",
       "      <td>1028.0</td>\n",
       "      <td>3336.0</td>\n",
       "      <td>2957.0</td>\n",
       "      <td>0.25</td>\n",
       "      <td>0.715888</td>\n",
       "      <td>0.119617</td>\n",
       "      <td>...</td>\n",
       "      <td>tissue</td>\n",
       "      <td>oligodendrocyte</td>\n",
       "      <td>10x multiome</td>\n",
       "      <td>normal</td>\n",
       "      <td>Homo sapiens</td>\n",
       "      <td>female</td>\n",
       "      <td>dorsolateral prefrontal cortex</td>\n",
       "      <td>unknown</td>\n",
       "      <td>20-year-old human stage</td>\n",
       "      <td>k#NQ|;U)%U</td>\n",
       "    </tr>\n",
       "    <tr>\n",
       "      <th>150666_TTTGTTGGTGATCAGC-1</th>\n",
       "      <td>Oligodendrocytes</td>\n",
       "      <td>adulthood</td>\n",
       "      <td>Adult1</td>\n",
       "      <td>2619</td>\n",
       "      <td>1452.0</td>\n",
       "      <td>7260.0</td>\n",
       "      <td>6286.0</td>\n",
       "      <td>0.50</td>\n",
       "      <td>0.932277</td>\n",
       "      <td>0.644405</td>\n",
       "      <td>...</td>\n",
       "      <td>tissue</td>\n",
       "      <td>oligodendrocyte</td>\n",
       "      <td>10x multiome</td>\n",
       "      <td>normal</td>\n",
       "      <td>Homo sapiens</td>\n",
       "      <td>female</td>\n",
       "      <td>dorsolateral prefrontal cortex</td>\n",
       "      <td>unknown</td>\n",
       "      <td>20-year-old human stage</td>\n",
       "      <td>PNiP^&gt;UM6e</td>\n",
       "    </tr>\n",
       "  </tbody>\n",
       "</table>\n",
       "<p>45549 rows × 31 columns</p>\n",
       "</div>"
      ],
      "text/plain": [
       "                           author_cell_type   age_group donor_id  nCount_RNA  \\\n",
       "index                                                                          \n",
       "4_AAACAGCCAACACTTG-1          EN-fetal-late  late fetal   LaFet1        3483   \n",
       "4_AAACAGCCACCAAAGG-1          EN-fetal-late  late fetal   LaFet1        4863   \n",
       "4_AAACAGCCATAAGTTC-1          EN-fetal-late  late fetal   LaFet1       11069   \n",
       "4_AAACATGCATAGTCAT-1          EN-fetal-late  late fetal   LaFet1        7990   \n",
       "4_AAACATGCATTGTCAG-1          EN-fetal-late  late fetal   LaFet1        6873   \n",
       "...                                     ...         ...      ...         ...   \n",
       "150666_TTTGTGAAGACAACAG-1  Oligodendrocytes   adulthood   Adult1         926   \n",
       "150666_TTTGTGAAGGCTGTGC-1               OPC   adulthood   Adult1        1578   \n",
       "150666_TTTGTGAAGTAAGAAC-1  Oligodendrocytes   adulthood   Adult1         352   \n",
       "150666_TTTGTGAAGTCTTGAA-1  Oligodendrocytes   adulthood   Adult1        1676   \n",
       "150666_TTTGTTGGTGATCAGC-1  Oligodendrocytes   adulthood   Adult1        2619   \n",
       "\n",
       "                           nFeature_RNA  nCount_ATAC  nFeature_ATAC  \\\n",
       "index                                                                 \n",
       "4_AAACAGCCAACACTTG-1             1685.0       4518.0         4024.0   \n",
       "4_AAACAGCCACCAAAGG-1             2149.0       4641.0         4128.0   \n",
       "4_AAACAGCCATAAGTTC-1             3707.0      12512.0        10169.0   \n",
       "4_AAACATGCATAGTCAT-1             2919.0       5437.0         4844.0   \n",
       "4_AAACATGCATTGTCAG-1             2652.0       5268.0         4626.0   \n",
       "...                                 ...          ...            ...   \n",
       "150666_TTTGTGAAGACAACAG-1         545.0       6654.0         5913.0   \n",
       "150666_TTTGTGAAGGCTGTGC-1        1023.0       5996.0         5311.0   \n",
       "150666_TTTGTGAAGTAAGAAC-1         303.0       4787.0         4226.0   \n",
       "150666_TTTGTGAAGTCTTGAA-1        1028.0       3336.0         2957.0   \n",
       "150666_TTTGTTGGTGATCAGC-1        1452.0       7260.0         6286.0   \n",
       "\n",
       "                           TSS_percentile  nucleosome_signal  percent_mt  ...  \\\n",
       "index                                                                     ...   \n",
       "4_AAACAGCCAACACTTG-1                 0.31           1.103503    0.000000  ...   \n",
       "4_AAACAGCCACCAAAGG-1                 0.72           1.002789    0.000000  ...   \n",
       "4_AAACAGCCATAAGTTC-1                 0.51           1.054060    0.000000  ...   \n",
       "4_AAACATGCATAGTCAT-1                 0.47           1.141570    0.000000  ...   \n",
       "4_AAACATGCATTGTCAG-1                 0.48           1.137788    0.021418  ...   \n",
       "...                                   ...                ...         ...  ...   \n",
       "150666_TTTGTGAAGACAACAG-1            0.34           1.029844    1.500938  ...   \n",
       "150666_TTTGTGAAGGCTGTGC-1            0.03           0.712973    0.121433  ...   \n",
       "150666_TTTGTGAAGTAAGAAC-1            0.44           1.304045    0.939702  ...   \n",
       "150666_TTTGTGAAGTCTTGAA-1            0.25           0.715888    0.119617  ...   \n",
       "150666_TTTGTTGGTGATCAGC-1            0.50           0.932277    0.644405  ...   \n",
       "\n",
       "                          tissue_type                       cell_type  \\\n",
       "index                                                                   \n",
       "4_AAACAGCCAACACTTG-1           tissue            glutamatergic neuron   \n",
       "4_AAACAGCCACCAAAGG-1           tissue            glutamatergic neuron   \n",
       "4_AAACAGCCATAAGTTC-1           tissue            glutamatergic neuron   \n",
       "4_AAACATGCATAGTCAT-1           tissue            glutamatergic neuron   \n",
       "4_AAACATGCATTGTCAG-1           tissue            glutamatergic neuron   \n",
       "...                               ...                             ...   \n",
       "150666_TTTGTGAAGACAACAG-1      tissue                 oligodendrocyte   \n",
       "150666_TTTGTGAAGGCTGTGC-1      tissue  oligodendrocyte precursor cell   \n",
       "150666_TTTGTGAAGTAAGAAC-1      tissue                 oligodendrocyte   \n",
       "150666_TTTGTGAAGTCTTGAA-1      tissue                 oligodendrocyte   \n",
       "150666_TTTGTTGGTGATCAGC-1      tissue                 oligodendrocyte   \n",
       "\n",
       "                                  assay disease      organism     sex  \\\n",
       "index                                                                   \n",
       "4_AAACAGCCAACACTTG-1       10x multiome  normal  Homo sapiens    male   \n",
       "4_AAACAGCCACCAAAGG-1       10x multiome  normal  Homo sapiens    male   \n",
       "4_AAACAGCCATAAGTTC-1       10x multiome  normal  Homo sapiens    male   \n",
       "4_AAACATGCATAGTCAT-1       10x multiome  normal  Homo sapiens    male   \n",
       "4_AAACATGCATTGTCAG-1       10x multiome  normal  Homo sapiens    male   \n",
       "...                                 ...     ...           ...     ...   \n",
       "150666_TTTGTGAAGACAACAG-1  10x multiome  normal  Homo sapiens  female   \n",
       "150666_TTTGTGAAGGCTGTGC-1  10x multiome  normal  Homo sapiens  female   \n",
       "150666_TTTGTGAAGTAAGAAC-1  10x multiome  normal  Homo sapiens  female   \n",
       "150666_TTTGTGAAGTCTTGAA-1  10x multiome  normal  Homo sapiens  female   \n",
       "150666_TTTGTTGGTGATCAGC-1  10x multiome  normal  Homo sapiens  female   \n",
       "\n",
       "                                                   tissue  \\\n",
       "index                                                       \n",
       "4_AAACAGCCAACACTTG-1                       cortical plate   \n",
       "4_AAACAGCCACCAAAGG-1                       cortical plate   \n",
       "4_AAACAGCCATAAGTTC-1                       cortical plate   \n",
       "4_AAACATGCATAGTCAT-1                       cortical plate   \n",
       "4_AAACATGCATTGTCAG-1                       cortical plate   \n",
       "...                                                   ...   \n",
       "150666_TTTGTGAAGACAACAG-1  dorsolateral prefrontal cortex   \n",
       "150666_TTTGTGAAGGCTGTGC-1  dorsolateral prefrontal cortex   \n",
       "150666_TTTGTGAAGTAAGAAC-1  dorsolateral prefrontal cortex   \n",
       "150666_TTTGTGAAGTCTTGAA-1  dorsolateral prefrontal cortex   \n",
       "150666_TTTGTTGGTGATCAGC-1  dorsolateral prefrontal cortex   \n",
       "\n",
       "                          self_reported_ethnicity  \\\n",
       "index                                               \n",
       "4_AAACAGCCAACACTTG-1                      unknown   \n",
       "4_AAACAGCCACCAAAGG-1                      unknown   \n",
       "4_AAACAGCCATAAGTTC-1                      unknown   \n",
       "4_AAACATGCATAGTCAT-1                      unknown   \n",
       "4_AAACATGCATTGTCAG-1                      unknown   \n",
       "...                                           ...   \n",
       "150666_TTTGTGAAGACAACAG-1                 unknown   \n",
       "150666_TTTGTGAAGGCTGTGC-1                 unknown   \n",
       "150666_TTTGTGAAGTAAGAAC-1                 unknown   \n",
       "150666_TTTGTGAAGTCTTGAA-1                 unknown   \n",
       "150666_TTTGTTGGTGATCAGC-1                 unknown   \n",
       "\n",
       "                                                  development_stage  \\\n",
       "index                                                                 \n",
       "4_AAACAGCCAACACTTG-1       23rd week post-fertilization human stage   \n",
       "4_AAACAGCCACCAAAGG-1       23rd week post-fertilization human stage   \n",
       "4_AAACAGCCATAAGTTC-1       23rd week post-fertilization human stage   \n",
       "4_AAACATGCATAGTCAT-1       23rd week post-fertilization human stage   \n",
       "4_AAACATGCATTGTCAG-1       23rd week post-fertilization human stage   \n",
       "...                                                             ...   \n",
       "150666_TTTGTGAAGACAACAG-1                   20-year-old human stage   \n",
       "150666_TTTGTGAAGGCTGTGC-1                   20-year-old human stage   \n",
       "150666_TTTGTGAAGTAAGAAC-1                   20-year-old human stage   \n",
       "150666_TTTGTGAAGTCTTGAA-1                   20-year-old human stage   \n",
       "150666_TTTGTTGGTGATCAGC-1                   20-year-old human stage   \n",
       "\n",
       "                           observation_joinid  \n",
       "index                                          \n",
       "4_AAACAGCCAACACTTG-1               t<2(H>sg#K  \n",
       "4_AAACAGCCACCAAAGG-1               HPU?^1i&Yf  \n",
       "4_AAACAGCCATAAGTTC-1               vKJ1WULiG^  \n",
       "4_AAACATGCATAGTCAT-1               FE0>j_!1Tq  \n",
       "4_AAACATGCATTGTCAG-1               3sotId$RTP  \n",
       "...                                       ...  \n",
       "150666_TTTGTGAAGACAACAG-1          =x`E$@Xdkm  \n",
       "150666_TTTGTGAAGGCTGTGC-1          #bnI9b>C>}  \n",
       "150666_TTTGTGAAGTAAGAAC-1          mN;XZnza^;  \n",
       "150666_TTTGTGAAGTCTTGAA-1          k#NQ|;U)%U  \n",
       "150666_TTTGTTGGTGATCAGC-1          PNiP^>UM6e  \n",
       "\n",
       "[45549 rows x 31 columns]"
      ]
     },
     "execution_count": 106,
     "metadata": {},
     "output_type": "execute_result"
    }
   ],
   "source": [
    "adata.obs"
   ]
  },
  {
   "cell_type": "code",
   "execution_count": 107,
   "id": "55a8cda5-6c4c-4ed1-858b-9986be29255a",
   "metadata": {},
   "outputs": [
    {
     "data": {
      "text/plain": [
       "pandas.core.frame.DataFrame"
      ]
     },
     "execution_count": 107,
     "metadata": {},
     "output_type": "execute_result"
    }
   ],
   "source": [
    "type(adata.obs)"
   ]
  },
  {
   "cell_type": "code",
   "execution_count": 108,
   "id": "16ebc83b-546e-42d2-b0cf-78f5f62dc3a6",
   "metadata": {},
   "outputs": [
    {
     "data": {
      "text/html": [
       "<div>\n",
       "<style scoped>\n",
       "    .dataframe tbody tr th:only-of-type {\n",
       "        vertical-align: middle;\n",
       "    }\n",
       "\n",
       "    .dataframe tbody tr th {\n",
       "        vertical-align: top;\n",
       "    }\n",
       "\n",
       "    .dataframe thead th {\n",
       "        text-align: right;\n",
       "    }\n",
       "</style>\n",
       "<table border=\"1\" class=\"dataframe\">\n",
       "  <thead>\n",
       "    <tr style=\"text-align: right;\">\n",
       "      <th></th>\n",
       "    </tr>\n",
       "  </thead>\n",
       "  <tbody>\n",
       "    <tr>\n",
       "      <th>chr1-10063-10327</th>\n",
       "    </tr>\n",
       "    <tr>\n",
       "      <th>chr1-180726-180979</th>\n",
       "    </tr>\n",
       "    <tr>\n",
       "      <th>chr1-181323-181566</th>\n",
       "    </tr>\n",
       "    <tr>\n",
       "      <th>chr1-190727-191632</th>\n",
       "    </tr>\n",
       "    <tr>\n",
       "      <th>chr1-777615-779293</th>\n",
       "    </tr>\n",
       "    <tr>\n",
       "      <th>...</th>\n",
       "    </tr>\n",
       "    <tr>\n",
       "      <th>chrY-21821571-21822130</th>\n",
       "    </tr>\n",
       "    <tr>\n",
       "      <th>chrY-21829019-21829544</th>\n",
       "    </tr>\n",
       "    <tr>\n",
       "      <th>chrY-26352947-26353241</th>\n",
       "    </tr>\n",
       "    <tr>\n",
       "      <th>chrY-26354174-26354520</th>\n",
       "    </tr>\n",
       "    <tr>\n",
       "      <th>chrY-26670358-26671639</th>\n",
       "    </tr>\n",
       "  </tbody>\n",
       "</table>\n",
       "<p>304034 rows × 0 columns</p>\n",
       "</div>"
      ],
      "text/plain": [
       "Empty DataFrame\n",
       "Columns: []\n",
       "Index: [chr1-10063-10327, chr1-180726-180979, chr1-181323-181566, chr1-190727-191632, chr1-777615-779293, chr1-779602-779948, chr1-816964-817422, chr1-817809-818264, chr1-818686-818982, chr1-826700-827679, chr1-844454-844654, chr1-849940-850149, chr1-850401-850628, chr1-858704-858939, chr1-869555-870357, chr1-897296-897496, chr1-903620-905783, chr1-909920-910800, chr1-920567-921363, chr1-923489-925747, chr1-939872-941062, chr1-941446-941985, chr1-942568-942831, chr1-944259-944608, chr1-958798-961357, chr1-966105-967158, chr1-975889-976570, chr1-980209-980971, chr1-983983-984768, chr1-998570-999363, chr1-999507-1001023, chr1-1001164-1002075, chr1-1005161-1005585, chr1-1012819-1014192, chr1-1019094-1020580, chr1-1021113-1021338, chr1-1024690-1025496, chr1-1026854-1027242, chr1-1031272-1034369, chr1-1034631-1034831, chr1-1038747-1039040, chr1-1040048-1041365, chr1-1058841-1059905, chr1-1063737-1064120, chr1-1068542-1069720, chr1-1071984-1072390, chr1-1074784-1075145, chr1-1079394-1080539, chr1-1081038-1081319, chr1-1087399-1087699, chr1-1099158-1099997, chr1-1102616-1102816, chr1-1107493-1107733, chr1-1110504-1111070, chr1-1115675-1116891, chr1-1121604-1122560, chr1-1135212-1136299, chr1-1136952-1137548, chr1-1137588-1137812, chr1-1144069-1144316, chr1-1144704-1144904, chr1-1145358-1145597, chr1-1156820-1157034, chr1-1157066-1158973, chr1-1173965-1174195, chr1-1183017-1183439, chr1-1184961-1185829, chr1-1200743-1201698, chr1-1208005-1208726, chr1-1212667-1213270, chr1-1217394-1218525, chr1-1231171-1232686, chr1-1250213-1250695, chr1-1259716-1260576, chr1-1265164-1265561, chr1-1273191-1275048, chr1-1281556-1281965, chr1-1290253-1290484, chr1-1290745-1293063, chr1-1293765-1294061, chr1-1298518-1299541, chr1-1304428-1305101, chr1-1307422-1309110, chr1-1318189-1318714, chr1-1324184-1325316, chr1-1333500-1333784, chr1-1346052-1346422, chr1-1348073-1348330, chr1-1348558-1349918, chr1-1352182-1352542, chr1-1355210-1355737, chr1-1357969-1358804, chr1-1359967-1360244, chr1-1360421-1360719, chr1-1362748-1363115, chr1-1371963-1372352, chr1-1374622-1376005, chr1-1384066-1384302, chr1-1398737-1400264, chr1-1406599-1408012, ...]\n",
       "\n",
       "[304034 rows x 0 columns]"
      ]
     },
     "execution_count": 108,
     "metadata": {},
     "output_type": "execute_result"
    }
   ],
   "source": [
    "adata.var"
   ]
  },
  {
   "cell_type": "code",
   "execution_count": 109,
   "id": "c537f3f6-6d6c-4b7f-a6d5-13b219bfbfc6",
   "metadata": {},
   "outputs": [],
   "source": [
    "# Extract cell names from the DataFrame\n",
    "cell_names = adata.obs.index.tolist()"
   ]
  },
  {
   "cell_type": "code",
   "execution_count": 110,
   "id": "4eedc74a-c548-41b3-be93-47cd1609aa81",
   "metadata": {},
   "outputs": [
    {
     "data": {
      "text/plain": [
       "Index(['chr1-10063-10327', 'chr1-180726-180979', 'chr1-181323-181566',\n",
       "       'chr1-190727-191632', 'chr1-777615-779293', 'chr1-779602-779948',\n",
       "       'chr1-816964-817422', 'chr1-817809-818264', 'chr1-818686-818982',\n",
       "       'chr1-826700-827679',\n",
       "       ...\n",
       "       'chrY-21421948-21422517', 'chrY-21439912-21440212',\n",
       "       'chrY-21440417-21440769', 'chrY-21481556-21481928',\n",
       "       'chrY-21602310-21602954', 'chrY-21821571-21822130',\n",
       "       'chrY-21829019-21829544', 'chrY-26352947-26353241',\n",
       "       'chrY-26354174-26354520', 'chrY-26670358-26671639'],\n",
       "      dtype='object', length=304034)"
      ]
     },
     "execution_count": 110,
     "metadata": {},
     "output_type": "execute_result"
    }
   ],
   "source": [
    "adata.var.index"
   ]
  },
  {
   "cell_type": "code",
   "execution_count": 111,
   "id": "40e0f22e-da00-4f09-b59d-5399a5b6c59b",
   "metadata": {},
   "outputs": [],
   "source": [
    "# Extract chr range names from the DataFrame\n",
    "region_names = adata.var.index.tolist()"
   ]
  },
  {
   "cell_type": "code",
   "execution_count": 112,
   "id": "1669c900-38b5-4fa0-bd7c-6da075306b28",
   "metadata": {},
   "outputs": [
    {
     "data": {
      "text/plain": [
       "304034"
      ]
     },
     "execution_count": 112,
     "metadata": {},
     "output_type": "execute_result"
    }
   ],
   "source": [
    "len(region_names)"
   ]
  },
  {
   "cell_type": "code",
   "execution_count": 113,
   "id": "0d29ee54-a3f9-4f3c-be26-f41842c0cfa9",
   "metadata": {},
   "outputs": [
    {
     "data": {
      "text/plain": [
       "(45549, 304034)"
      ]
     },
     "execution_count": 113,
     "metadata": {},
     "output_type": "execute_result"
    }
   ],
   "source": [
    "adata.X.shape"
   ]
  },
  {
   "cell_type": "code",
   "execution_count": 114,
   "id": "90c0293c-f0fb-4a1f-95aa-69f4c060337b",
   "metadata": {},
   "outputs": [
    {
     "data": {
      "text/plain": [
       "<304034x45549 sparse matrix of type '<class 'numpy.int64'>'\n",
       "\twith 238304892 stored elements in COOrdinate format>"
      ]
     },
     "execution_count": 114,
     "metadata": {},
     "output_type": "execute_result"
    }
   ],
   "source": [
    "peak_mat"
   ]
  },
  {
   "cell_type": "code",
   "execution_count": 115,
   "id": "89ed9885-0e0c-4e9e-91e3-565824969543",
   "metadata": {},
   "outputs": [
    {
     "data": {
      "text/plain": [
       "['chr1-10063-10327',\n",
       " 'chr1-180726-180979',\n",
       " 'chr1-181323-181566',\n",
       " 'chr1-190727-191632']"
      ]
     },
     "execution_count": 115,
     "metadata": {},
     "output_type": "execute_result"
    }
   ],
   "source": [
    "region_names[0:4]"
   ]
  },
  {
   "cell_type": "code",
   "execution_count": 118,
   "id": "591bb3c3-96de-43b3-ae33-85e90a3bbe50",
   "metadata": {},
   "outputs": [
    {
     "data": {
      "text/plain": [
       "list"
      ]
     },
     "execution_count": 118,
     "metadata": {},
     "output_type": "execute_result"
    }
   ],
   "source": [
    "type(region_names)"
   ]
  },
  {
   "cell_type": "code",
   "execution_count": 119,
   "id": "2a2c96ff-ba51-4cbd-bd62-e51ce22c0d26",
   "metadata": {},
   "outputs": [
    {
     "data": {
      "text/plain": [
       "'/fast/AG_Bunina/Yusuf/Project_Endothelial_and_Stroke/Datasets/Chromatin_and_Gene_Exp/2023_Zhu_et_al/Zhu_et_al_2023/Python_Project/ScenicPlus/Zhu_et_al/Zhu_et_al/data/'"
      ]
     },
     "execution_count": 119,
     "metadata": {},
     "output_type": "execute_result"
    }
   ],
   "source": [
    "projDir"
   ]
  },
  {
   "cell_type": "code",
   "execution_count": 120,
   "id": "e57776b5-20d0-457c-a40d-fe0a43a483c4",
   "metadata": {},
   "outputs": [
    {
     "data": {
      "text/plain": [
       "<45549x304034 sparse matrix of type '<class 'numpy.int64'>'\n",
       "\twith 238304892 stored elements in COOrdinate format>"
      ]
     },
     "execution_count": 120,
     "metadata": {},
     "output_type": "execute_result"
    }
   ],
   "source": [
    "transposed_peak_mat"
   ]
  },
  {
   "cell_type": "code",
   "execution_count": 121,
   "id": "63b39389-101b-4b36-93ee-a7e3b3064293",
   "metadata": {},
   "outputs": [
    {
     "data": {
      "text/plain": [
       "scipy.sparse._coo.coo_matrix"
      ]
     },
     "execution_count": 121,
     "metadata": {},
     "output_type": "execute_result"
    }
   ],
   "source": [
    "type(transposed_peak_mat)"
   ]
  },
  {
   "cell_type": "code",
   "execution_count": 122,
   "id": "498dbb63-41c7-41ae-af01-32ecec34f9f6",
   "metadata": {},
   "outputs": [],
   "source": [
    "peak_mat = adata.X"
   ]
  },
  {
   "cell_type": "code",
   "execution_count": 123,
   "id": "da348215-77d1-4c86-94f6-b7c9f2462bec",
   "metadata": {},
   "outputs": [
    {
     "data": {
      "text/plain": [
       "scipy.sparse._csr.csr_matrix"
      ]
     },
     "execution_count": 123,
     "metadata": {},
     "output_type": "execute_result"
    }
   ],
   "source": [
    "type(peak_mat)"
   ]
  },
  {
   "cell_type": "code",
   "execution_count": 124,
   "id": "43ccd289-1133-4f2c-97c3-8870e2eea953",
   "metadata": {},
   "outputs": [
    {
     "data": {
      "text/plain": [
       "<45549x304034 sparse matrix of type '<class 'numpy.int64'>'\n",
       "\twith 238304892 stored elements in Compressed Sparse Row format>"
      ]
     },
     "execution_count": 124,
     "metadata": {},
     "output_type": "execute_result"
    }
   ],
   "source": [
    "peak_mat"
   ]
  },
  {
   "cell_type": "code",
   "execution_count": 125,
   "id": "9dac9d76-4e49-4d81-a9dc-f362dca766aa",
   "metadata": {},
   "outputs": [],
   "source": [
    "transposed_peak_mat = peak_mat.transpose()"
   ]
  },
  {
   "cell_type": "code",
   "execution_count": 126,
   "id": "a4d35810-3b8e-4f07-a0ba-359096b7e7f4",
   "metadata": {},
   "outputs": [
    {
     "data": {
      "text/plain": [
       "<304034x45549 sparse matrix of type '<class 'numpy.int64'>'\n",
       "\twith 238304892 stored elements in Compressed Sparse Column format>"
      ]
     },
     "execution_count": 126,
     "metadata": {},
     "output_type": "execute_result"
    }
   ],
   "source": [
    "transposed_peak_mat"
   ]
  },
  {
   "cell_type": "code",
   "execution_count": 127,
   "id": "5612c68a-a532-46b0-bb00-6412932b21e6",
   "metadata": {},
   "outputs": [
    {
     "data": {
      "text/plain": [
       "<304034x45549 sparse matrix of type '<class 'numpy.int64'>'\n",
       "\twith 238304892 stored elements in Compressed Sparse Column format>"
      ]
     },
     "execution_count": 127,
     "metadata": {},
     "output_type": "execute_result"
    }
   ],
   "source": [
    "adata.X.transpose()"
   ]
  },
  {
   "cell_type": "code",
   "execution_count": 128,
   "id": "3bd60684-831d-4509-94c7-80659abba044",
   "metadata": {},
   "outputs": [
    {
     "data": {
      "text/plain": [
       "<45549x304034 sparse matrix of type '<class 'numpy.int64'>'\n",
       "\twith 238304892 stored elements in Compressed Sparse Row format>"
      ]
     },
     "execution_count": 128,
     "metadata": {},
     "output_type": "execute_result"
    }
   ],
   "source": [
    "adata.X"
   ]
  },
  {
   "cell_type": "code",
   "execution_count": 129,
   "id": "fe9c419b-e766-46ff-a580-07db531823d4",
   "metadata": {},
   "outputs": [
    {
     "data": {
      "text/plain": [
       "<module 'pandas' from '/home/ykazci/miniconda3/envs/scenicplus/lib/python3.8/site-packages/pandas/__init__.py'>"
      ]
     },
     "execution_count": 129,
     "metadata": {},
     "output_type": "execute_result"
    }
   ],
   "source": [
    "pd"
   ]
  },
  {
   "cell_type": "code",
   "execution_count": 130,
   "id": "3bc9df8b-201a-4362-ada4-c76c64ab6493",
   "metadata": {},
   "outputs": [],
   "source": [
    "# Create cisTopic object\n",
    "#from pycisTopic.cistopic_class import *\n",
    "#count_matrix=pd.read_csv(projDir+'count_mel.tsv', sep='\\t')\n",
    "#path_to_blacklist='/fast/AG_Bunina/Yusuf/Project_Endothelial_and_Stroke/Datasets/Chromatin_and_Gene_Exp/2023_Zhu_et_al/Zhu_et_al_2023/Python_Project/ScenicPlus/Zhu_et_al/Zhu_et_al/data/hg38-blacklist.v2.bed'\n",
    "#cistopic_obj = create_cistopic_object(fragment_matrix=count_matrix, path_to_blacklist=path_to_blacklist)\n",
    "# Adding cell information\n",
    "#cell_data =  pd.read_csv(projDir+'celldata_mel.tsv', sep='\\t')\n",
    "#cistopic_obj.add_cell_data(cell_data)"
   ]
  },
  {
   "cell_type": "code",
   "execution_count": 131,
   "id": "43edb303-c85c-4ad7-b647-ba4037d3d254",
   "metadata": {},
   "outputs": [
    {
     "data": {
      "text/plain": [
       "'/fast/AG_Bunina/Yusuf/Project_Endothelial_and_Stroke/Datasets/Chromatin_and_Gene_Exp/2023_Zhu_et_al/Zhu_et_al_2023/Python_Project/ScenicPlus/Zhu_et_al'"
      ]
     },
     "execution_count": 131,
     "metadata": {},
     "output_type": "execute_result"
    }
   ],
   "source": [
    "pwd"
   ]
  },
  {
   "cell_type": "code",
   "execution_count": 132,
   "id": "85d6ebba-4152-44fe-bb4f-592bf2bb818f",
   "metadata": {},
   "outputs": [],
   "source": [
    "# Convert region names to desired format\n",
    "formatted_region_names = [name.replace('-', ':', 1) for name in region_names]\n"
   ]
  },
  {
   "cell_type": "code",
   "execution_count": 133,
   "id": "21e7464a-27b3-4d17-895e-efabe3742325",
   "metadata": {},
   "outputs": [
    {
     "data": {
      "text/plain": [
       "['chr1:10063-10327',\n",
       " 'chr1:180726-180979',\n",
       " 'chr1:181323-181566',\n",
       " 'chr1:190727-191632',\n",
       " 'chr1:777615-779293']"
      ]
     },
     "execution_count": 133,
     "metadata": {},
     "output_type": "execute_result"
    }
   ],
   "source": [
    "formatted_region_names[0:5]"
   ]
  },
  {
   "cell_type": "code",
   "execution_count": 134,
   "id": "ef1a2ccf-c26c-4be0-b3d7-27bf2c9e03a9",
   "metadata": {},
   "outputs": [
    {
     "data": {
      "text/plain": [
       "304034"
      ]
     },
     "execution_count": 134,
     "metadata": {},
     "output_type": "execute_result"
    }
   ],
   "source": [
    "len(formatted_region_names)"
   ]
  },
  {
   "cell_type": "code",
   "execution_count": 135,
   "id": "11dc972d-939e-4088-8356-4b66c4b7054c",
   "metadata": {},
   "outputs": [
    {
     "name": "stdout",
     "output_type": "stream",
     "text": [
      "2024-03-09 11:31:14,992 cisTopic     INFO     Removing blacklisted regions\n",
      "2024-03-09 11:31:19,705 cisTopic     INFO     Creating CistopicObject\n"
     ]
    },
    {
     "ename": "ValueError",
     "evalue": "setting an array element with a sequence.",
     "output_type": "error",
     "traceback": [
      "\u001b[0;31m---------------------------------------------------------------------------\u001b[0m",
      "\u001b[0;31mValueError\u001b[0m                                Traceback (most recent call last)",
      "File \u001b[0;32m~/miniconda3/envs/scenicplus/lib/python3.8/site-packages/scipy/sparse/_base.py:337\u001b[0m, in \u001b[0;36mspmatrix.__bool__\u001b[0;34m(self)\u001b[0m\n\u001b[1;32m    336\u001b[0m \u001b[38;5;28;01melse\u001b[39;00m:\n\u001b[0;32m--> 337\u001b[0m     \u001b[38;5;28;01mraise\u001b[39;00m \u001b[38;5;167;01mValueError\u001b[39;00m(\u001b[38;5;124m\"\u001b[39m\u001b[38;5;124mThe truth value of an array with more than one \u001b[39m\u001b[38;5;124m\"\u001b[39m\n\u001b[1;32m    338\u001b[0m                      \u001b[38;5;124m\"\u001b[39m\u001b[38;5;124melement is ambiguous. Use a.any() or a.all().\u001b[39m\u001b[38;5;124m\"\u001b[39m)\n",
      "\u001b[0;31mValueError\u001b[0m: The truth value of an array with more than one element is ambiguous. Use a.any() or a.all().",
      "\nThe above exception was the direct cause of the following exception:\n",
      "\u001b[0;31mValueError\u001b[0m                                Traceback (most recent call last)",
      "Cell \u001b[0;32mIn[135], line 5\u001b[0m\n\u001b[1;32m      3\u001b[0m count_matrix\u001b[38;5;241m=\u001b[39madata\u001b[38;5;241m.\u001b[39mX\u001b[38;5;241m.\u001b[39mtranspose()\n\u001b[1;32m      4\u001b[0m path_to_blacklist\u001b[38;5;241m=\u001b[39m\u001b[38;5;124m'\u001b[39m\u001b[38;5;124m/fast/AG_Bunina/Yusuf/Project_Endothelial_and_Stroke/Datasets/Chromatin_and_Gene_Exp/2023_Zhu_et_al/Zhu_et_al_2023/Python_Project/ScenicPlus/Zhu_et_al/Zhu_et_al/data/hg38-blacklist.v2.bed\u001b[39m\u001b[38;5;124m'\u001b[39m\n\u001b[0;32m----> 5\u001b[0m cistopic_obj \u001b[38;5;241m=\u001b[39m \u001b[43mcreate_cistopic_object\u001b[49m\u001b[43m(\u001b[49m\u001b[43mfragment_matrix\u001b[49m\u001b[38;5;241;43m=\u001b[39;49m\u001b[43mcount_matrix\u001b[49m\u001b[43m,\u001b[49m\u001b[43m \u001b[49m\u001b[43mpath_to_blacklist\u001b[49m\u001b[38;5;241;43m=\u001b[39;49m\u001b[43mpath_to_blacklist\u001b[49m\u001b[43m,\u001b[49m\u001b[43m \u001b[49m\u001b[43mcell_names\u001b[49m\u001b[38;5;241;43m=\u001b[39;49m\u001b[43mcell_names\u001b[49m\u001b[43m,\u001b[49m\u001b[43m \u001b[49m\u001b[43mregion_names\u001b[49m\u001b[38;5;241;43m=\u001b[39;49m\u001b[43mformatted_region_names\u001b[49m\u001b[43m)\u001b[49m\n\u001b[1;32m      6\u001b[0m \u001b[38;5;66;03m# Adding cell information\u001b[39;00m\n\u001b[1;32m      7\u001b[0m cell_data \u001b[38;5;241m=\u001b[39m  adata\u001b[38;5;241m.\u001b[39mobs\n",
      "File \u001b[0;32m~/miniconda3/envs/scenicplus/lib/python3.8/site-packages/pycisTopic/cistopic_class.py:592\u001b[0m, in \u001b[0;36mcreate_cistopic_object\u001b[0;34m(fragment_matrix, cell_names, region_names, path_to_blacklist, min_frag, min_cell, is_acc, path_to_fragments, project, tag_cells, split_pattern)\u001b[0m\n\u001b[1;32m    590\u001b[0m log\u001b[38;5;241m.\u001b[39minfo(\u001b[38;5;124m\"\u001b[39m\u001b[38;5;124mCreating CistopicObject\u001b[39m\u001b[38;5;124m\"\u001b[39m)\n\u001b[1;32m    591\u001b[0m binary_matrix \u001b[38;5;241m=\u001b[39m sp\u001b[38;5;241m.\u001b[39mbinarize(fragment_matrix, threshold\u001b[38;5;241m=\u001b[39mis_acc \u001b[38;5;241m-\u001b[39m \u001b[38;5;241m1\u001b[39m)\n\u001b[0;32m--> 592\u001b[0m selected_regions \u001b[38;5;241m=\u001b[39m \u001b[43mnon_zero_rows\u001b[49m\u001b[43m(\u001b[49m\u001b[43mbinary_matrix\u001b[49m\u001b[43m)\u001b[49m\n\u001b[1;32m    593\u001b[0m fragment_matrix \u001b[38;5;241m=\u001b[39m fragment_matrix[\n\u001b[1;32m    594\u001b[0m     selected_regions,\n\u001b[1;32m    595\u001b[0m ]\n\u001b[1;32m    596\u001b[0m binary_matrix \u001b[38;5;241m=\u001b[39m binary_matrix[\n\u001b[1;32m    597\u001b[0m     selected_regions,\n\u001b[1;32m    598\u001b[0m ]\n",
      "File \u001b[0;32m~/miniconda3/envs/scenicplus/lib/python3.8/site-packages/pycisTopic/utils.py:43\u001b[0m, in \u001b[0;36mnon_zero_rows\u001b[0;34m(X)\u001b[0m\n\u001b[1;32m     40\u001b[0m     \u001b[38;5;28;01mreturn\u001b[39;00m np\u001b[38;5;241m.\u001b[39mnonzero(X\u001b[38;5;241m.\u001b[39mgetnnz(axis\u001b[38;5;241m=\u001b[39m\u001b[38;5;241m1\u001b[39m))[\u001b[38;5;241m0\u001b[39m]\n\u001b[1;32m     41\u001b[0m \u001b[38;5;28;01melse\u001b[39;00m:\n\u001b[1;32m     42\u001b[0m     \u001b[38;5;66;03m# For non sparse matrices.\u001b[39;00m\n\u001b[0;32m---> 43\u001b[0m     \u001b[38;5;28;01mreturn\u001b[39;00m np\u001b[38;5;241m.\u001b[39mnonzero(\u001b[43mnp\u001b[49m\u001b[38;5;241;43m.\u001b[39;49m\u001b[43mcount_nonzero\u001b[49m\u001b[43m(\u001b[49m\u001b[43mX\u001b[49m\u001b[43m,\u001b[49m\u001b[43m \u001b[49m\u001b[43maxis\u001b[49m\u001b[38;5;241;43m=\u001b[39;49m\u001b[38;5;241;43m1\u001b[39;49m\u001b[43m)\u001b[49m)[\u001b[38;5;241m0\u001b[39m]\n",
      "File \u001b[0;32m<__array_function__ internals>:200\u001b[0m, in \u001b[0;36mcount_nonzero\u001b[0;34m(*args, **kwargs)\u001b[0m\n",
      "File \u001b[0;32m~/miniconda3/envs/scenicplus/lib/python3.8/site-packages/numpy/core/numeric.py:501\u001b[0m, in \u001b[0;36mcount_nonzero\u001b[0;34m(a, axis, keepdims)\u001b[0m\n\u001b[1;32m    499\u001b[0m     a_bool \u001b[38;5;241m=\u001b[39m a \u001b[38;5;241m!=\u001b[39m a\u001b[38;5;241m.\u001b[39mdtype\u001b[38;5;241m.\u001b[39mtype()\n\u001b[1;32m    500\u001b[0m \u001b[38;5;28;01melse\u001b[39;00m:\n\u001b[0;32m--> 501\u001b[0m     a_bool \u001b[38;5;241m=\u001b[39m \u001b[43ma\u001b[49m\u001b[38;5;241;43m.\u001b[39;49m\u001b[43mastype\u001b[49m\u001b[43m(\u001b[49m\u001b[43mnp\u001b[49m\u001b[38;5;241;43m.\u001b[39;49m\u001b[43mbool_\u001b[49m\u001b[43m,\u001b[49m\u001b[43m \u001b[49m\u001b[43mcopy\u001b[49m\u001b[38;5;241;43m=\u001b[39;49m\u001b[38;5;28;43;01mFalse\u001b[39;49;00m\u001b[43m)\u001b[49m\n\u001b[1;32m    503\u001b[0m \u001b[38;5;28;01mreturn\u001b[39;00m a_bool\u001b[38;5;241m.\u001b[39msum(axis\u001b[38;5;241m=\u001b[39maxis, dtype\u001b[38;5;241m=\u001b[39mnp\u001b[38;5;241m.\u001b[39mintp, keepdims\u001b[38;5;241m=\u001b[39mkeepdims)\n",
      "\u001b[0;31mValueError\u001b[0m: setting an array element with a sequence."
     ]
    }
   ],
   "source": [
    "# Create cisTopic object\n",
    "from pycisTopic.cistopic_class import *\n",
    "count_matrix=adata.X.transpose()\n",
    "path_to_blacklist='/fast/AG_Bunina/Yusuf/Project_Endothelial_and_Stroke/Datasets/Chromatin_and_Gene_Exp/2023_Zhu_et_al/Zhu_et_al_2023/Python_Project/ScenicPlus/Zhu_et_al/Zhu_et_al/data/hg38-blacklist.v2.bed'\n",
    "cistopic_obj = create_cistopic_object(fragment_matrix=count_matrix, path_to_blacklist=path_to_blacklist, cell_names=cell_names, region_names=formatted_region_names)\n",
    "# Adding cell information\n",
    "cell_data =  adata.obs\n",
    "cistopic_obj.add_cell_data(cell_data)"
   ]
  },
  {
   "cell_type": "code",
   "execution_count": 136,
   "id": "9a139776-d03a-43dc-ae1a-414fa3fce345",
   "metadata": {},
   "outputs": [
    {
     "data": {
      "text/plain": [
       "scipy.sparse._csc.csc_matrix"
      ]
     },
     "execution_count": 136,
     "metadata": {},
     "output_type": "execute_result"
    }
   ],
   "source": [
    "type(adata.X.transpose())"
   ]
  },
  {
   "cell_type": "code",
   "execution_count": 137,
   "id": "892021cc-7b11-4ab2-84db-cb47209837f0",
   "metadata": {},
   "outputs": [
    {
     "data": {
      "text/plain": [
       "scipy.sparse._csr.csr_matrix"
      ]
     },
     "execution_count": 137,
     "metadata": {},
     "output_type": "execute_result"
    }
   ],
   "source": [
    "type(peak_mat)"
   ]
  },
  {
   "cell_type": "code",
   "execution_count": 138,
   "id": "14dfa18f-0c2e-4fa9-be4b-4c9eef9a70ab",
   "metadata": {},
   "outputs": [],
   "source": [
    "example_c_mat = adata.X.T.astype(dtype=np.int32) ### buraya tekrar bakilacak."
   ]
  },
  {
   "cell_type": "code",
   "execution_count": 139,
   "id": "c93a67f5-1242-4700-bcc3-329b663ed127",
   "metadata": {},
   "outputs": [
    {
     "data": {
      "text/plain": [
       "<2x45549 sparse matrix of type '<class 'numpy.int32'>'\n",
       "\twith 562 stored elements in Compressed Sparse Column format>"
      ]
     },
     "execution_count": 139,
     "metadata": {},
     "output_type": "execute_result"
    }
   ],
   "source": [
    "example_c_mat[0:2, : ]"
   ]
  },
  {
   "cell_type": "code",
   "execution_count": null,
   "id": "9be53e69-ab42-4708-9c85-304bc2fe9282",
   "metadata": {},
   "outputs": [],
   "source": []
  },
  {
   "cell_type": "code",
   "execution_count": 140,
   "id": "733ed3d3-b5b3-4aa1-bcb2-9de35206b0e4",
   "metadata": {},
   "outputs": [],
   "source": [
    "dense_array = example_c_mat[0:2, : ].toarray()\n",
    "df = pd.DataFrame(dense_array)\n"
   ]
  },
  {
   "cell_type": "code",
   "execution_count": 141,
   "id": "6077ca58-faf9-4312-8b44-e104b01e2106",
   "metadata": {},
   "outputs": [
    {
     "data": {
      "text/html": [
       "<div>\n",
       "<style scoped>\n",
       "    .dataframe tbody tr th:only-of-type {\n",
       "        vertical-align: middle;\n",
       "    }\n",
       "\n",
       "    .dataframe tbody tr th {\n",
       "        vertical-align: top;\n",
       "    }\n",
       "\n",
       "    .dataframe thead th {\n",
       "        text-align: right;\n",
       "    }\n",
       "</style>\n",
       "<table border=\"1\" class=\"dataframe\">\n",
       "  <thead>\n",
       "    <tr style=\"text-align: right;\">\n",
       "      <th></th>\n",
       "      <th>0</th>\n",
       "      <th>1</th>\n",
       "      <th>2</th>\n",
       "      <th>3</th>\n",
       "      <th>4</th>\n",
       "      <th>5</th>\n",
       "      <th>6</th>\n",
       "      <th>7</th>\n",
       "      <th>8</th>\n",
       "      <th>9</th>\n",
       "      <th>...</th>\n",
       "      <th>45539</th>\n",
       "      <th>45540</th>\n",
       "      <th>45541</th>\n",
       "      <th>45542</th>\n",
       "      <th>45543</th>\n",
       "      <th>45544</th>\n",
       "      <th>45545</th>\n",
       "      <th>45546</th>\n",
       "      <th>45547</th>\n",
       "      <th>45548</th>\n",
       "    </tr>\n",
       "  </thead>\n",
       "  <tbody>\n",
       "    <tr>\n",
       "      <th>0</th>\n",
       "      <td>0</td>\n",
       "      <td>0</td>\n",
       "      <td>0</td>\n",
       "      <td>0</td>\n",
       "      <td>0</td>\n",
       "      <td>0</td>\n",
       "      <td>0</td>\n",
       "      <td>0</td>\n",
       "      <td>0</td>\n",
       "      <td>0</td>\n",
       "      <td>...</td>\n",
       "      <td>0</td>\n",
       "      <td>0</td>\n",
       "      <td>0</td>\n",
       "      <td>0</td>\n",
       "      <td>0</td>\n",
       "      <td>0</td>\n",
       "      <td>0</td>\n",
       "      <td>0</td>\n",
       "      <td>0</td>\n",
       "      <td>0</td>\n",
       "    </tr>\n",
       "    <tr>\n",
       "      <th>1</th>\n",
       "      <td>0</td>\n",
       "      <td>0</td>\n",
       "      <td>0</td>\n",
       "      <td>0</td>\n",
       "      <td>0</td>\n",
       "      <td>0</td>\n",
       "      <td>0</td>\n",
       "      <td>0</td>\n",
       "      <td>0</td>\n",
       "      <td>0</td>\n",
       "      <td>...</td>\n",
       "      <td>0</td>\n",
       "      <td>0</td>\n",
       "      <td>0</td>\n",
       "      <td>0</td>\n",
       "      <td>0</td>\n",
       "      <td>0</td>\n",
       "      <td>0</td>\n",
       "      <td>0</td>\n",
       "      <td>0</td>\n",
       "      <td>0</td>\n",
       "    </tr>\n",
       "  </tbody>\n",
       "</table>\n",
       "<p>2 rows × 45549 columns</p>\n",
       "</div>"
      ],
      "text/plain": [
       "   0      1      2      3      4      5      6      7      8      9      ...  \\\n",
       "0      0      0      0      0      0      0      0      0      0      0  ...   \n",
       "1      0      0      0      0      0      0      0      0      0      0  ...   \n",
       "\n",
       "   45539  45540  45541  45542  45543  45544  45545  45546  45547  45548  \n",
       "0      0      0      0      0      0      0      0      0      0      0  \n",
       "1      0      0      0      0      0      0      0      0      0      0  \n",
       "\n",
       "[2 rows x 45549 columns]"
      ]
     },
     "execution_count": 141,
     "metadata": {},
     "output_type": "execute_result"
    }
   ],
   "source": [
    "df"
   ]
  },
  {
   "cell_type": "code",
   "execution_count": 142,
   "id": "e946d280-ac5d-4523-a795-36acfd655baa",
   "metadata": {},
   "outputs": [
    {
     "data": {
      "text/plain": [
       "pandas.core.frame.DataFrame"
      ]
     },
     "execution_count": 142,
     "metadata": {},
     "output_type": "execute_result"
    }
   ],
   "source": [
    "type(df)"
   ]
  },
  {
   "cell_type": "code",
   "execution_count": 143,
   "id": "e5f28df3-48e7-4eb7-a930-fe3fd2b59f5a",
   "metadata": {},
   "outputs": [
    {
     "data": {
      "text/plain": [
       "0"
      ]
     },
     "execution_count": 143,
     "metadata": {},
     "output_type": "execute_result"
    }
   ],
   "source": [
    "df.iloc[1,1]"
   ]
  },
  {
   "cell_type": "code",
   "execution_count": 144,
   "id": "e0137824-ec9e-4222-bfb1-51b6f38daa73",
   "metadata": {},
   "outputs": [
    {
     "data": {
      "text/plain": [
       "numpy.int32"
      ]
     },
     "execution_count": 144,
     "metadata": {},
     "output_type": "execute_result"
    }
   ],
   "source": [
    "type(df.iloc[1,1])"
   ]
  },
  {
   "cell_type": "code",
   "execution_count": 147,
   "id": "c16e1a69-203b-49ca-a3ff-b8763dabe00c",
   "metadata": {},
   "outputs": [
    {
     "data": {
      "text/plain": [
       "(2, 45549)"
      ]
     },
     "execution_count": 147,
     "metadata": {},
     "output_type": "execute_result"
    }
   ],
   "source": [
    "df.shape"
   ]
  },
  {
   "cell_type": "code",
   "execution_count": 161,
   "id": "8cd7cb26-7221-455b-a660-18ebe0a6f325",
   "metadata": {},
   "outputs": [
    {
     "name": "stdout",
     "output_type": "stream",
     "text": [
      "2024-03-09 11:44:45,931 cisTopic     INFO     Converting fragment matrix to sparse matrix\n"
     ]
    },
    {
     "ename": "UFuncTypeError",
     "evalue": "ufunc 'add' did not contain a loop with signature matching types (dtype('int64'), dtype('<U3')) -> None",
     "output_type": "error",
     "traceback": [
      "\u001b[0;31m---------------------------------------------------------------------------\u001b[0m",
      "\u001b[0;31mUFuncTypeError\u001b[0m                            Traceback (most recent call last)",
      "Cell \u001b[0;32mIn[161], line 6\u001b[0m\n\u001b[1;32m      4\u001b[0m count_matrix\u001b[38;5;241m=\u001b[39mdf\n\u001b[1;32m      5\u001b[0m path_to_blacklist\u001b[38;5;241m=\u001b[39m\u001b[38;5;124m'\u001b[39m\u001b[38;5;124m/fast/AG_Bunina/Yusuf/Project_Endothelial_and_Stroke/Datasets/Chromatin_and_Gene_Exp/2023_Zhu_et_al/Zhu_et_al_2023/Python_Project/ScenicPlus/Zhu_et_al/Zhu_et_al/data/hg38-blacklist.v2.bed\u001b[39m\u001b[38;5;124m'\u001b[39m\n\u001b[0;32m----> 6\u001b[0m cistopic_obj \u001b[38;5;241m=\u001b[39m \u001b[43mcreate_cistopic_object\u001b[49m\u001b[43m(\u001b[49m\u001b[43mfragment_matrix\u001b[49m\u001b[38;5;241;43m=\u001b[39;49m\u001b[43mcount_matrix\u001b[49m\u001b[43m,\u001b[49m\u001b[43m \u001b[49m\u001b[43mpath_to_blacklist\u001b[49m\u001b[38;5;241;43m=\u001b[39;49m\u001b[43mpath_to_blacklist\u001b[49m\u001b[43m,\u001b[49m\u001b[43m \u001b[49m\u001b[43mcell_names\u001b[49m\u001b[38;5;241;43m=\u001b[39;49m\u001b[43mcell_names\u001b[49m\u001b[43m,\u001b[49m\u001b[43m \u001b[49m\u001b[43mregion_names\u001b[49m\u001b[38;5;241;43m=\u001b[39;49m\u001b[43mformatted_region_names\u001b[49m\u001b[43m[\u001b[49m\u001b[38;5;241;43m0\u001b[39;49m\u001b[43m:\u001b[49m\u001b[38;5;241;43m1\u001b[39;49m\u001b[43m]\u001b[49m\u001b[43m)\u001b[49m\n\u001b[1;32m      7\u001b[0m \u001b[38;5;66;03m# Adding cell information\u001b[39;00m\n\u001b[1;32m      8\u001b[0m \u001b[38;5;66;03m# cell_data =  adata.obs\u001b[39;00m\n\u001b[1;32m      9\u001b[0m \u001b[38;5;66;03m# cistopic_obj.add_cell_data(cell_data)\u001b[39;00m\n",
      "File \u001b[0;32m~/miniconda3/envs/scenicplus/lib/python3.8/site-packages/pycisTopic/cistopic_class.py:568\u001b[0m, in \u001b[0;36mcreate_cistopic_object\u001b[0;34m(fragment_matrix, cell_names, region_names, path_to_blacklist, min_frag, min_cell, is_acc, path_to_fragments, project, tag_cells, split_pattern)\u001b[0m\n\u001b[1;32m    565\u001b[0m     fragment_matrix \u001b[38;5;241m=\u001b[39m sparse\u001b[38;5;241m.\u001b[39mcsr_matrix(fragment_matrix\u001b[38;5;241m.\u001b[39mto_numpy(), dtype\u001b[38;5;241m=\u001b[39mnp\u001b[38;5;241m.\u001b[39mint32)\n\u001b[1;32m    567\u001b[0m \u001b[38;5;28;01mif\u001b[39;00m tag_cells:\n\u001b[0;32m--> 568\u001b[0m     cell_names \u001b[38;5;241m=\u001b[39m [\n\u001b[1;32m    569\u001b[0m         cell_names[x] \u001b[38;5;241m+\u001b[39m split_pattern \u001b[38;5;241m+\u001b[39m project \u001b[38;5;28;01mfor\u001b[39;00m x \u001b[38;5;129;01min\u001b[39;00m \u001b[38;5;28mrange\u001b[39m(\u001b[38;5;28mlen\u001b[39m(cell_names))\n\u001b[1;32m    570\u001b[0m     ]\n\u001b[1;32m    572\u001b[0m \u001b[38;5;28;01mif\u001b[39;00m \u001b[38;5;28misinstance\u001b[39m(path_to_blacklist, \u001b[38;5;28mstr\u001b[39m):\n\u001b[1;32m    573\u001b[0m     log\u001b[38;5;241m.\u001b[39minfo(\u001b[38;5;124m\"\u001b[39m\u001b[38;5;124mRemoving blacklisted regions\u001b[39m\u001b[38;5;124m\"\u001b[39m)\n",
      "File \u001b[0;32m~/miniconda3/envs/scenicplus/lib/python3.8/site-packages/pycisTopic/cistopic_class.py:569\u001b[0m, in \u001b[0;36m<listcomp>\u001b[0;34m(.0)\u001b[0m\n\u001b[1;32m    565\u001b[0m     fragment_matrix \u001b[38;5;241m=\u001b[39m sparse\u001b[38;5;241m.\u001b[39mcsr_matrix(fragment_matrix\u001b[38;5;241m.\u001b[39mto_numpy(), dtype\u001b[38;5;241m=\u001b[39mnp\u001b[38;5;241m.\u001b[39mint32)\n\u001b[1;32m    567\u001b[0m \u001b[38;5;28;01mif\u001b[39;00m tag_cells:\n\u001b[1;32m    568\u001b[0m     cell_names \u001b[38;5;241m=\u001b[39m [\n\u001b[0;32m--> 569\u001b[0m         \u001b[43mcell_names\u001b[49m\u001b[43m[\u001b[49m\u001b[43mx\u001b[49m\u001b[43m]\u001b[49m\u001b[43m \u001b[49m\u001b[38;5;241;43m+\u001b[39;49m\u001b[43m \u001b[49m\u001b[43msplit_pattern\u001b[49m \u001b[38;5;241m+\u001b[39m project \u001b[38;5;28;01mfor\u001b[39;00m x \u001b[38;5;129;01min\u001b[39;00m \u001b[38;5;28mrange\u001b[39m(\u001b[38;5;28mlen\u001b[39m(cell_names))\n\u001b[1;32m    570\u001b[0m     ]\n\u001b[1;32m    572\u001b[0m \u001b[38;5;28;01mif\u001b[39;00m \u001b[38;5;28misinstance\u001b[39m(path_to_blacklist, \u001b[38;5;28mstr\u001b[39m):\n\u001b[1;32m    573\u001b[0m     log\u001b[38;5;241m.\u001b[39minfo(\u001b[38;5;124m\"\u001b[39m\u001b[38;5;124mRemoving blacklisted regions\u001b[39m\u001b[38;5;124m\"\u001b[39m)\n",
      "\u001b[0;31mUFuncTypeError\u001b[0m: ufunc 'add' did not contain a loop with signature matching types (dtype('int64'), dtype('<U3')) -> None"
     ]
    }
   ],
   "source": [
    "# Create cisTopic object\n",
    "from pycisTopic.cistopic_class import *\n",
    "#count_matrix=adata.X.T.astype(dtype=int)\n",
    "count_matrix=df\n",
    "path_to_blacklist='/fast/AG_Bunina/Yusuf/Project_Endothelial_and_Stroke/Datasets/Chromatin_and_Gene_Exp/2023_Zhu_et_al/Zhu_et_al_2023/Python_Project/ScenicPlus/Zhu_et_al/Zhu_et_al/data/hg38-blacklist.v2.bed'\n",
    "cistopic_obj = create_cistopic_object(fragment_matrix=count_matrix, path_to_blacklist=path_to_blacklist, cell_names=cell_names, region_names=formatted_region_names[0:1])\n",
    "# Adding cell information\n",
    "# cell_data =  adata.obs\n",
    "# cistopic_obj.add_cell_data(cell_data)"
   ]
  },
  {
   "cell_type": "code",
   "execution_count": 149,
   "id": "ba524e69-0425-4b58-8e63-280564af4eb4",
   "metadata": {},
   "outputs": [
    {
     "data": {
      "text/plain": [
       "['4_AAACAGCCAACACTTG-1',\n",
       " '4_AAACAGCCACCAAAGG-1',\n",
       " '4_AAACAGCCATAAGTTC-1',\n",
       " '4_AAACATGCATAGTCAT-1',\n",
       " '4_AAACATGCATTGTCAG-1']"
      ]
     },
     "execution_count": 149,
     "metadata": {},
     "output_type": "execute_result"
    }
   ],
   "source": [
    "cell_names[0:5]"
   ]
  },
  {
   "cell_type": "code",
   "execution_count": 150,
   "id": "0dccae97-7602-4246-b011-9ed9ed55db4a",
   "metadata": {},
   "outputs": [
    {
     "data": {
      "text/plain": [
       "list"
      ]
     },
     "execution_count": 150,
     "metadata": {},
     "output_type": "execute_result"
    }
   ],
   "source": [
    "type(cell_names)"
   ]
  },
  {
   "cell_type": "code",
   "execution_count": 158,
   "id": "4ac067d7-9cd8-4e9d-a3c5-09d4defc0026",
   "metadata": {},
   "outputs": [
    {
     "data": {
      "text/plain": [
       "RangeIndex(start=0, stop=2, step=1)"
      ]
     },
     "execution_count": 158,
     "metadata": {},
     "output_type": "execute_result"
    }
   ],
   "source": [
    "df.index[0:5]"
   ]
  },
  {
   "cell_type": "code",
   "execution_count": 159,
   "id": "cb3bc47e-91ad-4ee8-b877-786a0bcc9df8",
   "metadata": {},
   "outputs": [
    {
     "data": {
      "text/html": [
       "<div>\n",
       "<style scoped>\n",
       "    .dataframe tbody tr th:only-of-type {\n",
       "        vertical-align: middle;\n",
       "    }\n",
       "\n",
       "    .dataframe tbody tr th {\n",
       "        vertical-align: top;\n",
       "    }\n",
       "\n",
       "    .dataframe thead th {\n",
       "        text-align: right;\n",
       "    }\n",
       "</style>\n",
       "<table border=\"1\" class=\"dataframe\">\n",
       "  <thead>\n",
       "    <tr style=\"text-align: right;\">\n",
       "      <th></th>\n",
       "      <th>0</th>\n",
       "      <th>1</th>\n",
       "      <th>2</th>\n",
       "      <th>3</th>\n",
       "      <th>4</th>\n",
       "      <th>5</th>\n",
       "      <th>6</th>\n",
       "      <th>7</th>\n",
       "      <th>8</th>\n",
       "      <th>9</th>\n",
       "      <th>...</th>\n",
       "      <th>45539</th>\n",
       "      <th>45540</th>\n",
       "      <th>45541</th>\n",
       "      <th>45542</th>\n",
       "      <th>45543</th>\n",
       "      <th>45544</th>\n",
       "      <th>45545</th>\n",
       "      <th>45546</th>\n",
       "      <th>45547</th>\n",
       "      <th>45548</th>\n",
       "    </tr>\n",
       "  </thead>\n",
       "  <tbody>\n",
       "    <tr>\n",
       "      <th>0</th>\n",
       "      <td>0</td>\n",
       "      <td>0</td>\n",
       "      <td>0</td>\n",
       "      <td>0</td>\n",
       "      <td>0</td>\n",
       "      <td>0</td>\n",
       "      <td>0</td>\n",
       "      <td>0</td>\n",
       "      <td>0</td>\n",
       "      <td>0</td>\n",
       "      <td>...</td>\n",
       "      <td>0</td>\n",
       "      <td>0</td>\n",
       "      <td>0</td>\n",
       "      <td>0</td>\n",
       "      <td>0</td>\n",
       "      <td>0</td>\n",
       "      <td>0</td>\n",
       "      <td>0</td>\n",
       "      <td>0</td>\n",
       "      <td>0</td>\n",
       "    </tr>\n",
       "    <tr>\n",
       "      <th>1</th>\n",
       "      <td>0</td>\n",
       "      <td>0</td>\n",
       "      <td>0</td>\n",
       "      <td>0</td>\n",
       "      <td>0</td>\n",
       "      <td>0</td>\n",
       "      <td>0</td>\n",
       "      <td>0</td>\n",
       "      <td>0</td>\n",
       "      <td>0</td>\n",
       "      <td>...</td>\n",
       "      <td>0</td>\n",
       "      <td>0</td>\n",
       "      <td>0</td>\n",
       "      <td>0</td>\n",
       "      <td>0</td>\n",
       "      <td>0</td>\n",
       "      <td>0</td>\n",
       "      <td>0</td>\n",
       "      <td>0</td>\n",
       "      <td>0</td>\n",
       "    </tr>\n",
       "  </tbody>\n",
       "</table>\n",
       "<p>2 rows × 45549 columns</p>\n",
       "</div>"
      ],
      "text/plain": [
       "   0      1      2      3      4      5      6      7      8      9      ...  \\\n",
       "0      0      0      0      0      0      0      0      0      0      0  ...   \n",
       "1      0      0      0      0      0      0      0      0      0      0  ...   \n",
       "\n",
       "   45539  45540  45541  45542  45543  45544  45545  45546  45547  45548  \n",
       "0      0      0      0      0      0      0      0      0      0      0  \n",
       "1      0      0      0      0      0      0      0      0      0      0  \n",
       "\n",
       "[2 rows x 45549 columns]"
      ]
     },
     "execution_count": 159,
     "metadata": {},
     "output_type": "execute_result"
    }
   ],
   "source": [
    "df"
   ]
  },
  {
   "cell_type": "code",
   "execution_count": 160,
   "id": "5fe7fc23-78f4-4a70-b385-b6f5ed2020fc",
   "metadata": {},
   "outputs": [
    {
     "data": {
      "text/plain": [
       "(2, 45549)"
      ]
     },
     "execution_count": 160,
     "metadata": {},
     "output_type": "execute_result"
    }
   ],
   "source": [
    "df.shape"
   ]
  },
  {
   "cell_type": "code",
   "execution_count": 162,
   "id": "22852cf7-503f-4ba5-ae8f-b1617dae07fc",
   "metadata": {},
   "outputs": [],
   "source": [
    "df.index = formatted_region_names[0:2]"
   ]
  },
  {
   "cell_type": "code",
   "execution_count": 163,
   "id": "39eb43b1-2cea-450f-8d17-c1a91c841bf2",
   "metadata": {},
   "outputs": [
    {
     "data": {
      "text/plain": [
       "Index(['chr1:10063-10327', 'chr1:180726-180979'], dtype='object')"
      ]
     },
     "execution_count": 163,
     "metadata": {},
     "output_type": "execute_result"
    }
   ],
   "source": [
    "df.index"
   ]
  },
  {
   "cell_type": "code",
   "execution_count": 164,
   "id": "e95d9ed0-1dd8-4164-922e-35d78ebdd314",
   "metadata": {},
   "outputs": [
    {
     "data": {
      "text/html": [
       "<div>\n",
       "<style scoped>\n",
       "    .dataframe tbody tr th:only-of-type {\n",
       "        vertical-align: middle;\n",
       "    }\n",
       "\n",
       "    .dataframe tbody tr th {\n",
       "        vertical-align: top;\n",
       "    }\n",
       "\n",
       "    .dataframe thead th {\n",
       "        text-align: right;\n",
       "    }\n",
       "</style>\n",
       "<table border=\"1\" class=\"dataframe\">\n",
       "  <thead>\n",
       "    <tr style=\"text-align: right;\">\n",
       "      <th></th>\n",
       "      <th>0</th>\n",
       "      <th>1</th>\n",
       "      <th>2</th>\n",
       "      <th>3</th>\n",
       "      <th>4</th>\n",
       "      <th>5</th>\n",
       "      <th>6</th>\n",
       "      <th>7</th>\n",
       "      <th>8</th>\n",
       "      <th>9</th>\n",
       "      <th>...</th>\n",
       "      <th>45539</th>\n",
       "      <th>45540</th>\n",
       "      <th>45541</th>\n",
       "      <th>45542</th>\n",
       "      <th>45543</th>\n",
       "      <th>45544</th>\n",
       "      <th>45545</th>\n",
       "      <th>45546</th>\n",
       "      <th>45547</th>\n",
       "      <th>45548</th>\n",
       "    </tr>\n",
       "  </thead>\n",
       "  <tbody>\n",
       "    <tr>\n",
       "      <th>chr1:10063-10327</th>\n",
       "      <td>0</td>\n",
       "      <td>0</td>\n",
       "      <td>0</td>\n",
       "      <td>0</td>\n",
       "      <td>0</td>\n",
       "      <td>0</td>\n",
       "      <td>0</td>\n",
       "      <td>0</td>\n",
       "      <td>0</td>\n",
       "      <td>0</td>\n",
       "      <td>...</td>\n",
       "      <td>0</td>\n",
       "      <td>0</td>\n",
       "      <td>0</td>\n",
       "      <td>0</td>\n",
       "      <td>0</td>\n",
       "      <td>0</td>\n",
       "      <td>0</td>\n",
       "      <td>0</td>\n",
       "      <td>0</td>\n",
       "      <td>0</td>\n",
       "    </tr>\n",
       "    <tr>\n",
       "      <th>chr1:180726-180979</th>\n",
       "      <td>0</td>\n",
       "      <td>0</td>\n",
       "      <td>0</td>\n",
       "      <td>0</td>\n",
       "      <td>0</td>\n",
       "      <td>0</td>\n",
       "      <td>0</td>\n",
       "      <td>0</td>\n",
       "      <td>0</td>\n",
       "      <td>0</td>\n",
       "      <td>...</td>\n",
       "      <td>0</td>\n",
       "      <td>0</td>\n",
       "      <td>0</td>\n",
       "      <td>0</td>\n",
       "      <td>0</td>\n",
       "      <td>0</td>\n",
       "      <td>0</td>\n",
       "      <td>0</td>\n",
       "      <td>0</td>\n",
       "      <td>0</td>\n",
       "    </tr>\n",
       "  </tbody>\n",
       "</table>\n",
       "<p>2 rows × 45549 columns</p>\n",
       "</div>"
      ],
      "text/plain": [
       "                    0      1      2      3      4      5      6      7      \\\n",
       "chr1:10063-10327        0      0      0      0      0      0      0      0   \n",
       "chr1:180726-180979      0      0      0      0      0      0      0      0   \n",
       "\n",
       "                    8      9      ...  45539  45540  45541  45542  45543  \\\n",
       "chr1:10063-10327        0      0  ...      0      0      0      0      0   \n",
       "chr1:180726-180979      0      0  ...      0      0      0      0      0   \n",
       "\n",
       "                    45544  45545  45546  45547  45548  \n",
       "chr1:10063-10327        0      0      0      0      0  \n",
       "chr1:180726-180979      0      0      0      0      0  \n",
       "\n",
       "[2 rows x 45549 columns]"
      ]
     },
     "execution_count": 164,
     "metadata": {},
     "output_type": "execute_result"
    }
   ],
   "source": [
    "df"
   ]
  },
  {
   "cell_type": "code",
   "execution_count": 165,
   "id": "a9bbf4ae-d9de-46df-b912-6b435beb8e9c",
   "metadata": {},
   "outputs": [],
   "source": [
    "df.columns = cell_names"
   ]
  },
  {
   "cell_type": "code",
   "execution_count": 166,
   "id": "289a30ef-1cf0-48ec-bc5c-177f0e9a0ed9",
   "metadata": {},
   "outputs": [
    {
     "data": {
      "text/html": [
       "<div>\n",
       "<style scoped>\n",
       "    .dataframe tbody tr th:only-of-type {\n",
       "        vertical-align: middle;\n",
       "    }\n",
       "\n",
       "    .dataframe tbody tr th {\n",
       "        vertical-align: top;\n",
       "    }\n",
       "\n",
       "    .dataframe thead th {\n",
       "        text-align: right;\n",
       "    }\n",
       "</style>\n",
       "<table border=\"1\" class=\"dataframe\">\n",
       "  <thead>\n",
       "    <tr style=\"text-align: right;\">\n",
       "      <th></th>\n",
       "      <th>4_AAACAGCCAACACTTG-1</th>\n",
       "      <th>4_AAACAGCCACCAAAGG-1</th>\n",
       "      <th>4_AAACAGCCATAAGTTC-1</th>\n",
       "      <th>4_AAACATGCATAGTCAT-1</th>\n",
       "      <th>4_AAACATGCATTGTCAG-1</th>\n",
       "      <th>4_AAACATGCATTGTGAT-1</th>\n",
       "      <th>4_AAACCGCGTCACCTAT-1</th>\n",
       "      <th>4_AAACCGCGTCAGGAAG-1</th>\n",
       "      <th>4_AAACCGGCAAGCCACT-1</th>\n",
       "      <th>4_AAACCGGCACATTGCA-1</th>\n",
       "      <th>...</th>\n",
       "      <th>150666_TTTGCATTCATGCTCC-1</th>\n",
       "      <th>150666_TTTGCGACATTTAAGC-1</th>\n",
       "      <th>150666_TTTGGCTGTAATGGAA-1</th>\n",
       "      <th>150666_TTTGGCTGTGACCTGG-1</th>\n",
       "      <th>150666_TTTGTCTAGGATGATG-1</th>\n",
       "      <th>150666_TTTGTGAAGACAACAG-1</th>\n",
       "      <th>150666_TTTGTGAAGGCTGTGC-1</th>\n",
       "      <th>150666_TTTGTGAAGTAAGAAC-1</th>\n",
       "      <th>150666_TTTGTGAAGTCTTGAA-1</th>\n",
       "      <th>150666_TTTGTTGGTGATCAGC-1</th>\n",
       "    </tr>\n",
       "  </thead>\n",
       "  <tbody>\n",
       "    <tr>\n",
       "      <th>chr1:10063-10327</th>\n",
       "      <td>0</td>\n",
       "      <td>0</td>\n",
       "      <td>0</td>\n",
       "      <td>0</td>\n",
       "      <td>0</td>\n",
       "      <td>0</td>\n",
       "      <td>0</td>\n",
       "      <td>0</td>\n",
       "      <td>0</td>\n",
       "      <td>0</td>\n",
       "      <td>...</td>\n",
       "      <td>0</td>\n",
       "      <td>0</td>\n",
       "      <td>0</td>\n",
       "      <td>0</td>\n",
       "      <td>0</td>\n",
       "      <td>0</td>\n",
       "      <td>0</td>\n",
       "      <td>0</td>\n",
       "      <td>0</td>\n",
       "      <td>0</td>\n",
       "    </tr>\n",
       "    <tr>\n",
       "      <th>chr1:180726-180979</th>\n",
       "      <td>0</td>\n",
       "      <td>0</td>\n",
       "      <td>0</td>\n",
       "      <td>0</td>\n",
       "      <td>0</td>\n",
       "      <td>0</td>\n",
       "      <td>0</td>\n",
       "      <td>0</td>\n",
       "      <td>0</td>\n",
       "      <td>0</td>\n",
       "      <td>...</td>\n",
       "      <td>0</td>\n",
       "      <td>0</td>\n",
       "      <td>0</td>\n",
       "      <td>0</td>\n",
       "      <td>0</td>\n",
       "      <td>0</td>\n",
       "      <td>0</td>\n",
       "      <td>0</td>\n",
       "      <td>0</td>\n",
       "      <td>0</td>\n",
       "    </tr>\n",
       "  </tbody>\n",
       "</table>\n",
       "<p>2 rows × 45549 columns</p>\n",
       "</div>"
      ],
      "text/plain": [
       "                    4_AAACAGCCAACACTTG-1  4_AAACAGCCACCAAAGG-1  \\\n",
       "chr1:10063-10327                       0                     0   \n",
       "chr1:180726-180979                     0                     0   \n",
       "\n",
       "                    4_AAACAGCCATAAGTTC-1  4_AAACATGCATAGTCAT-1  \\\n",
       "chr1:10063-10327                       0                     0   \n",
       "chr1:180726-180979                     0                     0   \n",
       "\n",
       "                    4_AAACATGCATTGTCAG-1  4_AAACATGCATTGTGAT-1  \\\n",
       "chr1:10063-10327                       0                     0   \n",
       "chr1:180726-180979                     0                     0   \n",
       "\n",
       "                    4_AAACCGCGTCACCTAT-1  4_AAACCGCGTCAGGAAG-1  \\\n",
       "chr1:10063-10327                       0                     0   \n",
       "chr1:180726-180979                     0                     0   \n",
       "\n",
       "                    4_AAACCGGCAAGCCACT-1  4_AAACCGGCACATTGCA-1  ...  \\\n",
       "chr1:10063-10327                       0                     0  ...   \n",
       "chr1:180726-180979                     0                     0  ...   \n",
       "\n",
       "                    150666_TTTGCATTCATGCTCC-1  150666_TTTGCGACATTTAAGC-1  \\\n",
       "chr1:10063-10327                            0                          0   \n",
       "chr1:180726-180979                          0                          0   \n",
       "\n",
       "                    150666_TTTGGCTGTAATGGAA-1  150666_TTTGGCTGTGACCTGG-1  \\\n",
       "chr1:10063-10327                            0                          0   \n",
       "chr1:180726-180979                          0                          0   \n",
       "\n",
       "                    150666_TTTGTCTAGGATGATG-1  150666_TTTGTGAAGACAACAG-1  \\\n",
       "chr1:10063-10327                            0                          0   \n",
       "chr1:180726-180979                          0                          0   \n",
       "\n",
       "                    150666_TTTGTGAAGGCTGTGC-1  150666_TTTGTGAAGTAAGAAC-1  \\\n",
       "chr1:10063-10327                            0                          0   \n",
       "chr1:180726-180979                          0                          0   \n",
       "\n",
       "                    150666_TTTGTGAAGTCTTGAA-1  150666_TTTGTTGGTGATCAGC-1  \n",
       "chr1:10063-10327                            0                          0  \n",
       "chr1:180726-180979                          0                          0  \n",
       "\n",
       "[2 rows x 45549 columns]"
      ]
     },
     "execution_count": 166,
     "metadata": {},
     "output_type": "execute_result"
    }
   ],
   "source": [
    "df"
   ]
  },
  {
   "cell_type": "code",
   "execution_count": 169,
   "id": "61f5fe75-23de-4c3e-94fc-3a00a98dc03a",
   "metadata": {},
   "outputs": [
    {
     "name": "stdout",
     "output_type": "stream",
     "text": [
      "2024-03-09 11:52:24,791 cisTopic     INFO     Converting fragment matrix to sparse matrix\n",
      "2024-03-09 11:52:24,804 cisTopic     INFO     Removing blacklisted regions\n"
     ]
    },
    {
     "ename": "AttributeError",
     "evalue": "('PyRanges object has no attribute', 'Chromosome')",
     "output_type": "error",
     "traceback": [
      "\u001b[0;31m---------------------------------------------------------------------------\u001b[0m",
      "\u001b[0;31mAttributeError\u001b[0m                            Traceback (most recent call last)",
      "Cell \u001b[0;32mIn[169], line 6\u001b[0m\n\u001b[1;32m      4\u001b[0m count_matrix\u001b[38;5;241m=\u001b[39mdf\n\u001b[1;32m      5\u001b[0m path_to_blacklist\u001b[38;5;241m=\u001b[39m\u001b[38;5;124m'\u001b[39m\u001b[38;5;124m/fast/AG_Bunina/Yusuf/Project_Endothelial_and_Stroke/Datasets/Chromatin_and_Gene_Exp/2023_Zhu_et_al/Zhu_et_al_2023/Python_Project/ScenicPlus/Zhu_et_al/Zhu_et_al/data/hg38-blacklist.v2.bed\u001b[39m\u001b[38;5;124m'\u001b[39m\n\u001b[0;32m----> 6\u001b[0m cistopic_obj \u001b[38;5;241m=\u001b[39m \u001b[43mcreate_cistopic_object\u001b[49m\u001b[43m(\u001b[49m\u001b[43mfragment_matrix\u001b[49m\u001b[38;5;241;43m=\u001b[39;49m\u001b[43mcount_matrix\u001b[49m\u001b[43m,\u001b[49m\u001b[43msplit_pattern\u001b[49m\u001b[38;5;241;43m=\u001b[39;49m\u001b[43m \u001b[49m\u001b[38;5;124;43m\"\u001b[39;49m\u001b[38;5;124;43m:\u001b[39;49m\u001b[38;5;124;43m\"\u001b[39;49m\u001b[43m,\u001b[49m\u001b[43m \u001b[49m\u001b[43mpath_to_blacklist\u001b[49m\u001b[38;5;241;43m=\u001b[39;49m\u001b[43mpath_to_blacklist\u001b[49m\u001b[43m)\u001b[49m\n\u001b[1;32m      7\u001b[0m \u001b[38;5;66;03m# Adding cell information\u001b[39;00m\n\u001b[1;32m      8\u001b[0m \u001b[38;5;66;03m# cell_data =  adata.obs\u001b[39;00m\n\u001b[1;32m      9\u001b[0m \u001b[38;5;66;03m# cistopic_obj.add_cell_data(cell_data)\u001b[39;00m\n",
      "File \u001b[0;32m~/miniconda3/envs/scenicplus/lib/python3.8/site-packages/pycisTopic/cistopic_class.py:578\u001b[0m, in \u001b[0;36mcreate_cistopic_object\u001b[0;34m(fragment_matrix, cell_names, region_names, path_to_blacklist, min_frag, min_cell, is_acc, path_to_fragments, project, tag_cells, split_pattern)\u001b[0m\n\u001b[1;32m    575\u001b[0m blacklist \u001b[38;5;241m=\u001b[39m pr\u001b[38;5;241m.\u001b[39mread_bed(path_to_blacklist)\n\u001b[1;32m    576\u001b[0m regions \u001b[38;5;241m=\u001b[39m regions\u001b[38;5;241m.\u001b[39moverlap(blacklist, invert\u001b[38;5;241m=\u001b[39m\u001b[38;5;28;01mTrue\u001b[39;00m)\n\u001b[1;32m    577\u001b[0m selected_regions \u001b[38;5;241m=\u001b[39m (\n\u001b[0;32m--> 578\u001b[0m     \u001b[43mregions\u001b[49m\u001b[38;5;241;43m.\u001b[39;49m\u001b[43mChromosome\u001b[49m\u001b[38;5;241m.\u001b[39mastype(\u001b[38;5;28mstr\u001b[39m)\n\u001b[1;32m    579\u001b[0m     \u001b[38;5;241m+\u001b[39m \u001b[38;5;124m\"\u001b[39m\u001b[38;5;124m:\u001b[39m\u001b[38;5;124m\"\u001b[39m\n\u001b[1;32m    580\u001b[0m     \u001b[38;5;241m+\u001b[39m regions\u001b[38;5;241m.\u001b[39mStart\u001b[38;5;241m.\u001b[39mastype(\u001b[38;5;28mstr\u001b[39m)\n\u001b[1;32m    581\u001b[0m     \u001b[38;5;241m+\u001b[39m \u001b[38;5;124m\"\u001b[39m\u001b[38;5;124m-\u001b[39m\u001b[38;5;124m\"\u001b[39m\n\u001b[1;32m    582\u001b[0m     \u001b[38;5;241m+\u001b[39m regions\u001b[38;5;241m.\u001b[39mEnd\u001b[38;5;241m.\u001b[39mastype(\u001b[38;5;28mstr\u001b[39m)\n\u001b[1;32m    583\u001b[0m )\u001b[38;5;241m.\u001b[39mto_list()\n\u001b[1;32m    584\u001b[0m index \u001b[38;5;241m=\u001b[39m get_position_index(selected_regions, region_names)\n\u001b[1;32m    585\u001b[0m fragment_matrix \u001b[38;5;241m=\u001b[39m fragment_matrix[\n\u001b[1;32m    586\u001b[0m     index,\n\u001b[1;32m    587\u001b[0m ]\n",
      "File \u001b[0;32m~/miniconda3/envs/scenicplus/lib/python3.8/site-packages/pyranges/pyranges_main.py:265\u001b[0m, in \u001b[0;36mPyRanges.__getattr__\u001b[0;34m(self, name)\u001b[0m\n\u001b[1;32m    240\u001b[0m \u001b[38;5;250m\u001b[39m\u001b[38;5;124;03m\"\"\"Return column.\u001b[39;00m\n\u001b[1;32m    241\u001b[0m \n\u001b[1;32m    242\u001b[0m \u001b[38;5;124;03mParameters\u001b[39;00m\n\u001b[0;32m   (...)\u001b[0m\n\u001b[1;32m    260\u001b[0m \u001b[38;5;124;03mName: Start, dtype: int64\u001b[39;00m\n\u001b[1;32m    261\u001b[0m \u001b[38;5;124;03m\"\"\"\u001b[39;00m\n\u001b[1;32m    263\u001b[0m \u001b[38;5;28;01mfrom\u001b[39;00m \u001b[38;5;21;01mpyranges\u001b[39;00m\u001b[38;5;21;01m.\u001b[39;00m\u001b[38;5;21;01mmethods\u001b[39;00m\u001b[38;5;21;01m.\u001b[39;00m\u001b[38;5;21;01mattr\u001b[39;00m \u001b[38;5;28;01mimport\u001b[39;00m _getattr\n\u001b[0;32m--> 265\u001b[0m \u001b[38;5;28;01mreturn\u001b[39;00m \u001b[43m_getattr\u001b[49m\u001b[43m(\u001b[49m\u001b[38;5;28;43mself\u001b[39;49m\u001b[43m,\u001b[49m\u001b[43m \u001b[49m\u001b[43mname\u001b[49m\u001b[43m)\u001b[49m\n",
      "File \u001b[0;32m~/miniconda3/envs/scenicplus/lib/python3.8/site-packages/pyranges/methods/attr.py:65\u001b[0m, in \u001b[0;36m_getattr\u001b[0;34m(self, name)\u001b[0m\n\u001b[1;32m     63\u001b[0m     \u001b[38;5;28;01mreturn\u001b[39;00m pd\u001b[38;5;241m.\u001b[39mconcat([df[name] \u001b[38;5;28;01mfor\u001b[39;00m df \u001b[38;5;129;01min\u001b[39;00m \u001b[38;5;28mself\u001b[39m\u001b[38;5;241m.\u001b[39mvalues()])\n\u001b[1;32m     64\u001b[0m \u001b[38;5;28;01melse\u001b[39;00m:\n\u001b[0;32m---> 65\u001b[0m     \u001b[38;5;28;01mraise\u001b[39;00m \u001b[38;5;167;01mAttributeError\u001b[39;00m(\u001b[38;5;124m\"\u001b[39m\u001b[38;5;124mPyRanges object has no attribute\u001b[39m\u001b[38;5;124m\"\u001b[39m, name)\n",
      "\u001b[0;31mAttributeError\u001b[0m: ('PyRanges object has no attribute', 'Chromosome')"
     ]
    }
   ],
   "source": [
    "# Create cisTopic object\n",
    "from pycisTopic.cistopic_class import *\n",
    "#count_matrix=adata.X.T.astype(dtype=int)\n",
    "count_matrix=df\n",
    "path_to_blacklist='/fast/AG_Bunina/Yusuf/Project_Endothelial_and_Stroke/Datasets/Chromatin_and_Gene_Exp/2023_Zhu_et_al/Zhu_et_al_2023/Python_Project/ScenicPlus/Zhu_et_al/Zhu_et_al/data/hg38-blacklist.v2.bed'\n",
    "cistopic_obj = create_cistopic_object(fragment_matrix=count_matrix, path_to_blacklist=path_to_blacklist)\n",
    "# Adding cell information\n",
    "# cell_data =  adata.obs\n",
    "# cistopic_obj.add_cell_data(cell_data)"
   ]
  },
  {
   "cell_type": "code",
   "execution_count": 170,
   "id": "9079606b-2d0d-4a67-a6bd-1dd1b73e049a",
   "metadata": {},
   "outputs": [
    {
     "data": {
      "text/plain": [
       "<BedTool(Zhu_et_al/data/GSE204682_peaks.bed.gz)>"
      ]
     },
     "execution_count": 170,
     "metadata": {},
     "output_type": "execute_result"
    }
   ],
   "source": [
    "bed_data"
   ]
  },
  {
   "cell_type": "code",
   "execution_count": 171,
   "id": "008e1fa7-e50b-457d-977d-2975b427cb1f",
   "metadata": {},
   "outputs": [
    {
     "data": {
      "text/html": [
       "<div>\n",
       "<style scoped>\n",
       "    .dataframe tbody tr th:only-of-type {\n",
       "        vertical-align: middle;\n",
       "    }\n",
       "\n",
       "    .dataframe tbody tr th {\n",
       "        vertical-align: top;\n",
       "    }\n",
       "\n",
       "    .dataframe thead th {\n",
       "        text-align: right;\n",
       "    }\n",
       "</style>\n",
       "<table border=\"1\" class=\"dataframe\">\n",
       "  <thead>\n",
       "    <tr style=\"text-align: right;\">\n",
       "      <th></th>\n",
       "      <th>chrom</th>\n",
       "      <th>start</th>\n",
       "      <th>end</th>\n",
       "      <th>name</th>\n",
       "    </tr>\n",
       "  </thead>\n",
       "  <tbody>\n",
       "    <tr>\n",
       "      <th>0</th>\n",
       "      <td>chr1</td>\n",
       "      <td>10063</td>\n",
       "      <td>10327</td>\n",
       "      <td>chr1-10063-10327</td>\n",
       "    </tr>\n",
       "    <tr>\n",
       "      <th>1</th>\n",
       "      <td>chr1</td>\n",
       "      <td>180726</td>\n",
       "      <td>180979</td>\n",
       "      <td>chr1-180726-180979</td>\n",
       "    </tr>\n",
       "    <tr>\n",
       "      <th>2</th>\n",
       "      <td>chr1</td>\n",
       "      <td>181323</td>\n",
       "      <td>181566</td>\n",
       "      <td>chr1-181323-181566</td>\n",
       "    </tr>\n",
       "    <tr>\n",
       "      <th>3</th>\n",
       "      <td>chr1</td>\n",
       "      <td>190727</td>\n",
       "      <td>191632</td>\n",
       "      <td>chr1-190727-191632</td>\n",
       "    </tr>\n",
       "    <tr>\n",
       "      <th>4</th>\n",
       "      <td>chr1</td>\n",
       "      <td>777615</td>\n",
       "      <td>779293</td>\n",
       "      <td>chr1-777615-779293</td>\n",
       "    </tr>\n",
       "    <tr>\n",
       "      <th>...</th>\n",
       "      <td>...</td>\n",
       "      <td>...</td>\n",
       "      <td>...</td>\n",
       "      <td>...</td>\n",
       "    </tr>\n",
       "    <tr>\n",
       "      <th>304029</th>\n",
       "      <td>chrY</td>\n",
       "      <td>21821571</td>\n",
       "      <td>21822130</td>\n",
       "      <td>chrY-21821571-21822130</td>\n",
       "    </tr>\n",
       "    <tr>\n",
       "      <th>304030</th>\n",
       "      <td>chrY</td>\n",
       "      <td>21829019</td>\n",
       "      <td>21829544</td>\n",
       "      <td>chrY-21829019-21829544</td>\n",
       "    </tr>\n",
       "    <tr>\n",
       "      <th>304031</th>\n",
       "      <td>chrY</td>\n",
       "      <td>26352947</td>\n",
       "      <td>26353241</td>\n",
       "      <td>chrY-26352947-26353241</td>\n",
       "    </tr>\n",
       "    <tr>\n",
       "      <th>304032</th>\n",
       "      <td>chrY</td>\n",
       "      <td>26354174</td>\n",
       "      <td>26354520</td>\n",
       "      <td>chrY-26354174-26354520</td>\n",
       "    </tr>\n",
       "    <tr>\n",
       "      <th>304033</th>\n",
       "      <td>chrY</td>\n",
       "      <td>26670358</td>\n",
       "      <td>26671639</td>\n",
       "      <td>chrY-26670358-26671639</td>\n",
       "    </tr>\n",
       "  </tbody>\n",
       "</table>\n",
       "<p>304034 rows × 4 columns</p>\n",
       "</div>"
      ],
      "text/plain": [
       "       chrom     start       end                    name\n",
       "0       chr1     10063     10327        chr1-10063-10327\n",
       "1       chr1    180726    180979      chr1-180726-180979\n",
       "2       chr1    181323    181566      chr1-181323-181566\n",
       "3       chr1    190727    191632      chr1-190727-191632\n",
       "4       chr1    777615    779293      chr1-777615-779293\n",
       "...      ...       ...       ...                     ...\n",
       "304029  chrY  21821571  21822130  chrY-21821571-21822130\n",
       "304030  chrY  21829019  21829544  chrY-21829019-21829544\n",
       "304031  chrY  26352947  26353241  chrY-26352947-26353241\n",
       "304032  chrY  26354174  26354520  chrY-26354174-26354520\n",
       "304033  chrY  26670358  26671639  chrY-26670358-26671639\n",
       "\n",
       "[304034 rows x 4 columns]"
      ]
     },
     "execution_count": 171,
     "metadata": {},
     "output_type": "execute_result"
    }
   ],
   "source": [
    "bed_df"
   ]
  },
  {
   "cell_type": "code",
   "execution_count": 180,
   "id": "fa95a824-502f-4208-82a2-b3dc1637ee17",
   "metadata": {},
   "outputs": [
    {
     "data": {
      "text/plain": [
       "0               chr1-10063-10327\n",
       "1             chr1-180726-180979\n",
       "2             chr1-181323-181566\n",
       "3             chr1-190727-191632\n",
       "4             chr1-777615-779293\n",
       "                   ...          \n",
       "304029    chrY-21821571-21822130\n",
       "304030    chrY-21829019-21829544\n",
       "304031    chrY-26352947-26353241\n",
       "304032    chrY-26354174-26354520\n",
       "304033    chrY-26670358-26671639\n",
       "Name: name, Length: 304034, dtype: object"
      ]
     },
     "execution_count": 180,
     "metadata": {},
     "output_type": "execute_result"
    }
   ],
   "source": [
    "bed_df.iloc[:,3]"
   ]
  },
  {
   "cell_type": "code",
   "execution_count": 175,
   "id": "1178e253-7068-4abe-939f-d14f48e16fb5",
   "metadata": {},
   "outputs": [
    {
     "data": {
      "text/plain": [
       "pandas.core.frame.DataFrame"
      ]
     },
     "execution_count": 175,
     "metadata": {},
     "output_type": "execute_result"
    }
   ],
   "source": [
    "type(bed_df)"
   ]
  },
  {
   "cell_type": "code",
   "execution_count": 184,
   "id": "0e68c3e3-3e1a-4fa0-a935-d54c13295fb6",
   "metadata": {},
   "outputs": [],
   "source": [
    "# Convert region names to desired format\n",
    "modified_region_names = [name.replace('-', ':', 1) for name in bed_df.iloc[:,3]]\n",
    "bed_df.iloc[:,3] = modified_region_names"
   ]
  },
  {
   "cell_type": "code",
   "execution_count": 185,
   "id": "75097a7a-acd7-480c-b3f2-60959513b060",
   "metadata": {},
   "outputs": [
    {
     "data": {
      "text/plain": [
       "0               chr1:10063-10327\n",
       "1             chr1:180726-180979\n",
       "2             chr1:181323-181566\n",
       "3             chr1:190727-191632\n",
       "4             chr1:777615-779293\n",
       "                   ...          \n",
       "304029    chrY:21821571-21822130\n",
       "304030    chrY:21829019-21829544\n",
       "304031    chrY:26352947-26353241\n",
       "304032    chrY:26354174-26354520\n",
       "304033    chrY:26670358-26671639\n",
       "Name: name, Length: 304034, dtype: object"
      ]
     },
     "execution_count": 185,
     "metadata": {},
     "output_type": "execute_result"
    }
   ],
   "source": [
    "bed_df.iloc[:,3]"
   ]
  },
  {
   "cell_type": "code",
   "execution_count": 186,
   "id": "e133d18d-d747-46f8-b85a-68725649abbe",
   "metadata": {},
   "outputs": [
    {
     "data": {
      "text/html": [
       "<div>\n",
       "<style scoped>\n",
       "    .dataframe tbody tr th:only-of-type {\n",
       "        vertical-align: middle;\n",
       "    }\n",
       "\n",
       "    .dataframe tbody tr th {\n",
       "        vertical-align: top;\n",
       "    }\n",
       "\n",
       "    .dataframe thead th {\n",
       "        text-align: right;\n",
       "    }\n",
       "</style>\n",
       "<table border=\"1\" class=\"dataframe\">\n",
       "  <thead>\n",
       "    <tr style=\"text-align: right;\">\n",
       "      <th></th>\n",
       "      <th>chrom</th>\n",
       "      <th>start</th>\n",
       "      <th>end</th>\n",
       "      <th>name</th>\n",
       "    </tr>\n",
       "  </thead>\n",
       "  <tbody>\n",
       "    <tr>\n",
       "      <th>0</th>\n",
       "      <td>chr1</td>\n",
       "      <td>10063</td>\n",
       "      <td>10327</td>\n",
       "      <td>chr1:10063-10327</td>\n",
       "    </tr>\n",
       "    <tr>\n",
       "      <th>1</th>\n",
       "      <td>chr1</td>\n",
       "      <td>180726</td>\n",
       "      <td>180979</td>\n",
       "      <td>chr1:180726-180979</td>\n",
       "    </tr>\n",
       "    <tr>\n",
       "      <th>2</th>\n",
       "      <td>chr1</td>\n",
       "      <td>181323</td>\n",
       "      <td>181566</td>\n",
       "      <td>chr1:181323-181566</td>\n",
       "    </tr>\n",
       "    <tr>\n",
       "      <th>3</th>\n",
       "      <td>chr1</td>\n",
       "      <td>190727</td>\n",
       "      <td>191632</td>\n",
       "      <td>chr1:190727-191632</td>\n",
       "    </tr>\n",
       "    <tr>\n",
       "      <th>4</th>\n",
       "      <td>chr1</td>\n",
       "      <td>777615</td>\n",
       "      <td>779293</td>\n",
       "      <td>chr1:777615-779293</td>\n",
       "    </tr>\n",
       "    <tr>\n",
       "      <th>...</th>\n",
       "      <td>...</td>\n",
       "      <td>...</td>\n",
       "      <td>...</td>\n",
       "      <td>...</td>\n",
       "    </tr>\n",
       "    <tr>\n",
       "      <th>304029</th>\n",
       "      <td>chrY</td>\n",
       "      <td>21821571</td>\n",
       "      <td>21822130</td>\n",
       "      <td>chrY:21821571-21822130</td>\n",
       "    </tr>\n",
       "    <tr>\n",
       "      <th>304030</th>\n",
       "      <td>chrY</td>\n",
       "      <td>21829019</td>\n",
       "      <td>21829544</td>\n",
       "      <td>chrY:21829019-21829544</td>\n",
       "    </tr>\n",
       "    <tr>\n",
       "      <th>304031</th>\n",
       "      <td>chrY</td>\n",
       "      <td>26352947</td>\n",
       "      <td>26353241</td>\n",
       "      <td>chrY:26352947-26353241</td>\n",
       "    </tr>\n",
       "    <tr>\n",
       "      <th>304032</th>\n",
       "      <td>chrY</td>\n",
       "      <td>26354174</td>\n",
       "      <td>26354520</td>\n",
       "      <td>chrY:26354174-26354520</td>\n",
       "    </tr>\n",
       "    <tr>\n",
       "      <th>304033</th>\n",
       "      <td>chrY</td>\n",
       "      <td>26670358</td>\n",
       "      <td>26671639</td>\n",
       "      <td>chrY:26670358-26671639</td>\n",
       "    </tr>\n",
       "  </tbody>\n",
       "</table>\n",
       "<p>304034 rows × 4 columns</p>\n",
       "</div>"
      ],
      "text/plain": [
       "       chrom     start       end                    name\n",
       "0       chr1     10063     10327        chr1:10063-10327\n",
       "1       chr1    180726    180979      chr1:180726-180979\n",
       "2       chr1    181323    181566      chr1:181323-181566\n",
       "3       chr1    190727    191632      chr1:190727-191632\n",
       "4       chr1    777615    779293      chr1:777615-779293\n",
       "...      ...       ...       ...                     ...\n",
       "304029  chrY  21821571  21822130  chrY:21821571-21822130\n",
       "304030  chrY  21829019  21829544  chrY:21829019-21829544\n",
       "304031  chrY  26352947  26353241  chrY:26352947-26353241\n",
       "304032  chrY  26354174  26354520  chrY:26354174-26354520\n",
       "304033  chrY  26670358  26671639  chrY:26670358-26671639\n",
       "\n",
       "[304034 rows x 4 columns]"
      ]
     },
     "execution_count": 186,
     "metadata": {},
     "output_type": "execute_result"
    }
   ],
   "source": [
    "bed_df"
   ]
  },
  {
   "cell_type": "code",
   "execution_count": 187,
   "id": "45d1c89c-d788-40a7-b495-165cfdca08ad",
   "metadata": {},
   "outputs": [
    {
     "name": "stdout",
     "output_type": "stream",
     "text": [
      "2024-03-09 12:04:04,467 cisTopic     INFO     Converting fragment matrix to sparse matrix\n",
      "2024-03-09 12:04:04,477 cisTopic     INFO     Creating CistopicObject\n"
     ]
    },
    {
     "name": "stderr",
     "output_type": "stream",
     "text": [
      "/home/ykazci/miniconda3/envs/scenicplus/lib/python3.8/site-packages/pycisTopic/cistopic_class.py:607: RuntimeWarning: divide by zero encountered in log10\n",
      "  np.log10(cisTopic_nr_frag),\n",
      "/home/ykazci/miniconda3/envs/scenicplus/lib/python3.8/site-packages/pycisTopic/cistopic_class.py:609: RuntimeWarning: divide by zero encountered in log10\n",
      "  np.log10(cisTopic_nr_acc),\n"
     ]
    },
    {
     "name": "stdout",
     "output_type": "stream",
     "text": [
      "2024-03-09 12:04:05,387 cisTopic     INFO     Done!\n"
     ]
    }
   ],
   "source": [
    "# Create cisTopic object\n",
    "from pycisTopic.cistopic_class import *\n",
    "#count_matrix=adata.X.T.astype(dtype=int)\n",
    "count_matrix=df\n",
    "path_to_blacklist='/fast/AG_Bunina/Yusuf/Project_Endothelial_and_Stroke/Datasets/Chromatin_and_Gene_Exp/2023_Zhu_et_al/Zhu_et_al_2023/Python_Project/ScenicPlus/Zhu_et_al/Zhu_et_al/data/hg38-blacklist.v2.bed'\n",
    "cistopic_obj = create_cistopic_object(fragment_matrix=count_matrix)\n",
    "# Adding cell information\n",
    "# cell_data =  adata.obs\n",
    "# cistopic_obj.add_cell_data(cell_data)"
   ]
  },
  {
   "cell_type": "code",
   "execution_count": 188,
   "id": "d7903999-7836-4430-8b08-6f669480c0b9",
   "metadata": {},
   "outputs": [
    {
     "data": {
      "text/plain": [
       "<pycisTopic.cistopic_class.CistopicObject at 0x2b0720287e50>"
      ]
     },
     "execution_count": 188,
     "metadata": {},
     "output_type": "execute_result"
    }
   ],
   "source": [
    "cistopic_obj"
   ]
  },
  {
   "cell_type": "code",
   "execution_count": 189,
   "id": "65705377-fab6-47b8-adb3-6a85b9fbe3bb",
   "metadata": {},
   "outputs": [
    {
     "data": {
      "text/plain": [
       "'Zhu_et_al/data/modified_peaks.bed.gz'"
      ]
     },
     "execution_count": 189,
     "metadata": {},
     "output_type": "execute_result"
    }
   ],
   "source": [
    "os.path.join(work_dir, 'data', 'modified_peaks.bed.gz')"
   ]
  },
  {
   "cell_type": "code",
   "execution_count": 190,
   "id": "06ea2577-1952-4906-bee4-93e2b4529662",
   "metadata": {},
   "outputs": [],
   "source": [
    "# import os\n",
    "# import pybedtools\n",
    "\n",
    "# Define the directory and filename for the output BED file\n",
    "output_bed_file = os.path.join(work_dir, 'data', 'modified_peaks.bed.gz')\n",
    "\n",
    "# Save the modified bed_df DataFrame to a BED file\n",
    "bed_df.to_csv(output_bed_file, sep='\\t', index=False, compression='gzip', header=False)\n"
   ]
  },
  {
   "cell_type": "code",
   "execution_count": null,
   "id": "3880ea64-00d4-4ab0-9b5d-6869c3407a67",
   "metadata": {},
   "outputs": [],
   "source": [
    "output_bed_file = os.path.join(work_dir, 'data', 'modified_peaks.bed.gz')"
   ]
  },
  {
   "cell_type": "code",
   "execution_count": 193,
   "id": "f877ee82-cc7a-48cc-b34a-92d526fb6ad0",
   "metadata": {},
   "outputs": [
    {
     "name": "stdout",
     "output_type": "stream",
     "text": [
      "2024-03-09 12:15:02,863 cisTopic     INFO     Converting fragment matrix to sparse matrix\n",
      "2024-03-09 12:15:02,875 cisTopic     INFO     Removing blacklisted regions\n"
     ]
    },
    {
     "ename": "AttributeError",
     "evalue": "('PyRanges object has no attribute', 'Chromosome')",
     "output_type": "error",
     "traceback": [
      "\u001b[0;31m---------------------------------------------------------------------------\u001b[0m",
      "\u001b[0;31mAttributeError\u001b[0m                            Traceback (most recent call last)",
      "Cell \u001b[0;32mIn[193], line 6\u001b[0m\n\u001b[1;32m      4\u001b[0m count_matrix\u001b[38;5;241m=\u001b[39mdf\n\u001b[1;32m      5\u001b[0m path_to_blacklist\u001b[38;5;241m=\u001b[39moutput_bed_file\n\u001b[0;32m----> 6\u001b[0m cistopic_obj \u001b[38;5;241m=\u001b[39m \u001b[43mcreate_cistopic_object\u001b[49m\u001b[43m(\u001b[49m\u001b[43mfragment_matrix\u001b[49m\u001b[38;5;241;43m=\u001b[39;49m\u001b[43mcount_matrix\u001b[49m\u001b[43m,\u001b[49m\u001b[43m \u001b[49m\u001b[43mpath_to_blacklist\u001b[49m\u001b[38;5;241;43m=\u001b[39;49m\u001b[43mpath_to_blacklist\u001b[49m\u001b[43m)\u001b[49m\n\u001b[1;32m      7\u001b[0m \u001b[38;5;66;03m# Adding cell information\u001b[39;00m\n\u001b[1;32m      8\u001b[0m \u001b[38;5;66;03m# cell_data =  adata.obs\u001b[39;00m\n\u001b[1;32m      9\u001b[0m \u001b[38;5;66;03m# cistopic_obj.add_cell_data(cell_data)\u001b[39;00m\n",
      "File \u001b[0;32m~/miniconda3/envs/scenicplus/lib/python3.8/site-packages/pycisTopic/cistopic_class.py:578\u001b[0m, in \u001b[0;36mcreate_cistopic_object\u001b[0;34m(fragment_matrix, cell_names, region_names, path_to_blacklist, min_frag, min_cell, is_acc, path_to_fragments, project, tag_cells, split_pattern)\u001b[0m\n\u001b[1;32m    575\u001b[0m blacklist \u001b[38;5;241m=\u001b[39m pr\u001b[38;5;241m.\u001b[39mread_bed(path_to_blacklist)\n\u001b[1;32m    576\u001b[0m regions \u001b[38;5;241m=\u001b[39m regions\u001b[38;5;241m.\u001b[39moverlap(blacklist, invert\u001b[38;5;241m=\u001b[39m\u001b[38;5;28;01mTrue\u001b[39;00m)\n\u001b[1;32m    577\u001b[0m selected_regions \u001b[38;5;241m=\u001b[39m (\n\u001b[0;32m--> 578\u001b[0m     \u001b[43mregions\u001b[49m\u001b[38;5;241;43m.\u001b[39;49m\u001b[43mChromosome\u001b[49m\u001b[38;5;241m.\u001b[39mastype(\u001b[38;5;28mstr\u001b[39m)\n\u001b[1;32m    579\u001b[0m     \u001b[38;5;241m+\u001b[39m \u001b[38;5;124m\"\u001b[39m\u001b[38;5;124m:\u001b[39m\u001b[38;5;124m\"\u001b[39m\n\u001b[1;32m    580\u001b[0m     \u001b[38;5;241m+\u001b[39m regions\u001b[38;5;241m.\u001b[39mStart\u001b[38;5;241m.\u001b[39mastype(\u001b[38;5;28mstr\u001b[39m)\n\u001b[1;32m    581\u001b[0m     \u001b[38;5;241m+\u001b[39m \u001b[38;5;124m\"\u001b[39m\u001b[38;5;124m-\u001b[39m\u001b[38;5;124m\"\u001b[39m\n\u001b[1;32m    582\u001b[0m     \u001b[38;5;241m+\u001b[39m regions\u001b[38;5;241m.\u001b[39mEnd\u001b[38;5;241m.\u001b[39mastype(\u001b[38;5;28mstr\u001b[39m)\n\u001b[1;32m    583\u001b[0m )\u001b[38;5;241m.\u001b[39mto_list()\n\u001b[1;32m    584\u001b[0m index \u001b[38;5;241m=\u001b[39m get_position_index(selected_regions, region_names)\n\u001b[1;32m    585\u001b[0m fragment_matrix \u001b[38;5;241m=\u001b[39m fragment_matrix[\n\u001b[1;32m    586\u001b[0m     index,\n\u001b[1;32m    587\u001b[0m ]\n",
      "File \u001b[0;32m~/miniconda3/envs/scenicplus/lib/python3.8/site-packages/pyranges/pyranges_main.py:265\u001b[0m, in \u001b[0;36mPyRanges.__getattr__\u001b[0;34m(self, name)\u001b[0m\n\u001b[1;32m    240\u001b[0m \u001b[38;5;250m\u001b[39m\u001b[38;5;124;03m\"\"\"Return column.\u001b[39;00m\n\u001b[1;32m    241\u001b[0m \n\u001b[1;32m    242\u001b[0m \u001b[38;5;124;03mParameters\u001b[39;00m\n\u001b[0;32m   (...)\u001b[0m\n\u001b[1;32m    260\u001b[0m \u001b[38;5;124;03mName: Start, dtype: int64\u001b[39;00m\n\u001b[1;32m    261\u001b[0m \u001b[38;5;124;03m\"\"\"\u001b[39;00m\n\u001b[1;32m    263\u001b[0m \u001b[38;5;28;01mfrom\u001b[39;00m \u001b[38;5;21;01mpyranges\u001b[39;00m\u001b[38;5;21;01m.\u001b[39;00m\u001b[38;5;21;01mmethods\u001b[39;00m\u001b[38;5;21;01m.\u001b[39;00m\u001b[38;5;21;01mattr\u001b[39;00m \u001b[38;5;28;01mimport\u001b[39;00m _getattr\n\u001b[0;32m--> 265\u001b[0m \u001b[38;5;28;01mreturn\u001b[39;00m \u001b[43m_getattr\u001b[49m\u001b[43m(\u001b[49m\u001b[38;5;28;43mself\u001b[39;49m\u001b[43m,\u001b[49m\u001b[43m \u001b[49m\u001b[43mname\u001b[49m\u001b[43m)\u001b[49m\n",
      "File \u001b[0;32m~/miniconda3/envs/scenicplus/lib/python3.8/site-packages/pyranges/methods/attr.py:65\u001b[0m, in \u001b[0;36m_getattr\u001b[0;34m(self, name)\u001b[0m\n\u001b[1;32m     63\u001b[0m     \u001b[38;5;28;01mreturn\u001b[39;00m pd\u001b[38;5;241m.\u001b[39mconcat([df[name] \u001b[38;5;28;01mfor\u001b[39;00m df \u001b[38;5;129;01min\u001b[39;00m \u001b[38;5;28mself\u001b[39m\u001b[38;5;241m.\u001b[39mvalues()])\n\u001b[1;32m     64\u001b[0m \u001b[38;5;28;01melse\u001b[39;00m:\n\u001b[0;32m---> 65\u001b[0m     \u001b[38;5;28;01mraise\u001b[39;00m \u001b[38;5;167;01mAttributeError\u001b[39;00m(\u001b[38;5;124m\"\u001b[39m\u001b[38;5;124mPyRanges object has no attribute\u001b[39m\u001b[38;5;124m\"\u001b[39m, name)\n",
      "\u001b[0;31mAttributeError\u001b[0m: ('PyRanges object has no attribute', 'Chromosome')"
     ]
    }
   ],
   "source": [
    "# Create cisTopic object\n",
    "from pycisTopic.cistopic_class import *\n",
    "#count_matrix=adata.X.T.astype(dtype=int)\n",
    "count_matrix=df\n",
    "path_to_blacklist=output_bed_file\n",
    "cistopic_obj = create_cistopic_object(fragment_matrix=count_matrix, path_to_blacklist=path_to_blacklist)\n",
    "# Adding cell information\n",
    "# cell_data =  adata.obs\n",
    "# cistopic_obj.add_cell_data(cell_data)"
   ]
  },
  {
   "cell_type": "code",
   "execution_count": 194,
   "id": "70afe797-6e15-4c4d-9aa8-9ba72b294ef7",
   "metadata": {},
   "outputs": [],
   "source": [
    "hg19_bed_file = output_bed_file = os.path.join(work_dir, 'data', 'hg19-blacklist.v2.bed')\n",
    "bed_data = pybedtools.BedTool(hg19_bed_file)\n",
    "bed_df = bed_data.to_dataframe()"
   ]
  },
  {
   "cell_type": "code",
   "execution_count": 195,
   "id": "2fdfa803-523f-4cda-8e7a-fddf91fd2556",
   "metadata": {},
   "outputs": [
    {
     "data": {
      "text/html": [
       "<div>\n",
       "<style scoped>\n",
       "    .dataframe tbody tr th:only-of-type {\n",
       "        vertical-align: middle;\n",
       "    }\n",
       "\n",
       "    .dataframe tbody tr th {\n",
       "        vertical-align: top;\n",
       "    }\n",
       "\n",
       "    .dataframe thead th {\n",
       "        text-align: right;\n",
       "    }\n",
       "</style>\n",
       "<table border=\"1\" class=\"dataframe\">\n",
       "  <thead>\n",
       "    <tr style=\"text-align: right;\">\n",
       "      <th></th>\n",
       "      <th>chrom</th>\n",
       "      <th>start</th>\n",
       "      <th>end</th>\n",
       "      <th>name</th>\n",
       "    </tr>\n",
       "  </thead>\n",
       "  <tbody>\n",
       "    <tr>\n",
       "      <th>0</th>\n",
       "      <td>chr10</td>\n",
       "      <td>38726200</td>\n",
       "      <td>42489100</td>\n",
       "      <td>High Signal Region</td>\n",
       "    </tr>\n",
       "    <tr>\n",
       "      <th>1</th>\n",
       "      <td>chr10</td>\n",
       "      <td>42524900</td>\n",
       "      <td>42819200</td>\n",
       "      <td>High Signal Region</td>\n",
       "    </tr>\n",
       "    <tr>\n",
       "      <th>2</th>\n",
       "      <td>chr10</td>\n",
       "      <td>98560400</td>\n",
       "      <td>98562500</td>\n",
       "      <td>High Signal Region</td>\n",
       "    </tr>\n",
       "    <tr>\n",
       "      <th>3</th>\n",
       "      <td>chr10</td>\n",
       "      <td>135437600</td>\n",
       "      <td>135534700</td>\n",
       "      <td>High Signal Region</td>\n",
       "    </tr>\n",
       "    <tr>\n",
       "      <th>4</th>\n",
       "      <td>chr11</td>\n",
       "      <td>0</td>\n",
       "      <td>196300</td>\n",
       "      <td>High Signal Region</td>\n",
       "    </tr>\n",
       "    <tr>\n",
       "      <th>...</th>\n",
       "      <td>...</td>\n",
       "      <td>...</td>\n",
       "      <td>...</td>\n",
       "      <td>...</td>\n",
       "    </tr>\n",
       "    <tr>\n",
       "      <th>829</th>\n",
       "      <td>chrX</td>\n",
       "      <td>154528900</td>\n",
       "      <td>154616300</td>\n",
       "      <td>High Signal Region</td>\n",
       "    </tr>\n",
       "    <tr>\n",
       "      <th>830</th>\n",
       "      <td>chrX</td>\n",
       "      <td>155038500</td>\n",
       "      <td>155270500</td>\n",
       "      <td>High Signal Region</td>\n",
       "    </tr>\n",
       "    <tr>\n",
       "      <th>831</th>\n",
       "      <td>chrY</td>\n",
       "      <td>7432700</td>\n",
       "      <td>13491000</td>\n",
       "      <td>High Signal Region</td>\n",
       "    </tr>\n",
       "    <tr>\n",
       "      <th>832</th>\n",
       "      <td>chrY</td>\n",
       "      <td>13633400</td>\n",
       "      <td>14289000</td>\n",
       "      <td>High Signal Region</td>\n",
       "    </tr>\n",
       "    <tr>\n",
       "      <th>833</th>\n",
       "      <td>chrY</td>\n",
       "      <td>28783400</td>\n",
       "      <td>59373500</td>\n",
       "      <td>High Signal Region</td>\n",
       "    </tr>\n",
       "  </tbody>\n",
       "</table>\n",
       "<p>834 rows × 4 columns</p>\n",
       "</div>"
      ],
      "text/plain": [
       "     chrom      start        end                name\n",
       "0    chr10   38726200   42489100  High Signal Region\n",
       "1    chr10   42524900   42819200  High Signal Region\n",
       "2    chr10   98560400   98562500  High Signal Region\n",
       "3    chr10  135437600  135534700  High Signal Region\n",
       "4    chr11          0     196300  High Signal Region\n",
       "..     ...        ...        ...                 ...\n",
       "829   chrX  154528900  154616300  High Signal Region\n",
       "830   chrX  155038500  155270500  High Signal Region\n",
       "831   chrY    7432700   13491000  High Signal Region\n",
       "832   chrY   13633400   14289000  High Signal Region\n",
       "833   chrY   28783400   59373500  High Signal Region\n",
       "\n",
       "[834 rows x 4 columns]"
      ]
     },
     "execution_count": 195,
     "metadata": {},
     "output_type": "execute_result"
    }
   ],
   "source": [
    "bed_df"
   ]
  },
  {
   "cell_type": "code",
   "execution_count": 196,
   "id": "d4a0b914-f4d6-4ee9-862e-c010331f635e",
   "metadata": {},
   "outputs": [
    {
     "name": "stdout",
     "output_type": "stream",
     "text": [
      "2024-03-09 12:19:29,665 cisTopic     INFO     Converting fragment matrix to sparse matrix\n",
      "2024-03-09 12:19:29,678 cisTopic     INFO     Removing blacklisted regions\n"
     ]
    },
    {
     "ename": "AttributeError",
     "evalue": "('PyRanges object has no attribute', 'Chromosome')",
     "output_type": "error",
     "traceback": [
      "\u001b[0;31m---------------------------------------------------------------------------\u001b[0m",
      "\u001b[0;31mAttributeError\u001b[0m                            Traceback (most recent call last)",
      "Cell \u001b[0;32mIn[196], line 6\u001b[0m\n\u001b[1;32m      4\u001b[0m count_matrix\u001b[38;5;241m=\u001b[39mdf\n\u001b[1;32m      5\u001b[0m path_to_blacklist\u001b[38;5;241m=\u001b[39mhg19_bed_file\n\u001b[0;32m----> 6\u001b[0m cistopic_obj \u001b[38;5;241m=\u001b[39m \u001b[43mcreate_cistopic_object\u001b[49m\u001b[43m(\u001b[49m\u001b[43mfragment_matrix\u001b[49m\u001b[38;5;241;43m=\u001b[39;49m\u001b[43mcount_matrix\u001b[49m\u001b[43m,\u001b[49m\u001b[43m \u001b[49m\u001b[43mpath_to_blacklist\u001b[49m\u001b[38;5;241;43m=\u001b[39;49m\u001b[43mpath_to_blacklist\u001b[49m\u001b[43m)\u001b[49m\n\u001b[1;32m      7\u001b[0m \u001b[38;5;66;03m# Adding cell information\u001b[39;00m\n\u001b[1;32m      8\u001b[0m \u001b[38;5;66;03m# cell_data =  adata.obs\u001b[39;00m\n\u001b[1;32m      9\u001b[0m \u001b[38;5;66;03m# cistopic_obj.add_cell_data(cell_data)\u001b[39;00m\n",
      "File \u001b[0;32m~/miniconda3/envs/scenicplus/lib/python3.8/site-packages/pycisTopic/cistopic_class.py:578\u001b[0m, in \u001b[0;36mcreate_cistopic_object\u001b[0;34m(fragment_matrix, cell_names, region_names, path_to_blacklist, min_frag, min_cell, is_acc, path_to_fragments, project, tag_cells, split_pattern)\u001b[0m\n\u001b[1;32m    575\u001b[0m blacklist \u001b[38;5;241m=\u001b[39m pr\u001b[38;5;241m.\u001b[39mread_bed(path_to_blacklist)\n\u001b[1;32m    576\u001b[0m regions \u001b[38;5;241m=\u001b[39m regions\u001b[38;5;241m.\u001b[39moverlap(blacklist, invert\u001b[38;5;241m=\u001b[39m\u001b[38;5;28;01mTrue\u001b[39;00m)\n\u001b[1;32m    577\u001b[0m selected_regions \u001b[38;5;241m=\u001b[39m (\n\u001b[0;32m--> 578\u001b[0m     \u001b[43mregions\u001b[49m\u001b[38;5;241;43m.\u001b[39;49m\u001b[43mChromosome\u001b[49m\u001b[38;5;241m.\u001b[39mastype(\u001b[38;5;28mstr\u001b[39m)\n\u001b[1;32m    579\u001b[0m     \u001b[38;5;241m+\u001b[39m \u001b[38;5;124m\"\u001b[39m\u001b[38;5;124m:\u001b[39m\u001b[38;5;124m\"\u001b[39m\n\u001b[1;32m    580\u001b[0m     \u001b[38;5;241m+\u001b[39m regions\u001b[38;5;241m.\u001b[39mStart\u001b[38;5;241m.\u001b[39mastype(\u001b[38;5;28mstr\u001b[39m)\n\u001b[1;32m    581\u001b[0m     \u001b[38;5;241m+\u001b[39m \u001b[38;5;124m\"\u001b[39m\u001b[38;5;124m-\u001b[39m\u001b[38;5;124m\"\u001b[39m\n\u001b[1;32m    582\u001b[0m     \u001b[38;5;241m+\u001b[39m regions\u001b[38;5;241m.\u001b[39mEnd\u001b[38;5;241m.\u001b[39mastype(\u001b[38;5;28mstr\u001b[39m)\n\u001b[1;32m    583\u001b[0m )\u001b[38;5;241m.\u001b[39mto_list()\n\u001b[1;32m    584\u001b[0m index \u001b[38;5;241m=\u001b[39m get_position_index(selected_regions, region_names)\n\u001b[1;32m    585\u001b[0m fragment_matrix \u001b[38;5;241m=\u001b[39m fragment_matrix[\n\u001b[1;32m    586\u001b[0m     index,\n\u001b[1;32m    587\u001b[0m ]\n",
      "File \u001b[0;32m~/miniconda3/envs/scenicplus/lib/python3.8/site-packages/pyranges/pyranges_main.py:265\u001b[0m, in \u001b[0;36mPyRanges.__getattr__\u001b[0;34m(self, name)\u001b[0m\n\u001b[1;32m    240\u001b[0m \u001b[38;5;250m\u001b[39m\u001b[38;5;124;03m\"\"\"Return column.\u001b[39;00m\n\u001b[1;32m    241\u001b[0m \n\u001b[1;32m    242\u001b[0m \u001b[38;5;124;03mParameters\u001b[39;00m\n\u001b[0;32m   (...)\u001b[0m\n\u001b[1;32m    260\u001b[0m \u001b[38;5;124;03mName: Start, dtype: int64\u001b[39;00m\n\u001b[1;32m    261\u001b[0m \u001b[38;5;124;03m\"\"\"\u001b[39;00m\n\u001b[1;32m    263\u001b[0m \u001b[38;5;28;01mfrom\u001b[39;00m \u001b[38;5;21;01mpyranges\u001b[39;00m\u001b[38;5;21;01m.\u001b[39;00m\u001b[38;5;21;01mmethods\u001b[39;00m\u001b[38;5;21;01m.\u001b[39;00m\u001b[38;5;21;01mattr\u001b[39;00m \u001b[38;5;28;01mimport\u001b[39;00m _getattr\n\u001b[0;32m--> 265\u001b[0m \u001b[38;5;28;01mreturn\u001b[39;00m \u001b[43m_getattr\u001b[49m\u001b[43m(\u001b[49m\u001b[38;5;28;43mself\u001b[39;49m\u001b[43m,\u001b[49m\u001b[43m \u001b[49m\u001b[43mname\u001b[49m\u001b[43m)\u001b[49m\n",
      "File \u001b[0;32m~/miniconda3/envs/scenicplus/lib/python3.8/site-packages/pyranges/methods/attr.py:65\u001b[0m, in \u001b[0;36m_getattr\u001b[0;34m(self, name)\u001b[0m\n\u001b[1;32m     63\u001b[0m     \u001b[38;5;28;01mreturn\u001b[39;00m pd\u001b[38;5;241m.\u001b[39mconcat([df[name] \u001b[38;5;28;01mfor\u001b[39;00m df \u001b[38;5;129;01min\u001b[39;00m \u001b[38;5;28mself\u001b[39m\u001b[38;5;241m.\u001b[39mvalues()])\n\u001b[1;32m     64\u001b[0m \u001b[38;5;28;01melse\u001b[39;00m:\n\u001b[0;32m---> 65\u001b[0m     \u001b[38;5;28;01mraise\u001b[39;00m \u001b[38;5;167;01mAttributeError\u001b[39;00m(\u001b[38;5;124m\"\u001b[39m\u001b[38;5;124mPyRanges object has no attribute\u001b[39m\u001b[38;5;124m\"\u001b[39m, name)\n",
      "\u001b[0;31mAttributeError\u001b[0m: ('PyRanges object has no attribute', 'Chromosome')"
     ]
    }
   ],
   "source": [
    "# Create cisTopic object\n",
    "from pycisTopic.cistopic_class import *\n",
    "#count_matrix=adata.X.T.astype(dtype=int)\n",
    "count_matrix=df\n",
    "path_to_blacklist=hg19_bed_file\n",
    "cistopic_obj = create_cistopic_object(fragment_matrix=count_matrix, path_to_blacklist=path_to_blacklist)\n",
    "# Adding cell information\n",
    "# cell_data =  adata.obs\n",
    "# cistopic_obj.add_cell_data(cell_data)"
   ]
  },
  {
   "cell_type": "code",
   "execution_count": 197,
   "id": "afe18626-b880-4838-8e78-0b61af121c9a",
   "metadata": {},
   "outputs": [],
   "source": [
    "blacklist = pr.read_bed(path_to_blacklist)"
   ]
  },
  {
   "cell_type": "code",
   "execution_count": 198,
   "id": "b0410a90-e676-4845-ab93-994f71621139",
   "metadata": {},
   "outputs": [
    {
     "data": {
      "text/html": [
       "<div>\n",
       "<style scoped>\n",
       "    .dataframe tbody tr th:only-of-type {\n",
       "        vertical-align: middle;\n",
       "    }\n",
       "\n",
       "    .dataframe tbody tr th {\n",
       "        vertical-align: top;\n",
       "    }\n",
       "\n",
       "    .dataframe thead th {\n",
       "        text-align: right;\n",
       "    }\n",
       "</style>\n",
       "<table border=\"1\" class=\"dataframe\">\n",
       "  <thead>\n",
       "    <tr style=\"text-align: right;\">\n",
       "      <th></th>\n",
       "      <th>Chromosome</th>\n",
       "      <th>Start</th>\n",
       "      <th>End</th>\n",
       "      <th>Name</th>\n",
       "    </tr>\n",
       "  </thead>\n",
       "  <tbody>\n",
       "    <tr>\n",
       "      <th>0</th>\n",
       "      <td>chr1</td>\n",
       "      <td>0</td>\n",
       "      <td>750100</td>\n",
       "      <td>High Signal Region</td>\n",
       "    </tr>\n",
       "    <tr>\n",
       "      <th>1</th>\n",
       "      <td>chr1</td>\n",
       "      <td>814500</td>\n",
       "      <td>845200</td>\n",
       "      <td>High Signal Region</td>\n",
       "    </tr>\n",
       "    <tr>\n",
       "      <th>2</th>\n",
       "      <td>chr1</td>\n",
       "      <td>2052400</td>\n",
       "      <td>2056000</td>\n",
       "      <td>High Signal Region</td>\n",
       "    </tr>\n",
       "    <tr>\n",
       "      <th>3</th>\n",
       "      <td>chr1</td>\n",
       "      <td>2582800</td>\n",
       "      <td>2693900</td>\n",
       "      <td>High Signal Region</td>\n",
       "    </tr>\n",
       "    <tr>\n",
       "      <th>4</th>\n",
       "      <td>chr1</td>\n",
       "      <td>4362200</td>\n",
       "      <td>4364300</td>\n",
       "      <td>High Signal Region</td>\n",
       "    </tr>\n",
       "    <tr>\n",
       "      <th>...</th>\n",
       "      <td>...</td>\n",
       "      <td>...</td>\n",
       "      <td>...</td>\n",
       "      <td>...</td>\n",
       "    </tr>\n",
       "    <tr>\n",
       "      <th>829</th>\n",
       "      <td>chrX</td>\n",
       "      <td>154528900</td>\n",
       "      <td>154616300</td>\n",
       "      <td>High Signal Region</td>\n",
       "    </tr>\n",
       "    <tr>\n",
       "      <th>830</th>\n",
       "      <td>chrX</td>\n",
       "      <td>155038500</td>\n",
       "      <td>155270500</td>\n",
       "      <td>High Signal Region</td>\n",
       "    </tr>\n",
       "    <tr>\n",
       "      <th>831</th>\n",
       "      <td>chrY</td>\n",
       "      <td>7432700</td>\n",
       "      <td>13491000</td>\n",
       "      <td>High Signal Region</td>\n",
       "    </tr>\n",
       "    <tr>\n",
       "      <th>832</th>\n",
       "      <td>chrY</td>\n",
       "      <td>13633400</td>\n",
       "      <td>14289000</td>\n",
       "      <td>High Signal Region</td>\n",
       "    </tr>\n",
       "    <tr>\n",
       "      <th>833</th>\n",
       "      <td>chrY</td>\n",
       "      <td>28783400</td>\n",
       "      <td>59373500</td>\n",
       "      <td>High Signal Region</td>\n",
       "    </tr>\n",
       "  </tbody>\n",
       "</table>\n",
       "<p>834 rows × 4 columns</p>\n",
       "</div>"
      ],
      "text/plain": [
       "+--------------+-----------+-----------+--------------------+\n",
       "| Chromosome   | Start     | End       | Name               |\n",
       "| (category)   | (int64)   | (int64)   | (object)           |\n",
       "|--------------+-----------+-----------+--------------------|\n",
       "| chr1         | 0         | 750100    | High Signal Region |\n",
       "| chr1         | 814500    | 845200    | High Signal Region |\n",
       "| chr1         | 2052400   | 2056000   | High Signal Region |\n",
       "| chr1         | 2582800   | 2693900   | High Signal Region |\n",
       "| ...          | ...       | ...       | ...                |\n",
       "| chrX         | 155038500 | 155270500 | High Signal Region |\n",
       "| chrX         | 154528900 | 154616300 | High Signal Region |\n",
       "| chrX         | 136518800 | 136521500 | High Signal Region |\n",
       "| chrX         | 134852300 | 134971100 | High Signal Region |\n",
       "| chrY         | 28783400  | 59373500  | High Signal Region |\n",
       "| chrY         | 13633400  | 14289000  | High Signal Region |\n",
       "| chrY         | 7432700   | 13491000  | High Signal Region |\n",
       "+--------------+-----------+-----------+--------------------+\n",
       "Unstranded PyRanges object has 834 rows and 4 columns from 24 chromosomes.\n",
       "For printing, the PyRanges was sorted on Chromosome."
      ]
     },
     "execution_count": 198,
     "metadata": {},
     "output_type": "execute_result"
    }
   ],
   "source": [
    "blacklist"
   ]
  },
  {
   "cell_type": "code",
   "execution_count": 199,
   "id": "5994e1c6-3f21-4ff7-a156-008790dc0419",
   "metadata": {},
   "outputs": [
    {
     "ename": "NameError",
     "evalue": "name 'regions' is not defined",
     "output_type": "error",
     "traceback": [
      "\u001b[0;31m---------------------------------------------------------------------------\u001b[0m",
      "\u001b[0;31mNameError\u001b[0m                                 Traceback (most recent call last)",
      "Cell \u001b[0;32mIn[199], line 1\u001b[0m\n\u001b[0;32m----> 1\u001b[0m regions \u001b[38;5;241m=\u001b[39m \u001b[43mregions\u001b[49m\u001b[38;5;241m.\u001b[39moverlap(blacklist, invert\u001b[38;5;241m=\u001b[39m\u001b[38;5;28;01mTrue\u001b[39;00m)\n",
      "\u001b[0;31mNameError\u001b[0m: name 'regions' is not defined"
     ]
    }
   ],
   "source": [
    "regions = regions.overlap(blacklist, invert=True)"
   ]
  },
  {
   "cell_type": "code",
   "execution_count": 200,
   "id": "9388b90a-9eb0-407b-8644-586b2ccbb4e7",
   "metadata": {},
   "outputs": [
    {
     "data": {
      "text/plain": [
       "Index(['chr1:10063-10327', 'chr1:180726-180979'], dtype='object')"
      ]
     },
     "execution_count": 200,
     "metadata": {},
     "output_type": "execute_result"
    }
   ],
   "source": [
    "df.index"
   ]
  },
  {
   "cell_type": "code",
   "execution_count": 201,
   "id": "0abc18fa-ce2e-471f-9a07-0ace2d07e827",
   "metadata": {},
   "outputs": [],
   "source": [
    "regions = df.index"
   ]
  },
  {
   "cell_type": "code",
   "execution_count": 202,
   "id": "d4c3cb9c-3a39-474c-afae-3fe94dd8a997",
   "metadata": {},
   "outputs": [
    {
     "ename": "AttributeError",
     "evalue": "'Index' object has no attribute 'overlap'",
     "output_type": "error",
     "traceback": [
      "\u001b[0;31m---------------------------------------------------------------------------\u001b[0m",
      "\u001b[0;31mAttributeError\u001b[0m                            Traceback (most recent call last)",
      "Cell \u001b[0;32mIn[202], line 1\u001b[0m\n\u001b[0;32m----> 1\u001b[0m regions \u001b[38;5;241m=\u001b[39m \u001b[43mregions\u001b[49m\u001b[38;5;241;43m.\u001b[39;49m\u001b[43moverlap\u001b[49m(blacklist, invert\u001b[38;5;241m=\u001b[39m\u001b[38;5;28;01mTrue\u001b[39;00m)\n",
      "\u001b[0;31mAttributeError\u001b[0m: 'Index' object has no attribute 'overlap'"
     ]
    }
   ],
   "source": [
    "regions = regions.overlap(blacklist, invert=True)"
   ]
  },
  {
   "cell_type": "code",
   "execution_count": 204,
   "id": "590fc2af-5b27-4867-9158-15f03e88f217",
   "metadata": {},
   "outputs": [
    {
     "data": {
      "text/plain": [
       "Interval(chr10:38726200-42489100)"
      ]
     },
     "execution_count": 204,
     "metadata": {},
     "output_type": "execute_result"
    }
   ],
   "source": [
    "bed_data[0]"
   ]
  },
  {
   "cell_type": "code",
   "execution_count": 205,
   "id": "b870ad5e-1c81-4f75-bb2b-bfee62cc28a4",
   "metadata": {},
   "outputs": [],
   "source": [
    "# It seesm that column names of my bed file is not compatible to the required type."
   ]
  },
  {
   "cell_type": "code",
   "execution_count": 207,
   "id": "bfd00967-f81e-4d95-a32f-dc2421a3a866",
   "metadata": {},
   "outputs": [],
   "source": [
    "hg38_bed_file = output_bed_file = os.path.join(work_dir, 'data', 'hg38-blacklist.v2.bed')"
   ]
  },
  {
   "cell_type": "code",
   "execution_count": 213,
   "id": "fd8def66-165f-43ad-9425-633122cacd09",
   "metadata": {},
   "outputs": [],
   "source": [
    "hg38_bed_data = pybedtools.BedTool(hg38_bed_file)"
   ]
  },
  {
   "cell_type": "code",
   "execution_count": 214,
   "id": "04c6d366-fc3f-4549-b1d2-909ad7c19076",
   "metadata": {},
   "outputs": [],
   "source": [
    "hg38_bed_df = hg38_bed_data.to_dataframe()"
   ]
  },
  {
   "cell_type": "code",
   "execution_count": 215,
   "id": "8280df22-4fac-4c3d-83d4-7a6d486c9dce",
   "metadata": {},
   "outputs": [
    {
     "data": {
      "text/html": [
       "<div>\n",
       "<style scoped>\n",
       "    .dataframe tbody tr th:only-of-type {\n",
       "        vertical-align: middle;\n",
       "    }\n",
       "\n",
       "    .dataframe tbody tr th {\n",
       "        vertical-align: top;\n",
       "    }\n",
       "\n",
       "    .dataframe thead th {\n",
       "        text-align: right;\n",
       "    }\n",
       "</style>\n",
       "<table border=\"1\" class=\"dataframe\">\n",
       "  <thead>\n",
       "    <tr style=\"text-align: right;\">\n",
       "      <th></th>\n",
       "      <th>chrom</th>\n",
       "      <th>start</th>\n",
       "      <th>end</th>\n",
       "      <th>name</th>\n",
       "    </tr>\n",
       "  </thead>\n",
       "  <tbody>\n",
       "    <tr>\n",
       "      <th>0</th>\n",
       "      <td>chr10</td>\n",
       "      <td>0</td>\n",
       "      <td>45700</td>\n",
       "      <td>Low Mappability</td>\n",
       "    </tr>\n",
       "    <tr>\n",
       "      <th>1</th>\n",
       "      <td>chr10</td>\n",
       "      <td>38481300</td>\n",
       "      <td>38596500</td>\n",
       "      <td>High Signal Region</td>\n",
       "    </tr>\n",
       "    <tr>\n",
       "      <th>2</th>\n",
       "      <td>chr10</td>\n",
       "      <td>38782600</td>\n",
       "      <td>38967900</td>\n",
       "      <td>High Signal Region</td>\n",
       "    </tr>\n",
       "    <tr>\n",
       "      <th>3</th>\n",
       "      <td>chr10</td>\n",
       "      <td>39901300</td>\n",
       "      <td>41712900</td>\n",
       "      <td>High Signal Region</td>\n",
       "    </tr>\n",
       "    <tr>\n",
       "      <th>4</th>\n",
       "      <td>chr10</td>\n",
       "      <td>41838900</td>\n",
       "      <td>42107300</td>\n",
       "      <td>High Signal Region</td>\n",
       "    </tr>\n",
       "    <tr>\n",
       "      <th>...</th>\n",
       "      <td>...</td>\n",
       "      <td>...</td>\n",
       "      <td>...</td>\n",
       "      <td>...</td>\n",
       "    </tr>\n",
       "    <tr>\n",
       "      <th>631</th>\n",
       "      <td>chrY</td>\n",
       "      <td>4343800</td>\n",
       "      <td>4345800</td>\n",
       "      <td>High Signal Region</td>\n",
       "    </tr>\n",
       "    <tr>\n",
       "      <th>632</th>\n",
       "      <td>chrY</td>\n",
       "      <td>10246200</td>\n",
       "      <td>11041200</td>\n",
       "      <td>High Signal Region</td>\n",
       "    </tr>\n",
       "    <tr>\n",
       "      <th>633</th>\n",
       "      <td>chrY</td>\n",
       "      <td>11072100</td>\n",
       "      <td>11335300</td>\n",
       "      <td>High Signal Region</td>\n",
       "    </tr>\n",
       "    <tr>\n",
       "      <th>634</th>\n",
       "      <td>chrY</td>\n",
       "      <td>11486600</td>\n",
       "      <td>11757800</td>\n",
       "      <td>High Signal Region</td>\n",
       "    </tr>\n",
       "    <tr>\n",
       "      <th>635</th>\n",
       "      <td>chrY</td>\n",
       "      <td>26637300</td>\n",
       "      <td>57227400</td>\n",
       "      <td>High Signal Region</td>\n",
       "    </tr>\n",
       "  </tbody>\n",
       "</table>\n",
       "<p>636 rows × 4 columns</p>\n",
       "</div>"
      ],
      "text/plain": [
       "     chrom     start       end                name\n",
       "0    chr10         0     45700     Low Mappability\n",
       "1    chr10  38481300  38596500  High Signal Region\n",
       "2    chr10  38782600  38967900  High Signal Region\n",
       "3    chr10  39901300  41712900  High Signal Region\n",
       "4    chr10  41838900  42107300  High Signal Region\n",
       "..     ...       ...       ...                 ...\n",
       "631   chrY   4343800   4345800  High Signal Region\n",
       "632   chrY  10246200  11041200  High Signal Region\n",
       "633   chrY  11072100  11335300  High Signal Region\n",
       "634   chrY  11486600  11757800  High Signal Region\n",
       "635   chrY  26637300  57227400  High Signal Region\n",
       "\n",
       "[636 rows x 4 columns]"
      ]
     },
     "execution_count": 215,
     "metadata": {},
     "output_type": "execute_result"
    }
   ],
   "source": [
    "hg38_bed_df"
   ]
  },
  {
   "cell_type": "code",
   "execution_count": 216,
   "id": "d4d18a0a-0083-4bb9-81f9-303ce18d8ee3",
   "metadata": {},
   "outputs": [
    {
     "name": "stdout",
     "output_type": "stream",
     "text": [
      "    Chromosome     Start       End                Name\n",
      "0        chr10         0     45700     Low Mappability\n",
      "1        chr10  38481300  38596500  High Signal Region\n",
      "2        chr10  38782600  38967900  High Signal Region\n",
      "3        chr10  39901300  41712900  High Signal Region\n",
      "4        chr10  41838900  42107300  High Signal Region\n",
      "..         ...       ...       ...                 ...\n",
      "631       chrY   4343800   4345800  High Signal Region\n",
      "632       chrY  10246200  11041200  High Signal Region\n",
      "633       chrY  11072100  11335300  High Signal Region\n",
      "634       chrY  11486600  11757800  High Signal Region\n",
      "635       chrY  26637300  57227400  High Signal Region\n",
      "\n",
      "[636 rows x 4 columns]\n"
     ]
    }
   ],
   "source": [
    "import pandas as pd\n",
    "\n",
    "# Assuming hg38_bed_df is your DataFrame\n",
    "hg38_bed_df.rename(columns={'chrom': 'Chromosome', 'start': 'Start', 'end': 'End', 'name': 'Name'}, inplace=True)\n",
    "\n",
    "# Print the DataFrame to verify the changes\n",
    "print(hg38_bed_df)\n"
   ]
  },
  {
   "cell_type": "code",
   "execution_count": 217,
   "id": "0826f65a-2d3b-4499-8474-87762c55c2a5",
   "metadata": {},
   "outputs": [
    {
     "data": {
      "text/html": [
       "<div>\n",
       "<style scoped>\n",
       "    .dataframe tbody tr th:only-of-type {\n",
       "        vertical-align: middle;\n",
       "    }\n",
       "\n",
       "    .dataframe tbody tr th {\n",
       "        vertical-align: top;\n",
       "    }\n",
       "\n",
       "    .dataframe thead th {\n",
       "        text-align: right;\n",
       "    }\n",
       "</style>\n",
       "<table border=\"1\" class=\"dataframe\">\n",
       "  <thead>\n",
       "    <tr style=\"text-align: right;\">\n",
       "      <th></th>\n",
       "      <th>Chromosome</th>\n",
       "      <th>Start</th>\n",
       "      <th>End</th>\n",
       "      <th>Name</th>\n",
       "    </tr>\n",
       "  </thead>\n",
       "  <tbody>\n",
       "    <tr>\n",
       "      <th>0</th>\n",
       "      <td>chr10</td>\n",
       "      <td>0</td>\n",
       "      <td>45700</td>\n",
       "      <td>Low Mappability</td>\n",
       "    </tr>\n",
       "    <tr>\n",
       "      <th>1</th>\n",
       "      <td>chr10</td>\n",
       "      <td>38481300</td>\n",
       "      <td>38596500</td>\n",
       "      <td>High Signal Region</td>\n",
       "    </tr>\n",
       "    <tr>\n",
       "      <th>2</th>\n",
       "      <td>chr10</td>\n",
       "      <td>38782600</td>\n",
       "      <td>38967900</td>\n",
       "      <td>High Signal Region</td>\n",
       "    </tr>\n",
       "    <tr>\n",
       "      <th>3</th>\n",
       "      <td>chr10</td>\n",
       "      <td>39901300</td>\n",
       "      <td>41712900</td>\n",
       "      <td>High Signal Region</td>\n",
       "    </tr>\n",
       "    <tr>\n",
       "      <th>4</th>\n",
       "      <td>chr10</td>\n",
       "      <td>41838900</td>\n",
       "      <td>42107300</td>\n",
       "      <td>High Signal Region</td>\n",
       "    </tr>\n",
       "    <tr>\n",
       "      <th>...</th>\n",
       "      <td>...</td>\n",
       "      <td>...</td>\n",
       "      <td>...</td>\n",
       "      <td>...</td>\n",
       "    </tr>\n",
       "    <tr>\n",
       "      <th>631</th>\n",
       "      <td>chrY</td>\n",
       "      <td>4343800</td>\n",
       "      <td>4345800</td>\n",
       "      <td>High Signal Region</td>\n",
       "    </tr>\n",
       "    <tr>\n",
       "      <th>632</th>\n",
       "      <td>chrY</td>\n",
       "      <td>10246200</td>\n",
       "      <td>11041200</td>\n",
       "      <td>High Signal Region</td>\n",
       "    </tr>\n",
       "    <tr>\n",
       "      <th>633</th>\n",
       "      <td>chrY</td>\n",
       "      <td>11072100</td>\n",
       "      <td>11335300</td>\n",
       "      <td>High Signal Region</td>\n",
       "    </tr>\n",
       "    <tr>\n",
       "      <th>634</th>\n",
       "      <td>chrY</td>\n",
       "      <td>11486600</td>\n",
       "      <td>11757800</td>\n",
       "      <td>High Signal Region</td>\n",
       "    </tr>\n",
       "    <tr>\n",
       "      <th>635</th>\n",
       "      <td>chrY</td>\n",
       "      <td>26637300</td>\n",
       "      <td>57227400</td>\n",
       "      <td>High Signal Region</td>\n",
       "    </tr>\n",
       "  </tbody>\n",
       "</table>\n",
       "<p>636 rows × 4 columns</p>\n",
       "</div>"
      ],
      "text/plain": [
       "    Chromosome     Start       End                Name\n",
       "0        chr10         0     45700     Low Mappability\n",
       "1        chr10  38481300  38596500  High Signal Region\n",
       "2        chr10  38782600  38967900  High Signal Region\n",
       "3        chr10  39901300  41712900  High Signal Region\n",
       "4        chr10  41838900  42107300  High Signal Region\n",
       "..         ...       ...       ...                 ...\n",
       "631       chrY   4343800   4345800  High Signal Region\n",
       "632       chrY  10246200  11041200  High Signal Region\n",
       "633       chrY  11072100  11335300  High Signal Region\n",
       "634       chrY  11486600  11757800  High Signal Region\n",
       "635       chrY  26637300  57227400  High Signal Region\n",
       "\n",
       "[636 rows x 4 columns]"
      ]
     },
     "execution_count": 217,
     "metadata": {},
     "output_type": "execute_result"
    }
   ],
   "source": [
    "hg38_bed_df"
   ]
  },
  {
   "cell_type": "code",
   "execution_count": 219,
   "id": "aac1e01e-b23e-4672-bdba-52eb4ef159ad",
   "metadata": {},
   "outputs": [],
   "source": [
    "\n",
    "# Define the directory and filename for the output BED file\n",
    "hg38_modified_bed_file = os.path.join(work_dir, 'data', 'hg38_modified.bed')\n",
    "\n",
    "# Save the modified bed_df DataFrame to a BED file\n",
    "hg38_bed_df.to_csv(hg38_modified_bed_file , sep='\\t', index=False, header=False)"
   ]
  },
  {
   "cell_type": "code",
   "execution_count": 220,
   "id": "f6a6e49c-2c92-4028-b848-b46077d7879e",
   "metadata": {},
   "outputs": [],
   "source": [
    "#hg38_modified.bed"
   ]
  },
  {
   "cell_type": "code",
   "execution_count": 221,
   "id": "87cae09a-c27a-4860-9282-61b8e4d4d940",
   "metadata": {},
   "outputs": [
    {
     "name": "stdout",
     "output_type": "stream",
     "text": [
      "2024-03-09 12:39:34,662 cisTopic     INFO     Converting fragment matrix to sparse matrix\n",
      "2024-03-09 12:39:34,675 cisTopic     INFO     Removing blacklisted regions\n"
     ]
    },
    {
     "ename": "AttributeError",
     "evalue": "('PyRanges object has no attribute', 'Chromosome')",
     "output_type": "error",
     "traceback": [
      "\u001b[0;31m---------------------------------------------------------------------------\u001b[0m",
      "\u001b[0;31mAttributeError\u001b[0m                            Traceback (most recent call last)",
      "Cell \u001b[0;32mIn[221], line 6\u001b[0m\n\u001b[1;32m      4\u001b[0m count_matrix\u001b[38;5;241m=\u001b[39mdf\n\u001b[1;32m      5\u001b[0m path_to_blacklist\u001b[38;5;241m=\u001b[39mhg38_modified_bed_file\n\u001b[0;32m----> 6\u001b[0m cistopic_obj \u001b[38;5;241m=\u001b[39m \u001b[43mcreate_cistopic_object\u001b[49m\u001b[43m(\u001b[49m\u001b[43mfragment_matrix\u001b[49m\u001b[38;5;241;43m=\u001b[39;49m\u001b[43mcount_matrix\u001b[49m\u001b[43m,\u001b[49m\u001b[43m \u001b[49m\u001b[43mpath_to_blacklist\u001b[49m\u001b[38;5;241;43m=\u001b[39;49m\u001b[43mpath_to_blacklist\u001b[49m\u001b[43m)\u001b[49m\n\u001b[1;32m      7\u001b[0m \u001b[38;5;66;03m# Adding cell information\u001b[39;00m\n\u001b[1;32m      8\u001b[0m \u001b[38;5;66;03m# cell_data =  adata.obs\u001b[39;00m\n\u001b[1;32m      9\u001b[0m \u001b[38;5;66;03m# cistopic_obj.add_cell_data(cell_data)\u001b[39;00m\n",
      "File \u001b[0;32m~/miniconda3/envs/scenicplus/lib/python3.8/site-packages/pycisTopic/cistopic_class.py:578\u001b[0m, in \u001b[0;36mcreate_cistopic_object\u001b[0;34m(fragment_matrix, cell_names, region_names, path_to_blacklist, min_frag, min_cell, is_acc, path_to_fragments, project, tag_cells, split_pattern)\u001b[0m\n\u001b[1;32m    575\u001b[0m blacklist \u001b[38;5;241m=\u001b[39m pr\u001b[38;5;241m.\u001b[39mread_bed(path_to_blacklist)\n\u001b[1;32m    576\u001b[0m regions \u001b[38;5;241m=\u001b[39m regions\u001b[38;5;241m.\u001b[39moverlap(blacklist, invert\u001b[38;5;241m=\u001b[39m\u001b[38;5;28;01mTrue\u001b[39;00m)\n\u001b[1;32m    577\u001b[0m selected_regions \u001b[38;5;241m=\u001b[39m (\n\u001b[0;32m--> 578\u001b[0m     \u001b[43mregions\u001b[49m\u001b[38;5;241;43m.\u001b[39;49m\u001b[43mChromosome\u001b[49m\u001b[38;5;241m.\u001b[39mastype(\u001b[38;5;28mstr\u001b[39m)\n\u001b[1;32m    579\u001b[0m     \u001b[38;5;241m+\u001b[39m \u001b[38;5;124m\"\u001b[39m\u001b[38;5;124m:\u001b[39m\u001b[38;5;124m\"\u001b[39m\n\u001b[1;32m    580\u001b[0m     \u001b[38;5;241m+\u001b[39m regions\u001b[38;5;241m.\u001b[39mStart\u001b[38;5;241m.\u001b[39mastype(\u001b[38;5;28mstr\u001b[39m)\n\u001b[1;32m    581\u001b[0m     \u001b[38;5;241m+\u001b[39m \u001b[38;5;124m\"\u001b[39m\u001b[38;5;124m-\u001b[39m\u001b[38;5;124m\"\u001b[39m\n\u001b[1;32m    582\u001b[0m     \u001b[38;5;241m+\u001b[39m regions\u001b[38;5;241m.\u001b[39mEnd\u001b[38;5;241m.\u001b[39mastype(\u001b[38;5;28mstr\u001b[39m)\n\u001b[1;32m    583\u001b[0m )\u001b[38;5;241m.\u001b[39mto_list()\n\u001b[1;32m    584\u001b[0m index \u001b[38;5;241m=\u001b[39m get_position_index(selected_regions, region_names)\n\u001b[1;32m    585\u001b[0m fragment_matrix \u001b[38;5;241m=\u001b[39m fragment_matrix[\n\u001b[1;32m    586\u001b[0m     index,\n\u001b[1;32m    587\u001b[0m ]\n",
      "File \u001b[0;32m~/miniconda3/envs/scenicplus/lib/python3.8/site-packages/pyranges/pyranges_main.py:265\u001b[0m, in \u001b[0;36mPyRanges.__getattr__\u001b[0;34m(self, name)\u001b[0m\n\u001b[1;32m    240\u001b[0m \u001b[38;5;250m\u001b[39m\u001b[38;5;124;03m\"\"\"Return column.\u001b[39;00m\n\u001b[1;32m    241\u001b[0m \n\u001b[1;32m    242\u001b[0m \u001b[38;5;124;03mParameters\u001b[39;00m\n\u001b[0;32m   (...)\u001b[0m\n\u001b[1;32m    260\u001b[0m \u001b[38;5;124;03mName: Start, dtype: int64\u001b[39;00m\n\u001b[1;32m    261\u001b[0m \u001b[38;5;124;03m\"\"\"\u001b[39;00m\n\u001b[1;32m    263\u001b[0m \u001b[38;5;28;01mfrom\u001b[39;00m \u001b[38;5;21;01mpyranges\u001b[39;00m\u001b[38;5;21;01m.\u001b[39;00m\u001b[38;5;21;01mmethods\u001b[39;00m\u001b[38;5;21;01m.\u001b[39;00m\u001b[38;5;21;01mattr\u001b[39;00m \u001b[38;5;28;01mimport\u001b[39;00m _getattr\n\u001b[0;32m--> 265\u001b[0m \u001b[38;5;28;01mreturn\u001b[39;00m \u001b[43m_getattr\u001b[49m\u001b[43m(\u001b[49m\u001b[38;5;28;43mself\u001b[39;49m\u001b[43m,\u001b[49m\u001b[43m \u001b[49m\u001b[43mname\u001b[49m\u001b[43m)\u001b[49m\n",
      "File \u001b[0;32m~/miniconda3/envs/scenicplus/lib/python3.8/site-packages/pyranges/methods/attr.py:65\u001b[0m, in \u001b[0;36m_getattr\u001b[0;34m(self, name)\u001b[0m\n\u001b[1;32m     63\u001b[0m     \u001b[38;5;28;01mreturn\u001b[39;00m pd\u001b[38;5;241m.\u001b[39mconcat([df[name] \u001b[38;5;28;01mfor\u001b[39;00m df \u001b[38;5;129;01min\u001b[39;00m \u001b[38;5;28mself\u001b[39m\u001b[38;5;241m.\u001b[39mvalues()])\n\u001b[1;32m     64\u001b[0m \u001b[38;5;28;01melse\u001b[39;00m:\n\u001b[0;32m---> 65\u001b[0m     \u001b[38;5;28;01mraise\u001b[39;00m \u001b[38;5;167;01mAttributeError\u001b[39;00m(\u001b[38;5;124m\"\u001b[39m\u001b[38;5;124mPyRanges object has no attribute\u001b[39m\u001b[38;5;124m\"\u001b[39m, name)\n",
      "\u001b[0;31mAttributeError\u001b[0m: ('PyRanges object has no attribute', 'Chromosome')"
     ]
    }
   ],
   "source": [
    "# Create cisTopic object\n",
    "from pycisTopic.cistopic_class import *\n",
    "#count_matrix=adata.X.T.astype(dtype=int)\n",
    "count_matrix=df\n",
    "path_to_blacklist=hg38_modified_bed_file\n",
    "cistopic_obj = create_cistopic_object(fragment_matrix=count_matrix, path_to_blacklist=path_to_blacklist)\n",
    "# Adding cell information\n",
    "# cell_data =  adata.obs\n",
    "# cistopic_obj.add_cell_data(cell_data)"
   ]
  },
  {
   "cell_type": "code",
   "execution_count": 222,
   "id": "1fa79623-a218-46b1-aaa7-3673d1c6f698",
   "metadata": {},
   "outputs": [
    {
     "data": {
      "text/html": [
       "<div>\n",
       "<style scoped>\n",
       "    .dataframe tbody tr th:only-of-type {\n",
       "        vertical-align: middle;\n",
       "    }\n",
       "\n",
       "    .dataframe tbody tr th {\n",
       "        vertical-align: top;\n",
       "    }\n",
       "\n",
       "    .dataframe thead th {\n",
       "        text-align: right;\n",
       "    }\n",
       "</style>\n",
       "<table border=\"1\" class=\"dataframe\">\n",
       "  <thead>\n",
       "    <tr style=\"text-align: right;\">\n",
       "      <th></th>\n",
       "      <th>4_AAACAGCCAACACTTG-1</th>\n",
       "      <th>4_AAACAGCCACCAAAGG-1</th>\n",
       "      <th>4_AAACAGCCATAAGTTC-1</th>\n",
       "      <th>4_AAACATGCATAGTCAT-1</th>\n",
       "      <th>4_AAACATGCATTGTCAG-1</th>\n",
       "      <th>4_AAACATGCATTGTGAT-1</th>\n",
       "      <th>4_AAACCGCGTCACCTAT-1</th>\n",
       "      <th>4_AAACCGCGTCAGGAAG-1</th>\n",
       "      <th>4_AAACCGGCAAGCCACT-1</th>\n",
       "      <th>4_AAACCGGCACATTGCA-1</th>\n",
       "      <th>...</th>\n",
       "      <th>150666_TTTGCATTCATGCTCC-1</th>\n",
       "      <th>150666_TTTGCGACATTTAAGC-1</th>\n",
       "      <th>150666_TTTGGCTGTAATGGAA-1</th>\n",
       "      <th>150666_TTTGGCTGTGACCTGG-1</th>\n",
       "      <th>150666_TTTGTCTAGGATGATG-1</th>\n",
       "      <th>150666_TTTGTGAAGACAACAG-1</th>\n",
       "      <th>150666_TTTGTGAAGGCTGTGC-1</th>\n",
       "      <th>150666_TTTGTGAAGTAAGAAC-1</th>\n",
       "      <th>150666_TTTGTGAAGTCTTGAA-1</th>\n",
       "      <th>150666_TTTGTTGGTGATCAGC-1</th>\n",
       "    </tr>\n",
       "  </thead>\n",
       "  <tbody>\n",
       "    <tr>\n",
       "      <th>chr1:10063-10327</th>\n",
       "      <td>0</td>\n",
       "      <td>0</td>\n",
       "      <td>0</td>\n",
       "      <td>0</td>\n",
       "      <td>0</td>\n",
       "      <td>0</td>\n",
       "      <td>0</td>\n",
       "      <td>0</td>\n",
       "      <td>0</td>\n",
       "      <td>0</td>\n",
       "      <td>...</td>\n",
       "      <td>0</td>\n",
       "      <td>0</td>\n",
       "      <td>0</td>\n",
       "      <td>0</td>\n",
       "      <td>0</td>\n",
       "      <td>0</td>\n",
       "      <td>0</td>\n",
       "      <td>0</td>\n",
       "      <td>0</td>\n",
       "      <td>0</td>\n",
       "    </tr>\n",
       "    <tr>\n",
       "      <th>chr1:180726-180979</th>\n",
       "      <td>0</td>\n",
       "      <td>0</td>\n",
       "      <td>0</td>\n",
       "      <td>0</td>\n",
       "      <td>0</td>\n",
       "      <td>0</td>\n",
       "      <td>0</td>\n",
       "      <td>0</td>\n",
       "      <td>0</td>\n",
       "      <td>0</td>\n",
       "      <td>...</td>\n",
       "      <td>0</td>\n",
       "      <td>0</td>\n",
       "      <td>0</td>\n",
       "      <td>0</td>\n",
       "      <td>0</td>\n",
       "      <td>0</td>\n",
       "      <td>0</td>\n",
       "      <td>0</td>\n",
       "      <td>0</td>\n",
       "      <td>0</td>\n",
       "    </tr>\n",
       "  </tbody>\n",
       "</table>\n",
       "<p>2 rows × 45549 columns</p>\n",
       "</div>"
      ],
      "text/plain": [
       "                    4_AAACAGCCAACACTTG-1  4_AAACAGCCACCAAAGG-1  \\\n",
       "chr1:10063-10327                       0                     0   \n",
       "chr1:180726-180979                     0                     0   \n",
       "\n",
       "                    4_AAACAGCCATAAGTTC-1  4_AAACATGCATAGTCAT-1  \\\n",
       "chr1:10063-10327                       0                     0   \n",
       "chr1:180726-180979                     0                     0   \n",
       "\n",
       "                    4_AAACATGCATTGTCAG-1  4_AAACATGCATTGTGAT-1  \\\n",
       "chr1:10063-10327                       0                     0   \n",
       "chr1:180726-180979                     0                     0   \n",
       "\n",
       "                    4_AAACCGCGTCACCTAT-1  4_AAACCGCGTCAGGAAG-1  \\\n",
       "chr1:10063-10327                       0                     0   \n",
       "chr1:180726-180979                     0                     0   \n",
       "\n",
       "                    4_AAACCGGCAAGCCACT-1  4_AAACCGGCACATTGCA-1  ...  \\\n",
       "chr1:10063-10327                       0                     0  ...   \n",
       "chr1:180726-180979                     0                     0  ...   \n",
       "\n",
       "                    150666_TTTGCATTCATGCTCC-1  150666_TTTGCGACATTTAAGC-1  \\\n",
       "chr1:10063-10327                            0                          0   \n",
       "chr1:180726-180979                          0                          0   \n",
       "\n",
       "                    150666_TTTGGCTGTAATGGAA-1  150666_TTTGGCTGTGACCTGG-1  \\\n",
       "chr1:10063-10327                            0                          0   \n",
       "chr1:180726-180979                          0                          0   \n",
       "\n",
       "                    150666_TTTGTCTAGGATGATG-1  150666_TTTGTGAAGACAACAG-1  \\\n",
       "chr1:10063-10327                            0                          0   \n",
       "chr1:180726-180979                          0                          0   \n",
       "\n",
       "                    150666_TTTGTGAAGGCTGTGC-1  150666_TTTGTGAAGTAAGAAC-1  \\\n",
       "chr1:10063-10327                            0                          0   \n",
       "chr1:180726-180979                          0                          0   \n",
       "\n",
       "                    150666_TTTGTGAAGTCTTGAA-1  150666_TTTGTTGGTGATCAGC-1  \n",
       "chr1:10063-10327                            0                          0  \n",
       "chr1:180726-180979                          0                          0  \n",
       "\n",
       "[2 rows x 45549 columns]"
      ]
     },
     "execution_count": 222,
     "metadata": {},
     "output_type": "execute_result"
    }
   ],
   "source": [
    "df"
   ]
  },
  {
   "cell_type": "code",
   "execution_count": 234,
   "id": "b4fd1688-fb2d-4d88-aa0d-130e270c30c2",
   "metadata": {
    "tags": []
   },
   "outputs": [
    {
     "data": {
      "text/plain": [
       "['chr1-10063-10327',\n",
       " 'chr1-180726-180979',\n",
       " 'chr1-181323-181566',\n",
       " 'chr1-190727-191632',\n",
       " 'chr1-777615-779293']"
      ]
     },
     "execution_count": 234,
     "metadata": {},
     "output_type": "execute_result"
    }
   ],
   "source": [
    "region_names[0:5]"
   ]
  },
  {
   "cell_type": "code",
   "execution_count": 225,
   "id": "44043e4d-82ef-47f0-b1ef-2ab46e5ed652",
   "metadata": {},
   "outputs": [
    {
     "data": {
      "text/html": [
       "<div>\n",
       "<style scoped>\n",
       "    .dataframe tbody tr th:only-of-type {\n",
       "        vertical-align: middle;\n",
       "    }\n",
       "\n",
       "    .dataframe tbody tr th {\n",
       "        vertical-align: top;\n",
       "    }\n",
       "\n",
       "    .dataframe thead th {\n",
       "        text-align: right;\n",
       "    }\n",
       "</style>\n",
       "<table border=\"1\" class=\"dataframe\">\n",
       "  <thead>\n",
       "    <tr style=\"text-align: right;\">\n",
       "      <th></th>\n",
       "      <th>Chromosome</th>\n",
       "      <th>Start</th>\n",
       "      <th>End</th>\n",
       "    </tr>\n",
       "  </thead>\n",
       "  <tbody>\n",
       "    <tr>\n",
       "      <th>chr1:10063-10327</th>\n",
       "      <td>chr1</td>\n",
       "      <td>10063</td>\n",
       "      <td>10327</td>\n",
       "    </tr>\n",
       "    <tr>\n",
       "      <th>chr1:180726-180979</th>\n",
       "      <td>chr1</td>\n",
       "      <td>180726</td>\n",
       "      <td>180979</td>\n",
       "    </tr>\n",
       "    <tr>\n",
       "      <th>chr1:181323-181566</th>\n",
       "      <td>chr1</td>\n",
       "      <td>181323</td>\n",
       "      <td>181566</td>\n",
       "    </tr>\n",
       "    <tr>\n",
       "      <th>chr1:190727-191632</th>\n",
       "      <td>chr1</td>\n",
       "      <td>190727</td>\n",
       "      <td>191632</td>\n",
       "    </tr>\n",
       "    <tr>\n",
       "      <th>chr1:777615-779293</th>\n",
       "      <td>chr1</td>\n",
       "      <td>777615</td>\n",
       "      <td>779293</td>\n",
       "    </tr>\n",
       "    <tr>\n",
       "      <th>...</th>\n",
       "      <td>...</td>\n",
       "      <td>...</td>\n",
       "      <td>...</td>\n",
       "    </tr>\n",
       "    <tr>\n",
       "      <th>chrY:21821571-21822130</th>\n",
       "      <td>chrY</td>\n",
       "      <td>21821571</td>\n",
       "      <td>21822130</td>\n",
       "    </tr>\n",
       "    <tr>\n",
       "      <th>chrY:21829019-21829544</th>\n",
       "      <td>chrY</td>\n",
       "      <td>21829019</td>\n",
       "      <td>21829544</td>\n",
       "    </tr>\n",
       "    <tr>\n",
       "      <th>chrY:26352947-26353241</th>\n",
       "      <td>chrY</td>\n",
       "      <td>26352947</td>\n",
       "      <td>26353241</td>\n",
       "    </tr>\n",
       "    <tr>\n",
       "      <th>chrY:26354174-26354520</th>\n",
       "      <td>chrY</td>\n",
       "      <td>26354174</td>\n",
       "      <td>26354520</td>\n",
       "    </tr>\n",
       "    <tr>\n",
       "      <th>chrY:26670358-26671639</th>\n",
       "      <td>chrY</td>\n",
       "      <td>26670358</td>\n",
       "      <td>26671639</td>\n",
       "    </tr>\n",
       "  </tbody>\n",
       "</table>\n",
       "<p>304034 rows × 3 columns</p>\n",
       "</div>"
      ],
      "text/plain": [
       "                       Chromosome     Start       End\n",
       "chr1:10063-10327             chr1     10063     10327\n",
       "chr1:180726-180979           chr1    180726    180979\n",
       "chr1:181323-181566           chr1    181323    181566\n",
       "chr1:190727-191632           chr1    190727    191632\n",
       "chr1:777615-779293           chr1    777615    779293\n",
       "...                           ...       ...       ...\n",
       "chrY:21821571-21822130       chrY  21821571  21822130\n",
       "chrY:21829019-21829544       chrY  21829019  21829544\n",
       "chrY:26352947-26353241       chrY  26352947  26353241\n",
       "chrY:26354174-26354520       chrY  26354174  26354520\n",
       "chrY:26670358-26671639       chrY  26670358  26671639\n",
       "\n",
       "[304034 rows x 3 columns]"
      ]
     },
     "execution_count": 225,
     "metadata": {},
     "output_type": "execute_result"
    }
   ],
   "source": [
    "region_names_to_coordinates(modified_region_names)"
   ]
  },
  {
   "cell_type": "code",
   "execution_count": 226,
   "id": "af346340-699e-4d41-a544-0beb63dea3b0",
   "metadata": {},
   "outputs": [
    {
     "data": {
      "text/html": [
       "<div>\n",
       "<style scoped>\n",
       "    .dataframe tbody tr th:only-of-type {\n",
       "        vertical-align: middle;\n",
       "    }\n",
       "\n",
       "    .dataframe tbody tr th {\n",
       "        vertical-align: top;\n",
       "    }\n",
       "\n",
       "    .dataframe thead th {\n",
       "        text-align: right;\n",
       "    }\n",
       "</style>\n",
       "<table border=\"1\" class=\"dataframe\">\n",
       "  <thead>\n",
       "    <tr style=\"text-align: right;\">\n",
       "      <th></th>\n",
       "      <th>Chromosome</th>\n",
       "      <th>Start</th>\n",
       "      <th>End</th>\n",
       "    </tr>\n",
       "  </thead>\n",
       "  <tbody>\n",
       "    <tr>\n",
       "      <th>chr1:10063-10327</th>\n",
       "      <td>chr1</td>\n",
       "      <td>10063</td>\n",
       "      <td>10327</td>\n",
       "    </tr>\n",
       "    <tr>\n",
       "      <th>chr1:180726-180979</th>\n",
       "      <td>chr1</td>\n",
       "      <td>180726</td>\n",
       "      <td>180979</td>\n",
       "    </tr>\n",
       "  </tbody>\n",
       "</table>\n",
       "</div>"
      ],
      "text/plain": [
       "                   Chromosome   Start     End\n",
       "chr1:10063-10327         chr1   10063   10327\n",
       "chr1:180726-180979       chr1  180726  180979"
      ]
     },
     "execution_count": 226,
     "metadata": {},
     "output_type": "execute_result"
    }
   ],
   "source": [
    "region_names_to_coordinates(df.index)"
   ]
  },
  {
   "cell_type": "code",
   "execution_count": 229,
   "id": "b6b0e3ac-004b-4395-88a8-80a9533451ac",
   "metadata": {},
   "outputs": [],
   "source": [
    "example_region = region_names_to_coordinates(df.index)"
   ]
  },
  {
   "cell_type": "code",
   "execution_count": 232,
   "id": "2e973d22-8e0e-4928-bb14-c436d3151c50",
   "metadata": {},
   "outputs": [
    {
     "data": {
      "text/html": [
       "<div>\n",
       "<style scoped>\n",
       "    .dataframe tbody tr th:only-of-type {\n",
       "        vertical-align: middle;\n",
       "    }\n",
       "\n",
       "    .dataframe tbody tr th {\n",
       "        vertical-align: top;\n",
       "    }\n",
       "\n",
       "    .dataframe thead th {\n",
       "        text-align: right;\n",
       "    }\n",
       "</style>\n",
       "<table border=\"1\" class=\"dataframe\">\n",
       "  <thead>\n",
       "    <tr style=\"text-align: right;\">\n",
       "      <th></th>\n",
       "      <th>Chromosome</th>\n",
       "      <th>Start</th>\n",
       "      <th>End</th>\n",
       "    </tr>\n",
       "  </thead>\n",
       "  <tbody>\n",
       "    <tr>\n",
       "      <th>chr1:10063-10327</th>\n",
       "      <td>chr1</td>\n",
       "      <td>10063</td>\n",
       "      <td>10327</td>\n",
       "    </tr>\n",
       "    <tr>\n",
       "      <th>chr1:180726-180979</th>\n",
       "      <td>chr1</td>\n",
       "      <td>180726</td>\n",
       "      <td>180979</td>\n",
       "    </tr>\n",
       "  </tbody>\n",
       "</table>\n",
       "</div>"
      ],
      "text/plain": [
       "                   Chromosome   Start     End\n",
       "chr1:10063-10327         chr1   10063   10327\n",
       "chr1:180726-180979       chr1  180726  180979"
      ]
     },
     "execution_count": 232,
     "metadata": {},
     "output_type": "execute_result"
    }
   ],
   "source": [
    "example_region"
   ]
  },
  {
   "cell_type": "code",
   "execution_count": 235,
   "id": "fa231586-26c7-4499-be79-763773393121",
   "metadata": {},
   "outputs": [
    {
     "data": {
      "text/html": [
       "<div>\n",
       "<style scoped>\n",
       "    .dataframe tbody tr th:only-of-type {\n",
       "        vertical-align: middle;\n",
       "    }\n",
       "\n",
       "    .dataframe tbody tr th {\n",
       "        vertical-align: top;\n",
       "    }\n",
       "\n",
       "    .dataframe thead th {\n",
       "        text-align: right;\n",
       "    }\n",
       "</style>\n",
       "<table border=\"1\" class=\"dataframe\">\n",
       "  <thead>\n",
       "    <tr style=\"text-align: right;\">\n",
       "      <th></th>\n",
       "      <th>Chromosome</th>\n",
       "      <th>Start</th>\n",
       "      <th>End</th>\n",
       "      <th>Name</th>\n",
       "    </tr>\n",
       "  </thead>\n",
       "  <tbody>\n",
       "    <tr>\n",
       "      <th>0</th>\n",
       "      <td>chr10</td>\n",
       "      <td>0</td>\n",
       "      <td>45700</td>\n",
       "      <td>Low Mappability</td>\n",
       "    </tr>\n",
       "    <tr>\n",
       "      <th>1</th>\n",
       "      <td>chr10</td>\n",
       "      <td>38481300</td>\n",
       "      <td>38596500</td>\n",
       "      <td>High Signal Region</td>\n",
       "    </tr>\n",
       "    <tr>\n",
       "      <th>2</th>\n",
       "      <td>chr10</td>\n",
       "      <td>38782600</td>\n",
       "      <td>38967900</td>\n",
       "      <td>High Signal Region</td>\n",
       "    </tr>\n",
       "    <tr>\n",
       "      <th>3</th>\n",
       "      <td>chr10</td>\n",
       "      <td>39901300</td>\n",
       "      <td>41712900</td>\n",
       "      <td>High Signal Region</td>\n",
       "    </tr>\n",
       "    <tr>\n",
       "      <th>4</th>\n",
       "      <td>chr10</td>\n",
       "      <td>41838900</td>\n",
       "      <td>42107300</td>\n",
       "      <td>High Signal Region</td>\n",
       "    </tr>\n",
       "    <tr>\n",
       "      <th>...</th>\n",
       "      <td>...</td>\n",
       "      <td>...</td>\n",
       "      <td>...</td>\n",
       "      <td>...</td>\n",
       "    </tr>\n",
       "    <tr>\n",
       "      <th>631</th>\n",
       "      <td>chrY</td>\n",
       "      <td>4343800</td>\n",
       "      <td>4345800</td>\n",
       "      <td>High Signal Region</td>\n",
       "    </tr>\n",
       "    <tr>\n",
       "      <th>632</th>\n",
       "      <td>chrY</td>\n",
       "      <td>10246200</td>\n",
       "      <td>11041200</td>\n",
       "      <td>High Signal Region</td>\n",
       "    </tr>\n",
       "    <tr>\n",
       "      <th>633</th>\n",
       "      <td>chrY</td>\n",
       "      <td>11072100</td>\n",
       "      <td>11335300</td>\n",
       "      <td>High Signal Region</td>\n",
       "    </tr>\n",
       "    <tr>\n",
       "      <th>634</th>\n",
       "      <td>chrY</td>\n",
       "      <td>11486600</td>\n",
       "      <td>11757800</td>\n",
       "      <td>High Signal Region</td>\n",
       "    </tr>\n",
       "    <tr>\n",
       "      <th>635</th>\n",
       "      <td>chrY</td>\n",
       "      <td>26637300</td>\n",
       "      <td>57227400</td>\n",
       "      <td>High Signal Region</td>\n",
       "    </tr>\n",
       "  </tbody>\n",
       "</table>\n",
       "<p>636 rows × 4 columns</p>\n",
       "</div>"
      ],
      "text/plain": [
       "    Chromosome     Start       End                Name\n",
       "0        chr10         0     45700     Low Mappability\n",
       "1        chr10  38481300  38596500  High Signal Region\n",
       "2        chr10  38782600  38967900  High Signal Region\n",
       "3        chr10  39901300  41712900  High Signal Region\n",
       "4        chr10  41838900  42107300  High Signal Region\n",
       "..         ...       ...       ...                 ...\n",
       "631       chrY   4343800   4345800  High Signal Region\n",
       "632       chrY  10246200  11041200  High Signal Region\n",
       "633       chrY  11072100  11335300  High Signal Region\n",
       "634       chrY  11486600  11757800  High Signal Region\n",
       "635       chrY  26637300  57227400  High Signal Region\n",
       "\n",
       "[636 rows x 4 columns]"
      ]
     },
     "execution_count": 235,
     "metadata": {},
     "output_type": "execute_result"
    }
   ],
   "source": [
    "hg38_bed_df"
   ]
  },
  {
   "cell_type": "code",
   "execution_count": 238,
   "id": "6e409e79-c5c3-4adb-a82c-44a3229f1167",
   "metadata": {},
   "outputs": [
    {
     "name": "stdout",
     "output_type": "stream",
     "text": [
      "       Chromosome     Start       End\n",
      "0            chr1    816964    817422\n",
      "1            chr1    817809    818264\n",
      "2            chr1    818686    818982\n",
      "3            chr1    826700    827679\n",
      "4            chr1    844454    844654\n",
      "...           ...       ...       ...\n",
      "302950       chrY  21602310  21602954\n",
      "302951       chrY  21821571  21822130\n",
      "302952       chrY  21829019  21829544\n",
      "302953       chrY  26352947  26353241\n",
      "302954       chrY  26354174  26354520\n",
      "\n",
      "[302955 rows x 3 columns]\n"
     ]
    }
   ],
   "source": [
    "import pyranges as pr\n",
    "\n",
    "# Convert your dataframes to pyranges objects\n",
    "regions = pr.from_dict(region_names_to_coordinates(modified_region_names))\n",
    "blacklist = pr.PyRanges(hg38_bed_df)\n",
    "\n",
    "# Perform the overlap operation to identify blacklisted regions\n",
    "overlap_regions = regions.intersect(blacklist, strandedness=False, invert=True)\n",
    "\n",
    "# Convert the resulting pyranges object to a dataframe\n",
    "filtered_regions_df = overlap_regions.df\n",
    "\n",
    "# Print or use the filtered_regions_df dataframe containing regions not overlapping with the blacklist\n",
    "print(filtered_regions_df)\n",
    "\n"
   ]
  },
  {
   "cell_type": "code",
   "execution_count": 239,
   "id": "50aa6fe9-5eb2-4f5a-a386-809728ee0692",
   "metadata": {},
   "outputs": [
    {
     "name": "stdout",
     "output_type": "stream",
     "text": [
      "2024-03-09 13:01:24,234 cisTopic     INFO     Creating CistopicObject\n"
     ]
    },
    {
     "ename": "ValueError",
     "evalue": "setting an array element with a sequence.",
     "output_type": "error",
     "traceback": [
      "\u001b[0;31m---------------------------------------------------------------------------\u001b[0m",
      "\u001b[0;31mValueError\u001b[0m                                Traceback (most recent call last)",
      "File \u001b[0;32m~/miniconda3/envs/scenicplus/lib/python3.8/site-packages/scipy/sparse/_base.py:337\u001b[0m, in \u001b[0;36mspmatrix.__bool__\u001b[0;34m(self)\u001b[0m\n\u001b[1;32m    336\u001b[0m \u001b[38;5;28;01melse\u001b[39;00m:\n\u001b[0;32m--> 337\u001b[0m     \u001b[38;5;28;01mraise\u001b[39;00m \u001b[38;5;167;01mValueError\u001b[39;00m(\u001b[38;5;124m\"\u001b[39m\u001b[38;5;124mThe truth value of an array with more than one \u001b[39m\u001b[38;5;124m\"\u001b[39m\n\u001b[1;32m    338\u001b[0m                      \u001b[38;5;124m\"\u001b[39m\u001b[38;5;124melement is ambiguous. Use a.any() or a.all().\u001b[39m\u001b[38;5;124m\"\u001b[39m)\n",
      "\u001b[0;31mValueError\u001b[0m: The truth value of an array with more than one element is ambiguous. Use a.any() or a.all().",
      "\nThe above exception was the direct cause of the following exception:\n",
      "\u001b[0;31mValueError\u001b[0m                                Traceback (most recent call last)",
      "Cell \u001b[0;32mIn[239], line 5\u001b[0m\n\u001b[1;32m      3\u001b[0m count_matrix\u001b[38;5;241m=\u001b[39madata\u001b[38;5;241m.\u001b[39mX\u001b[38;5;241m.\u001b[39mtranspose()\n\u001b[1;32m      4\u001b[0m path_to_blacklist\u001b[38;5;241m=\u001b[39m\u001b[38;5;124m'\u001b[39m\u001b[38;5;124m/fast/AG_Bunina/Yusuf/Project_Endothelial_and_Stroke/Datasets/Chromatin_and_Gene_Exp/2023_Zhu_et_al/Zhu_et_al_2023/Python_Project/ScenicPlus/Zhu_et_al/Zhu_et_al/data/hg38-blacklist.v2.bed\u001b[39m\u001b[38;5;124m'\u001b[39m\n\u001b[0;32m----> 5\u001b[0m cistopic_obj \u001b[38;5;241m=\u001b[39m \u001b[43mcreate_cistopic_object\u001b[49m\u001b[43m(\u001b[49m\u001b[43mfragment_matrix\u001b[49m\u001b[38;5;241;43m=\u001b[39;49m\u001b[43mcount_matrix\u001b[49m\u001b[43m,\u001b[49m\u001b[43m \u001b[49m\u001b[43mcell_names\u001b[49m\u001b[38;5;241;43m=\u001b[39;49m\u001b[43mcell_names\u001b[49m\u001b[43m,\u001b[49m\u001b[43m \u001b[49m\u001b[43mregion_names\u001b[49m\u001b[38;5;241;43m=\u001b[39;49m\u001b[43mformatted_region_names\u001b[49m\u001b[43m)\u001b[49m\n\u001b[1;32m      6\u001b[0m \u001b[38;5;66;03m# Adding cell information\u001b[39;00m\n\u001b[1;32m      7\u001b[0m cell_data \u001b[38;5;241m=\u001b[39m  adata\u001b[38;5;241m.\u001b[39mobs\n",
      "File \u001b[0;32m~/miniconda3/envs/scenicplus/lib/python3.8/site-packages/pycisTopic/cistopic_class.py:592\u001b[0m, in \u001b[0;36mcreate_cistopic_object\u001b[0;34m(fragment_matrix, cell_names, region_names, path_to_blacklist, min_frag, min_cell, is_acc, path_to_fragments, project, tag_cells, split_pattern)\u001b[0m\n\u001b[1;32m    590\u001b[0m log\u001b[38;5;241m.\u001b[39minfo(\u001b[38;5;124m\"\u001b[39m\u001b[38;5;124mCreating CistopicObject\u001b[39m\u001b[38;5;124m\"\u001b[39m)\n\u001b[1;32m    591\u001b[0m binary_matrix \u001b[38;5;241m=\u001b[39m sp\u001b[38;5;241m.\u001b[39mbinarize(fragment_matrix, threshold\u001b[38;5;241m=\u001b[39mis_acc \u001b[38;5;241m-\u001b[39m \u001b[38;5;241m1\u001b[39m)\n\u001b[0;32m--> 592\u001b[0m selected_regions \u001b[38;5;241m=\u001b[39m \u001b[43mnon_zero_rows\u001b[49m\u001b[43m(\u001b[49m\u001b[43mbinary_matrix\u001b[49m\u001b[43m)\u001b[49m\n\u001b[1;32m    593\u001b[0m fragment_matrix \u001b[38;5;241m=\u001b[39m fragment_matrix[\n\u001b[1;32m    594\u001b[0m     selected_regions,\n\u001b[1;32m    595\u001b[0m ]\n\u001b[1;32m    596\u001b[0m binary_matrix \u001b[38;5;241m=\u001b[39m binary_matrix[\n\u001b[1;32m    597\u001b[0m     selected_regions,\n\u001b[1;32m    598\u001b[0m ]\n",
      "File \u001b[0;32m~/miniconda3/envs/scenicplus/lib/python3.8/site-packages/pycisTopic/utils.py:43\u001b[0m, in \u001b[0;36mnon_zero_rows\u001b[0;34m(X)\u001b[0m\n\u001b[1;32m     40\u001b[0m     \u001b[38;5;28;01mreturn\u001b[39;00m np\u001b[38;5;241m.\u001b[39mnonzero(X\u001b[38;5;241m.\u001b[39mgetnnz(axis\u001b[38;5;241m=\u001b[39m\u001b[38;5;241m1\u001b[39m))[\u001b[38;5;241m0\u001b[39m]\n\u001b[1;32m     41\u001b[0m \u001b[38;5;28;01melse\u001b[39;00m:\n\u001b[1;32m     42\u001b[0m     \u001b[38;5;66;03m# For non sparse matrices.\u001b[39;00m\n\u001b[0;32m---> 43\u001b[0m     \u001b[38;5;28;01mreturn\u001b[39;00m np\u001b[38;5;241m.\u001b[39mnonzero(\u001b[43mnp\u001b[49m\u001b[38;5;241;43m.\u001b[39;49m\u001b[43mcount_nonzero\u001b[49m\u001b[43m(\u001b[49m\u001b[43mX\u001b[49m\u001b[43m,\u001b[49m\u001b[43m \u001b[49m\u001b[43maxis\u001b[49m\u001b[38;5;241;43m=\u001b[39;49m\u001b[38;5;241;43m1\u001b[39;49m\u001b[43m)\u001b[49m)[\u001b[38;5;241m0\u001b[39m]\n",
      "File \u001b[0;32m<__array_function__ internals>:200\u001b[0m, in \u001b[0;36mcount_nonzero\u001b[0;34m(*args, **kwargs)\u001b[0m\n",
      "File \u001b[0;32m~/miniconda3/envs/scenicplus/lib/python3.8/site-packages/numpy/core/numeric.py:501\u001b[0m, in \u001b[0;36mcount_nonzero\u001b[0;34m(a, axis, keepdims)\u001b[0m\n\u001b[1;32m    499\u001b[0m     a_bool \u001b[38;5;241m=\u001b[39m a \u001b[38;5;241m!=\u001b[39m a\u001b[38;5;241m.\u001b[39mdtype\u001b[38;5;241m.\u001b[39mtype()\n\u001b[1;32m    500\u001b[0m \u001b[38;5;28;01melse\u001b[39;00m:\n\u001b[0;32m--> 501\u001b[0m     a_bool \u001b[38;5;241m=\u001b[39m \u001b[43ma\u001b[49m\u001b[38;5;241;43m.\u001b[39;49m\u001b[43mastype\u001b[49m\u001b[43m(\u001b[49m\u001b[43mnp\u001b[49m\u001b[38;5;241;43m.\u001b[39;49m\u001b[43mbool_\u001b[49m\u001b[43m,\u001b[49m\u001b[43m \u001b[49m\u001b[43mcopy\u001b[49m\u001b[38;5;241;43m=\u001b[39;49m\u001b[38;5;28;43;01mFalse\u001b[39;49;00m\u001b[43m)\u001b[49m\n\u001b[1;32m    503\u001b[0m \u001b[38;5;28;01mreturn\u001b[39;00m a_bool\u001b[38;5;241m.\u001b[39msum(axis\u001b[38;5;241m=\u001b[39maxis, dtype\u001b[38;5;241m=\u001b[39mnp\u001b[38;5;241m.\u001b[39mintp, keepdims\u001b[38;5;241m=\u001b[39mkeepdims)\n",
      "\u001b[0;31mValueError\u001b[0m: setting an array element with a sequence."
     ]
    }
   ],
   "source": [
    "# Create cisTopic object\n",
    "from pycisTopic.cistopic_class import *\n",
    "count_matrix=adata.X.transpose()\n",
    "path_to_blacklist='/fast/AG_Bunina/Yusuf/Project_Endothelial_and_Stroke/Datasets/Chromatin_and_Gene_Exp/2023_Zhu_et_al/Zhu_et_al_2023/Python_Project/ScenicPlus/Zhu_et_al/Zhu_et_al/data/hg38-blacklist.v2.bed'\n",
    "cistopic_obj = create_cistopic_object(fragment_matrix=count_matrix, cell_names=cell_names, region_names=formatted_region_names)\n",
    "# Adding cell information\n",
    "cell_data =  adata.obs\n",
    "cistopic_obj.add_cell_data(cell_data)"
   ]
  },
  {
   "cell_type": "code",
   "execution_count": 240,
   "id": "1960ef40-d779-4916-8384-4dbcafd73058",
   "metadata": {},
   "outputs": [
    {
     "data": {
      "text/plain": [
       "<304034x45549 sparse matrix of type '<class 'numpy.int64'>'\n",
       "\twith 238304892 stored elements in Compressed Sparse Column format>"
      ]
     },
     "execution_count": 240,
     "metadata": {},
     "output_type": "execute_result"
    }
   ],
   "source": [
    "transposed_peak_mat"
   ]
  },
  {
   "cell_type": "code",
   "execution_count": 245,
   "id": "1e6e27ca-703e-4e61-9d0a-058638bdd45e",
   "metadata": {},
   "outputs": [
    {
     "name": "stdout",
     "output_type": "stream",
     "text": [
      "2024-03-09 13:07:42,141 cisTopic     INFO     Converting fragment matrix to sparse matrix\n",
      "2024-03-09 13:07:42,151 cisTopic     INFO     Creating CistopicObject\n"
     ]
    },
    {
     "name": "stderr",
     "output_type": "stream",
     "text": [
      "/home/ykazci/miniconda3/envs/scenicplus/lib/python3.8/site-packages/pycisTopic/cistopic_class.py:607: RuntimeWarning: divide by zero encountered in log10\n",
      "  np.log10(cisTopic_nr_frag),\n",
      "/home/ykazci/miniconda3/envs/scenicplus/lib/python3.8/site-packages/pycisTopic/cistopic_class.py:609: RuntimeWarning: divide by zero encountered in log10\n",
      "  np.log10(cisTopic_nr_acc),\n"
     ]
    },
    {
     "name": "stdout",
     "output_type": "stream",
     "text": [
      "2024-03-09 13:07:43,475 cisTopic     INFO     Done!\n"
     ]
    }
   ],
   "source": [
    "# Create cisTopic object\n",
    "from pycisTopic.cistopic_class import *\n",
    "#count_matrix=adata.X.T.astype(dtype=int)\n",
    "count_matrix=df\n",
    "# path_to_blacklist='/fast/AG_Bunina/Yusuf/Project_Endothelial_and_Stroke/Datasets/Chromatin_and_Gene_Exp/2023_Zhu_et_al/Zhu_et_al_2023/Python_Project/ScenicPlus/Zhu_et_al/Zhu_et_al/data/hg38-blacklist.v2.bed'\n",
    "cistopic_obj = create_cistopic_object(fragment_matrix=count_matrix)\n",
    "# Adding cell information\n",
    "cell_data =  adata.obs\n",
    "cistopic_obj.add_cell_data(cell_data)"
   ]
  },
  {
   "cell_type": "code",
   "execution_count": 246,
   "id": "946ecdeb-944c-46d6-9b01-e63133f58c95",
   "metadata": {},
   "outputs": [
    {
     "data": {
      "text/plain": [
       "<pycisTopic.cistopic_class.CistopicObject at 0x2b072913b280>"
      ]
     },
     "execution_count": 246,
     "metadata": {},
     "output_type": "execute_result"
    }
   ],
   "source": [
    "cistopic_obj"
   ]
  },
  {
   "cell_type": "code",
   "execution_count": 247,
   "id": "63ba9847-5455-42e7-bcaf-df131c80f9a5",
   "metadata": {},
   "outputs": [
    {
     "data": {
      "text/html": [
       "<div>\n",
       "<style scoped>\n",
       "    .dataframe tbody tr th:only-of-type {\n",
       "        vertical-align: middle;\n",
       "    }\n",
       "\n",
       "    .dataframe tbody tr th {\n",
       "        vertical-align: top;\n",
       "    }\n",
       "\n",
       "    .dataframe thead th {\n",
       "        text-align: right;\n",
       "    }\n",
       "</style>\n",
       "<table border=\"1\" class=\"dataframe\">\n",
       "  <thead>\n",
       "    <tr style=\"text-align: right;\">\n",
       "      <th></th>\n",
       "      <th>cisTopic_nr_frag</th>\n",
       "      <th>cisTopic_log_nr_frag</th>\n",
       "      <th>cisTopic_nr_acc</th>\n",
       "      <th>cisTopic_log_nr_acc</th>\n",
       "      <th>sample_id</th>\n",
       "      <th>author_cell_type</th>\n",
       "      <th>age_group</th>\n",
       "      <th>donor_id</th>\n",
       "      <th>nCount_RNA</th>\n",
       "      <th>nFeature_RNA</th>\n",
       "      <th>...</th>\n",
       "      <th>tissue_type</th>\n",
       "      <th>cell_type</th>\n",
       "      <th>assay</th>\n",
       "      <th>disease</th>\n",
       "      <th>organism</th>\n",
       "      <th>sex</th>\n",
       "      <th>tissue</th>\n",
       "      <th>self_reported_ethnicity</th>\n",
       "      <th>development_stage</th>\n",
       "      <th>observation_joinid</th>\n",
       "    </tr>\n",
       "  </thead>\n",
       "  <tbody>\n",
       "    <tr>\n",
       "      <th>4_AAACAGCCAACACTTG-1___cisTopic</th>\n",
       "      <td>0</td>\n",
       "      <td>-inf</td>\n",
       "      <td>0</td>\n",
       "      <td>-inf</td>\n",
       "      <td>cisTopic</td>\n",
       "      <td>EN-fetal-late</td>\n",
       "      <td>late fetal</td>\n",
       "      <td>LaFet1</td>\n",
       "      <td>3483</td>\n",
       "      <td>1685.0</td>\n",
       "      <td>...</td>\n",
       "      <td>tissue</td>\n",
       "      <td>glutamatergic neuron</td>\n",
       "      <td>10x multiome</td>\n",
       "      <td>normal</td>\n",
       "      <td>Homo sapiens</td>\n",
       "      <td>male</td>\n",
       "      <td>cortical plate</td>\n",
       "      <td>unknown</td>\n",
       "      <td>23rd week post-fertilization human stage</td>\n",
       "      <td>t&lt;2(H&gt;sg#K</td>\n",
       "    </tr>\n",
       "    <tr>\n",
       "      <th>4_AAACAGCCACCAAAGG-1___cisTopic</th>\n",
       "      <td>0</td>\n",
       "      <td>-inf</td>\n",
       "      <td>0</td>\n",
       "      <td>-inf</td>\n",
       "      <td>cisTopic</td>\n",
       "      <td>EN-fetal-late</td>\n",
       "      <td>late fetal</td>\n",
       "      <td>LaFet1</td>\n",
       "      <td>4863</td>\n",
       "      <td>2149.0</td>\n",
       "      <td>...</td>\n",
       "      <td>tissue</td>\n",
       "      <td>glutamatergic neuron</td>\n",
       "      <td>10x multiome</td>\n",
       "      <td>normal</td>\n",
       "      <td>Homo sapiens</td>\n",
       "      <td>male</td>\n",
       "      <td>cortical plate</td>\n",
       "      <td>unknown</td>\n",
       "      <td>23rd week post-fertilization human stage</td>\n",
       "      <td>HPU?^1i&amp;Yf</td>\n",
       "    </tr>\n",
       "    <tr>\n",
       "      <th>4_AAACAGCCATAAGTTC-1___cisTopic</th>\n",
       "      <td>0</td>\n",
       "      <td>-inf</td>\n",
       "      <td>0</td>\n",
       "      <td>-inf</td>\n",
       "      <td>cisTopic</td>\n",
       "      <td>EN-fetal-late</td>\n",
       "      <td>late fetal</td>\n",
       "      <td>LaFet1</td>\n",
       "      <td>11069</td>\n",
       "      <td>3707.0</td>\n",
       "      <td>...</td>\n",
       "      <td>tissue</td>\n",
       "      <td>glutamatergic neuron</td>\n",
       "      <td>10x multiome</td>\n",
       "      <td>normal</td>\n",
       "      <td>Homo sapiens</td>\n",
       "      <td>male</td>\n",
       "      <td>cortical plate</td>\n",
       "      <td>unknown</td>\n",
       "      <td>23rd week post-fertilization human stage</td>\n",
       "      <td>vKJ1WULiG^</td>\n",
       "    </tr>\n",
       "    <tr>\n",
       "      <th>4_AAACATGCATAGTCAT-1___cisTopic</th>\n",
       "      <td>0</td>\n",
       "      <td>-inf</td>\n",
       "      <td>0</td>\n",
       "      <td>-inf</td>\n",
       "      <td>cisTopic</td>\n",
       "      <td>EN-fetal-late</td>\n",
       "      <td>late fetal</td>\n",
       "      <td>LaFet1</td>\n",
       "      <td>7990</td>\n",
       "      <td>2919.0</td>\n",
       "      <td>...</td>\n",
       "      <td>tissue</td>\n",
       "      <td>glutamatergic neuron</td>\n",
       "      <td>10x multiome</td>\n",
       "      <td>normal</td>\n",
       "      <td>Homo sapiens</td>\n",
       "      <td>male</td>\n",
       "      <td>cortical plate</td>\n",
       "      <td>unknown</td>\n",
       "      <td>23rd week post-fertilization human stage</td>\n",
       "      <td>FE0&gt;j_!1Tq</td>\n",
       "    </tr>\n",
       "    <tr>\n",
       "      <th>4_AAACATGCATTGTCAG-1___cisTopic</th>\n",
       "      <td>0</td>\n",
       "      <td>-inf</td>\n",
       "      <td>0</td>\n",
       "      <td>-inf</td>\n",
       "      <td>cisTopic</td>\n",
       "      <td>EN-fetal-late</td>\n",
       "      <td>late fetal</td>\n",
       "      <td>LaFet1</td>\n",
       "      <td>6873</td>\n",
       "      <td>2652.0</td>\n",
       "      <td>...</td>\n",
       "      <td>tissue</td>\n",
       "      <td>glutamatergic neuron</td>\n",
       "      <td>10x multiome</td>\n",
       "      <td>normal</td>\n",
       "      <td>Homo sapiens</td>\n",
       "      <td>male</td>\n",
       "      <td>cortical plate</td>\n",
       "      <td>unknown</td>\n",
       "      <td>23rd week post-fertilization human stage</td>\n",
       "      <td>3sotId$RTP</td>\n",
       "    </tr>\n",
       "    <tr>\n",
       "      <th>...</th>\n",
       "      <td>...</td>\n",
       "      <td>...</td>\n",
       "      <td>...</td>\n",
       "      <td>...</td>\n",
       "      <td>...</td>\n",
       "      <td>...</td>\n",
       "      <td>...</td>\n",
       "      <td>...</td>\n",
       "      <td>...</td>\n",
       "      <td>...</td>\n",
       "      <td>...</td>\n",
       "      <td>...</td>\n",
       "      <td>...</td>\n",
       "      <td>...</td>\n",
       "      <td>...</td>\n",
       "      <td>...</td>\n",
       "      <td>...</td>\n",
       "      <td>...</td>\n",
       "      <td>...</td>\n",
       "      <td>...</td>\n",
       "      <td>...</td>\n",
       "    </tr>\n",
       "    <tr>\n",
       "      <th>150666_TTTGTGAAGACAACAG-1___cisTopic</th>\n",
       "      <td>0</td>\n",
       "      <td>-inf</td>\n",
       "      <td>0</td>\n",
       "      <td>-inf</td>\n",
       "      <td>cisTopic</td>\n",
       "      <td>Oligodendrocytes</td>\n",
       "      <td>adulthood</td>\n",
       "      <td>Adult1</td>\n",
       "      <td>926</td>\n",
       "      <td>545.0</td>\n",
       "      <td>...</td>\n",
       "      <td>tissue</td>\n",
       "      <td>oligodendrocyte</td>\n",
       "      <td>10x multiome</td>\n",
       "      <td>normal</td>\n",
       "      <td>Homo sapiens</td>\n",
       "      <td>female</td>\n",
       "      <td>dorsolateral prefrontal cortex</td>\n",
       "      <td>unknown</td>\n",
       "      <td>20-year-old human stage</td>\n",
       "      <td>=x`E$@Xdkm</td>\n",
       "    </tr>\n",
       "    <tr>\n",
       "      <th>150666_TTTGTGAAGGCTGTGC-1___cisTopic</th>\n",
       "      <td>0</td>\n",
       "      <td>-inf</td>\n",
       "      <td>0</td>\n",
       "      <td>-inf</td>\n",
       "      <td>cisTopic</td>\n",
       "      <td>OPC</td>\n",
       "      <td>adulthood</td>\n",
       "      <td>Adult1</td>\n",
       "      <td>1578</td>\n",
       "      <td>1023.0</td>\n",
       "      <td>...</td>\n",
       "      <td>tissue</td>\n",
       "      <td>oligodendrocyte precursor cell</td>\n",
       "      <td>10x multiome</td>\n",
       "      <td>normal</td>\n",
       "      <td>Homo sapiens</td>\n",
       "      <td>female</td>\n",
       "      <td>dorsolateral prefrontal cortex</td>\n",
       "      <td>unknown</td>\n",
       "      <td>20-year-old human stage</td>\n",
       "      <td>#bnI9b&gt;C&gt;}</td>\n",
       "    </tr>\n",
       "    <tr>\n",
       "      <th>150666_TTTGTGAAGTAAGAAC-1___cisTopic</th>\n",
       "      <td>0</td>\n",
       "      <td>-inf</td>\n",
       "      <td>0</td>\n",
       "      <td>-inf</td>\n",
       "      <td>cisTopic</td>\n",
       "      <td>Oligodendrocytes</td>\n",
       "      <td>adulthood</td>\n",
       "      <td>Adult1</td>\n",
       "      <td>352</td>\n",
       "      <td>303.0</td>\n",
       "      <td>...</td>\n",
       "      <td>tissue</td>\n",
       "      <td>oligodendrocyte</td>\n",
       "      <td>10x multiome</td>\n",
       "      <td>normal</td>\n",
       "      <td>Homo sapiens</td>\n",
       "      <td>female</td>\n",
       "      <td>dorsolateral prefrontal cortex</td>\n",
       "      <td>unknown</td>\n",
       "      <td>20-year-old human stage</td>\n",
       "      <td>mN;XZnza^;</td>\n",
       "    </tr>\n",
       "    <tr>\n",
       "      <th>150666_TTTGTGAAGTCTTGAA-1___cisTopic</th>\n",
       "      <td>0</td>\n",
       "      <td>-inf</td>\n",
       "      <td>0</td>\n",
       "      <td>-inf</td>\n",
       "      <td>cisTopic</td>\n",
       "      <td>Oligodendrocytes</td>\n",
       "      <td>adulthood</td>\n",
       "      <td>Adult1</td>\n",
       "      <td>1676</td>\n",
       "      <td>1028.0</td>\n",
       "      <td>...</td>\n",
       "      <td>tissue</td>\n",
       "      <td>oligodendrocyte</td>\n",
       "      <td>10x multiome</td>\n",
       "      <td>normal</td>\n",
       "      <td>Homo sapiens</td>\n",
       "      <td>female</td>\n",
       "      <td>dorsolateral prefrontal cortex</td>\n",
       "      <td>unknown</td>\n",
       "      <td>20-year-old human stage</td>\n",
       "      <td>k#NQ|;U)%U</td>\n",
       "    </tr>\n",
       "    <tr>\n",
       "      <th>150666_TTTGTTGGTGATCAGC-1___cisTopic</th>\n",
       "      <td>0</td>\n",
       "      <td>-inf</td>\n",
       "      <td>0</td>\n",
       "      <td>-inf</td>\n",
       "      <td>cisTopic</td>\n",
       "      <td>Oligodendrocytes</td>\n",
       "      <td>adulthood</td>\n",
       "      <td>Adult1</td>\n",
       "      <td>2619</td>\n",
       "      <td>1452.0</td>\n",
       "      <td>...</td>\n",
       "      <td>tissue</td>\n",
       "      <td>oligodendrocyte</td>\n",
       "      <td>10x multiome</td>\n",
       "      <td>normal</td>\n",
       "      <td>Homo sapiens</td>\n",
       "      <td>female</td>\n",
       "      <td>dorsolateral prefrontal cortex</td>\n",
       "      <td>unknown</td>\n",
       "      <td>20-year-old human stage</td>\n",
       "      <td>PNiP^&gt;UM6e</td>\n",
       "    </tr>\n",
       "  </tbody>\n",
       "</table>\n",
       "<p>45549 rows × 36 columns</p>\n",
       "</div>"
      ],
      "text/plain": [
       "                                     cisTopic_nr_frag cisTopic_log_nr_frag  \\\n",
       "4_AAACAGCCAACACTTG-1___cisTopic                     0                 -inf   \n",
       "4_AAACAGCCACCAAAGG-1___cisTopic                     0                 -inf   \n",
       "4_AAACAGCCATAAGTTC-1___cisTopic                     0                 -inf   \n",
       "4_AAACATGCATAGTCAT-1___cisTopic                     0                 -inf   \n",
       "4_AAACATGCATTGTCAG-1___cisTopic                     0                 -inf   \n",
       "...                                               ...                  ...   \n",
       "150666_TTTGTGAAGACAACAG-1___cisTopic                0                 -inf   \n",
       "150666_TTTGTGAAGGCTGTGC-1___cisTopic                0                 -inf   \n",
       "150666_TTTGTGAAGTAAGAAC-1___cisTopic                0                 -inf   \n",
       "150666_TTTGTGAAGTCTTGAA-1___cisTopic                0                 -inf   \n",
       "150666_TTTGTTGGTGATCAGC-1___cisTopic                0                 -inf   \n",
       "\n",
       "                                     cisTopic_nr_acc cisTopic_log_nr_acc  \\\n",
       "4_AAACAGCCAACACTTG-1___cisTopic                    0                -inf   \n",
       "4_AAACAGCCACCAAAGG-1___cisTopic                    0                -inf   \n",
       "4_AAACAGCCATAAGTTC-1___cisTopic                    0                -inf   \n",
       "4_AAACATGCATAGTCAT-1___cisTopic                    0                -inf   \n",
       "4_AAACATGCATTGTCAG-1___cisTopic                    0                -inf   \n",
       "...                                              ...                 ...   \n",
       "150666_TTTGTGAAGACAACAG-1___cisTopic               0                -inf   \n",
       "150666_TTTGTGAAGGCTGTGC-1___cisTopic               0                -inf   \n",
       "150666_TTTGTGAAGTAAGAAC-1___cisTopic               0                -inf   \n",
       "150666_TTTGTGAAGTCTTGAA-1___cisTopic               0                -inf   \n",
       "150666_TTTGTTGGTGATCAGC-1___cisTopic               0                -inf   \n",
       "\n",
       "                                     sample_id  author_cell_type   age_group  \\\n",
       "4_AAACAGCCAACACTTG-1___cisTopic       cisTopic     EN-fetal-late  late fetal   \n",
       "4_AAACAGCCACCAAAGG-1___cisTopic       cisTopic     EN-fetal-late  late fetal   \n",
       "4_AAACAGCCATAAGTTC-1___cisTopic       cisTopic     EN-fetal-late  late fetal   \n",
       "4_AAACATGCATAGTCAT-1___cisTopic       cisTopic     EN-fetal-late  late fetal   \n",
       "4_AAACATGCATTGTCAG-1___cisTopic       cisTopic     EN-fetal-late  late fetal   \n",
       "...                                        ...               ...         ...   \n",
       "150666_TTTGTGAAGACAACAG-1___cisTopic  cisTopic  Oligodendrocytes   adulthood   \n",
       "150666_TTTGTGAAGGCTGTGC-1___cisTopic  cisTopic               OPC   adulthood   \n",
       "150666_TTTGTGAAGTAAGAAC-1___cisTopic  cisTopic  Oligodendrocytes   adulthood   \n",
       "150666_TTTGTGAAGTCTTGAA-1___cisTopic  cisTopic  Oligodendrocytes   adulthood   \n",
       "150666_TTTGTTGGTGATCAGC-1___cisTopic  cisTopic  Oligodendrocytes   adulthood   \n",
       "\n",
       "                                     donor_id  nCount_RNA  nFeature_RNA  ...  \\\n",
       "4_AAACAGCCAACACTTG-1___cisTopic        LaFet1        3483        1685.0  ...   \n",
       "4_AAACAGCCACCAAAGG-1___cisTopic        LaFet1        4863        2149.0  ...   \n",
       "4_AAACAGCCATAAGTTC-1___cisTopic        LaFet1       11069        3707.0  ...   \n",
       "4_AAACATGCATAGTCAT-1___cisTopic        LaFet1        7990        2919.0  ...   \n",
       "4_AAACATGCATTGTCAG-1___cisTopic        LaFet1        6873        2652.0  ...   \n",
       "...                                       ...         ...           ...  ...   \n",
       "150666_TTTGTGAAGACAACAG-1___cisTopic   Adult1         926         545.0  ...   \n",
       "150666_TTTGTGAAGGCTGTGC-1___cisTopic   Adult1        1578        1023.0  ...   \n",
       "150666_TTTGTGAAGTAAGAAC-1___cisTopic   Adult1         352         303.0  ...   \n",
       "150666_TTTGTGAAGTCTTGAA-1___cisTopic   Adult1        1676        1028.0  ...   \n",
       "150666_TTTGTTGGTGATCAGC-1___cisTopic   Adult1        2619        1452.0  ...   \n",
       "\n",
       "                                      tissue_type  \\\n",
       "4_AAACAGCCAACACTTG-1___cisTopic            tissue   \n",
       "4_AAACAGCCACCAAAGG-1___cisTopic            tissue   \n",
       "4_AAACAGCCATAAGTTC-1___cisTopic            tissue   \n",
       "4_AAACATGCATAGTCAT-1___cisTopic            tissue   \n",
       "4_AAACATGCATTGTCAG-1___cisTopic            tissue   \n",
       "...                                           ...   \n",
       "150666_TTTGTGAAGACAACAG-1___cisTopic       tissue   \n",
       "150666_TTTGTGAAGGCTGTGC-1___cisTopic       tissue   \n",
       "150666_TTTGTGAAGTAAGAAC-1___cisTopic       tissue   \n",
       "150666_TTTGTGAAGTCTTGAA-1___cisTopic       tissue   \n",
       "150666_TTTGTTGGTGATCAGC-1___cisTopic       tissue   \n",
       "\n",
       "                                                           cell_type  \\\n",
       "4_AAACAGCCAACACTTG-1___cisTopic                 glutamatergic neuron   \n",
       "4_AAACAGCCACCAAAGG-1___cisTopic                 glutamatergic neuron   \n",
       "4_AAACAGCCATAAGTTC-1___cisTopic                 glutamatergic neuron   \n",
       "4_AAACATGCATAGTCAT-1___cisTopic                 glutamatergic neuron   \n",
       "4_AAACATGCATTGTCAG-1___cisTopic                 glutamatergic neuron   \n",
       "...                                                              ...   \n",
       "150666_TTTGTGAAGACAACAG-1___cisTopic                 oligodendrocyte   \n",
       "150666_TTTGTGAAGGCTGTGC-1___cisTopic  oligodendrocyte precursor cell   \n",
       "150666_TTTGTGAAGTAAGAAC-1___cisTopic                 oligodendrocyte   \n",
       "150666_TTTGTGAAGTCTTGAA-1___cisTopic                 oligodendrocyte   \n",
       "150666_TTTGTTGGTGATCAGC-1___cisTopic                 oligodendrocyte   \n",
       "\n",
       "                                             assay  disease      organism  \\\n",
       "4_AAACAGCCAACACTTG-1___cisTopic       10x multiome   normal  Homo sapiens   \n",
       "4_AAACAGCCACCAAAGG-1___cisTopic       10x multiome   normal  Homo sapiens   \n",
       "4_AAACAGCCATAAGTTC-1___cisTopic       10x multiome   normal  Homo sapiens   \n",
       "4_AAACATGCATAGTCAT-1___cisTopic       10x multiome   normal  Homo sapiens   \n",
       "4_AAACATGCATTGTCAG-1___cisTopic       10x multiome   normal  Homo sapiens   \n",
       "...                                            ...      ...           ...   \n",
       "150666_TTTGTGAAGACAACAG-1___cisTopic  10x multiome   normal  Homo sapiens   \n",
       "150666_TTTGTGAAGGCTGTGC-1___cisTopic  10x multiome   normal  Homo sapiens   \n",
       "150666_TTTGTGAAGTAAGAAC-1___cisTopic  10x multiome   normal  Homo sapiens   \n",
       "150666_TTTGTGAAGTCTTGAA-1___cisTopic  10x multiome   normal  Homo sapiens   \n",
       "150666_TTTGTTGGTGATCAGC-1___cisTopic  10x multiome   normal  Homo sapiens   \n",
       "\n",
       "                                         sex                          tissue  \\\n",
       "4_AAACAGCCAACACTTG-1___cisTopic         male                  cortical plate   \n",
       "4_AAACAGCCACCAAAGG-1___cisTopic         male                  cortical plate   \n",
       "4_AAACAGCCATAAGTTC-1___cisTopic         male                  cortical plate   \n",
       "4_AAACATGCATAGTCAT-1___cisTopic         male                  cortical plate   \n",
       "4_AAACATGCATTGTCAG-1___cisTopic         male                  cortical plate   \n",
       "...                                      ...                             ...   \n",
       "150666_TTTGTGAAGACAACAG-1___cisTopic  female  dorsolateral prefrontal cortex   \n",
       "150666_TTTGTGAAGGCTGTGC-1___cisTopic  female  dorsolateral prefrontal cortex   \n",
       "150666_TTTGTGAAGTAAGAAC-1___cisTopic  female  dorsolateral prefrontal cortex   \n",
       "150666_TTTGTGAAGTCTTGAA-1___cisTopic  female  dorsolateral prefrontal cortex   \n",
       "150666_TTTGTTGGTGATCAGC-1___cisTopic  female  dorsolateral prefrontal cortex   \n",
       "\n",
       "                                     self_reported_ethnicity  \\\n",
       "4_AAACAGCCAACACTTG-1___cisTopic                      unknown   \n",
       "4_AAACAGCCACCAAAGG-1___cisTopic                      unknown   \n",
       "4_AAACAGCCATAAGTTC-1___cisTopic                      unknown   \n",
       "4_AAACATGCATAGTCAT-1___cisTopic                      unknown   \n",
       "4_AAACATGCATTGTCAG-1___cisTopic                      unknown   \n",
       "...                                                      ...   \n",
       "150666_TTTGTGAAGACAACAG-1___cisTopic                 unknown   \n",
       "150666_TTTGTGAAGGCTGTGC-1___cisTopic                 unknown   \n",
       "150666_TTTGTGAAGTAAGAAC-1___cisTopic                 unknown   \n",
       "150666_TTTGTGAAGTCTTGAA-1___cisTopic                 unknown   \n",
       "150666_TTTGTTGGTGATCAGC-1___cisTopic                 unknown   \n",
       "\n",
       "                                                             development_stage  \\\n",
       "4_AAACAGCCAACACTTG-1___cisTopic       23rd week post-fertilization human stage   \n",
       "4_AAACAGCCACCAAAGG-1___cisTopic       23rd week post-fertilization human stage   \n",
       "4_AAACAGCCATAAGTTC-1___cisTopic       23rd week post-fertilization human stage   \n",
       "4_AAACATGCATAGTCAT-1___cisTopic       23rd week post-fertilization human stage   \n",
       "4_AAACATGCATTGTCAG-1___cisTopic       23rd week post-fertilization human stage   \n",
       "...                                                                        ...   \n",
       "150666_TTTGTGAAGACAACAG-1___cisTopic                   20-year-old human stage   \n",
       "150666_TTTGTGAAGGCTGTGC-1___cisTopic                   20-year-old human stage   \n",
       "150666_TTTGTGAAGTAAGAAC-1___cisTopic                   20-year-old human stage   \n",
       "150666_TTTGTGAAGTCTTGAA-1___cisTopic                   20-year-old human stage   \n",
       "150666_TTTGTTGGTGATCAGC-1___cisTopic                   20-year-old human stage   \n",
       "\n",
       "                                     observation_joinid  \n",
       "4_AAACAGCCAACACTTG-1___cisTopic              t<2(H>sg#K  \n",
       "4_AAACAGCCACCAAAGG-1___cisTopic              HPU?^1i&Yf  \n",
       "4_AAACAGCCATAAGTTC-1___cisTopic              vKJ1WULiG^  \n",
       "4_AAACATGCATAGTCAT-1___cisTopic              FE0>j_!1Tq  \n",
       "4_AAACATGCATTGTCAG-1___cisTopic              3sotId$RTP  \n",
       "...                                                 ...  \n",
       "150666_TTTGTGAAGACAACAG-1___cisTopic         =x`E$@Xdkm  \n",
       "150666_TTTGTGAAGGCTGTGC-1___cisTopic         #bnI9b>C>}  \n",
       "150666_TTTGTGAAGTAAGAAC-1___cisTopic         mN;XZnza^;  \n",
       "150666_TTTGTGAAGTCTTGAA-1___cisTopic         k#NQ|;U)%U  \n",
       "150666_TTTGTTGGTGATCAGC-1___cisTopic         PNiP^>UM6e  \n",
       "\n",
       "[45549 rows x 36 columns]"
      ]
     },
     "execution_count": 247,
     "metadata": {},
     "output_type": "execute_result"
    }
   ],
   "source": [
    "cistopic_obj.cell_data"
   ]
  },
  {
   "cell_type": "code",
   "execution_count": 249,
   "id": "3e40781f-7c3d-4e22-a1eb-d065089ca240",
   "metadata": {},
   "outputs": [
    {
     "data": {
      "text/plain": [
       "['4_AAACAGCCAACACTTG-1___cisTopic',\n",
       " '4_AAACAGCCACCAAAGG-1___cisTopic',\n",
       " '4_AAACAGCCATAAGTTC-1___cisTopic',\n",
       " '4_AAACATGCATAGTCAT-1___cisTopic',\n",
       " '4_AAACATGCATTGTCAG-1___cisTopic']"
      ]
     },
     "execution_count": 249,
     "metadata": {},
     "output_type": "execute_result"
    }
   ],
   "source": [
    "cistopic_obj.cell_names[0:5]"
   ]
  },
  {
   "cell_type": "code",
   "execution_count": null,
   "id": "465454e9-b8bd-470b-b9eb-5e0ce6064db1",
   "metadata": {},
   "outputs": [],
   "source": [
    "# Now, I see that I can perform the blacklist removed chromatin ranges myself. \n",
    "# I will remove the blacklisted regions from my sprase matrix, firstly.\n",
    "# I will try to filter my peak counts matrix as much as possible not to cause\n",
    "# any memory error. Then, I will convert my sparse matrix to a dense matrox and\n",
    "# to a pandas dataframe. Then, I will use it in creating a cistopic object.\n",
    "# I will filter my spase matrix rows that contain zero counts or very few counts."
   ]
  },
  {
   "cell_type": "code",
   "execution_count": 250,
   "id": "d4d006de-efb4-4b58-bbeb-2aa26ed4da15",
   "metadata": {},
   "outputs": [],
   "source": [
    "import session_info"
   ]
  },
  {
   "cell_type": "code",
   "execution_count": 252,
   "id": "a5d3fa60-fe0a-4656-8a48-f1b617be7ea6",
   "metadata": {},
   "outputs": [
    {
     "data": {
      "text/html": [
       "<details>\n",
       "<summary>Click to view session information</summary>\n",
       "<pre>\n",
       "-----\n",
       "PIL                 10.2.0\n",
       "anndata             0.9.2\n",
       "gensim              4.3.2\n",
       "lda                 2.0.0\n",
       "matplotlib          3.7.5\n",
       "numpy               1.24.4\n",
       "pandas              1.5.0\n",
       "pybedtools          0.9.1\n",
       "pycisTopic          1.0a0\n",
       "pyranges            0.0.127\n",
       "ray                 2.9.2\n",
       "scanpy              1.9.8\n",
       "scipy               1.10.1\n",
       "session_info        1.0.0\n",
       "sklearn             1.3.2\n",
       "tmtoolkit           0.12.0\n",
       "-----\n",
       "</pre>\n",
       "<details>\n",
       "<summary>Click to view modules imported as dependencies</summary>\n",
       "<pre>\n",
       "asttokens                   NA\n",
       "attr                        23.2.0\n",
       "attrs                       23.2.0\n",
       "backcall                    0.2.0\n",
       "bidict                      0.23.1\n",
       "certifi                     2024.02.02\n",
       "cffi                        1.16.0\n",
       "charset_normalizer          3.3.2\n",
       "cloudpickle                 3.0.0\n",
       "colorama                    0.4.6\n",
       "comm                        0.2.1\n",
       "cycler                      0.12.1\n",
       "cython_runtime              NA\n",
       "cytoolz                     0.12.3\n",
       "dask                        2023.5.0\n",
       "dateutil                    2.8.2\n",
       "debugpy                     1.8.1\n",
       "decorator                   5.1.1\n",
       "defusedxml                  0.7.1\n",
       "executing                   2.0.1\n",
       "filelock                    3.13.1\n",
       "fontTools                   4.49.0\n",
       "globre                      NA\n",
       "google                      NA\n",
       "h5py                        3.10.0\n",
       "idna                        3.6\n",
       "igraph                      0.11.4\n",
       "importlib_metadata          NA\n",
       "importlib_resources         NA\n",
       "ipykernel                   6.29.2\n",
       "ipywidgets                  8.1.2\n",
       "jedi                        0.19.1\n",
       "jinja2                      3.1.3\n",
       "joblib                      1.3.2\n",
       "jsonschema                  4.21.1\n",
       "jsonschema_specifications   NA\n",
       "kiwisolver                  1.4.5\n",
       "leidenalg                   0.10.2\n",
       "llvmlite                    0.41.1\n",
       "lxml                        5.1.0\n",
       "lz4                         4.3.3\n",
       "markupsafe                  2.1.5\n",
       "matplotlib_inline           0.1.6\n",
       "mpl_toolkits                NA\n",
       "msgpack                     1.0.7\n",
       "natsort                     8.4.0\n",
       "ncls                        0.0.68\n",
       "numba                       0.58.1\n",
       "numexpr                     2.8.6\n",
       "numpydoc                    1.6.0\n",
       "packaging                   23.2\n",
       "parso                       0.8.3\n",
       "pexpect                     4.9.0\n",
       "pickleshare                 0.7.5\n",
       "pkg_resources               NA\n",
       "platformdirs                4.2.0\n",
       "plotly                      5.19.0\n",
       "prompt_toolkit              3.0.43\n",
       "psutil                      5.9.8\n",
       "ptyprocess                  0.7.0\n",
       "pure_eval                   0.2.2\n",
       "pyarrow                     15.0.0\n",
       "pydev_ipython               NA\n",
       "pydevconsole                NA\n",
       "pydevd                      2.9.5\n",
       "pydevd_file_utils           NA\n",
       "pydevd_plugins              NA\n",
       "pydevd_tracing              NA\n",
       "pygments                    2.17.2\n",
       "pyparsing                   3.1.1\n",
       "pysam                       0.22.0\n",
       "pytz                        2024.1\n",
       "referencing                 NA\n",
       "requests                    2.31.0\n",
       "rpds                        NA\n",
       "setproctitle                1.2.2\n",
       "six                         1.16.0\n",
       "smart_open                  6.4.0\n",
       "sorted_nearest              0.0.39\n",
       "sphinxcontrib               NA\n",
       "stack_data                  0.6.3\n",
       "tabulate                    0.9.0\n",
       "tblib                       3.0.0\n",
       "texttable                   1.7.0\n",
       "threadpoolctl               3.3.0\n",
       "tlz                         0.12.3\n",
       "toolz                       0.12.1\n",
       "tornado                     6.4\n",
       "tqdm                        4.66.2\n",
       "traitlets                   5.14.1\n",
       "typing_extensions           NA\n",
       "urllib3                     2.2.1\n",
       "wcwidth                     0.2.13\n",
       "yaml                        6.0.1\n",
       "zipp                        NA\n",
       "zmq                         25.1.2\n",
       "zope                        NA\n",
       "</pre>\n",
       "</details> <!-- seems like this ends pre, so might as well be explicit -->\n",
       "<pre>\n",
       "-----\n",
       "IPython             8.12.3\n",
       "jupyter_client      8.6.0\n",
       "jupyter_core        5.7.1\n",
       "-----\n",
       "Python 3.8.18 (default, Sep 11 2023, 13:40:15) [GCC 11.2.0]\n",
       "Linux-3.10.0-1160.76.1.el7.x86_64-x86_64-with-glibc2.17\n",
       "-----\n",
       "Session information updated at 2024-03-09 13:08\n",
       "</pre>\n",
       "</details>"
      ],
      "text/plain": [
       "<IPython.core.display.HTML object>"
      ]
     },
     "execution_count": 252,
     "metadata": {},
     "output_type": "execute_result"
    }
   ],
   "source": [
    "session_info.show()"
   ]
  },
  {
   "cell_type": "code",
   "execution_count": 255,
   "id": "fb7b2037-4159-4dc7-a804-ecc7f1f66924",
   "metadata": {},
   "outputs": [
    {
     "data": {
      "text/html": [
       "<div>\n",
       "<style scoped>\n",
       "    .dataframe tbody tr th:only-of-type {\n",
       "        vertical-align: middle;\n",
       "    }\n",
       "\n",
       "    .dataframe tbody tr th {\n",
       "        vertical-align: top;\n",
       "    }\n",
       "\n",
       "    .dataframe thead th {\n",
       "        text-align: right;\n",
       "    }\n",
       "</style>\n",
       "<table border=\"1\" class=\"dataframe\">\n",
       "  <thead>\n",
       "    <tr style=\"text-align: right;\">\n",
       "      <th></th>\n",
       "      <th>cisTopic_nr_frag</th>\n",
       "      <th>cisTopic_log_nr_frag</th>\n",
       "      <th>cisTopic_nr_acc</th>\n",
       "      <th>cisTopic_log_nr_acc</th>\n",
       "      <th>sample_id</th>\n",
       "      <th>author_cell_type</th>\n",
       "      <th>age_group</th>\n",
       "      <th>donor_id</th>\n",
       "      <th>nCount_RNA</th>\n",
       "      <th>nFeature_RNA</th>\n",
       "      <th>...</th>\n",
       "      <th>tissue_type</th>\n",
       "      <th>cell_type</th>\n",
       "      <th>assay</th>\n",
       "      <th>disease</th>\n",
       "      <th>organism</th>\n",
       "      <th>sex</th>\n",
       "      <th>tissue</th>\n",
       "      <th>self_reported_ethnicity</th>\n",
       "      <th>development_stage</th>\n",
       "      <th>observation_joinid</th>\n",
       "    </tr>\n",
       "  </thead>\n",
       "  <tbody>\n",
       "    <tr>\n",
       "      <th>4_AAACAGCCAACACTTG-1___cisTopic</th>\n",
       "      <td>0</td>\n",
       "      <td>-inf</td>\n",
       "      <td>0</td>\n",
       "      <td>-inf</td>\n",
       "      <td>cisTopic</td>\n",
       "      <td>EN-fetal-late</td>\n",
       "      <td>late fetal</td>\n",
       "      <td>LaFet1</td>\n",
       "      <td>3483</td>\n",
       "      <td>1685.0</td>\n",
       "      <td>...</td>\n",
       "      <td>tissue</td>\n",
       "      <td>glutamatergic neuron</td>\n",
       "      <td>10x multiome</td>\n",
       "      <td>normal</td>\n",
       "      <td>Homo sapiens</td>\n",
       "      <td>male</td>\n",
       "      <td>cortical plate</td>\n",
       "      <td>unknown</td>\n",
       "      <td>23rd week post-fertilization human stage</td>\n",
       "      <td>t&lt;2(H&gt;sg#K</td>\n",
       "    </tr>\n",
       "    <tr>\n",
       "      <th>4_AAACAGCCACCAAAGG-1___cisTopic</th>\n",
       "      <td>0</td>\n",
       "      <td>-inf</td>\n",
       "      <td>0</td>\n",
       "      <td>-inf</td>\n",
       "      <td>cisTopic</td>\n",
       "      <td>EN-fetal-late</td>\n",
       "      <td>late fetal</td>\n",
       "      <td>LaFet1</td>\n",
       "      <td>4863</td>\n",
       "      <td>2149.0</td>\n",
       "      <td>...</td>\n",
       "      <td>tissue</td>\n",
       "      <td>glutamatergic neuron</td>\n",
       "      <td>10x multiome</td>\n",
       "      <td>normal</td>\n",
       "      <td>Homo sapiens</td>\n",
       "      <td>male</td>\n",
       "      <td>cortical plate</td>\n",
       "      <td>unknown</td>\n",
       "      <td>23rd week post-fertilization human stage</td>\n",
       "      <td>HPU?^1i&amp;Yf</td>\n",
       "    </tr>\n",
       "    <tr>\n",
       "      <th>4_AAACAGCCATAAGTTC-1___cisTopic</th>\n",
       "      <td>0</td>\n",
       "      <td>-inf</td>\n",
       "      <td>0</td>\n",
       "      <td>-inf</td>\n",
       "      <td>cisTopic</td>\n",
       "      <td>EN-fetal-late</td>\n",
       "      <td>late fetal</td>\n",
       "      <td>LaFet1</td>\n",
       "      <td>11069</td>\n",
       "      <td>3707.0</td>\n",
       "      <td>...</td>\n",
       "      <td>tissue</td>\n",
       "      <td>glutamatergic neuron</td>\n",
       "      <td>10x multiome</td>\n",
       "      <td>normal</td>\n",
       "      <td>Homo sapiens</td>\n",
       "      <td>male</td>\n",
       "      <td>cortical plate</td>\n",
       "      <td>unknown</td>\n",
       "      <td>23rd week post-fertilization human stage</td>\n",
       "      <td>vKJ1WULiG^</td>\n",
       "    </tr>\n",
       "    <tr>\n",
       "      <th>4_AAACATGCATAGTCAT-1___cisTopic</th>\n",
       "      <td>0</td>\n",
       "      <td>-inf</td>\n",
       "      <td>0</td>\n",
       "      <td>-inf</td>\n",
       "      <td>cisTopic</td>\n",
       "      <td>EN-fetal-late</td>\n",
       "      <td>late fetal</td>\n",
       "      <td>LaFet1</td>\n",
       "      <td>7990</td>\n",
       "      <td>2919.0</td>\n",
       "      <td>...</td>\n",
       "      <td>tissue</td>\n",
       "      <td>glutamatergic neuron</td>\n",
       "      <td>10x multiome</td>\n",
       "      <td>normal</td>\n",
       "      <td>Homo sapiens</td>\n",
       "      <td>male</td>\n",
       "      <td>cortical plate</td>\n",
       "      <td>unknown</td>\n",
       "      <td>23rd week post-fertilization human stage</td>\n",
       "      <td>FE0&gt;j_!1Tq</td>\n",
       "    </tr>\n",
       "    <tr>\n",
       "      <th>4_AAACATGCATTGTCAG-1___cisTopic</th>\n",
       "      <td>0</td>\n",
       "      <td>-inf</td>\n",
       "      <td>0</td>\n",
       "      <td>-inf</td>\n",
       "      <td>cisTopic</td>\n",
       "      <td>EN-fetal-late</td>\n",
       "      <td>late fetal</td>\n",
       "      <td>LaFet1</td>\n",
       "      <td>6873</td>\n",
       "      <td>2652.0</td>\n",
       "      <td>...</td>\n",
       "      <td>tissue</td>\n",
       "      <td>glutamatergic neuron</td>\n",
       "      <td>10x multiome</td>\n",
       "      <td>normal</td>\n",
       "      <td>Homo sapiens</td>\n",
       "      <td>male</td>\n",
       "      <td>cortical plate</td>\n",
       "      <td>unknown</td>\n",
       "      <td>23rd week post-fertilization human stage</td>\n",
       "      <td>3sotId$RTP</td>\n",
       "    </tr>\n",
       "    <tr>\n",
       "      <th>...</th>\n",
       "      <td>...</td>\n",
       "      <td>...</td>\n",
       "      <td>...</td>\n",
       "      <td>...</td>\n",
       "      <td>...</td>\n",
       "      <td>...</td>\n",
       "      <td>...</td>\n",
       "      <td>...</td>\n",
       "      <td>...</td>\n",
       "      <td>...</td>\n",
       "      <td>...</td>\n",
       "      <td>...</td>\n",
       "      <td>...</td>\n",
       "      <td>...</td>\n",
       "      <td>...</td>\n",
       "      <td>...</td>\n",
       "      <td>...</td>\n",
       "      <td>...</td>\n",
       "      <td>...</td>\n",
       "      <td>...</td>\n",
       "      <td>...</td>\n",
       "    </tr>\n",
       "    <tr>\n",
       "      <th>150666_TTTGTGAAGACAACAG-1___cisTopic</th>\n",
       "      <td>0</td>\n",
       "      <td>-inf</td>\n",
       "      <td>0</td>\n",
       "      <td>-inf</td>\n",
       "      <td>cisTopic</td>\n",
       "      <td>Oligodendrocytes</td>\n",
       "      <td>adulthood</td>\n",
       "      <td>Adult1</td>\n",
       "      <td>926</td>\n",
       "      <td>545.0</td>\n",
       "      <td>...</td>\n",
       "      <td>tissue</td>\n",
       "      <td>oligodendrocyte</td>\n",
       "      <td>10x multiome</td>\n",
       "      <td>normal</td>\n",
       "      <td>Homo sapiens</td>\n",
       "      <td>female</td>\n",
       "      <td>dorsolateral prefrontal cortex</td>\n",
       "      <td>unknown</td>\n",
       "      <td>20-year-old human stage</td>\n",
       "      <td>=x`E$@Xdkm</td>\n",
       "    </tr>\n",
       "    <tr>\n",
       "      <th>150666_TTTGTGAAGGCTGTGC-1___cisTopic</th>\n",
       "      <td>0</td>\n",
       "      <td>-inf</td>\n",
       "      <td>0</td>\n",
       "      <td>-inf</td>\n",
       "      <td>cisTopic</td>\n",
       "      <td>OPC</td>\n",
       "      <td>adulthood</td>\n",
       "      <td>Adult1</td>\n",
       "      <td>1578</td>\n",
       "      <td>1023.0</td>\n",
       "      <td>...</td>\n",
       "      <td>tissue</td>\n",
       "      <td>oligodendrocyte precursor cell</td>\n",
       "      <td>10x multiome</td>\n",
       "      <td>normal</td>\n",
       "      <td>Homo sapiens</td>\n",
       "      <td>female</td>\n",
       "      <td>dorsolateral prefrontal cortex</td>\n",
       "      <td>unknown</td>\n",
       "      <td>20-year-old human stage</td>\n",
       "      <td>#bnI9b&gt;C&gt;}</td>\n",
       "    </tr>\n",
       "    <tr>\n",
       "      <th>150666_TTTGTGAAGTAAGAAC-1___cisTopic</th>\n",
       "      <td>0</td>\n",
       "      <td>-inf</td>\n",
       "      <td>0</td>\n",
       "      <td>-inf</td>\n",
       "      <td>cisTopic</td>\n",
       "      <td>Oligodendrocytes</td>\n",
       "      <td>adulthood</td>\n",
       "      <td>Adult1</td>\n",
       "      <td>352</td>\n",
       "      <td>303.0</td>\n",
       "      <td>...</td>\n",
       "      <td>tissue</td>\n",
       "      <td>oligodendrocyte</td>\n",
       "      <td>10x multiome</td>\n",
       "      <td>normal</td>\n",
       "      <td>Homo sapiens</td>\n",
       "      <td>female</td>\n",
       "      <td>dorsolateral prefrontal cortex</td>\n",
       "      <td>unknown</td>\n",
       "      <td>20-year-old human stage</td>\n",
       "      <td>mN;XZnza^;</td>\n",
       "    </tr>\n",
       "    <tr>\n",
       "      <th>150666_TTTGTGAAGTCTTGAA-1___cisTopic</th>\n",
       "      <td>0</td>\n",
       "      <td>-inf</td>\n",
       "      <td>0</td>\n",
       "      <td>-inf</td>\n",
       "      <td>cisTopic</td>\n",
       "      <td>Oligodendrocytes</td>\n",
       "      <td>adulthood</td>\n",
       "      <td>Adult1</td>\n",
       "      <td>1676</td>\n",
       "      <td>1028.0</td>\n",
       "      <td>...</td>\n",
       "      <td>tissue</td>\n",
       "      <td>oligodendrocyte</td>\n",
       "      <td>10x multiome</td>\n",
       "      <td>normal</td>\n",
       "      <td>Homo sapiens</td>\n",
       "      <td>female</td>\n",
       "      <td>dorsolateral prefrontal cortex</td>\n",
       "      <td>unknown</td>\n",
       "      <td>20-year-old human stage</td>\n",
       "      <td>k#NQ|;U)%U</td>\n",
       "    </tr>\n",
       "    <tr>\n",
       "      <th>150666_TTTGTTGGTGATCAGC-1___cisTopic</th>\n",
       "      <td>0</td>\n",
       "      <td>-inf</td>\n",
       "      <td>0</td>\n",
       "      <td>-inf</td>\n",
       "      <td>cisTopic</td>\n",
       "      <td>Oligodendrocytes</td>\n",
       "      <td>adulthood</td>\n",
       "      <td>Adult1</td>\n",
       "      <td>2619</td>\n",
       "      <td>1452.0</td>\n",
       "      <td>...</td>\n",
       "      <td>tissue</td>\n",
       "      <td>oligodendrocyte</td>\n",
       "      <td>10x multiome</td>\n",
       "      <td>normal</td>\n",
       "      <td>Homo sapiens</td>\n",
       "      <td>female</td>\n",
       "      <td>dorsolateral prefrontal cortex</td>\n",
       "      <td>unknown</td>\n",
       "      <td>20-year-old human stage</td>\n",
       "      <td>PNiP^&gt;UM6e</td>\n",
       "    </tr>\n",
       "  </tbody>\n",
       "</table>\n",
       "<p>45549 rows × 36 columns</p>\n",
       "</div>"
      ],
      "text/plain": [
       "                                     cisTopic_nr_frag cisTopic_log_nr_frag  \\\n",
       "4_AAACAGCCAACACTTG-1___cisTopic                     0                 -inf   \n",
       "4_AAACAGCCACCAAAGG-1___cisTopic                     0                 -inf   \n",
       "4_AAACAGCCATAAGTTC-1___cisTopic                     0                 -inf   \n",
       "4_AAACATGCATAGTCAT-1___cisTopic                     0                 -inf   \n",
       "4_AAACATGCATTGTCAG-1___cisTopic                     0                 -inf   \n",
       "...                                               ...                  ...   \n",
       "150666_TTTGTGAAGACAACAG-1___cisTopic                0                 -inf   \n",
       "150666_TTTGTGAAGGCTGTGC-1___cisTopic                0                 -inf   \n",
       "150666_TTTGTGAAGTAAGAAC-1___cisTopic                0                 -inf   \n",
       "150666_TTTGTGAAGTCTTGAA-1___cisTopic                0                 -inf   \n",
       "150666_TTTGTTGGTGATCAGC-1___cisTopic                0                 -inf   \n",
       "\n",
       "                                     cisTopic_nr_acc cisTopic_log_nr_acc  \\\n",
       "4_AAACAGCCAACACTTG-1___cisTopic                    0                -inf   \n",
       "4_AAACAGCCACCAAAGG-1___cisTopic                    0                -inf   \n",
       "4_AAACAGCCATAAGTTC-1___cisTopic                    0                -inf   \n",
       "4_AAACATGCATAGTCAT-1___cisTopic                    0                -inf   \n",
       "4_AAACATGCATTGTCAG-1___cisTopic                    0                -inf   \n",
       "...                                              ...                 ...   \n",
       "150666_TTTGTGAAGACAACAG-1___cisTopic               0                -inf   \n",
       "150666_TTTGTGAAGGCTGTGC-1___cisTopic               0                -inf   \n",
       "150666_TTTGTGAAGTAAGAAC-1___cisTopic               0                -inf   \n",
       "150666_TTTGTGAAGTCTTGAA-1___cisTopic               0                -inf   \n",
       "150666_TTTGTTGGTGATCAGC-1___cisTopic               0                -inf   \n",
       "\n",
       "                                     sample_id  author_cell_type   age_group  \\\n",
       "4_AAACAGCCAACACTTG-1___cisTopic       cisTopic     EN-fetal-late  late fetal   \n",
       "4_AAACAGCCACCAAAGG-1___cisTopic       cisTopic     EN-fetal-late  late fetal   \n",
       "4_AAACAGCCATAAGTTC-1___cisTopic       cisTopic     EN-fetal-late  late fetal   \n",
       "4_AAACATGCATAGTCAT-1___cisTopic       cisTopic     EN-fetal-late  late fetal   \n",
       "4_AAACATGCATTGTCAG-1___cisTopic       cisTopic     EN-fetal-late  late fetal   \n",
       "...                                        ...               ...         ...   \n",
       "150666_TTTGTGAAGACAACAG-1___cisTopic  cisTopic  Oligodendrocytes   adulthood   \n",
       "150666_TTTGTGAAGGCTGTGC-1___cisTopic  cisTopic               OPC   adulthood   \n",
       "150666_TTTGTGAAGTAAGAAC-1___cisTopic  cisTopic  Oligodendrocytes   adulthood   \n",
       "150666_TTTGTGAAGTCTTGAA-1___cisTopic  cisTopic  Oligodendrocytes   adulthood   \n",
       "150666_TTTGTTGGTGATCAGC-1___cisTopic  cisTopic  Oligodendrocytes   adulthood   \n",
       "\n",
       "                                     donor_id  nCount_RNA  nFeature_RNA  ...  \\\n",
       "4_AAACAGCCAACACTTG-1___cisTopic        LaFet1        3483        1685.0  ...   \n",
       "4_AAACAGCCACCAAAGG-1___cisTopic        LaFet1        4863        2149.0  ...   \n",
       "4_AAACAGCCATAAGTTC-1___cisTopic        LaFet1       11069        3707.0  ...   \n",
       "4_AAACATGCATAGTCAT-1___cisTopic        LaFet1        7990        2919.0  ...   \n",
       "4_AAACATGCATTGTCAG-1___cisTopic        LaFet1        6873        2652.0  ...   \n",
       "...                                       ...         ...           ...  ...   \n",
       "150666_TTTGTGAAGACAACAG-1___cisTopic   Adult1         926         545.0  ...   \n",
       "150666_TTTGTGAAGGCTGTGC-1___cisTopic   Adult1        1578        1023.0  ...   \n",
       "150666_TTTGTGAAGTAAGAAC-1___cisTopic   Adult1         352         303.0  ...   \n",
       "150666_TTTGTGAAGTCTTGAA-1___cisTopic   Adult1        1676        1028.0  ...   \n",
       "150666_TTTGTTGGTGATCAGC-1___cisTopic   Adult1        2619        1452.0  ...   \n",
       "\n",
       "                                      tissue_type  \\\n",
       "4_AAACAGCCAACACTTG-1___cisTopic            tissue   \n",
       "4_AAACAGCCACCAAAGG-1___cisTopic            tissue   \n",
       "4_AAACAGCCATAAGTTC-1___cisTopic            tissue   \n",
       "4_AAACATGCATAGTCAT-1___cisTopic            tissue   \n",
       "4_AAACATGCATTGTCAG-1___cisTopic            tissue   \n",
       "...                                           ...   \n",
       "150666_TTTGTGAAGACAACAG-1___cisTopic       tissue   \n",
       "150666_TTTGTGAAGGCTGTGC-1___cisTopic       tissue   \n",
       "150666_TTTGTGAAGTAAGAAC-1___cisTopic       tissue   \n",
       "150666_TTTGTGAAGTCTTGAA-1___cisTopic       tissue   \n",
       "150666_TTTGTTGGTGATCAGC-1___cisTopic       tissue   \n",
       "\n",
       "                                                           cell_type  \\\n",
       "4_AAACAGCCAACACTTG-1___cisTopic                 glutamatergic neuron   \n",
       "4_AAACAGCCACCAAAGG-1___cisTopic                 glutamatergic neuron   \n",
       "4_AAACAGCCATAAGTTC-1___cisTopic                 glutamatergic neuron   \n",
       "4_AAACATGCATAGTCAT-1___cisTopic                 glutamatergic neuron   \n",
       "4_AAACATGCATTGTCAG-1___cisTopic                 glutamatergic neuron   \n",
       "...                                                              ...   \n",
       "150666_TTTGTGAAGACAACAG-1___cisTopic                 oligodendrocyte   \n",
       "150666_TTTGTGAAGGCTGTGC-1___cisTopic  oligodendrocyte precursor cell   \n",
       "150666_TTTGTGAAGTAAGAAC-1___cisTopic                 oligodendrocyte   \n",
       "150666_TTTGTGAAGTCTTGAA-1___cisTopic                 oligodendrocyte   \n",
       "150666_TTTGTTGGTGATCAGC-1___cisTopic                 oligodendrocyte   \n",
       "\n",
       "                                             assay  disease      organism  \\\n",
       "4_AAACAGCCAACACTTG-1___cisTopic       10x multiome   normal  Homo sapiens   \n",
       "4_AAACAGCCACCAAAGG-1___cisTopic       10x multiome   normal  Homo sapiens   \n",
       "4_AAACAGCCATAAGTTC-1___cisTopic       10x multiome   normal  Homo sapiens   \n",
       "4_AAACATGCATAGTCAT-1___cisTopic       10x multiome   normal  Homo sapiens   \n",
       "4_AAACATGCATTGTCAG-1___cisTopic       10x multiome   normal  Homo sapiens   \n",
       "...                                            ...      ...           ...   \n",
       "150666_TTTGTGAAGACAACAG-1___cisTopic  10x multiome   normal  Homo sapiens   \n",
       "150666_TTTGTGAAGGCTGTGC-1___cisTopic  10x multiome   normal  Homo sapiens   \n",
       "150666_TTTGTGAAGTAAGAAC-1___cisTopic  10x multiome   normal  Homo sapiens   \n",
       "150666_TTTGTGAAGTCTTGAA-1___cisTopic  10x multiome   normal  Homo sapiens   \n",
       "150666_TTTGTTGGTGATCAGC-1___cisTopic  10x multiome   normal  Homo sapiens   \n",
       "\n",
       "                                         sex                          tissue  \\\n",
       "4_AAACAGCCAACACTTG-1___cisTopic         male                  cortical plate   \n",
       "4_AAACAGCCACCAAAGG-1___cisTopic         male                  cortical plate   \n",
       "4_AAACAGCCATAAGTTC-1___cisTopic         male                  cortical plate   \n",
       "4_AAACATGCATAGTCAT-1___cisTopic         male                  cortical plate   \n",
       "4_AAACATGCATTGTCAG-1___cisTopic         male                  cortical plate   \n",
       "...                                      ...                             ...   \n",
       "150666_TTTGTGAAGACAACAG-1___cisTopic  female  dorsolateral prefrontal cortex   \n",
       "150666_TTTGTGAAGGCTGTGC-1___cisTopic  female  dorsolateral prefrontal cortex   \n",
       "150666_TTTGTGAAGTAAGAAC-1___cisTopic  female  dorsolateral prefrontal cortex   \n",
       "150666_TTTGTGAAGTCTTGAA-1___cisTopic  female  dorsolateral prefrontal cortex   \n",
       "150666_TTTGTTGGTGATCAGC-1___cisTopic  female  dorsolateral prefrontal cortex   \n",
       "\n",
       "                                     self_reported_ethnicity  \\\n",
       "4_AAACAGCCAACACTTG-1___cisTopic                      unknown   \n",
       "4_AAACAGCCACCAAAGG-1___cisTopic                      unknown   \n",
       "4_AAACAGCCATAAGTTC-1___cisTopic                      unknown   \n",
       "4_AAACATGCATAGTCAT-1___cisTopic                      unknown   \n",
       "4_AAACATGCATTGTCAG-1___cisTopic                      unknown   \n",
       "...                                                      ...   \n",
       "150666_TTTGTGAAGACAACAG-1___cisTopic                 unknown   \n",
       "150666_TTTGTGAAGGCTGTGC-1___cisTopic                 unknown   \n",
       "150666_TTTGTGAAGTAAGAAC-1___cisTopic                 unknown   \n",
       "150666_TTTGTGAAGTCTTGAA-1___cisTopic                 unknown   \n",
       "150666_TTTGTTGGTGATCAGC-1___cisTopic                 unknown   \n",
       "\n",
       "                                                             development_stage  \\\n",
       "4_AAACAGCCAACACTTG-1___cisTopic       23rd week post-fertilization human stage   \n",
       "4_AAACAGCCACCAAAGG-1___cisTopic       23rd week post-fertilization human stage   \n",
       "4_AAACAGCCATAAGTTC-1___cisTopic       23rd week post-fertilization human stage   \n",
       "4_AAACATGCATAGTCAT-1___cisTopic       23rd week post-fertilization human stage   \n",
       "4_AAACATGCATTGTCAG-1___cisTopic       23rd week post-fertilization human stage   \n",
       "...                                                                        ...   \n",
       "150666_TTTGTGAAGACAACAG-1___cisTopic                   20-year-old human stage   \n",
       "150666_TTTGTGAAGGCTGTGC-1___cisTopic                   20-year-old human stage   \n",
       "150666_TTTGTGAAGTAAGAAC-1___cisTopic                   20-year-old human stage   \n",
       "150666_TTTGTGAAGTCTTGAA-1___cisTopic                   20-year-old human stage   \n",
       "150666_TTTGTTGGTGATCAGC-1___cisTopic                   20-year-old human stage   \n",
       "\n",
       "                                     observation_joinid  \n",
       "4_AAACAGCCAACACTTG-1___cisTopic              t<2(H>sg#K  \n",
       "4_AAACAGCCACCAAAGG-1___cisTopic              HPU?^1i&Yf  \n",
       "4_AAACAGCCATAAGTTC-1___cisTopic              vKJ1WULiG^  \n",
       "4_AAACATGCATAGTCAT-1___cisTopic              FE0>j_!1Tq  \n",
       "4_AAACATGCATTGTCAG-1___cisTopic              3sotId$RTP  \n",
       "...                                                 ...  \n",
       "150666_TTTGTGAAGACAACAG-1___cisTopic         =x`E$@Xdkm  \n",
       "150666_TTTGTGAAGGCTGTGC-1___cisTopic         #bnI9b>C>}  \n",
       "150666_TTTGTGAAGTAAGAAC-1___cisTopic         mN;XZnza^;  \n",
       "150666_TTTGTGAAGTCTTGAA-1___cisTopic         k#NQ|;U)%U  \n",
       "150666_TTTGTTGGTGATCAGC-1___cisTopic         PNiP^>UM6e  \n",
       "\n",
       "[45549 rows x 36 columns]"
      ]
     },
     "execution_count": 255,
     "metadata": {},
     "output_type": "execute_result"
    }
   ],
   "source": [
    "cistopic_obj.cell_data"
   ]
  },
  {
   "cell_type": "code",
   "execution_count": 256,
   "id": "45254b60-3ad8-44e9-8214-74a577e5300b",
   "metadata": {},
   "outputs": [
    {
     "data": {
      "text/plain": [
       "AnnData object with n_obs × n_vars = 45549 × 304034\n",
       "    obs: 'author_cell_type', 'age_group', 'donor_id', 'nCount_RNA', 'nFeature_RNA', 'nCount_ATAC', 'nFeature_ATAC', 'TSS_percentile', 'nucleosome_signal', 'percent_mt', 'assay_ontology_term_id', 'cell_type_ontology_term_id', 'development_stage_ontology_term_id', 'disease_ontology_term_id', 'self_reported_ethnicity_ontology_term_id', 'organism_ontology_term_id', 'sex_ontology_term_id', 'tissue_ontology_term_id', 'suspension_type', 'is_primary_data', 'batch', 'tissue_type', 'cell_type', 'assay', 'disease', 'organism', 'sex', 'tissue', 'self_reported_ethnicity', 'development_stage', 'observation_joinid'\n",
       "    uns: 'batch_condition', 'citation', 'schema_reference', 'schema_version', 'title'\n",
       "    obsm: 'X_joint_wnn_umap', 'X_umap'"
      ]
     },
     "execution_count": 256,
     "metadata": {},
     "output_type": "execute_result"
    }
   ],
   "source": [
    "adata"
   ]
  },
  {
   "cell_type": "code",
   "execution_count": null,
   "id": "a92fff63-2ce0-4d49-b63c-8b3e5cd86923",
   "metadata": {},
   "outputs": [],
   "source": []
  }
 ],
 "metadata": {
  "kernelspec": {
   "display_name": "scenicplus",
   "language": "python",
   "name": "scenicplus"
  },
  "language_info": {
   "codemirror_mode": {
    "name": "ipython",
    "version": 3
   },
   "file_extension": ".py",
   "mimetype": "text/x-python",
   "name": "python",
   "nbconvert_exporter": "python",
   "pygments_lexer": "ipython3",
   "version": "3.8.18"
  }
 },
 "nbformat": 4,
 "nbformat_minor": 5
}
