{
 "cells": [
  {
   "cell_type": "code",
   "execution_count": 1,
   "id": "55943d3a-db66-4e65-8d8d-7377e67d8504",
   "metadata": {},
   "outputs": [],
   "source": [
    "#supress warnings\n",
    "import warnings\n",
    "warnings.simplefilter(action='ignore', category=FutureWarning)\n",
    "import sys\n",
    "import os\n",
    "_stderr = sys.stderr\n",
    "null = open(os.devnull,'wb')"
   ]
  },
  {
   "cell_type": "code",
   "execution_count": 2,
   "id": "5a8ac2ee-e99a-42c1-96fc-1bf6a6614fbc",
   "metadata": {},
   "outputs": [
    {
     "data": {
      "text/plain": [
       "'/fast/AG_Bunina/Yusuf/jobs'"
      ]
     },
     "execution_count": 2,
     "metadata": {},
     "output_type": "execute_result"
    }
   ],
   "source": [
    "pwd"
   ]
  },
  {
   "cell_type": "code",
   "execution_count": 3,
   "id": "53a15f54-bfe0-4570-a9c5-e200d529fcd6",
   "metadata": {},
   "outputs": [
    {
     "name": "stdout",
     "output_type": "stream",
     "text": [
      "/fast/AG_Bunina/Yusuf/Project_Endothelial_and_Stroke/Datasets/Chromatin_and_Gene_Exp/2023_Zhu_et_al/Zhu_et_al_2023/Python_Project/ScenicPlus/Zhu_et_al\n"
     ]
    }
   ],
   "source": [
    "cd '/fast/AG_Bunina/Yusuf/Project_Endothelial_and_Stroke/Datasets/Chromatin_and_Gene_Exp/2023_Zhu_et_al/Zhu_et_al_2023/Python_Project/ScenicPlus/Zhu_et_al'"
   ]
  },
  {
   "cell_type": "code",
   "execution_count": 4,
   "id": "fb3d2ac3-2d64-498d-8fe8-00fe299cd373",
   "metadata": {},
   "outputs": [
    {
     "data": {
      "text/plain": [
       "'/fast/AG_Bunina/Yusuf/Project_Endothelial_and_Stroke/Datasets/Chromatin_and_Gene_Exp/2023_Zhu_et_al/Zhu_et_al_2023/Python_Project/ScenicPlus/Zhu_et_al'"
      ]
     },
     "execution_count": 4,
     "metadata": {},
     "output_type": "execute_result"
    }
   ],
   "source": [
    "pwd"
   ]
  },
  {
   "cell_type": "code",
   "execution_count": 5,
   "id": "11b3db7a-5f5d-48c2-af15-d12489b10dc5",
   "metadata": {},
   "outputs": [],
   "source": [
    "import scanpy as sc\n",
    "#set some figure parameters for nice display inside jupyternotebooks.\n",
    "%matplotlib inline\n",
    "sc.settings.set_figure_params(dpi=80, frameon=False, figsize=(5, 5), facecolor='white')"
   ]
  },
  {
   "cell_type": "code",
   "execution_count": 6,
   "id": "7b4a647d-e5cd-449b-99e2-78a1dc5c7280",
   "metadata": {},
   "outputs": [],
   "source": [
    "work_dir = 'Zhu_et_al'"
   ]
  },
  {
   "cell_type": "code",
   "execution_count": 7,
   "id": "7d4c8025-f40c-4990-8f2c-43cf0f0e1684",
   "metadata": {},
   "outputs": [],
   "source": [
    "adata = sc.read_h5ad(os.path.join(work_dir, 'scRNA/adata_processed.h5ad'))\n"
   ]
  },
  {
   "cell_type": "code",
   "execution_count": 8,
   "id": "24128d42-5b10-4a88-819d-7b808d8993cd",
   "metadata": {},
   "outputs": [
    {
     "data": {
      "text/plain": [
       "AnnData object with n_obs × n_vars = 44330 × 30109\n",
       "    obs: 'author_cell_type', 'age_group', 'donor_id', 'nCount_RNA', 'nFeature_RNA', 'nCount_ATAC', 'nFeature_ATAC', 'TSS_percentile', 'nucleosome_signal', 'percent_mt', 'assay_ontology_term_id', 'cell_type_ontology_term_id', 'development_stage_ontology_term_id', 'disease_ontology_term_id', 'self_reported_ethnicity_ontology_term_id', 'organism_ontology_term_id', 'sex_ontology_term_id', 'tissue_ontology_term_id', 'suspension_type', 'is_primary_data', 'batch', 'tissue_type', 'cell_type', 'assay', 'disease', 'organism', 'sex', 'tissue', 'self_reported_ethnicity', 'development_stage', 'observation_joinid', 'n_genes', 'doublet_score', 'predicted_doublet', 'n_genes_by_counts', 'total_counts', 'total_counts_mt', 'pct_counts_mt', 'celltype'\n",
       "    var: 'feature_is_filtered', 'feature_name', 'feature_reference', 'feature_biotype', 'feature_length', 'n_cells', 'mt', 'n_cells_by_counts', 'mean_counts', 'pct_dropout_by_counts', 'total_counts', 'highly_variable', 'means', 'dispersions', 'dispersions_norm', 'mean', 'std'\n",
       "    uns: 'author_cell_type_colors', 'batch_condition', 'celltype_colors', 'citation', 'hvg', 'log1p', 'neighbors', 'pca', 'schema_reference', 'schema_version', 'scrublet', 'title', 'umap'\n",
       "    obsm: 'Author_UMAP', 'X_joint_wnn_umap', 'X_pca', 'X_umap'\n",
       "    varm: 'PCs'\n",
       "    obsp: 'connectivities', 'distances'"
      ]
     },
     "execution_count": 8,
     "metadata": {},
     "output_type": "execute_result"
    }
   ],
   "source": [
    "adata"
   ]
  },
  {
   "cell_type": "code",
   "execution_count": 9,
   "id": "57b37094-9b2f-4ba2-a73e-1e37d9ad26e4",
   "metadata": {},
   "outputs": [
    {
     "data": {
      "text/plain": [
       "Index(['ENSG00000238009', 'ENSG00000241860', 'ENSG00000229905',\n",
       "       'ENSG00000237491', 'ENSG00000177757', 'ENSG00000228794',\n",
       "       'ENSG00000225880', 'ENSG00000230368', 'ENSG00000272438',\n",
       "       'ENSG00000230699',\n",
       "       ...\n",
       "       'ENSG00000274847', 'ENSG00000276256', 'ENSG00000278198',\n",
       "       'ENSG00000273496', 'ENSG00000278384', 'ENSG00000273748',\n",
       "       'ENSG00000271254', 'ENSG00000276345', 'ENSG00000278817',\n",
       "       'ENSG00000277196'],\n",
       "      dtype='object', name='gene_ids', length=30109)"
      ]
     },
     "execution_count": 9,
     "metadata": {},
     "output_type": "execute_result"
    }
   ],
   "source": [
    "adata.var_names"
   ]
  },
  {
   "cell_type": "code",
   "execution_count": 13,
   "id": "bd9a6952-10b8-409b-b974-91ca3e079714",
   "metadata": {},
   "outputs": [],
   "source": [
    "\n",
    "ensembl_version_dict = {'104': 'http://may2021.archive.ensembl.org/'}\n",
    "\n",
    "import pybiomart as pbm\n",
    "\n",
    "dataset = pbm.Dataset(name='hsapiens'+'_gene_ensembl',  host= ensembl_version_dict['104'])\n",
    "\n",
    "\n",
    "annot = dataset.query(attributes=['chromosome_name', 'transcription_start_site', 'strand', 'external_gene_name', 'transcript_biotype', 'ensembl_gene_id'])\n",
    "annot.columns = ['Chromosome', 'Start', 'Strand', 'Gene', 'Transcript_type', 'ensembl_id']\n",
    "annot['Chromosome'] = annot['Chromosome'].astype('str')\n",
    "filter = annot['Chromosome'].str.contains('CHR|GL|JH|MT')\n",
    "annot = annot[~filter]\n",
    "annot.columns=['Chromosome', 'Start', 'Strand', 'Gene', 'Transcript_type', 'ensembl_id']\n"
   ]
  },
  {
   "cell_type": "code",
   "execution_count": 14,
   "id": "13655fb9-78d7-4e37-b20b-8f31507f55dc",
   "metadata": {},
   "outputs": [
    {
     "data": {
      "text/html": [
       "<div>\n",
       "<style scoped>\n",
       "    .dataframe tbody tr th:only-of-type {\n",
       "        vertical-align: middle;\n",
       "    }\n",
       "\n",
       "    .dataframe tbody tr th {\n",
       "        vertical-align: top;\n",
       "    }\n",
       "\n",
       "    .dataframe thead th {\n",
       "        text-align: right;\n",
       "    }\n",
       "</style>\n",
       "<table border=\"1\" class=\"dataframe\">\n",
       "  <thead>\n",
       "    <tr style=\"text-align: right;\">\n",
       "      <th></th>\n",
       "      <th>Chromosome</th>\n",
       "      <th>Start</th>\n",
       "      <th>Strand</th>\n",
       "      <th>Gene</th>\n",
       "      <th>Transcript_type</th>\n",
       "      <th>ensembl_id</th>\n",
       "    </tr>\n",
       "  </thead>\n",
       "  <tbody>\n",
       "    <tr>\n",
       "      <th>37</th>\n",
       "      <td>KI270711.1</td>\n",
       "      <td>24650</td>\n",
       "      <td>-1</td>\n",
       "      <td>NaN</td>\n",
       "      <td>protein_coding</td>\n",
       "      <td>ENSG00000271254</td>\n",
       "    </tr>\n",
       "    <tr>\n",
       "      <th>38</th>\n",
       "      <td>KI270711.1</td>\n",
       "      <td>29626</td>\n",
       "      <td>-1</td>\n",
       "      <td>NaN</td>\n",
       "      <td>protein_coding</td>\n",
       "      <td>ENSG00000271254</td>\n",
       "    </tr>\n",
       "    <tr>\n",
       "      <th>40</th>\n",
       "      <td>KI270442.1</td>\n",
       "      <td>380608</td>\n",
       "      <td>1</td>\n",
       "      <td>5S_rRNA</td>\n",
       "      <td>rRNA</td>\n",
       "      <td>ENSG00000278457</td>\n",
       "    </tr>\n",
       "    <tr>\n",
       "      <th>53</th>\n",
       "      <td>KI270442.1</td>\n",
       "      <td>217401</td>\n",
       "      <td>-1</td>\n",
       "      <td>5_8S_rRNA</td>\n",
       "      <td>rRNA</td>\n",
       "      <td>ENSG00000278294</td>\n",
       "    </tr>\n",
       "    <tr>\n",
       "      <th>656</th>\n",
       "      <td>KI270734.1</td>\n",
       "      <td>59711</td>\n",
       "      <td>1</td>\n",
       "      <td>NaN</td>\n",
       "      <td>pseudogene</td>\n",
       "      <td>ENSG00000278573</td>\n",
       "    </tr>\n",
       "    <tr>\n",
       "      <th>...</th>\n",
       "      <td>...</td>\n",
       "      <td>...</td>\n",
       "      <td>...</td>\n",
       "      <td>...</td>\n",
       "      <td>...</td>\n",
       "      <td>...</td>\n",
       "    </tr>\n",
       "    <tr>\n",
       "      <th>236041</th>\n",
       "      <td>1</td>\n",
       "      <td>36482899</td>\n",
       "      <td>-1</td>\n",
       "      <td>CSF3R</td>\n",
       "      <td>processed_transcript</td>\n",
       "      <td>ENSG00000119535</td>\n",
       "    </tr>\n",
       "    <tr>\n",
       "      <th>236042</th>\n",
       "      <td>1</td>\n",
       "      <td>36482934</td>\n",
       "      <td>-1</td>\n",
       "      <td>CSF3R</td>\n",
       "      <td>retained_intron</td>\n",
       "      <td>ENSG00000119535</td>\n",
       "    </tr>\n",
       "    <tr>\n",
       "      <th>236043</th>\n",
       "      <td>1</td>\n",
       "      <td>36482051</td>\n",
       "      <td>-1</td>\n",
       "      <td>CSF3R</td>\n",
       "      <td>protein_coding</td>\n",
       "      <td>ENSG00000119535</td>\n",
       "    </tr>\n",
       "    <tr>\n",
       "      <th>236044</th>\n",
       "      <td>1</td>\n",
       "      <td>36323645</td>\n",
       "      <td>-1</td>\n",
       "      <td>EVA1B</td>\n",
       "      <td>protein_coding</td>\n",
       "      <td>ENSG00000142694</td>\n",
       "    </tr>\n",
       "    <tr>\n",
       "      <th>236045</th>\n",
       "      <td>1</td>\n",
       "      <td>36324154</td>\n",
       "      <td>-1</td>\n",
       "      <td>EVA1B</td>\n",
       "      <td>protein_coding</td>\n",
       "      <td>ENSG00000142694</td>\n",
       "    </tr>\n",
       "  </tbody>\n",
       "</table>\n",
       "<p>216550 rows × 6 columns</p>\n",
       "</div>"
      ],
      "text/plain": [
       "        Chromosome     Start  Strand       Gene       Transcript_type  \\\n",
       "37      KI270711.1     24650      -1        NaN        protein_coding   \n",
       "38      KI270711.1     29626      -1        NaN        protein_coding   \n",
       "40      KI270442.1    380608       1    5S_rRNA                  rRNA   \n",
       "53      KI270442.1    217401      -1  5_8S_rRNA                  rRNA   \n",
       "656     KI270734.1     59711       1        NaN            pseudogene   \n",
       "...            ...       ...     ...        ...                   ...   \n",
       "236041           1  36482899      -1      CSF3R  processed_transcript   \n",
       "236042           1  36482934      -1      CSF3R       retained_intron   \n",
       "236043           1  36482051      -1      CSF3R        protein_coding   \n",
       "236044           1  36323645      -1      EVA1B        protein_coding   \n",
       "236045           1  36324154      -1      EVA1B        protein_coding   \n",
       "\n",
       "             ensembl_id  \n",
       "37      ENSG00000271254  \n",
       "38      ENSG00000271254  \n",
       "40      ENSG00000278457  \n",
       "53      ENSG00000278294  \n",
       "656     ENSG00000278573  \n",
       "...                 ...  \n",
       "236041  ENSG00000119535  \n",
       "236042  ENSG00000119535  \n",
       "236043  ENSG00000119535  \n",
       "236044  ENSG00000142694  \n",
       "236045  ENSG00000142694  \n",
       "\n",
       "[216550 rows x 6 columns]"
      ]
     },
     "execution_count": 14,
     "metadata": {},
     "output_type": "execute_result"
    }
   ],
   "source": [
    "annot"
   ]
  },
  {
   "cell_type": "code",
   "execution_count": 23,
   "id": "e62df9dc-f9d8-4e02-a401-a3a51edfa497",
   "metadata": {},
   "outputs": [],
   "source": [
    "# Keep only rows with unique Ensembl IDs\n",
    "filtered_annot_unique = annot.drop_duplicates(subset='ensembl_id')"
   ]
  },
  {
   "cell_type": "code",
   "execution_count": 24,
   "id": "283d96ad-93ef-416a-81d1-a771fdc1b00b",
   "metadata": {},
   "outputs": [
    {
     "data": {
      "text/html": [
       "<div>\n",
       "<style scoped>\n",
       "    .dataframe tbody tr th:only-of-type {\n",
       "        vertical-align: middle;\n",
       "    }\n",
       "\n",
       "    .dataframe tbody tr th {\n",
       "        vertical-align: top;\n",
       "    }\n",
       "\n",
       "    .dataframe thead th {\n",
       "        text-align: right;\n",
       "    }\n",
       "</style>\n",
       "<table border=\"1\" class=\"dataframe\">\n",
       "  <thead>\n",
       "    <tr style=\"text-align: right;\">\n",
       "      <th></th>\n",
       "      <th>Chromosome</th>\n",
       "      <th>Start</th>\n",
       "      <th>Strand</th>\n",
       "      <th>Gene</th>\n",
       "      <th>Transcript_type</th>\n",
       "      <th>ensembl_id</th>\n",
       "    </tr>\n",
       "  </thead>\n",
       "  <tbody>\n",
       "    <tr>\n",
       "      <th>37</th>\n",
       "      <td>KI270711.1</td>\n",
       "      <td>24650</td>\n",
       "      <td>-1</td>\n",
       "      <td>NaN</td>\n",
       "      <td>protein_coding</td>\n",
       "      <td>ENSG00000271254</td>\n",
       "    </tr>\n",
       "    <tr>\n",
       "      <th>40</th>\n",
       "      <td>KI270442.1</td>\n",
       "      <td>380608</td>\n",
       "      <td>1</td>\n",
       "      <td>5S_rRNA</td>\n",
       "      <td>rRNA</td>\n",
       "      <td>ENSG00000278457</td>\n",
       "    </tr>\n",
       "    <tr>\n",
       "      <th>53</th>\n",
       "      <td>KI270442.1</td>\n",
       "      <td>217401</td>\n",
       "      <td>-1</td>\n",
       "      <td>5_8S_rRNA</td>\n",
       "      <td>rRNA</td>\n",
       "      <td>ENSG00000278294</td>\n",
       "    </tr>\n",
       "    <tr>\n",
       "      <th>656</th>\n",
       "      <td>KI270734.1</td>\n",
       "      <td>59711</td>\n",
       "      <td>1</td>\n",
       "      <td>NaN</td>\n",
       "      <td>pseudogene</td>\n",
       "      <td>ENSG00000278573</td>\n",
       "    </tr>\n",
       "    <tr>\n",
       "      <th>661</th>\n",
       "      <td>KI270744.1</td>\n",
       "      <td>51114</td>\n",
       "      <td>-1</td>\n",
       "      <td>U6</td>\n",
       "      <td>snRNA</td>\n",
       "      <td>ENSG00000278625</td>\n",
       "    </tr>\n",
       "    <tr>\n",
       "      <th>...</th>\n",
       "      <td>...</td>\n",
       "      <td>...</td>\n",
       "      <td>...</td>\n",
       "      <td>...</td>\n",
       "      <td>...</td>\n",
       "      <td>...</td>\n",
       "    </tr>\n",
       "    <tr>\n",
       "      <th>236014</th>\n",
       "      <td>1</td>\n",
       "      <td>36422181</td>\n",
       "      <td>-1</td>\n",
       "      <td>OSCP1</td>\n",
       "      <td>protein_coding</td>\n",
       "      <td>ENSG00000116885</td>\n",
       "    </tr>\n",
       "    <tr>\n",
       "      <th>236026</th>\n",
       "      <td>1</td>\n",
       "      <td>36418578</td>\n",
       "      <td>-1</td>\n",
       "      <td>SNORA63C</td>\n",
       "      <td>snoRNA</td>\n",
       "      <td>ENSG00000201448</td>\n",
       "    </tr>\n",
       "    <tr>\n",
       "      <th>236027</th>\n",
       "      <td>1</td>\n",
       "      <td>36464384</td>\n",
       "      <td>-1</td>\n",
       "      <td>MRPS15</td>\n",
       "      <td>protein_coding</td>\n",
       "      <td>ENSG00000116898</td>\n",
       "    </tr>\n",
       "    <tr>\n",
       "      <th>236031</th>\n",
       "      <td>1</td>\n",
       "      <td>36482913</td>\n",
       "      <td>-1</td>\n",
       "      <td>CSF3R</td>\n",
       "      <td>protein_coding</td>\n",
       "      <td>ENSG00000119535</td>\n",
       "    </tr>\n",
       "    <tr>\n",
       "      <th>236044</th>\n",
       "      <td>1</td>\n",
       "      <td>36323645</td>\n",
       "      <td>-1</td>\n",
       "      <td>EVA1B</td>\n",
       "      <td>protein_coding</td>\n",
       "      <td>ENSG00000142694</td>\n",
       "    </tr>\n",
       "  </tbody>\n",
       "</table>\n",
       "<p>60609 rows × 6 columns</p>\n",
       "</div>"
      ],
      "text/plain": [
       "        Chromosome     Start  Strand       Gene Transcript_type  \\\n",
       "37      KI270711.1     24650      -1        NaN  protein_coding   \n",
       "40      KI270442.1    380608       1    5S_rRNA            rRNA   \n",
       "53      KI270442.1    217401      -1  5_8S_rRNA            rRNA   \n",
       "656     KI270734.1     59711       1        NaN      pseudogene   \n",
       "661     KI270744.1     51114      -1         U6           snRNA   \n",
       "...            ...       ...     ...        ...             ...   \n",
       "236014           1  36422181      -1      OSCP1  protein_coding   \n",
       "236026           1  36418578      -1   SNORA63C          snoRNA   \n",
       "236027           1  36464384      -1     MRPS15  protein_coding   \n",
       "236031           1  36482913      -1      CSF3R  protein_coding   \n",
       "236044           1  36323645      -1      EVA1B  protein_coding   \n",
       "\n",
       "             ensembl_id  \n",
       "37      ENSG00000271254  \n",
       "40      ENSG00000278457  \n",
       "53      ENSG00000278294  \n",
       "656     ENSG00000278573  \n",
       "661     ENSG00000278625  \n",
       "...                 ...  \n",
       "236014  ENSG00000116885  \n",
       "236026  ENSG00000201448  \n",
       "236027  ENSG00000116898  \n",
       "236031  ENSG00000119535  \n",
       "236044  ENSG00000142694  \n",
       "\n",
       "[60609 rows x 6 columns]"
      ]
     },
     "execution_count": 24,
     "metadata": {},
     "output_type": "execute_result"
    }
   ],
   "source": [
    "filtered_annot_unique"
   ]
  },
  {
   "cell_type": "code",
   "execution_count": 25,
   "id": "bae782b4-3a59-451a-b322-e87ac62d8c3d",
   "metadata": {},
   "outputs": [],
   "source": [
    "filtered_annot_unique = filtered_annot_unique[filtered_annot_unique['ensembl_id'].isin(adata.var_names)]"
   ]
  },
  {
   "cell_type": "code",
   "execution_count": 26,
   "id": "39d3864c-65fe-434f-bb46-4710deb38e12",
   "metadata": {},
   "outputs": [
    {
     "data": {
      "text/html": [
       "<div>\n",
       "<style scoped>\n",
       "    .dataframe tbody tr th:only-of-type {\n",
       "        vertical-align: middle;\n",
       "    }\n",
       "\n",
       "    .dataframe tbody tr th {\n",
       "        vertical-align: top;\n",
       "    }\n",
       "\n",
       "    .dataframe thead th {\n",
       "        text-align: right;\n",
       "    }\n",
       "</style>\n",
       "<table border=\"1\" class=\"dataframe\">\n",
       "  <thead>\n",
       "    <tr style=\"text-align: right;\">\n",
       "      <th></th>\n",
       "      <th>Chromosome</th>\n",
       "      <th>Start</th>\n",
       "      <th>Strand</th>\n",
       "      <th>Gene</th>\n",
       "      <th>Transcript_type</th>\n",
       "      <th>ensembl_id</th>\n",
       "    </tr>\n",
       "  </thead>\n",
       "  <tbody>\n",
       "    <tr>\n",
       "      <th>37</th>\n",
       "      <td>KI270711.1</td>\n",
       "      <td>24650</td>\n",
       "      <td>-1</td>\n",
       "      <td>NaN</td>\n",
       "      <td>protein_coding</td>\n",
       "      <td>ENSG00000271254</td>\n",
       "    </tr>\n",
       "    <tr>\n",
       "      <th>662</th>\n",
       "      <td>KI270734.1</td>\n",
       "      <td>161852</td>\n",
       "      <td>-1</td>\n",
       "      <td>NaN</td>\n",
       "      <td>protein_coding</td>\n",
       "      <td>ENSG00000277196</td>\n",
       "    </tr>\n",
       "    <tr>\n",
       "      <th>718</th>\n",
       "      <td>KI270734.1</td>\n",
       "      <td>131494</td>\n",
       "      <td>1</td>\n",
       "      <td>NaN</td>\n",
       "      <td>protein_coding</td>\n",
       "      <td>ENSG00000278817</td>\n",
       "    </tr>\n",
       "    <tr>\n",
       "      <th>3604</th>\n",
       "      <td>KI270721.1</td>\n",
       "      <td>2585</td>\n",
       "      <td>1</td>\n",
       "      <td>NaN</td>\n",
       "      <td>protein_coding</td>\n",
       "      <td>ENSG00000276345</td>\n",
       "    </tr>\n",
       "    <tr>\n",
       "      <th>8959</th>\n",
       "      <td>Y</td>\n",
       "      <td>25394719</td>\n",
       "      <td>-1</td>\n",
       "      <td>LINC00266-4P</td>\n",
       "      <td>lncRNA</td>\n",
       "      <td>ENSG00000228786</td>\n",
       "    </tr>\n",
       "    <tr>\n",
       "      <th>...</th>\n",
       "      <td>...</td>\n",
       "      <td>...</td>\n",
       "      <td>...</td>\n",
       "      <td>...</td>\n",
       "      <td>...</td>\n",
       "      <td>...</td>\n",
       "    </tr>\n",
       "    <tr>\n",
       "      <th>236010</th>\n",
       "      <td>1</td>\n",
       "      <td>36397887</td>\n",
       "      <td>-1</td>\n",
       "      <td>LSM10</td>\n",
       "      <td>processed_transcript</td>\n",
       "      <td>ENSG00000181817</td>\n",
       "    </tr>\n",
       "    <tr>\n",
       "      <th>236014</th>\n",
       "      <td>1</td>\n",
       "      <td>36422181</td>\n",
       "      <td>-1</td>\n",
       "      <td>OSCP1</td>\n",
       "      <td>protein_coding</td>\n",
       "      <td>ENSG00000116885</td>\n",
       "    </tr>\n",
       "    <tr>\n",
       "      <th>236027</th>\n",
       "      <td>1</td>\n",
       "      <td>36464384</td>\n",
       "      <td>-1</td>\n",
       "      <td>MRPS15</td>\n",
       "      <td>protein_coding</td>\n",
       "      <td>ENSG00000116898</td>\n",
       "    </tr>\n",
       "    <tr>\n",
       "      <th>236031</th>\n",
       "      <td>1</td>\n",
       "      <td>36482913</td>\n",
       "      <td>-1</td>\n",
       "      <td>CSF3R</td>\n",
       "      <td>protein_coding</td>\n",
       "      <td>ENSG00000119535</td>\n",
       "    </tr>\n",
       "    <tr>\n",
       "      <th>236044</th>\n",
       "      <td>1</td>\n",
       "      <td>36323645</td>\n",
       "      <td>-1</td>\n",
       "      <td>EVA1B</td>\n",
       "      <td>protein_coding</td>\n",
       "      <td>ENSG00000142694</td>\n",
       "    </tr>\n",
       "  </tbody>\n",
       "</table>\n",
       "<p>30088 rows × 6 columns</p>\n",
       "</div>"
      ],
      "text/plain": [
       "        Chromosome     Start  Strand          Gene       Transcript_type  \\\n",
       "37      KI270711.1     24650      -1           NaN        protein_coding   \n",
       "662     KI270734.1    161852      -1           NaN        protein_coding   \n",
       "718     KI270734.1    131494       1           NaN        protein_coding   \n",
       "3604    KI270721.1      2585       1           NaN        protein_coding   \n",
       "8959             Y  25394719      -1  LINC00266-4P                lncRNA   \n",
       "...            ...       ...     ...           ...                   ...   \n",
       "236010           1  36397887      -1         LSM10  processed_transcript   \n",
       "236014           1  36422181      -1         OSCP1        protein_coding   \n",
       "236027           1  36464384      -1        MRPS15        protein_coding   \n",
       "236031           1  36482913      -1         CSF3R        protein_coding   \n",
       "236044           1  36323645      -1         EVA1B        protein_coding   \n",
       "\n",
       "             ensembl_id  \n",
       "37      ENSG00000271254  \n",
       "662     ENSG00000277196  \n",
       "718     ENSG00000278817  \n",
       "3604    ENSG00000276345  \n",
       "8959    ENSG00000228786  \n",
       "...                 ...  \n",
       "236010  ENSG00000181817  \n",
       "236014  ENSG00000116885  \n",
       "236027  ENSG00000116898  \n",
       "236031  ENSG00000119535  \n",
       "236044  ENSG00000142694  \n",
       "\n",
       "[30088 rows x 6 columns]"
      ]
     },
     "execution_count": 26,
     "metadata": {},
     "output_type": "execute_result"
    }
   ],
   "source": [
    "filtered_annot_unique"
   ]
  },
  {
   "cell_type": "code",
   "execution_count": 27,
   "id": "15badc16-094b-4479-8041-7ecb184e7d1a",
   "metadata": {},
   "outputs": [
    {
     "data": {
      "text/plain": [
       "Index(['ENSG00000238009', 'ENSG00000241860', 'ENSG00000229905',\n",
       "       'ENSG00000237491', 'ENSG00000177757', 'ENSG00000228794',\n",
       "       'ENSG00000225880', 'ENSG00000230368', 'ENSG00000272438',\n",
       "       'ENSG00000230699',\n",
       "       ...\n",
       "       'ENSG00000274847', 'ENSG00000276256', 'ENSG00000278198',\n",
       "       'ENSG00000273496', 'ENSG00000278384', 'ENSG00000273748',\n",
       "       'ENSG00000271254', 'ENSG00000276345', 'ENSG00000278817',\n",
       "       'ENSG00000277196'],\n",
       "      dtype='object', name='gene_ids', length=30109)"
      ]
     },
     "execution_count": 27,
     "metadata": {},
     "output_type": "execute_result"
    }
   ],
   "source": [
    "adata.var_names"
   ]
  },
  {
   "cell_type": "code",
   "execution_count": 28,
   "id": "99795072-7a19-42bc-bc66-17653809c926",
   "metadata": {},
   "outputs": [
    {
     "data": {
      "text/plain": [
       "['ENSG00000271254',\n",
       " 'ENSG00000277196',\n",
       " 'ENSG00000278817',\n",
       " 'ENSG00000276345',\n",
       " 'ENSG00000228786']"
      ]
     },
     "execution_count": 28,
     "metadata": {},
     "output_type": "execute_result"
    }
   ],
   "source": [
    "filtered_annot_unique.ensembl_id.tolist()[0:5]"
   ]
  },
  {
   "cell_type": "code",
   "execution_count": 29,
   "id": "21ee8336-1300-4de4-a123-8d1b172e544f",
   "metadata": {},
   "outputs": [],
   "source": [
    "adata_filtered = adata[:, filtered_annot_unique.ensembl_id.tolist()]"
   ]
  },
  {
   "cell_type": "code",
   "execution_count": 30,
   "id": "db54e838-eb3e-4fa4-8548-555cd5c4c5c4",
   "metadata": {},
   "outputs": [
    {
     "data": {
      "text/plain": [
       "View of AnnData object with n_obs × n_vars = 44330 × 30088\n",
       "    obs: 'author_cell_type', 'age_group', 'donor_id', 'nCount_RNA', 'nFeature_RNA', 'nCount_ATAC', 'nFeature_ATAC', 'TSS_percentile', 'nucleosome_signal', 'percent_mt', 'assay_ontology_term_id', 'cell_type_ontology_term_id', 'development_stage_ontology_term_id', 'disease_ontology_term_id', 'self_reported_ethnicity_ontology_term_id', 'organism_ontology_term_id', 'sex_ontology_term_id', 'tissue_ontology_term_id', 'suspension_type', 'is_primary_data', 'batch', 'tissue_type', 'cell_type', 'assay', 'disease', 'organism', 'sex', 'tissue', 'self_reported_ethnicity', 'development_stage', 'observation_joinid', 'n_genes', 'doublet_score', 'predicted_doublet', 'n_genes_by_counts', 'total_counts', 'total_counts_mt', 'pct_counts_mt', 'celltype'\n",
       "    var: 'feature_is_filtered', 'feature_name', 'feature_reference', 'feature_biotype', 'feature_length', 'n_cells', 'mt', 'n_cells_by_counts', 'mean_counts', 'pct_dropout_by_counts', 'total_counts', 'highly_variable', 'means', 'dispersions', 'dispersions_norm', 'mean', 'std'\n",
       "    uns: 'author_cell_type_colors', 'batch_condition', 'celltype_colors', 'citation', 'hvg', 'log1p', 'neighbors', 'pca', 'schema_reference', 'schema_version', 'scrublet', 'title', 'umap'\n",
       "    obsm: 'Author_UMAP', 'X_joint_wnn_umap', 'X_pca', 'X_umap'\n",
       "    varm: 'PCs'\n",
       "    obsp: 'connectivities', 'distances'"
      ]
     },
     "execution_count": 30,
     "metadata": {},
     "output_type": "execute_result"
    }
   ],
   "source": [
    "adata_filtered"
   ]
  },
  {
   "cell_type": "code",
   "execution_count": 31,
   "id": "4275ab6d-fc90-4446-b1c1-a88299da6a05",
   "metadata": {},
   "outputs": [
    {
     "data": {
      "text/plain": [
       "Index(['ENSG00000271254', 'ENSG00000277196', 'ENSG00000278817',\n",
       "       'ENSG00000276345', 'ENSG00000228786', 'ENSG00000286217',\n",
       "       'ENSG00000277930', 'ENSG00000114374', 'ENSG00000198692',\n",
       "       'ENSG00000286009',\n",
       "       ...\n",
       "       'ENSG00000160679', 'ENSG00000143553', 'ENSG00000214193',\n",
       "       'ENSG00000286379', 'ENSG00000196182', 'ENSG00000181817',\n",
       "       'ENSG00000116885', 'ENSG00000116898', 'ENSG00000119535',\n",
       "       'ENSG00000142694'],\n",
       "      dtype='object', name='gene_ids', length=30088)"
      ]
     },
     "execution_count": 31,
     "metadata": {},
     "output_type": "execute_result"
    }
   ],
   "source": [
    "adata_filtered.var_names"
   ]
  },
  {
   "cell_type": "code",
   "execution_count": 32,
   "id": "b4cf37e4-d32e-4f66-9ff9-4dcf537e0388",
   "metadata": {},
   "outputs": [
    {
     "data": {
      "text/html": [
       "<div>\n",
       "<style scoped>\n",
       "    .dataframe tbody tr th:only-of-type {\n",
       "        vertical-align: middle;\n",
       "    }\n",
       "\n",
       "    .dataframe tbody tr th {\n",
       "        vertical-align: top;\n",
       "    }\n",
       "\n",
       "    .dataframe thead th {\n",
       "        text-align: right;\n",
       "    }\n",
       "</style>\n",
       "<table border=\"1\" class=\"dataframe\">\n",
       "  <thead>\n",
       "    <tr style=\"text-align: right;\">\n",
       "      <th></th>\n",
       "      <th>Chromosome</th>\n",
       "      <th>Start</th>\n",
       "      <th>Strand</th>\n",
       "      <th>Gene</th>\n",
       "      <th>Transcript_type</th>\n",
       "      <th>ensembl_id</th>\n",
       "    </tr>\n",
       "  </thead>\n",
       "  <tbody>\n",
       "    <tr>\n",
       "      <th>37</th>\n",
       "      <td>KI270711.1</td>\n",
       "      <td>24650</td>\n",
       "      <td>-1</td>\n",
       "      <td>NaN</td>\n",
       "      <td>protein_coding</td>\n",
       "      <td>ENSG00000271254</td>\n",
       "    </tr>\n",
       "    <tr>\n",
       "      <th>662</th>\n",
       "      <td>KI270734.1</td>\n",
       "      <td>161852</td>\n",
       "      <td>-1</td>\n",
       "      <td>NaN</td>\n",
       "      <td>protein_coding</td>\n",
       "      <td>ENSG00000277196</td>\n",
       "    </tr>\n",
       "    <tr>\n",
       "      <th>718</th>\n",
       "      <td>KI270734.1</td>\n",
       "      <td>131494</td>\n",
       "      <td>1</td>\n",
       "      <td>NaN</td>\n",
       "      <td>protein_coding</td>\n",
       "      <td>ENSG00000278817</td>\n",
       "    </tr>\n",
       "    <tr>\n",
       "      <th>3604</th>\n",
       "      <td>KI270721.1</td>\n",
       "      <td>2585</td>\n",
       "      <td>1</td>\n",
       "      <td>NaN</td>\n",
       "      <td>protein_coding</td>\n",
       "      <td>ENSG00000276345</td>\n",
       "    </tr>\n",
       "    <tr>\n",
       "      <th>8959</th>\n",
       "      <td>Y</td>\n",
       "      <td>25394719</td>\n",
       "      <td>-1</td>\n",
       "      <td>LINC00266-4P</td>\n",
       "      <td>lncRNA</td>\n",
       "      <td>ENSG00000228786</td>\n",
       "    </tr>\n",
       "    <tr>\n",
       "      <th>...</th>\n",
       "      <td>...</td>\n",
       "      <td>...</td>\n",
       "      <td>...</td>\n",
       "      <td>...</td>\n",
       "      <td>...</td>\n",
       "      <td>...</td>\n",
       "    </tr>\n",
       "    <tr>\n",
       "      <th>236010</th>\n",
       "      <td>1</td>\n",
       "      <td>36397887</td>\n",
       "      <td>-1</td>\n",
       "      <td>LSM10</td>\n",
       "      <td>processed_transcript</td>\n",
       "      <td>ENSG00000181817</td>\n",
       "    </tr>\n",
       "    <tr>\n",
       "      <th>236014</th>\n",
       "      <td>1</td>\n",
       "      <td>36422181</td>\n",
       "      <td>-1</td>\n",
       "      <td>OSCP1</td>\n",
       "      <td>protein_coding</td>\n",
       "      <td>ENSG00000116885</td>\n",
       "    </tr>\n",
       "    <tr>\n",
       "      <th>236027</th>\n",
       "      <td>1</td>\n",
       "      <td>36464384</td>\n",
       "      <td>-1</td>\n",
       "      <td>MRPS15</td>\n",
       "      <td>protein_coding</td>\n",
       "      <td>ENSG00000116898</td>\n",
       "    </tr>\n",
       "    <tr>\n",
       "      <th>236031</th>\n",
       "      <td>1</td>\n",
       "      <td>36482913</td>\n",
       "      <td>-1</td>\n",
       "      <td>CSF3R</td>\n",
       "      <td>protein_coding</td>\n",
       "      <td>ENSG00000119535</td>\n",
       "    </tr>\n",
       "    <tr>\n",
       "      <th>236044</th>\n",
       "      <td>1</td>\n",
       "      <td>36323645</td>\n",
       "      <td>-1</td>\n",
       "      <td>EVA1B</td>\n",
       "      <td>protein_coding</td>\n",
       "      <td>ENSG00000142694</td>\n",
       "    </tr>\n",
       "  </tbody>\n",
       "</table>\n",
       "<p>30088 rows × 6 columns</p>\n",
       "</div>"
      ],
      "text/plain": [
       "        Chromosome     Start  Strand          Gene       Transcript_type  \\\n",
       "37      KI270711.1     24650      -1           NaN        protein_coding   \n",
       "662     KI270734.1    161852      -1           NaN        protein_coding   \n",
       "718     KI270734.1    131494       1           NaN        protein_coding   \n",
       "3604    KI270721.1      2585       1           NaN        protein_coding   \n",
       "8959             Y  25394719      -1  LINC00266-4P                lncRNA   \n",
       "...            ...       ...     ...           ...                   ...   \n",
       "236010           1  36397887      -1         LSM10  processed_transcript   \n",
       "236014           1  36422181      -1         OSCP1        protein_coding   \n",
       "236027           1  36464384      -1        MRPS15        protein_coding   \n",
       "236031           1  36482913      -1         CSF3R        protein_coding   \n",
       "236044           1  36323645      -1         EVA1B        protein_coding   \n",
       "\n",
       "             ensembl_id  \n",
       "37      ENSG00000271254  \n",
       "662     ENSG00000277196  \n",
       "718     ENSG00000278817  \n",
       "3604    ENSG00000276345  \n",
       "8959    ENSG00000228786  \n",
       "...                 ...  \n",
       "236010  ENSG00000181817  \n",
       "236014  ENSG00000116885  \n",
       "236027  ENSG00000116898  \n",
       "236031  ENSG00000119535  \n",
       "236044  ENSG00000142694  \n",
       "\n",
       "[30088 rows x 6 columns]"
      ]
     },
     "execution_count": 32,
     "metadata": {},
     "output_type": "execute_result"
    }
   ],
   "source": [
    "filtered_annot_unique"
   ]
  },
  {
   "cell_type": "code",
   "execution_count": 33,
   "id": "bbe8e8a1-0aeb-41ce-81ad-598a35d31981",
   "metadata": {},
   "outputs": [
    {
     "data": {
      "text/plain": [
       "pandas.core.frame.DataFrame"
      ]
     },
     "execution_count": 33,
     "metadata": {},
     "output_type": "execute_result"
    }
   ],
   "source": [
    "type(filtered_annot_unique)"
   ]
  },
  {
   "cell_type": "code",
   "execution_count": 36,
   "id": "319b8245-cbec-4511-87ff-08db0f18668f",
   "metadata": {},
   "outputs": [],
   "source": [
    "import pandas as pd\n",
    "\n",
    "# Assuming adata_filtered.var_names is a list-like object\n",
    "# and ensembl_ids is a column in your DataFrame\n",
    "\n",
    "# Step 1: Extract the ensembl_ids column from your DataFrame\n",
    "ensembl_ids_column = filtered_annot_unique['ensembl_id']\n",
    "\n",
    "# Step 2: Convert adata_filtered.var_names to a list\n",
    "adata_var_names_list = list(adata_filtered.var_names)\n",
    "\n",
    "# Step 3: Compare the equality and order of the two lists\n",
    "are_equal_and_same_order = (ensembl_ids_column.tolist() == adata_var_names_list)\n"
   ]
  },
  {
   "cell_type": "code",
   "execution_count": 37,
   "id": "d5ffe1ce-8743-4697-82ea-a0de1c0d6738",
   "metadata": {},
   "outputs": [
    {
     "data": {
      "text/plain": [
       "True"
      ]
     },
     "execution_count": 37,
     "metadata": {},
     "output_type": "execute_result"
    }
   ],
   "source": [
    "are_equal_and_same_order"
   ]
  },
  {
   "cell_type": "code",
   "execution_count": 39,
   "id": "105cbec0-35e7-4054-bf77-20e094fda0c4",
   "metadata": {},
   "outputs": [
    {
     "data": {
      "text/plain": [
       "pandas.core.indexes.base.Index"
      ]
     },
     "execution_count": 39,
     "metadata": {},
     "output_type": "execute_result"
    }
   ],
   "source": [
    "type(adata.var_names)"
   ]
  },
  {
   "cell_type": "code",
   "execution_count": 40,
   "id": "f7ca8e2e-7fce-4432-9911-9d73cf113845",
   "metadata": {},
   "outputs": [
    {
     "data": {
      "text/plain": [
       "pandas.core.series.Series"
      ]
     },
     "execution_count": 40,
     "metadata": {},
     "output_type": "execute_result"
    }
   ],
   "source": [
    "type(filtered_annot_unique['Gene'])"
   ]
  },
  {
   "cell_type": "code",
   "execution_count": 42,
   "id": "54d6b7c0-0800-4a05-be0d-5e0d7a45d38c",
   "metadata": {},
   "outputs": [],
   "source": [
    "adata_filtered.var_names = filtered_annot_unique['Gene'].tolist()"
   ]
  },
  {
   "cell_type": "code",
   "execution_count": 43,
   "id": "6f1996d1-f8e6-4b2b-a41b-fdd52d5be678",
   "metadata": {},
   "outputs": [
    {
     "data": {
      "text/plain": [
       "Index([           nan,            nan,            nan,            nan,\n",
       "       'LINC00266-4P',    'LINC00279',            nan,        'USP9Y',\n",
       "             'EIF1AY',            nan,\n",
       "       ...\n",
       "              'CHTOP',       'SNAPIN',       'SH3D21',            nan,\n",
       "              'STK40',        'LSM10',        'OSCP1',       'MRPS15',\n",
       "              'CSF3R',        'EVA1B'],\n",
       "      dtype='object', length=30088)"
      ]
     },
     "execution_count": 43,
     "metadata": {},
     "output_type": "execute_result"
    }
   ],
   "source": [
    "adata_filtered.var_names"
   ]
  },
  {
   "cell_type": "code",
   "execution_count": 44,
   "id": "bc92a608-3021-4cd5-b61e-c5998b4b25b7",
   "metadata": {},
   "outputs": [],
   "source": [
    "import numpy as np"
   ]
  },
  {
   "cell_type": "code",
   "execution_count": 46,
   "id": "13622eb9-a47a-4fcc-abd2-e0b3ab521395",
   "metadata": {},
   "outputs": [
    {
     "name": "stdout",
     "output_type": "stream",
     "text": [
      "adata_filtered.var_names contains duplicate elements.\n"
     ]
    }
   ],
   "source": [
    "# Assuming adata_filtered.var_names is a list-like object\n",
    "\n",
    "# Convert var_names to a set\n",
    "var_names_set = set(adata_filtered.var_names)\n",
    "\n",
    "# Check if the length of the set is the same as the length of the original list\n",
    "if len(var_names_set) == len(adata_filtered.var_names):\n",
    "    print(\"All elements in adata_filtered.var_names are unique.\")\n",
    "else:\n",
    "    print(\"adata_filtered.var_names contains duplicate elements.\")\n"
   ]
  },
  {
   "cell_type": "code",
   "execution_count": 47,
   "id": "8d160c3e-be9d-4f64-bb21-825442ea6dc3",
   "metadata": {},
   "outputs": [
    {
     "data": {
      "text/plain": [
       "21315"
      ]
     },
     "execution_count": 47,
     "metadata": {},
     "output_type": "execute_result"
    }
   ],
   "source": [
    "len(var_names_set)"
   ]
  },
  {
   "cell_type": "code",
   "execution_count": 48,
   "id": "fbeff9c1-1771-439e-b075-ba2dd42cf1cd",
   "metadata": {},
   "outputs": [
    {
     "data": {
      "text/plain": [
       "30088"
      ]
     },
     "execution_count": 48,
     "metadata": {},
     "output_type": "execute_result"
    }
   ],
   "source": [
    "len(adata_filtered.var_names)"
   ]
  },
  {
   "cell_type": "code",
   "execution_count": 49,
   "id": "463c8279-0a8b-4ec0-b0bc-7c446a8ae253",
   "metadata": {},
   "outputs": [
    {
     "ename": "TypeError",
     "evalue": "unsupported operand type(s) for +: 'float' and 'str'",
     "output_type": "error",
     "traceback": [
      "\u001b[0;31m---------------------------------------------------------------------------\u001b[0m",
      "\u001b[0;31mTypeError\u001b[0m                                 Traceback (most recent call last)",
      "Cell \u001b[0;32mIn[49], line 1\u001b[0m\n\u001b[0;32m----> 1\u001b[0m \u001b[43madata_filtered\u001b[49m\u001b[38;5;241;43m.\u001b[39;49m\u001b[43mvar_names_make_unique\u001b[49m\u001b[43m(\u001b[49m\u001b[43m)\u001b[49m\n",
      "File \u001b[0;32m~/miniconda3/envs/scenicplus/lib/python3.8/site-packages/anndata/_core/anndata.py:1826\u001b[0m, in \u001b[0;36mAnnData.var_names_make_unique\u001b[0;34m(self, join)\u001b[0m\n\u001b[1;32m   1824\u001b[0m \u001b[38;5;28;01mdef\u001b[39;00m \u001b[38;5;21mvar_names_make_unique\u001b[39m(\u001b[38;5;28mself\u001b[39m, join: \u001b[38;5;28mstr\u001b[39m \u001b[38;5;241m=\u001b[39m \u001b[38;5;124m\"\u001b[39m\u001b[38;5;124m-\u001b[39m\u001b[38;5;124m\"\u001b[39m):\n\u001b[1;32m   1825\u001b[0m     \u001b[38;5;66;03m# Important to go through the setter so obsm dataframes are updated too\u001b[39;00m\n\u001b[0;32m-> 1826\u001b[0m     \u001b[38;5;28mself\u001b[39m\u001b[38;5;241m.\u001b[39mvar_names \u001b[38;5;241m=\u001b[39m \u001b[43mutils\u001b[49m\u001b[38;5;241;43m.\u001b[39;49m\u001b[43mmake_index_unique\u001b[49m\u001b[43m(\u001b[49m\u001b[38;5;28;43mself\u001b[39;49m\u001b[38;5;241;43m.\u001b[39;49m\u001b[43mvar\u001b[49m\u001b[38;5;241;43m.\u001b[39;49m\u001b[43mindex\u001b[49m\u001b[43m,\u001b[49m\u001b[43m \u001b[49m\u001b[43mjoin\u001b[49m\u001b[43m)\u001b[49m\n",
      "File \u001b[0;32m~/miniconda3/envs/scenicplus/lib/python3.8/site-packages/anndata/utils.py:210\u001b[0m, in \u001b[0;36mmake_index_unique\u001b[0;34m(index, join)\u001b[0m\n\u001b[1;32m    208\u001b[0m \u001b[38;5;28;01mwhile\u001b[39;00m \u001b[38;5;28;01mTrue\u001b[39;00m:\n\u001b[1;32m    209\u001b[0m     counter[v] \u001b[38;5;241m+\u001b[39m\u001b[38;5;241m=\u001b[39m \u001b[38;5;241m1\u001b[39m\n\u001b[0;32m--> 210\u001b[0m     tentative_new_name \u001b[38;5;241m=\u001b[39m \u001b[43mv\u001b[49m\u001b[43m \u001b[49m\u001b[38;5;241;43m+\u001b[39;49m\u001b[43m \u001b[49m\u001b[43mjoin\u001b[49m \u001b[38;5;241m+\u001b[39m \u001b[38;5;28mstr\u001b[39m(counter[v])\n\u001b[1;32m    211\u001b[0m     \u001b[38;5;28;01mif\u001b[39;00m tentative_new_name \u001b[38;5;129;01mnot\u001b[39;00m \u001b[38;5;129;01min\u001b[39;00m values_set:\n\u001b[1;32m    212\u001b[0m         values_set\u001b[38;5;241m.\u001b[39madd(tentative_new_name)\n",
      "\u001b[0;31mTypeError\u001b[0m: unsupported operand type(s) for +: 'float' and 'str'"
     ]
    }
   ],
   "source": [
    "adata_filtered.var_names_make_unique()"
   ]
  },
  {
   "cell_type": "code",
   "execution_count": 50,
   "id": "cb203ca5-8bc0-4dab-a689-c95f18319eda",
   "metadata": {},
   "outputs": [],
   "source": [
    "# Convert all elements in var_names to string type\n",
    "adata_filtered.var_names = adata_filtered.var_names.astype(str)\n",
    "\n",
    "# Make var_names unique\n",
    "adata_filtered.var_names_make_unique()\n"
   ]
  },
  {
   "cell_type": "code",
   "execution_count": 51,
   "id": "7fbbb2ed-1fc4-4a31-8aa8-135ef19ba42e",
   "metadata": {},
   "outputs": [
    {
     "data": {
      "text/plain": [
       "Index(['nan', 'nan-1', 'nan-2', 'nan-3', 'LINC00266-4P', 'LINC00279', 'nan-4',\n",
       "       'USP9Y', 'EIF1AY', 'nan-5',\n",
       "       ...\n",
       "       'CHTOP', 'SNAPIN', 'SH3D21', 'nan-8765', 'STK40', 'LSM10', 'OSCP1',\n",
       "       'MRPS15', 'CSF3R', 'EVA1B'],\n",
       "      dtype='object', length=30088)"
      ]
     },
     "execution_count": 51,
     "metadata": {},
     "output_type": "execute_result"
    }
   ],
   "source": [
    "adata_filtered.var_names"
   ]
  },
  {
   "cell_type": "code",
   "execution_count": 52,
   "id": "3e57a785-8d8a-40c6-a85b-f8011c8cdbe2",
   "metadata": {},
   "outputs": [],
   "source": [
    "adata_filtered.write(os.path.join(work_dir, 'scRNA/adata_filtered_unique_processed.h5ad'), compression='gzip')"
   ]
  },
  {
   "cell_type": "code",
   "execution_count": 53,
   "id": "2b434257-6ae2-45ae-86bd-7bd7dde32809",
   "metadata": {},
   "outputs": [],
   "source": [
    "import session_info"
   ]
  },
  {
   "cell_type": "code",
   "execution_count": 54,
   "id": "777fca51-cfde-4d09-95e8-ff16b819bd0e",
   "metadata": {},
   "outputs": [
    {
     "data": {
      "text/html": [
       "<details>\n",
       "<summary>Click to view session information</summary>\n",
       "<pre>\n",
       "-----\n",
       "anndata             0.9.2\n",
       "ipykernel           6.29.2\n",
       "numpy               1.22.0\n",
       "pandas              2.0.3\n",
       "pybiomart           0.2.0\n",
       "scanpy              1.9.8\n",
       "session_info        1.0.0\n",
       "-----\n",
       "</pre>\n",
       "<details>\n",
       "<summary>Click to view modules imported as dependencies</summary>\n",
       "<pre>\n",
       "PIL                 10.2.0\n",
       "asttokens           NA\n",
       "attr                23.2.0\n",
       "attrs               23.2.0\n",
       "backcall            0.2.0\n",
       "cattr               NA\n",
       "cattrs              NA\n",
       "certifi             2024.02.02\n",
       "cffi                1.16.0\n",
       "charset_normalizer  3.3.2\n",
       "cloudpickle         3.0.0\n",
       "colorama            0.4.6\n",
       "comm                0.2.1\n",
       "cycler              0.12.1\n",
       "cython_runtime      NA\n",
       "cytoolz             0.12.3\n",
       "dask                2023.5.0\n",
       "dateutil            2.8.2\n",
       "debugpy             1.8.1\n",
       "decorator           5.1.1\n",
       "defusedxml          0.7.1\n",
       "exceptiongroup      1.2.0\n",
       "executing           2.0.1\n",
       "future              1.0.0\n",
       "h5py                3.10.0\n",
       "idna                3.6\n",
       "igraph              0.11.4\n",
       "importlib_metadata  NA\n",
       "importlib_resources NA\n",
       "jedi                0.19.1\n",
       "jinja2              3.1.3\n",
       "joblib              1.3.2\n",
       "kiwisolver          1.4.5\n",
       "leidenalg           0.10.2\n",
       "llvmlite            0.41.1\n",
       "lz4                 4.3.3\n",
       "markupsafe          2.1.5\n",
       "matplotlib          3.7.0\n",
       "matplotlib_inline   0.1.6\n",
       "mpl_toolkits        NA\n",
       "msgpack             1.0.7\n",
       "natsort             8.4.0\n",
       "numba               0.58.1\n",
       "numexpr             2.8.6\n",
       "packaging           23.2\n",
       "parso               0.8.3\n",
       "pexpect             4.9.0\n",
       "pickleshare         0.7.5\n",
       "platformdirs        4.2.0\n",
       "plotly              5.19.0\n",
       "prompt_toolkit      3.0.43\n",
       "psutil              5.9.8\n",
       "ptyprocess          0.7.0\n",
       "pure_eval           0.2.2\n",
       "pyarrow             15.0.0\n",
       "pydev_ipython       NA\n",
       "pydevconsole        NA\n",
       "pydevd              2.9.5\n",
       "pydevd_file_utils   NA\n",
       "pydevd_plugins      NA\n",
       "pydevd_tracing      NA\n",
       "pygments            2.17.2\n",
       "pyparsing           3.1.1\n",
       "pytz                2024.1\n",
       "requests            2.31.0\n",
       "requests_cache      1.2.0\n",
       "scipy               1.10.1\n",
       "setuptools          68.2.2\n",
       "six                 1.16.0\n",
       "sklearn             1.3.2\n",
       "sphinxcontrib       NA\n",
       "stack_data          0.6.3\n",
       "tblib               3.0.0\n",
       "texttable           1.7.0\n",
       "threadpoolctl       3.3.0\n",
       "tlz                 0.12.3\n",
       "toolz               0.12.1\n",
       "tornado             6.4\n",
       "traitlets           5.14.1\n",
       "typing_extensions   NA\n",
       "url_normalize       1.4.3\n",
       "urllib3             2.2.1\n",
       "wcwidth             0.2.13\n",
       "yaml                6.0.1\n",
       "zipp                NA\n",
       "zmq                 25.1.2\n",
       "zope                NA\n",
       "</pre>\n",
       "</details> <!-- seems like this ends pre, so might as well be explicit -->\n",
       "<pre>\n",
       "-----\n",
       "IPython             8.12.3\n",
       "jupyter_client      8.6.0\n",
       "jupyter_core        5.7.1\n",
       "-----\n",
       "Python 3.8.18 (default, Sep 11 2023, 13:40:15) [GCC 11.2.0]\n",
       "Linux-3.10.0-1160.76.1.el7.x86_64-x86_64-with-glibc2.17\n",
       "-----\n",
       "Session information updated at 2024-03-18 13:04\n",
       "</pre>\n",
       "</details>"
      ],
      "text/plain": [
       "<IPython.core.display.HTML object>"
      ]
     },
     "execution_count": 54,
     "metadata": {},
     "output_type": "execute_result"
    }
   ],
   "source": [
    "session_info.show()"
   ]
  },
  {
   "cell_type": "code",
   "execution_count": 55,
   "id": "f5ccf7d5-080d-4b5d-a3e6-5c28b21aa78a",
   "metadata": {},
   "outputs": [
    {
     "data": {
      "text/plain": [
       "AnnData object with n_obs × n_vars = 44330 × 30088\n",
       "    obs: 'author_cell_type', 'age_group', 'donor_id', 'nCount_RNA', 'nFeature_RNA', 'nCount_ATAC', 'nFeature_ATAC', 'TSS_percentile', 'nucleosome_signal', 'percent_mt', 'assay_ontology_term_id', 'cell_type_ontology_term_id', 'development_stage_ontology_term_id', 'disease_ontology_term_id', 'self_reported_ethnicity_ontology_term_id', 'organism_ontology_term_id', 'sex_ontology_term_id', 'tissue_ontology_term_id', 'suspension_type', 'is_primary_data', 'batch', 'tissue_type', 'cell_type', 'assay', 'disease', 'organism', 'sex', 'tissue', 'self_reported_ethnicity', 'development_stage', 'observation_joinid', 'n_genes', 'doublet_score', 'predicted_doublet', 'n_genes_by_counts', 'total_counts', 'total_counts_mt', 'pct_counts_mt', 'celltype'\n",
       "    var: 'feature_is_filtered', 'feature_name', 'feature_reference', 'feature_biotype', 'feature_length', 'n_cells', 'mt', 'n_cells_by_counts', 'mean_counts', 'pct_dropout_by_counts', 'total_counts', 'highly_variable', 'means', 'dispersions', 'dispersions_norm', 'mean', 'std'\n",
       "    uns: 'author_cell_type_colors', 'batch_condition', 'celltype_colors', 'citation', 'hvg', 'log1p', 'neighbors', 'pca', 'schema_reference', 'schema_version', 'scrublet', 'title', 'umap'\n",
       "    obsm: 'Author_UMAP', 'X_joint_wnn_umap', 'X_pca', 'X_umap'\n",
       "    varm: 'PCs'\n",
       "    obsp: 'connectivities', 'distances'"
      ]
     },
     "execution_count": 55,
     "metadata": {},
     "output_type": "execute_result"
    }
   ],
   "source": [
    "adata_filtered"
   ]
  },
  {
   "cell_type": "code",
   "execution_count": 58,
   "id": "fc7201e9-0060-42ba-9a4b-79d2d2238371",
   "metadata": {},
   "outputs": [
    {
     "data": {
      "text/plain": [
       "AnnData object with n_obs × n_vars = 44330 × 30109\n",
       "    obs: 'author_cell_type', 'age_group', 'donor_id', 'nCount_RNA', 'nFeature_RNA', 'nCount_ATAC', 'nFeature_ATAC', 'TSS_percentile', 'nucleosome_signal', 'percent_mt', 'assay_ontology_term_id', 'cell_type_ontology_term_id', 'development_stage_ontology_term_id', 'disease_ontology_term_id', 'self_reported_ethnicity_ontology_term_id', 'organism_ontology_term_id', 'sex_ontology_term_id', 'tissue_ontology_term_id', 'suspension_type', 'is_primary_data', 'batch', 'tissue_type', 'cell_type', 'assay', 'disease', 'organism', 'sex', 'tissue', 'self_reported_ethnicity', 'development_stage', 'observation_joinid', 'n_genes', 'doublet_score', 'predicted_doublet', 'n_genes_by_counts', 'total_counts', 'total_counts_mt', 'pct_counts_mt', 'celltype'\n",
       "    var: 'feature_is_filtered', 'feature_name', 'feature_reference', 'feature_biotype', 'feature_length', 'n_cells', 'mt', 'n_cells_by_counts', 'mean_counts', 'pct_dropout_by_counts', 'total_counts'\n",
       "    uns: 'author_cell_type_colors', 'batch_condition', 'celltype_colors', 'citation', 'hvg', 'log1p', 'neighbors', 'pca', 'schema_reference', 'schema_version', 'scrublet', 'title', 'umap'\n",
       "    obsm: 'Author_UMAP', 'X_joint_wnn_umap', 'X_pca', 'X_umap'\n",
       "    obsp: 'connectivities', 'distances'"
      ]
     },
     "execution_count": 58,
     "metadata": {},
     "output_type": "execute_result"
    }
   ],
   "source": [
    "adata_filtered.raw.to_adata()"
   ]
  },
  {
   "cell_type": "code",
   "execution_count": 59,
   "id": "9dfcdcd1-be03-4a10-84c4-cec6b0bb777f",
   "metadata": {},
   "outputs": [],
   "source": [
    "adata_raw = adata_filtered.raw.to_adata().copy()"
   ]
  },
  {
   "cell_type": "code",
   "execution_count": 60,
   "id": "1a90f0dd-cea6-4641-b6ed-ccb24d4f3af7",
   "metadata": {},
   "outputs": [
    {
     "data": {
      "text/plain": [
       "AnnData object with n_obs × n_vars = 44330 × 30109\n",
       "    obs: 'author_cell_type', 'age_group', 'donor_id', 'nCount_RNA', 'nFeature_RNA', 'nCount_ATAC', 'nFeature_ATAC', 'TSS_percentile', 'nucleosome_signal', 'percent_mt', 'assay_ontology_term_id', 'cell_type_ontology_term_id', 'development_stage_ontology_term_id', 'disease_ontology_term_id', 'self_reported_ethnicity_ontology_term_id', 'organism_ontology_term_id', 'sex_ontology_term_id', 'tissue_ontology_term_id', 'suspension_type', 'is_primary_data', 'batch', 'tissue_type', 'cell_type', 'assay', 'disease', 'organism', 'sex', 'tissue', 'self_reported_ethnicity', 'development_stage', 'observation_joinid', 'n_genes', 'doublet_score', 'predicted_doublet', 'n_genes_by_counts', 'total_counts', 'total_counts_mt', 'pct_counts_mt', 'celltype'\n",
       "    var: 'feature_is_filtered', 'feature_name', 'feature_reference', 'feature_biotype', 'feature_length', 'n_cells', 'mt', 'n_cells_by_counts', 'mean_counts', 'pct_dropout_by_counts', 'total_counts'\n",
       "    uns: 'author_cell_type_colors', 'batch_condition', 'celltype_colors', 'citation', 'hvg', 'log1p', 'neighbors', 'pca', 'schema_reference', 'schema_version', 'scrublet', 'title', 'umap'\n",
       "    obsm: 'Author_UMAP', 'X_joint_wnn_umap', 'X_pca', 'X_umap'\n",
       "    obsp: 'connectivities', 'distances'"
      ]
     },
     "execution_count": 60,
     "metadata": {},
     "output_type": "execute_result"
    }
   ],
   "source": [
    "adata_raw"
   ]
  },
  {
   "cell_type": "code",
   "execution_count": 61,
   "id": "3e53b929-4efb-4db1-acdd-1a046b53031d",
   "metadata": {},
   "outputs": [
    {
     "data": {
      "text/html": [
       "<div>\n",
       "<style scoped>\n",
       "    .dataframe tbody tr th:only-of-type {\n",
       "        vertical-align: middle;\n",
       "    }\n",
       "\n",
       "    .dataframe tbody tr th {\n",
       "        vertical-align: top;\n",
       "    }\n",
       "\n",
       "    .dataframe thead th {\n",
       "        text-align: right;\n",
       "    }\n",
       "</style>\n",
       "<table border=\"1\" class=\"dataframe\">\n",
       "  <thead>\n",
       "    <tr style=\"text-align: right;\">\n",
       "      <th></th>\n",
       "      <th>Chromosome</th>\n",
       "      <th>Start</th>\n",
       "      <th>Strand</th>\n",
       "      <th>Gene</th>\n",
       "      <th>Transcript_type</th>\n",
       "      <th>ensembl_id</th>\n",
       "    </tr>\n",
       "  </thead>\n",
       "  <tbody>\n",
       "    <tr>\n",
       "      <th>37</th>\n",
       "      <td>KI270711.1</td>\n",
       "      <td>24650</td>\n",
       "      <td>-1</td>\n",
       "      <td>NaN</td>\n",
       "      <td>protein_coding</td>\n",
       "      <td>ENSG00000271254</td>\n",
       "    </tr>\n",
       "    <tr>\n",
       "      <th>38</th>\n",
       "      <td>KI270711.1</td>\n",
       "      <td>29626</td>\n",
       "      <td>-1</td>\n",
       "      <td>NaN</td>\n",
       "      <td>protein_coding</td>\n",
       "      <td>ENSG00000271254</td>\n",
       "    </tr>\n",
       "    <tr>\n",
       "      <th>40</th>\n",
       "      <td>KI270442.1</td>\n",
       "      <td>380608</td>\n",
       "      <td>1</td>\n",
       "      <td>5S_rRNA</td>\n",
       "      <td>rRNA</td>\n",
       "      <td>ENSG00000278457</td>\n",
       "    </tr>\n",
       "    <tr>\n",
       "      <th>53</th>\n",
       "      <td>KI270442.1</td>\n",
       "      <td>217401</td>\n",
       "      <td>-1</td>\n",
       "      <td>5_8S_rRNA</td>\n",
       "      <td>rRNA</td>\n",
       "      <td>ENSG00000278294</td>\n",
       "    </tr>\n",
       "    <tr>\n",
       "      <th>656</th>\n",
       "      <td>KI270734.1</td>\n",
       "      <td>59711</td>\n",
       "      <td>1</td>\n",
       "      <td>NaN</td>\n",
       "      <td>pseudogene</td>\n",
       "      <td>ENSG00000278573</td>\n",
       "    </tr>\n",
       "    <tr>\n",
       "      <th>...</th>\n",
       "      <td>...</td>\n",
       "      <td>...</td>\n",
       "      <td>...</td>\n",
       "      <td>...</td>\n",
       "      <td>...</td>\n",
       "      <td>...</td>\n",
       "    </tr>\n",
       "    <tr>\n",
       "      <th>236041</th>\n",
       "      <td>1</td>\n",
       "      <td>36482899</td>\n",
       "      <td>-1</td>\n",
       "      <td>CSF3R</td>\n",
       "      <td>processed_transcript</td>\n",
       "      <td>ENSG00000119535</td>\n",
       "    </tr>\n",
       "    <tr>\n",
       "      <th>236042</th>\n",
       "      <td>1</td>\n",
       "      <td>36482934</td>\n",
       "      <td>-1</td>\n",
       "      <td>CSF3R</td>\n",
       "      <td>retained_intron</td>\n",
       "      <td>ENSG00000119535</td>\n",
       "    </tr>\n",
       "    <tr>\n",
       "      <th>236043</th>\n",
       "      <td>1</td>\n",
       "      <td>36482051</td>\n",
       "      <td>-1</td>\n",
       "      <td>CSF3R</td>\n",
       "      <td>protein_coding</td>\n",
       "      <td>ENSG00000119535</td>\n",
       "    </tr>\n",
       "    <tr>\n",
       "      <th>236044</th>\n",
       "      <td>1</td>\n",
       "      <td>36323645</td>\n",
       "      <td>-1</td>\n",
       "      <td>EVA1B</td>\n",
       "      <td>protein_coding</td>\n",
       "      <td>ENSG00000142694</td>\n",
       "    </tr>\n",
       "    <tr>\n",
       "      <th>236045</th>\n",
       "      <td>1</td>\n",
       "      <td>36324154</td>\n",
       "      <td>-1</td>\n",
       "      <td>EVA1B</td>\n",
       "      <td>protein_coding</td>\n",
       "      <td>ENSG00000142694</td>\n",
       "    </tr>\n",
       "  </tbody>\n",
       "</table>\n",
       "<p>216550 rows × 6 columns</p>\n",
       "</div>"
      ],
      "text/plain": [
       "        Chromosome     Start  Strand       Gene       Transcript_type  \\\n",
       "37      KI270711.1     24650      -1        NaN        protein_coding   \n",
       "38      KI270711.1     29626      -1        NaN        protein_coding   \n",
       "40      KI270442.1    380608       1    5S_rRNA                  rRNA   \n",
       "53      KI270442.1    217401      -1  5_8S_rRNA                  rRNA   \n",
       "656     KI270734.1     59711       1        NaN            pseudogene   \n",
       "...            ...       ...     ...        ...                   ...   \n",
       "236041           1  36482899      -1      CSF3R  processed_transcript   \n",
       "236042           1  36482934      -1      CSF3R       retained_intron   \n",
       "236043           1  36482051      -1      CSF3R        protein_coding   \n",
       "236044           1  36323645      -1      EVA1B        protein_coding   \n",
       "236045           1  36324154      -1      EVA1B        protein_coding   \n",
       "\n",
       "             ensembl_id  \n",
       "37      ENSG00000271254  \n",
       "38      ENSG00000271254  \n",
       "40      ENSG00000278457  \n",
       "53      ENSG00000278294  \n",
       "656     ENSG00000278573  \n",
       "...                 ...  \n",
       "236041  ENSG00000119535  \n",
       "236042  ENSG00000119535  \n",
       "236043  ENSG00000119535  \n",
       "236044  ENSG00000142694  \n",
       "236045  ENSG00000142694  \n",
       "\n",
       "[216550 rows x 6 columns]"
      ]
     },
     "execution_count": 61,
     "metadata": {},
     "output_type": "execute_result"
    }
   ],
   "source": [
    "annot"
   ]
  },
  {
   "cell_type": "code",
   "execution_count": 62,
   "id": "9bc3adc5-e9ef-4faa-aa58-4a45d7bb8f43",
   "metadata": {},
   "outputs": [],
   "source": [
    "# Keep only rows with unique Ensembl IDs\n",
    "filtered_annot_unique = annot.drop_duplicates(subset='ensembl_id')"
   ]
  },
  {
   "cell_type": "code",
   "execution_count": 63,
   "id": "eea3815b-3949-4ccd-ba27-400674a89772",
   "metadata": {},
   "outputs": [
    {
     "data": {
      "text/html": [
       "<div>\n",
       "<style scoped>\n",
       "    .dataframe tbody tr th:only-of-type {\n",
       "        vertical-align: middle;\n",
       "    }\n",
       "\n",
       "    .dataframe tbody tr th {\n",
       "        vertical-align: top;\n",
       "    }\n",
       "\n",
       "    .dataframe thead th {\n",
       "        text-align: right;\n",
       "    }\n",
       "</style>\n",
       "<table border=\"1\" class=\"dataframe\">\n",
       "  <thead>\n",
       "    <tr style=\"text-align: right;\">\n",
       "      <th></th>\n",
       "      <th>Chromosome</th>\n",
       "      <th>Start</th>\n",
       "      <th>Strand</th>\n",
       "      <th>Gene</th>\n",
       "      <th>Transcript_type</th>\n",
       "      <th>ensembl_id</th>\n",
       "    </tr>\n",
       "  </thead>\n",
       "  <tbody>\n",
       "    <tr>\n",
       "      <th>37</th>\n",
       "      <td>KI270711.1</td>\n",
       "      <td>24650</td>\n",
       "      <td>-1</td>\n",
       "      <td>NaN</td>\n",
       "      <td>protein_coding</td>\n",
       "      <td>ENSG00000271254</td>\n",
       "    </tr>\n",
       "    <tr>\n",
       "      <th>40</th>\n",
       "      <td>KI270442.1</td>\n",
       "      <td>380608</td>\n",
       "      <td>1</td>\n",
       "      <td>5S_rRNA</td>\n",
       "      <td>rRNA</td>\n",
       "      <td>ENSG00000278457</td>\n",
       "    </tr>\n",
       "    <tr>\n",
       "      <th>53</th>\n",
       "      <td>KI270442.1</td>\n",
       "      <td>217401</td>\n",
       "      <td>-1</td>\n",
       "      <td>5_8S_rRNA</td>\n",
       "      <td>rRNA</td>\n",
       "      <td>ENSG00000278294</td>\n",
       "    </tr>\n",
       "    <tr>\n",
       "      <th>656</th>\n",
       "      <td>KI270734.1</td>\n",
       "      <td>59711</td>\n",
       "      <td>1</td>\n",
       "      <td>NaN</td>\n",
       "      <td>pseudogene</td>\n",
       "      <td>ENSG00000278573</td>\n",
       "    </tr>\n",
       "    <tr>\n",
       "      <th>661</th>\n",
       "      <td>KI270744.1</td>\n",
       "      <td>51114</td>\n",
       "      <td>-1</td>\n",
       "      <td>U6</td>\n",
       "      <td>snRNA</td>\n",
       "      <td>ENSG00000278625</td>\n",
       "    </tr>\n",
       "    <tr>\n",
       "      <th>...</th>\n",
       "      <td>...</td>\n",
       "      <td>...</td>\n",
       "      <td>...</td>\n",
       "      <td>...</td>\n",
       "      <td>...</td>\n",
       "      <td>...</td>\n",
       "    </tr>\n",
       "    <tr>\n",
       "      <th>236014</th>\n",
       "      <td>1</td>\n",
       "      <td>36422181</td>\n",
       "      <td>-1</td>\n",
       "      <td>OSCP1</td>\n",
       "      <td>protein_coding</td>\n",
       "      <td>ENSG00000116885</td>\n",
       "    </tr>\n",
       "    <tr>\n",
       "      <th>236026</th>\n",
       "      <td>1</td>\n",
       "      <td>36418578</td>\n",
       "      <td>-1</td>\n",
       "      <td>SNORA63C</td>\n",
       "      <td>snoRNA</td>\n",
       "      <td>ENSG00000201448</td>\n",
       "    </tr>\n",
       "    <tr>\n",
       "      <th>236027</th>\n",
       "      <td>1</td>\n",
       "      <td>36464384</td>\n",
       "      <td>-1</td>\n",
       "      <td>MRPS15</td>\n",
       "      <td>protein_coding</td>\n",
       "      <td>ENSG00000116898</td>\n",
       "    </tr>\n",
       "    <tr>\n",
       "      <th>236031</th>\n",
       "      <td>1</td>\n",
       "      <td>36482913</td>\n",
       "      <td>-1</td>\n",
       "      <td>CSF3R</td>\n",
       "      <td>protein_coding</td>\n",
       "      <td>ENSG00000119535</td>\n",
       "    </tr>\n",
       "    <tr>\n",
       "      <th>236044</th>\n",
       "      <td>1</td>\n",
       "      <td>36323645</td>\n",
       "      <td>-1</td>\n",
       "      <td>EVA1B</td>\n",
       "      <td>protein_coding</td>\n",
       "      <td>ENSG00000142694</td>\n",
       "    </tr>\n",
       "  </tbody>\n",
       "</table>\n",
       "<p>60609 rows × 6 columns</p>\n",
       "</div>"
      ],
      "text/plain": [
       "        Chromosome     Start  Strand       Gene Transcript_type  \\\n",
       "37      KI270711.1     24650      -1        NaN  protein_coding   \n",
       "40      KI270442.1    380608       1    5S_rRNA            rRNA   \n",
       "53      KI270442.1    217401      -1  5_8S_rRNA            rRNA   \n",
       "656     KI270734.1     59711       1        NaN      pseudogene   \n",
       "661     KI270744.1     51114      -1         U6           snRNA   \n",
       "...            ...       ...     ...        ...             ...   \n",
       "236014           1  36422181      -1      OSCP1  protein_coding   \n",
       "236026           1  36418578      -1   SNORA63C          snoRNA   \n",
       "236027           1  36464384      -1     MRPS15  protein_coding   \n",
       "236031           1  36482913      -1      CSF3R  protein_coding   \n",
       "236044           1  36323645      -1      EVA1B  protein_coding   \n",
       "\n",
       "             ensembl_id  \n",
       "37      ENSG00000271254  \n",
       "40      ENSG00000278457  \n",
       "53      ENSG00000278294  \n",
       "656     ENSG00000278573  \n",
       "661     ENSG00000278625  \n",
       "...                 ...  \n",
       "236014  ENSG00000116885  \n",
       "236026  ENSG00000201448  \n",
       "236027  ENSG00000116898  \n",
       "236031  ENSG00000119535  \n",
       "236044  ENSG00000142694  \n",
       "\n",
       "[60609 rows x 6 columns]"
      ]
     },
     "execution_count": 63,
     "metadata": {},
     "output_type": "execute_result"
    }
   ],
   "source": [
    "filtered_annot_unique"
   ]
  },
  {
   "cell_type": "code",
   "execution_count": 64,
   "id": "54c6da10-d1ba-4b3e-a2c4-2321f67145b1",
   "metadata": {},
   "outputs": [
    {
     "data": {
      "text/plain": [
       "Index(['ENSG00000238009', 'ENSG00000241860', 'ENSG00000229905',\n",
       "       'ENSG00000237491', 'ENSG00000177757', 'ENSG00000228794',\n",
       "       'ENSG00000225880', 'ENSG00000230368', 'ENSG00000272438',\n",
       "       'ENSG00000230699',\n",
       "       ...\n",
       "       'ENSG00000274847', 'ENSG00000276256', 'ENSG00000278198',\n",
       "       'ENSG00000273496', 'ENSG00000278384', 'ENSG00000273748',\n",
       "       'ENSG00000271254', 'ENSG00000276345', 'ENSG00000278817',\n",
       "       'ENSG00000277196'],\n",
       "      dtype='object', name='gene_ids', length=30109)"
      ]
     },
     "execution_count": 64,
     "metadata": {},
     "output_type": "execute_result"
    }
   ],
   "source": [
    "adata_raw.var_names"
   ]
  },
  {
   "cell_type": "code",
   "execution_count": 68,
   "id": "cc26edc3-3936-4eae-b177-2ebba2c0b162",
   "metadata": {},
   "outputs": [],
   "source": [
    "filtered_annot_unique = filtered_annot_unique[filtered_annot_unique['ensembl_id'].isin(adata_raw.var_names)]"
   ]
  },
  {
   "cell_type": "code",
   "execution_count": 69,
   "id": "dd6b8e4a-2455-4b39-91f3-8f0dc09e0a4a",
   "metadata": {},
   "outputs": [
    {
     "data": {
      "text/html": [
       "<div>\n",
       "<style scoped>\n",
       "    .dataframe tbody tr th:only-of-type {\n",
       "        vertical-align: middle;\n",
       "    }\n",
       "\n",
       "    .dataframe tbody tr th {\n",
       "        vertical-align: top;\n",
       "    }\n",
       "\n",
       "    .dataframe thead th {\n",
       "        text-align: right;\n",
       "    }\n",
       "</style>\n",
       "<table border=\"1\" class=\"dataframe\">\n",
       "  <thead>\n",
       "    <tr style=\"text-align: right;\">\n",
       "      <th></th>\n",
       "      <th>Chromosome</th>\n",
       "      <th>Start</th>\n",
       "      <th>Strand</th>\n",
       "      <th>Gene</th>\n",
       "      <th>Transcript_type</th>\n",
       "      <th>ensembl_id</th>\n",
       "    </tr>\n",
       "  </thead>\n",
       "  <tbody>\n",
       "    <tr>\n",
       "      <th>37</th>\n",
       "      <td>KI270711.1</td>\n",
       "      <td>24650</td>\n",
       "      <td>-1</td>\n",
       "      <td>NaN</td>\n",
       "      <td>protein_coding</td>\n",
       "      <td>ENSG00000271254</td>\n",
       "    </tr>\n",
       "    <tr>\n",
       "      <th>662</th>\n",
       "      <td>KI270734.1</td>\n",
       "      <td>161852</td>\n",
       "      <td>-1</td>\n",
       "      <td>NaN</td>\n",
       "      <td>protein_coding</td>\n",
       "      <td>ENSG00000277196</td>\n",
       "    </tr>\n",
       "    <tr>\n",
       "      <th>718</th>\n",
       "      <td>KI270734.1</td>\n",
       "      <td>131494</td>\n",
       "      <td>1</td>\n",
       "      <td>NaN</td>\n",
       "      <td>protein_coding</td>\n",
       "      <td>ENSG00000278817</td>\n",
       "    </tr>\n",
       "    <tr>\n",
       "      <th>3604</th>\n",
       "      <td>KI270721.1</td>\n",
       "      <td>2585</td>\n",
       "      <td>1</td>\n",
       "      <td>NaN</td>\n",
       "      <td>protein_coding</td>\n",
       "      <td>ENSG00000276345</td>\n",
       "    </tr>\n",
       "    <tr>\n",
       "      <th>8959</th>\n",
       "      <td>Y</td>\n",
       "      <td>25394719</td>\n",
       "      <td>-1</td>\n",
       "      <td>LINC00266-4P</td>\n",
       "      <td>lncRNA</td>\n",
       "      <td>ENSG00000228786</td>\n",
       "    </tr>\n",
       "    <tr>\n",
       "      <th>...</th>\n",
       "      <td>...</td>\n",
       "      <td>...</td>\n",
       "      <td>...</td>\n",
       "      <td>...</td>\n",
       "      <td>...</td>\n",
       "      <td>...</td>\n",
       "    </tr>\n",
       "    <tr>\n",
       "      <th>236010</th>\n",
       "      <td>1</td>\n",
       "      <td>36397887</td>\n",
       "      <td>-1</td>\n",
       "      <td>LSM10</td>\n",
       "      <td>processed_transcript</td>\n",
       "      <td>ENSG00000181817</td>\n",
       "    </tr>\n",
       "    <tr>\n",
       "      <th>236014</th>\n",
       "      <td>1</td>\n",
       "      <td>36422181</td>\n",
       "      <td>-1</td>\n",
       "      <td>OSCP1</td>\n",
       "      <td>protein_coding</td>\n",
       "      <td>ENSG00000116885</td>\n",
       "    </tr>\n",
       "    <tr>\n",
       "      <th>236027</th>\n",
       "      <td>1</td>\n",
       "      <td>36464384</td>\n",
       "      <td>-1</td>\n",
       "      <td>MRPS15</td>\n",
       "      <td>protein_coding</td>\n",
       "      <td>ENSG00000116898</td>\n",
       "    </tr>\n",
       "    <tr>\n",
       "      <th>236031</th>\n",
       "      <td>1</td>\n",
       "      <td>36482913</td>\n",
       "      <td>-1</td>\n",
       "      <td>CSF3R</td>\n",
       "      <td>protein_coding</td>\n",
       "      <td>ENSG00000119535</td>\n",
       "    </tr>\n",
       "    <tr>\n",
       "      <th>236044</th>\n",
       "      <td>1</td>\n",
       "      <td>36323645</td>\n",
       "      <td>-1</td>\n",
       "      <td>EVA1B</td>\n",
       "      <td>protein_coding</td>\n",
       "      <td>ENSG00000142694</td>\n",
       "    </tr>\n",
       "  </tbody>\n",
       "</table>\n",
       "<p>30088 rows × 6 columns</p>\n",
       "</div>"
      ],
      "text/plain": [
       "        Chromosome     Start  Strand          Gene       Transcript_type  \\\n",
       "37      KI270711.1     24650      -1           NaN        protein_coding   \n",
       "662     KI270734.1    161852      -1           NaN        protein_coding   \n",
       "718     KI270734.1    131494       1           NaN        protein_coding   \n",
       "3604    KI270721.1      2585       1           NaN        protein_coding   \n",
       "8959             Y  25394719      -1  LINC00266-4P                lncRNA   \n",
       "...            ...       ...     ...           ...                   ...   \n",
       "236010           1  36397887      -1         LSM10  processed_transcript   \n",
       "236014           1  36422181      -1         OSCP1        protein_coding   \n",
       "236027           1  36464384      -1        MRPS15        protein_coding   \n",
       "236031           1  36482913      -1         CSF3R        protein_coding   \n",
       "236044           1  36323645      -1         EVA1B        protein_coding   \n",
       "\n",
       "             ensembl_id  \n",
       "37      ENSG00000271254  \n",
       "662     ENSG00000277196  \n",
       "718     ENSG00000278817  \n",
       "3604    ENSG00000276345  \n",
       "8959    ENSG00000228786  \n",
       "...                 ...  \n",
       "236010  ENSG00000181817  \n",
       "236014  ENSG00000116885  \n",
       "236027  ENSG00000116898  \n",
       "236031  ENSG00000119535  \n",
       "236044  ENSG00000142694  \n",
       "\n",
       "[30088 rows x 6 columns]"
      ]
     },
     "execution_count": 69,
     "metadata": {},
     "output_type": "execute_result"
    }
   ],
   "source": [
    "filtered_annot_unique"
   ]
  },
  {
   "cell_type": "code",
   "execution_count": 70,
   "id": "ca702b55-6ba3-4fd5-974b-cad5bb3f40de",
   "metadata": {},
   "outputs": [],
   "source": [
    "adata_RAW_filtered = adata_raw[:, filtered_annot_unique.ensembl_id.tolist()]"
   ]
  },
  {
   "cell_type": "code",
   "execution_count": 71,
   "id": "25d30602-fcac-4aa0-bfec-c38a7106e914",
   "metadata": {},
   "outputs": [
    {
     "data": {
      "text/plain": [
       "View of AnnData object with n_obs × n_vars = 44330 × 30088\n",
       "    obs: 'author_cell_type', 'age_group', 'donor_id', 'nCount_RNA', 'nFeature_RNA', 'nCount_ATAC', 'nFeature_ATAC', 'TSS_percentile', 'nucleosome_signal', 'percent_mt', 'assay_ontology_term_id', 'cell_type_ontology_term_id', 'development_stage_ontology_term_id', 'disease_ontology_term_id', 'self_reported_ethnicity_ontology_term_id', 'organism_ontology_term_id', 'sex_ontology_term_id', 'tissue_ontology_term_id', 'suspension_type', 'is_primary_data', 'batch', 'tissue_type', 'cell_type', 'assay', 'disease', 'organism', 'sex', 'tissue', 'self_reported_ethnicity', 'development_stage', 'observation_joinid', 'n_genes', 'doublet_score', 'predicted_doublet', 'n_genes_by_counts', 'total_counts', 'total_counts_mt', 'pct_counts_mt', 'celltype'\n",
       "    var: 'feature_is_filtered', 'feature_name', 'feature_reference', 'feature_biotype', 'feature_length', 'n_cells', 'mt', 'n_cells_by_counts', 'mean_counts', 'pct_dropout_by_counts', 'total_counts'\n",
       "    uns: 'author_cell_type_colors', 'batch_condition', 'celltype_colors', 'citation', 'hvg', 'log1p', 'neighbors', 'pca', 'schema_reference', 'schema_version', 'scrublet', 'title', 'umap'\n",
       "    obsm: 'Author_UMAP', 'X_joint_wnn_umap', 'X_pca', 'X_umap'\n",
       "    obsp: 'connectivities', 'distances'"
      ]
     },
     "execution_count": 71,
     "metadata": {},
     "output_type": "execute_result"
    }
   ],
   "source": [
    "adata_RAW_filtered"
   ]
  },
  {
   "cell_type": "code",
   "execution_count": 72,
   "id": "b4a5d967-c7d2-4336-b718-c7b1996aca76",
   "metadata": {},
   "outputs": [
    {
     "data": {
      "text/html": [
       "<div>\n",
       "<style scoped>\n",
       "    .dataframe tbody tr th:only-of-type {\n",
       "        vertical-align: middle;\n",
       "    }\n",
       "\n",
       "    .dataframe tbody tr th {\n",
       "        vertical-align: top;\n",
       "    }\n",
       "\n",
       "    .dataframe thead th {\n",
       "        text-align: right;\n",
       "    }\n",
       "</style>\n",
       "<table border=\"1\" class=\"dataframe\">\n",
       "  <thead>\n",
       "    <tr style=\"text-align: right;\">\n",
       "      <th></th>\n",
       "      <th>Chromosome</th>\n",
       "      <th>Start</th>\n",
       "      <th>Strand</th>\n",
       "      <th>Gene</th>\n",
       "      <th>Transcript_type</th>\n",
       "      <th>ensembl_id</th>\n",
       "    </tr>\n",
       "  </thead>\n",
       "  <tbody>\n",
       "    <tr>\n",
       "      <th>37</th>\n",
       "      <td>KI270711.1</td>\n",
       "      <td>24650</td>\n",
       "      <td>-1</td>\n",
       "      <td>NaN</td>\n",
       "      <td>protein_coding</td>\n",
       "      <td>ENSG00000271254</td>\n",
       "    </tr>\n",
       "    <tr>\n",
       "      <th>662</th>\n",
       "      <td>KI270734.1</td>\n",
       "      <td>161852</td>\n",
       "      <td>-1</td>\n",
       "      <td>NaN</td>\n",
       "      <td>protein_coding</td>\n",
       "      <td>ENSG00000277196</td>\n",
       "    </tr>\n",
       "    <tr>\n",
       "      <th>718</th>\n",
       "      <td>KI270734.1</td>\n",
       "      <td>131494</td>\n",
       "      <td>1</td>\n",
       "      <td>NaN</td>\n",
       "      <td>protein_coding</td>\n",
       "      <td>ENSG00000278817</td>\n",
       "    </tr>\n",
       "    <tr>\n",
       "      <th>3604</th>\n",
       "      <td>KI270721.1</td>\n",
       "      <td>2585</td>\n",
       "      <td>1</td>\n",
       "      <td>NaN</td>\n",
       "      <td>protein_coding</td>\n",
       "      <td>ENSG00000276345</td>\n",
       "    </tr>\n",
       "    <tr>\n",
       "      <th>8959</th>\n",
       "      <td>Y</td>\n",
       "      <td>25394719</td>\n",
       "      <td>-1</td>\n",
       "      <td>LINC00266-4P</td>\n",
       "      <td>lncRNA</td>\n",
       "      <td>ENSG00000228786</td>\n",
       "    </tr>\n",
       "    <tr>\n",
       "      <th>...</th>\n",
       "      <td>...</td>\n",
       "      <td>...</td>\n",
       "      <td>...</td>\n",
       "      <td>...</td>\n",
       "      <td>...</td>\n",
       "      <td>...</td>\n",
       "    </tr>\n",
       "    <tr>\n",
       "      <th>236010</th>\n",
       "      <td>1</td>\n",
       "      <td>36397887</td>\n",
       "      <td>-1</td>\n",
       "      <td>LSM10</td>\n",
       "      <td>processed_transcript</td>\n",
       "      <td>ENSG00000181817</td>\n",
       "    </tr>\n",
       "    <tr>\n",
       "      <th>236014</th>\n",
       "      <td>1</td>\n",
       "      <td>36422181</td>\n",
       "      <td>-1</td>\n",
       "      <td>OSCP1</td>\n",
       "      <td>protein_coding</td>\n",
       "      <td>ENSG00000116885</td>\n",
       "    </tr>\n",
       "    <tr>\n",
       "      <th>236027</th>\n",
       "      <td>1</td>\n",
       "      <td>36464384</td>\n",
       "      <td>-1</td>\n",
       "      <td>MRPS15</td>\n",
       "      <td>protein_coding</td>\n",
       "      <td>ENSG00000116898</td>\n",
       "    </tr>\n",
       "    <tr>\n",
       "      <th>236031</th>\n",
       "      <td>1</td>\n",
       "      <td>36482913</td>\n",
       "      <td>-1</td>\n",
       "      <td>CSF3R</td>\n",
       "      <td>protein_coding</td>\n",
       "      <td>ENSG00000119535</td>\n",
       "    </tr>\n",
       "    <tr>\n",
       "      <th>236044</th>\n",
       "      <td>1</td>\n",
       "      <td>36323645</td>\n",
       "      <td>-1</td>\n",
       "      <td>EVA1B</td>\n",
       "      <td>protein_coding</td>\n",
       "      <td>ENSG00000142694</td>\n",
       "    </tr>\n",
       "  </tbody>\n",
       "</table>\n",
       "<p>30088 rows × 6 columns</p>\n",
       "</div>"
      ],
      "text/plain": [
       "        Chromosome     Start  Strand          Gene       Transcript_type  \\\n",
       "37      KI270711.1     24650      -1           NaN        protein_coding   \n",
       "662     KI270734.1    161852      -1           NaN        protein_coding   \n",
       "718     KI270734.1    131494       1           NaN        protein_coding   \n",
       "3604    KI270721.1      2585       1           NaN        protein_coding   \n",
       "8959             Y  25394719      -1  LINC00266-4P                lncRNA   \n",
       "...            ...       ...     ...           ...                   ...   \n",
       "236010           1  36397887      -1         LSM10  processed_transcript   \n",
       "236014           1  36422181      -1         OSCP1        protein_coding   \n",
       "236027           1  36464384      -1        MRPS15        protein_coding   \n",
       "236031           1  36482913      -1         CSF3R        protein_coding   \n",
       "236044           1  36323645      -1         EVA1B        protein_coding   \n",
       "\n",
       "             ensembl_id  \n",
       "37      ENSG00000271254  \n",
       "662     ENSG00000277196  \n",
       "718     ENSG00000278817  \n",
       "3604    ENSG00000276345  \n",
       "8959    ENSG00000228786  \n",
       "...                 ...  \n",
       "236010  ENSG00000181817  \n",
       "236014  ENSG00000116885  \n",
       "236027  ENSG00000116898  \n",
       "236031  ENSG00000119535  \n",
       "236044  ENSG00000142694  \n",
       "\n",
       "[30088 rows x 6 columns]"
      ]
     },
     "execution_count": 72,
     "metadata": {},
     "output_type": "execute_result"
    }
   ],
   "source": [
    "filtered_annot_unique"
   ]
  },
  {
   "cell_type": "code",
   "execution_count": 73,
   "id": "f0fb469f-a61f-4423-919e-b2c1c2307f51",
   "metadata": {},
   "outputs": [],
   "source": [
    "import pandas as pd\n",
    "\n",
    "# Assuming adata_filtered.var_names is a list-like object\n",
    "# and ensembl_ids is a column in your DataFrame\n",
    "\n",
    "# Step 1: Extract the ensembl_ids column from your DataFrame\n",
    "ensembl_ids_column = filtered_annot_unique['ensembl_id']\n",
    "\n",
    "# Step 2: Convert adata_filtered.var_names to a list\n",
    "adata_var_names_list = list(adata_RAW_filtered.var_names)\n",
    "\n",
    "# Step 3: Compare the equality and order of the two lists\n",
    "are_equal_and_same_order = (ensembl_ids_column.tolist() == adata_var_names_list)"
   ]
  },
  {
   "cell_type": "code",
   "execution_count": 74,
   "id": "909c4ec2-fff2-41c0-bca4-a51288c7cd98",
   "metadata": {},
   "outputs": [
    {
     "data": {
      "text/plain": [
       "True"
      ]
     },
     "execution_count": 74,
     "metadata": {},
     "output_type": "execute_result"
    }
   ],
   "source": [
    "are_equal_and_same_order"
   ]
  },
  {
   "cell_type": "code",
   "execution_count": 75,
   "id": "cc0f3217-7d15-420a-877e-a8e496119612",
   "metadata": {},
   "outputs": [],
   "source": [
    "adata_RAW_filtered.var_names = filtered_annot_unique['Gene'].tolist()"
   ]
  },
  {
   "cell_type": "code",
   "execution_count": 77,
   "id": "02f33ec0-c7c7-45d8-b5c1-04de75792ebc",
   "metadata": {},
   "outputs": [
    {
     "data": {
      "text/plain": [
       "Index([           nan,            nan,            nan,            nan,\n",
       "       'LINC00266-4P',    'LINC00279',            nan,        'USP9Y',\n",
       "             'EIF1AY',            nan,\n",
       "       ...\n",
       "              'CHTOP',       'SNAPIN',       'SH3D21',            nan,\n",
       "              'STK40',        'LSM10',        'OSCP1',       'MRPS15',\n",
       "              'CSF3R',        'EVA1B'],\n",
       "      dtype='object', length=30088)"
      ]
     },
     "execution_count": 77,
     "metadata": {},
     "output_type": "execute_result"
    }
   ],
   "source": [
    "adata_RAW_filtered.var_names"
   ]
  },
  {
   "cell_type": "code",
   "execution_count": null,
   "id": "bfeb96d0-cdf3-4a27-929c-2e09d785de37",
   "metadata": {},
   "outputs": [],
   "source": [
    "# In Python, set object can only contain unique elements. If any object is converted to a set, any duplicate elements are removed.\n",
    "# If the 'length\" of before and after set conversion are identical, it means that all elements are unique. \n",
    "\n",
    "# In Python, we can use list() and set(/) functions to convert var_names and obs_names to a set and a list, respectively."
   ]
  },
  {
   "cell_type": "code",
   "execution_count": 82,
   "id": "26e0810c-bbaf-462c-ab29-bda6b987ccff",
   "metadata": {},
   "outputs": [
    {
     "name": "stdout",
     "output_type": "stream",
     "text": [
      "adata_RAW_filtered.var_names contains duplicate elements.\n"
     ]
    }
   ],
   "source": [
    "import numpy as np\n",
    "\n",
    "# Assuming adata_filtered.var_names is a list-like object\n",
    "\n",
    "# Convert var_names to a set\n",
    "var_names_set = set(adata_RAW_filtered.var_names)\n",
    "\n",
    "# Check if the length of the set is the same as the length of the original list\n",
    "if len(var_names_set) == len(adata_RAW_filtered.var_names):\n",
    "    print(\"All elements in adata_RAW_filtered.var_names are unique.\")\n",
    "else:\n",
    "    print(\"adata_RAW_filtered.var_names contains duplicate elements.\")\n"
   ]
  },
  {
   "cell_type": "code",
   "execution_count": 80,
   "id": "02bd4393-7412-43cb-8e6d-6e1eb4e8e5e4",
   "metadata": {},
   "outputs": [
    {
     "data": {
      "text/plain": [
       "21315"
      ]
     },
     "execution_count": 80,
     "metadata": {},
     "output_type": "execute_result"
    }
   ],
   "source": [
    "len(var_names_set)"
   ]
  },
  {
   "cell_type": "code",
   "execution_count": 81,
   "id": "1ca60bfb-58a7-431b-91a6-149594c3696f",
   "metadata": {},
   "outputs": [
    {
     "data": {
      "text/plain": [
       "30088"
      ]
     },
     "execution_count": 81,
     "metadata": {},
     "output_type": "execute_result"
    }
   ],
   "source": [
    "len(adata_RAW_filtered.var_names)"
   ]
  },
  {
   "cell_type": "code",
   "execution_count": 83,
   "id": "9dd5f77a-adf3-4aad-a6e7-0f69ff404d5f",
   "metadata": {},
   "outputs": [],
   "source": [
    "# Convert all elements in var_names to string type\n",
    "adata_RAW_filtered.var_names = adata_RAW_filtered.var_names.astype(str)\n",
    "\n",
    "# Make var_names unique\n",
    "adata_RAW_filtered.var_names_make_unique()"
   ]
  },
  {
   "cell_type": "code",
   "execution_count": 84,
   "id": "09c3a152-4c87-4636-ae17-1398b3dacaf5",
   "metadata": {},
   "outputs": [
    {
     "data": {
      "text/plain": [
       "Index(['nan', 'nan-1', 'nan-2', 'nan-3', 'LINC00266-4P', 'LINC00279', 'nan-4',\n",
       "       'USP9Y', 'EIF1AY', 'nan-5',\n",
       "       ...\n",
       "       'CHTOP', 'SNAPIN', 'SH3D21', 'nan-8765', 'STK40', 'LSM10', 'OSCP1',\n",
       "       'MRPS15', 'CSF3R', 'EVA1B'],\n",
       "      dtype='object', length=30088)"
      ]
     },
     "execution_count": 84,
     "metadata": {},
     "output_type": "execute_result"
    }
   ],
   "source": [
    "adata_RAW_filtered.var_names"
   ]
  },
  {
   "cell_type": "code",
   "execution_count": 85,
   "id": "fca6c969-3b1f-4cf2-9d2f-ad65a7a984fa",
   "metadata": {},
   "outputs": [
    {
     "name": "stdout",
     "output_type": "stream",
     "text": [
      "All elements in adata_RAW_filtered.var_names are unique.\n"
     ]
    }
   ],
   "source": [
    "import numpy as np\n",
    "\n",
    "# Assuming adata_filtered.var_names is a list-like object\n",
    "\n",
    "# Convert var_names to a set\n",
    "var_names_set = set(adata_RAW_filtered.var_names)\n",
    "\n",
    "# Check if the length of the set is the same as the length of the original list\n",
    "if len(var_names_set) == len(adata_RAW_filtered.var_names):\n",
    "    print(\"All elements in adata_RAW_filtered.var_names are unique.\")\n",
    "else:\n",
    "    print(\"adata_RAW_filtered.var_names contains duplicate elements.\")"
   ]
  },
  {
   "cell_type": "code",
   "execution_count": 86,
   "id": "ebe1f18b-c864-4726-a6f2-ec9e2d16149b",
   "metadata": {},
   "outputs": [],
   "source": [
    "adata_RAW_filtered.write(os.path.join(work_dir, 'scRNA/adata_filtered_unique_names_RAW.h5ad'), compression='gzip')"
   ]
  },
  {
   "cell_type": "code",
   "execution_count": 87,
   "id": "07e51d4f-a880-4fcb-85f8-8f8e03330017",
   "metadata": {},
   "outputs": [
    {
     "data": {
      "text/html": [
       "<details>\n",
       "<summary>Click to view session information</summary>\n",
       "<pre>\n",
       "-----\n",
       "anndata             0.9.2\n",
       "ipykernel           6.29.2\n",
       "numpy               1.22.0\n",
       "pandas              2.0.3\n",
       "pybiomart           0.2.0\n",
       "scanpy              1.9.8\n",
       "session_info        1.0.0\n",
       "-----\n",
       "</pre>\n",
       "<details>\n",
       "<summary>Click to view modules imported as dependencies</summary>\n",
       "<pre>\n",
       "PIL                 10.2.0\n",
       "asttokens           NA\n",
       "attr                23.2.0\n",
       "attrs               23.2.0\n",
       "backcall            0.2.0\n",
       "cattr               NA\n",
       "cattrs              NA\n",
       "certifi             2024.02.02\n",
       "cffi                1.16.0\n",
       "charset_normalizer  3.3.2\n",
       "cloudpickle         3.0.0\n",
       "colorama            0.4.6\n",
       "comm                0.2.1\n",
       "cycler              0.12.1\n",
       "cython_runtime      NA\n",
       "cytoolz             0.12.3\n",
       "dask                2023.5.0\n",
       "dateutil            2.8.2\n",
       "debugpy             1.8.1\n",
       "decorator           5.1.1\n",
       "defusedxml          0.7.1\n",
       "exceptiongroup      1.2.0\n",
       "executing           2.0.1\n",
       "future              1.0.0\n",
       "h5py                3.10.0\n",
       "idna                3.6\n",
       "igraph              0.11.4\n",
       "importlib_metadata  NA\n",
       "importlib_resources NA\n",
       "jedi                0.19.1\n",
       "jinja2              3.1.3\n",
       "joblib              1.3.2\n",
       "kiwisolver          1.4.5\n",
       "leidenalg           0.10.2\n",
       "llvmlite            0.41.1\n",
       "lz4                 4.3.3\n",
       "markupsafe          2.1.5\n",
       "matplotlib          3.7.0\n",
       "matplotlib_inline   0.1.6\n",
       "mpl_toolkits        NA\n",
       "msgpack             1.0.7\n",
       "natsort             8.4.0\n",
       "numba               0.58.1\n",
       "numexpr             2.8.6\n",
       "packaging           23.2\n",
       "parso               0.8.3\n",
       "pexpect             4.9.0\n",
       "pickleshare         0.7.5\n",
       "platformdirs        4.2.0\n",
       "plotly              5.19.0\n",
       "prompt_toolkit      3.0.43\n",
       "psutil              5.9.8\n",
       "ptyprocess          0.7.0\n",
       "pure_eval           0.2.2\n",
       "pyarrow             15.0.0\n",
       "pydev_ipython       NA\n",
       "pydevconsole        NA\n",
       "pydevd              2.9.5\n",
       "pydevd_file_utils   NA\n",
       "pydevd_plugins      NA\n",
       "pydevd_tracing      NA\n",
       "pygments            2.17.2\n",
       "pyparsing           3.1.1\n",
       "pytz                2024.1\n",
       "requests            2.31.0\n",
       "requests_cache      1.2.0\n",
       "scipy               1.10.1\n",
       "setuptools          68.2.2\n",
       "six                 1.16.0\n",
       "sklearn             1.3.2\n",
       "sphinxcontrib       NA\n",
       "stack_data          0.6.3\n",
       "tblib               3.0.0\n",
       "texttable           1.7.0\n",
       "threadpoolctl       3.3.0\n",
       "tlz                 0.12.3\n",
       "toolz               0.12.1\n",
       "tornado             6.4\n",
       "traitlets           5.14.1\n",
       "typing_extensions   NA\n",
       "url_normalize       1.4.3\n",
       "urllib3             2.2.1\n",
       "wcwidth             0.2.13\n",
       "yaml                6.0.1\n",
       "zipp                NA\n",
       "zmq                 25.1.2\n",
       "zope                NA\n",
       "</pre>\n",
       "</details> <!-- seems like this ends pre, so might as well be explicit -->\n",
       "<pre>\n",
       "-----\n",
       "IPython             8.12.3\n",
       "jupyter_client      8.6.0\n",
       "jupyter_core        5.7.1\n",
       "-----\n",
       "Python 3.8.18 (default, Sep 11 2023, 13:40:15) [GCC 11.2.0]\n",
       "Linux-3.10.0-1160.76.1.el7.x86_64-x86_64-with-glibc2.17\n",
       "-----\n",
       "Session information updated at 2024-03-18 13:21\n",
       "</pre>\n",
       "</details>"
      ],
      "text/plain": [
       "<IPython.core.display.HTML object>"
      ]
     },
     "execution_count": 87,
     "metadata": {},
     "output_type": "execute_result"
    }
   ],
   "source": [
    "session_info.show()"
   ]
  },
  {
   "cell_type": "code",
   "execution_count": null,
   "id": "0aea55f0-eae5-401d-a33b-32ab857040fb",
   "metadata": {},
   "outputs": [],
   "source": []
  }
 ],
 "metadata": {
  "kernelspec": {
   "display_name": "scenicplus",
   "language": "python",
   "name": "scenicplus"
  },
  "language_info": {
   "codemirror_mode": {
    "name": "ipython",
    "version": 3
   },
   "file_extension": ".py",
   "mimetype": "text/x-python",
   "name": "python",
   "nbconvert_exporter": "python",
   "pygments_lexer": "ipython3",
   "version": "3.8.18"
  }
 },
 "nbformat": 4,
 "nbformat_minor": 5
}
